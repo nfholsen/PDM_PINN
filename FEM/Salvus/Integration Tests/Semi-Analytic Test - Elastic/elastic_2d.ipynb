{
  "cells": [
    {
      "cell_type": "markdown",
      "metadata": {},
      "source": [
        "<div style='background-image: url(\"header.png\") ; padding: 0px ; background-size: cover ; border-radius: 5px ; height: 250px'>\n",
        "    <div style=\"float: right ; margin: 50px ; padding: 20px ; background: rgba(255 , 255 , 255 , 0.7) ; width: 50% ; height: 150px\">\n",
        "        <div style=\"position: relative ; top: 50% ; transform: translatey(-50%)\">\n",
        "            <div style=\"font-size: xx-large ; font-weight: 900 ; color: rgba(0 , 0 , 0 , 0.8) ; line-height: 100%\">Tutorial by Mondaic</div>\n",
        "            <div style=\"font-size: large ; padding-top: 20px ; color: rgba(0 , 0 , 0 , 0.5)\">For Salvus version 0.11.25</div>\n",
        "        </div>\n",
        "    </div>\n",
        "</div>"
      ]
    },
    {
      "cell_type": "markdown",
      "metadata": {},
      "source": [
        "# Semi-analytic Test - Elastic\n",
        "\n",
        "* Reference solution: `Gar6more2D`\n",
        "* Physics: Elastic wave equation"
      ]
    },
    {
      "cell_type": "markdown",
      "metadata": {},
      "source": [
        "In this notebook will use [Gar6more2D](https://gforge.inria.fr/projects/gar6more2d/)\n",
        "to generate a set of of semi-analytic solutions to the 2-D elastic wave equation,\n",
        "and then compare these solutions to those computed within Salvus.\n",
        "To make things a bit more interesting, we will consider a domain with one stress-free (free-surface) boundary,\n",
        "in an analogue to Lamb's problem in elastic media."
      ]
    },
    {
      "cell_type": "code",
      "execution_count": null,
      "metadata": {},
      "outputs": [],
      "source": [
        "%config Completer.use_jedi = False\n",
        "%matplotlib inline\n",
        "\n",
        "# Stdlib packages\n",
        "import os\n",
        "import pathlib\n",
        "import shutil\n",
        "import subprocess\n",
        "\n",
        "# Third party packages\n",
        "import matplotlib.pyplot as plt\n",
        "import numpy as np\n",
        "import obspy\n",
        "import pyasdf\n",
        "\n",
        "# Import things from SalvusFlow\n",
        "from salvus.flow import api\n",
        "\n",
        "# Configuration helpers from SalvusFlow.\n",
        "import salvus.flow.simple_config as sc\n",
        "\n",
        "# And some helper functions to run the integration tests.\n",
        "from integration_test_mesh_helper import (\n",
        "    get_mesh,\n",
        "    Physics,\n",
        "    AnalyticCode,\n",
        "    read_gar6more,\n",
        ")\n",
        "\n",
        "# Number of processes SalvusCompute will run with.\n",
        "# Get it from the environment or default to 4.\n",
        "MPI_RANKS = int(os.environ.get(\"NUM_MPI_RANKS\", 4))\n",
        "# Choose on which site to run this.\n",
        "SALVUS_FLOW_SITE_NAME = os.environ.get(\"SITE_NAME\")"
      ]
    },
    {
      "cell_type": "markdown",
      "metadata": {},
      "source": [
        "## Gar6more2D\n",
        "\n",
        "First we must compile and run Gar6more2D.\n",
        "As the Gar6more2D git repository is included here as a submodule,\n",
        "as long as the module has been pulled the following paths should work on your machine.\n",
        "The next cell should compile Gar6more2D in the default location (if it has not been compiled yet)."
      ]
    },
    {
      "cell_type": "code",
      "execution_count": null,
      "metadata": {},
      "outputs": [],
      "source": [
        "# Set up the paths for the Gar6more2D data and binaries.\n",
        "gar6more2d_base_path = pathlib.Path(\"gar6more2d\")\n",
        "gar6more2d_build_path = gar6more2d_base_path / \"build\"\n",
        "gar6more2d_bin = gar6more2d_build_path / \"Gar6more2D.out\"\n",
        "gar6more2d_par_file_path = gar6more2d_build_path / \"Gar6more2D.dat\"\n",
        "\n",
        "# Compile Gar6more2D\n",
        "os.makedirs(gar6more2d_build_path, exist_ok=True)\n",
        "if not os.path.exists(gar6more2d_bin):\n",
        "    assert (\n",
        "        subprocess.run([\"cmake\", \"..\"], cwd=gar6more2d_build_path).returncode\n",
        "        == 0\n",
        "    )\n",
        "    assert subprocess.run([\"make\"], cwd=gar6more2d_build_path).returncode == 0"
      ]
    },
    {
      "cell_type": "markdown",
      "metadata": {},
      "source": [
        "Now we generate the parameter file to pass to Gar6more2D.\n",
        "We choose a medium which is infinite on 3 sides, and which has a free-surface at the bottom boundary.\n",
        "We use a ricker source-time function to generate the acoustic wavefield, with a center frequency of $100$ $Hz$.\n",
        "We place this source $250$ $m$ above the free surface boundary $(0, 250)$,\n",
        "and place 5 receivers $50$ $m$ above the same boundary,\n",
        "spaced equidistantly from $x = -200 m$ to $x = +200 m$.\n",
        "We compute the solution between $0$ and $0.1$ seconds,\n",
        "with a sampling interval of $1 \\times 10^{-4}$ seconds,\n",
        "for a total of $1000$ time samples.\n",
        "We also choose an acoustic wave velocity of $5800$ $m/s$ and a density of $2600$ $kg/m^3$,\n",
        "which corresponds to a bulk modulus $\\mu$ of $8.7464 \\times 10^{10}$."
      ]
    },
    {
      "cell_type": "code",
      "execution_count": null,
      "metadata": {},
      "outputs": [],
      "source": [
        "# Generate and write the parameter file.\n",
        "amplitude = 1e2\n",
        "time_step = 1e-4\n",
        "center_frequency = 100.0\n",
        "gar6more2d_par_file = \"\"\"3 infinite medium (1), free surface (2), wall boundary (3) or bilayered medium(4)\n",
        "1 first layer : acoustic (0) elastodynamic (1), poroelastic (2)\n",
        "1d2 Central frequency of the source\n",
        "1d9 Amplitude of the P source\n",
        "0d0 Amplitude of the S source\n",
        "2d-2 0d0 Delay of the source\n",
        "250d0 Height of the source\n",
        "50d0 Height of the line of receivers\n",
        "-200d0 Abscissa of the first receiver\n",
        "200d0  Abscissa of the last receiver\n",
        "5 Numbers of receivers\n",
        "0 Start time\n",
        "1d-1 Stop time\n",
        "1e-4 Time step\n",
        "1000 Number of intervals for the numerical computation of the convolution\n",
        "41600000000 4264000000 2600 mu, lambda and rho\n",
        "\"\"\"\n",
        "with open(gar6more2d_par_file_path, \"w\") as fh:\n",
        "    fh.write(gar6more2d_par_file)"
      ]
    },
    {
      "cell_type": "markdown",
      "metadata": {},
      "source": [
        "Now, we generate the semi-analytic pressure solution, and read the results into an `obspy` stream object."
      ]
    },
    {
      "cell_type": "code",
      "execution_count": null,
      "metadata": {},
      "outputs": [],
      "source": [
        "# Run code.\n",
        "gar6more2d_data_file_x = gar6more2d_build_path / \"Ux.dat\"\n",
        "gar6more2d_data_file_y = gar6more2d_build_path / \"Uy.dat\"\n",
        "if not os.path.exists(gar6more2d_data_file_x):\n",
        "    assert (\n",
        "        subprocess.run(\n",
        "            [\"./Gar6more2D.out\"], cwd=gar6more2d_build_path\n",
        "        ).returncode\n",
        "        == 0\n",
        "    )\n",
        "\n",
        "# Read data.\n",
        "gar6more2d_data_x = obspy.Stream(read_gar6more(gar6more2d_data_file_x))\n",
        "gar6more2d_data_y = obspy.Stream(read_gar6more(gar6more2d_data_file_y))"
      ]
    },
    {
      "cell_type": "markdown",
      "metadata": {},
      "source": [
        "## Salvus"
      ]
    },
    {
      "cell_type": "markdown",
      "metadata": {},
      "source": [
        "Now, we will run a fully numerical simulations in Salvus, and attempt to replicate the semi-analytic seismograms. For the sake of brevity, we've left the specifics of the mesh and parameter file generation to the `IntegrationTestMesh.py` module, which is shared between all integration test instances. Feel free to peak inside to see how the meshes are made -- or alternatively check out the meshing tutorials for a more in-depth explanation."
      ]
    },
    {
      "cell_type": "code",
      "execution_count": null,
      "metadata": {},
      "outputs": [],
      "source": [
        "# Adjust the scaling of the source term to be equivalent to what is\n",
        "# used in GAR6MORE.\n",
        "bulk_modulus = 8.7464e10\n",
        "gar6more_scale = bulk_modulus / (2 * np.pi ** 2 * center_frequency ** 2)\n",
        "source_amplitude = amplitude / gar6more_scale"
      ]
    },
    {
      "cell_type": "markdown",
      "metadata": {},
      "source": [
        "### Generate Source and Receivers\n",
        "\n",
        "Use the helper objects in `SalvusFlow` to generate sources, receivers, and boundary conditions."
      ]
    },
    {
      "cell_type": "code",
      "execution_count": null,
      "metadata": {},
      "outputs": [],
      "source": [
        "source = sc.source.cartesian.MomentTensorPoint2D(\n",
        "    x=500.0,\n",
        "    y=250.0,\n",
        "    mxx=1e9,\n",
        "    myy=1e9,\n",
        "    mxy=0.0,\n",
        "    source_time_function=sc.source.stf.Ricker(\n",
        "        center_frequency=center_frequency\n",
        "    ),\n",
        ")"
      ]
    },
    {
      "cell_type": "code",
      "execution_count": null,
      "metadata": {},
      "outputs": [],
      "source": [
        "# Generate 5 cartesian receivers, spaced between X=300 and X=700 meters.\n",
        "receivers = [\n",
        "    sc.receiver.cartesian.Point2D(\n",
        "        station_code=str(i), x=x, y=50, fields=[\"displacement\"]\n",
        "    )\n",
        "    for i, x in enumerate(range(300, 701, 100))\n",
        "]"
      ]
    },
    {
      "cell_type": "code",
      "execution_count": null,
      "metadata": {},
      "outputs": [],
      "source": [
        "boundary = sc.boundary.HomogeneousDirichlet(side_sets=[\"y0\"])"
      ]
    },
    {
      "cell_type": "markdown",
      "metadata": {},
      "source": [
        "Finally run the simulations for a number of different shape mapping orders."
      ]
    },
    {
      "cell_type": "code",
      "execution_count": null,
      "metadata": {},
      "outputs": [],
      "source": [
        "output_dirs = []\n",
        "\n",
        "# Run for a number of different orders.\n",
        "for order in [1, 2, 4, 7]:\n",
        "\n",
        "    # Setup the mesh for this simulation.\n",
        "    mesh = get_mesh(\n",
        "        dimension=2,\n",
        "        analytic_code=AnalyticCode.Gar6more2D,\n",
        "        physics=Physics.ELASTIC,\n",
        "        n_elem_per_wavelength=2,\n",
        "        polynomial_order=max(4, order),\n",
        "        shape_order=min(4, order),\n",
        "    )\n",
        "\n",
        "    # Unique job name.\n",
        "    job_name = f\"GAR6MORE2D_ELASTIC_ORDER_{order}\"\n",
        "    output_dirs.append(pathlib.Path(job_name) / \"output\")\n",
        "\n",
        "    # Configure Salvus\n",
        "    w = sc.simulation.Waveform()\n",
        "    w.set_mesh(mesh)\n",
        "\n",
        "    w.physics.wave_equation.start_time_in_seconds = -2e-2\n",
        "    w.physics.wave_equation.end_time_in_seconds = 8e-2\n",
        "    w.physics.wave_equation.time_step_in_seconds = time_step\n",
        "\n",
        "    w.add_sources(source)\n",
        "    w.add_receivers(receivers)\n",
        "    w.add_boundary_conditions(boundary)\n",
        "\n",
        "    # The input files can optionally be already validated.\n",
        "    w.validate()\n",
        "\n",
        "    api.run(\n",
        "        site_name=SALVUS_FLOW_SITE_NAME,\n",
        "        output_folder=output_dirs[-1],\n",
        "        input_file=w,\n",
        "        ranks=MPI_RANKS,\n",
        "        get_all=True,\n",
        "        overwrite=True,\n",
        "    )"
      ]
    },
    {
      "cell_type": "markdown",
      "metadata": {},
      "source": [
        "## Compare Both"
      ]
    },
    {
      "cell_type": "markdown",
      "metadata": {},
      "source": [
        "Finally, we'll now read in the seismograms from Salvus, and plot them overtop the semi-analytic solutions we generated in Gar6more2D. If you've used all the default settings, things should match up exactly. However, feel free to play with some parameters to see how the accuracy can be increased or decreased. Note that, since these are our actual analytic tests, a reduction in accuracy may cause the `np.testing.assert_allclose` line to fail. If you encounter this, and would still like to see the effect of your changes on the seismograms, feel free to comment out that line."
      ]
    },
    {
      "cell_type": "code",
      "execution_count": null,
      "metadata": {},
      "outputs": [],
      "source": [
        "# Setup the figure.\n",
        "f, ax = plt.subplots(5, 1, figsize=(15, 30), sharex=True)\n",
        "ax[0].set_title(\"Integration Test (Gar6more2D // Elastic)\")\n",
        "\n",
        "# Plot analytic data.\n",
        "for _i, (a, gx, gy) in enumerate(\n",
        "    zip(ax, gar6more2d_data_x, gar6more2d_data_y)\n",
        "):\n",
        "    if _i != 2:\n",
        "        a.plot(\n",
        "            -gx.copy().differentiate().normalize().data, label=\"Gar6more2D [x]\"\n",
        "        )\n",
        "    a.plot(-gy.copy().differentiate().normalize().data, label=\"Gar6more2D [y]\")\n",
        "\n",
        "# Read in the data produced by Salvus.\n",
        "for output_dir in output_dirs:\n",
        "\n",
        "    with pyasdf.ASDFDataSet(output_dir / \"receivers.h5\", mode=\"r\") as dataset:\n",
        "\n",
        "        # Loop over the receivers in both Gar6more2D and Salvus,\n",
        "        # and plot them overtop of one another.\n",
        "        for _i, (a, s, gx, gy) in enumerate(\n",
        "            zip(ax, dataset.waveforms, gar6more2d_data_x, gar6more2d_data_y)\n",
        "        ):\n",
        "\n",
        "            # Get both solutions.\n",
        "            if _i != 2:\n",
        "                analytic_x = gx.copy().differentiate().normalize().data\n",
        "            analytic_y = -gy.copy().differentiate().normalize().data\n",
        "            salvus_x = s.displacement[0].copy().normalize().data\n",
        "            salvus_y = s.displacement[1].copy().normalize().data\n",
        "\n",
        "            # Plot (should deploy these to some server).\n",
        "            order = output_dir.parent.name.split(\"_\")[-1][0]\n",
        "\n",
        "            if _i != 2:\n",
        "                a.plot(\n",
        "                    salvus_x,\n",
        "                    label=f\"Salvus [x] (Shape order {order})\",\n",
        "                    ls=\"dashed\",\n",
        "                )\n",
        "            a.plot(\n",
        "                salvus_y,\n",
        "                label=f\"Salvus [y] (Shape order {order})\",\n",
        "                ls=\"dashed\",\n",
        "            )\n",
        "            a.set_xlabel(\"Time sample\")\n",
        "            a.set_ylabel(\"Displacement (m)\")\n",
        "            a.legend()\n",
        "\n",
        "            # Nodal line.\n",
        "#             if _i != 2:\n",
        "#                 np.testing.assert_allclose(analytic_x, salvus_x, atol=1e1)\n",
        "#             np.testing.assert_allclose(analytic_y, salvus_y, atol=1e-1)\n",
        "# plt.show()"
      ]
    }
  ],
  "metadata": {
    "jupytext": {
      "cell_metadata_json": true,
      "formats": "ipynb,py:light"
    },
    "kernelspec": {
      "display_name": "Python 3",
      "language": "python",
      "name": "python3"
    }
  },
  "nbformat": 4,
  "nbformat_minor": 4
}