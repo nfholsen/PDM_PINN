{
  "cells": [
    {
      "cell_type": "markdown",
      "metadata": {},
      "source": [
        "<div style='background-image: url(\"header.png\") ; padding: 0px ; background-size: cover ; border-radius: 5px ; height: 250px'>\n",
        "    <div style=\"float: right ; margin: 50px ; padding: 20px ; background: rgba(255 , 255 , 255 , 0.7) ; width: 50% ; height: 150px\">\n",
        "        <div style=\"position: relative ; top: 50% ; transform: translatey(-50%)\">\n",
        "            <div style=\"font-size: xx-large ; font-weight: 900 ; color: rgba(0 , 0 , 0 , 0.8) ; line-height: 100%\">Tutorial by Mondaic</div>\n",
        "            <div style=\"font-size: large ; padding-top: 20px ; color: rgba(0 , 0 , 0 , 0.5)\">For Salvus version 0.11.25</div>\n",
        "        </div>\n",
        "    </div>\n",
        "</div>"
      ]
    },
    {
      "cell_type": "markdown",
      "metadata": {},
      "source": [
        "# Equivalence of Filtering STFs and Filtering Synthetics\n",
        "\n",
        "This notebook contains a quick demonstration that simulating and then filtering is equivalent to filtering the source time function and then simulating with that.\n",
        "\n",
        "A case where this matters is when computing adjoint sources during full waveform inversions. Any processing applied to the synthetics will have to be accounted for (because the derivative of the misfit with respect to the original simulation output is required). This can get quite hairy especially when some more advanced processing methods are utilized. A simple way out of this it to just move all the processing to the source time function and filter that. This notebook demonstrates the equivalence of both but the adjoint source is much simpler to calculate when filtering the source time function."
      ]
    },
    {
      "cell_type": "code",
      "execution_count": null,
      "metadata": {},
      "outputs": [],
      "source": [
        "import pathlib\n",
        "import os\n",
        "\n",
        "import salvus.namespace as sn\n",
        "\n",
        "SALVUS_FLOW_SITE_NAME = os.environ.get(\"SITE_NAME\", \"local\")\n",
        "PROJECT_DIR = \"project\""
      ]
    },
    {
      "cell_type": "code",
      "execution_count": null,
      "metadata": {},
      "outputs": [],
      "source": [
        "# Define common filter parameters so they are consistent\n",
        "# in both cases.\n",
        "min_frequency_in_hertz = 1.0 / 120.0\n",
        "max_frequency_in_hertz = 1.0 / 70.0\n",
        "highpass_corners = 3\n",
        "lowpass_corners = 3"
      ]
    },
    {
      "cell_type": "markdown",
      "metadata": {},
      "source": [
        "For this example we also set the time step for the simulations as well as the filtered Heaviside source time function. This is to make sure both are fully exact but not necessary in practice."
      ]
    },
    {
      "cell_type": "code",
      "execution_count": null,
      "metadata": {},
      "outputs": [],
      "source": [
        "# Project with a large 2-D box domain.\n",
        "d = sn.domain.dim2.BoxDomain(x0=0, x1=1e6, y0=0, y1=1e6)\n",
        "\n",
        "\n",
        "if pathlib.Path(PROJECT_DIR).exists():\n",
        "    print(\"Opening existing project.\")\n",
        "    p = sn.Project(path=PROJECT_DIR)\n",
        "else:\n",
        "    print(\"Creating new project.\")\n",
        "    p = sn.Project.from_domain(path=PROJECT_DIR, domain=d)\n",
        "\n",
        "\n",
        "# One simulation configuration with a Heaviside STF.\n",
        "p += sn.SimulationConfiguration(\n",
        "    name=\"heaviside_stf\",\n",
        "    tensor_order=1,\n",
        "    elements_per_wavelength=1.25,\n",
        "    min_period_in_seconds=70.0,\n",
        "    model_configuration=sn.ModelConfiguration(\n",
        "        background_model=sn.model.background.homogeneous.IsotropicElastic(\n",
        "            vp=2000, vs=1000.0, rho=1000\n",
        "        )\n",
        "    ),\n",
        "    event_configuration=sn.EventConfiguration(\n",
        "        # Heaviside.\n",
        "        wavelet=sn.simple_config.stf.Heaviside(),\n",
        "        waveform_simulation_configuration=sn.WaveformSimulationConfiguration(\n",
        "            end_time_in_seconds=600.0, time_step_in_seconds=2.0\n",
        "        ),\n",
        "    ),\n",
        ")\n",
        "\n",
        "# Another one with a filtered Heaviside STF. Salvus has a convenience\n",
        "# function for that.\n",
        "p += sn.SimulationConfiguration(\n",
        "    name=\"filtered_heaviside_stf\",\n",
        "    tensor_order=1,\n",
        "    elements_per_wavelength=1.25,\n",
        "    min_period_in_seconds=70.0,\n",
        "    model_configuration=sn.ModelConfiguration(\n",
        "        background_model=sn.model.background.homogeneous.IsotropicElastic(\n",
        "            vp=2000, vs=1000.0, rho=1000\n",
        "        )\n",
        "    ),\n",
        "    event_configuration=sn.EventConfiguration(\n",
        "        # Filtered Heaviside.\n",
        "        wavelet=sn.simple_config.stf.FilteredHeaviside(\n",
        "            min_frequency_in_hertz=min_frequency_in_hertz,\n",
        "            max_frequency_in_hertz=max_frequency_in_hertz,\n",
        "            end_time_in_seconds=600.0,\n",
        "            highpass_corners=highpass_corners,\n",
        "            lowpass_corners=lowpass_corners,\n",
        "            sampling_rate_in_hertz=0.5,\n",
        "        ),\n",
        "        waveform_simulation_configuration=sn.WaveformSimulationConfiguration(\n",
        "            end_time_in_seconds=600.0, time_step_in_seconds=2.0\n",
        "        ),\n",
        "    ),\n",
        ")\n",
        "\n",
        "# Single source + receiver.\n",
        "p += sn.Event(\n",
        "    event_name=\"event\",\n",
        "    sources=[\n",
        "        sn.simple_config.source.cartesian.VectorPoint2D(\n",
        "            x=0.5e6, y=0.5e6, fx=1e6, fy=1e6\n",
        "        )\n",
        "    ],\n",
        "    receivers=[\n",
        "        sn.simple_config.receiver.cartesian.Point2D(\n",
        "            x=0.7e6, y=0.7e6, station_code=\"AA\", fields=[\"displacement\"]\n",
        "        )\n",
        "    ],\n",
        ")\n",
        "\n",
        "# Launch both\n",
        "for sim in [\"heaviside_stf\", \"filtered_heaviside_stf\"]:\n",
        "    p.simulations.launch(\n",
        "        sim,\n",
        "        p.events.list(),\n",
        "        site_name=SALVUS_FLOW_SITE_NAME,\n",
        "        ranks_per_job=2,\n",
        "    )\n",
        "p.simulations.query(block=True)"
      ]
    },
    {
      "cell_type": "markdown",
      "metadata": {},
      "source": [
        "The raw simulations with the Heaviside STF will look bad."
      ]
    },
    {
      "cell_type": "code",
      "execution_count": null,
      "metadata": {},
      "outputs": [],
      "source": [
        "p.viz.nb.waveforms([\"heaviside_stf\"], receiver_field=\"displacement\")"
      ]
    },
    {
      "cell_type": "markdown",
      "metadata": {},
      "source": [
        "We need to filter them to be able to compare to the filtered Heaviside one. We'll utilize a helper function here that calls a Butterworth highpass and a subsequent lowpass filter in exactly the same way as used in the `FilteredHeaviside` source time function."
      ]
    },
    {
      "cell_type": "code",
      "execution_count": null,
      "metadata": {},
      "outputs": [],
      "source": [
        "from salvus.project.tools.processing import (\n",
        "    get_bandpass_filter_processing_function,\n",
        ")\n",
        "\n",
        "p.add_to_project(\n",
        "    sn.processing.ProcessingConfiguration(\n",
        "        name=\"heaviside_filtered_afterwards\",\n",
        "        data_source_name=\"heaviside_stf\",\n",
        "        # Could use a custom function but this yields a fully\n",
        "        # compatible processing function.\n",
        "        processing_function=get_bandpass_filter_processing_function(\n",
        "            min_frequency_in_hertz=min_frequency_in_hertz,\n",
        "            max_frequency_in_hertz=max_frequency_in_hertz,\n",
        "            highpass_corners=highpass_corners,\n",
        "            lowpass_corners=lowpass_corners,\n",
        "        ),\n",
        "    ),\n",
        "    overwrite=True,\n",
        ")\n",
        "\n",
        "# Now this already looks much better.\n",
        "p.viz.nb.waveforms(\n",
        "    [\n",
        "        \"PROCESSED_DATA:heaviside_filtered_afterwards\",\n",
        "        \"SYNTHETIC_DATA:filtered_heaviside_stf\",\n",
        "    ],\n",
        "    receiver_field=\"displacement\",\n",
        ")"
      ]
    },
    {
      "cell_type": "code",
      "execution_count": null,
      "metadata": {},
      "outputs": [],
      "source": [
        "# Let's do a final numerical equality check.\n",
        "import numpy as np\n",
        "\n",
        "st1 = p.waveforms.get(\n",
        "    \"SYNTHETIC_DATA:filtered_heaviside_stf\", events=p.events.list()\n",
        ")[0].get_receiver_data(\"XX.AA.\", receiver_field=\"displacement\")\n",
        "st2 = p.waveforms.get(\n",
        "    \"PROCESSED_DATA:heaviside_filtered_afterwards\", events=p.events.list()\n",
        ")[0].get_receiver_data(\"XX.AA.\", receiver_field=\"displacement\")\n",
        "\n",
        "for tr1, tr2 in zip(st1, st2):\n",
        "    # We have to give some tolerance for numerical inaccuracies.\n",
        "    np.testing.assert_allclose(\n",
        "        tr1.data, tr2.data, rtol=1e-3, atol=1e-5 * np.abs(tr1.data).max()\n",
        "    )"
      ]
    }
  ],
  "metadata": {
    "jupytext": {
      "formats": "ipynb,py:light"
    },
    "kernelspec": {
      "display_name": "Python 3",
      "language": "python",
      "name": "python3"
    }
  },
  "nbformat": 4,
  "nbformat_minor": 4
}