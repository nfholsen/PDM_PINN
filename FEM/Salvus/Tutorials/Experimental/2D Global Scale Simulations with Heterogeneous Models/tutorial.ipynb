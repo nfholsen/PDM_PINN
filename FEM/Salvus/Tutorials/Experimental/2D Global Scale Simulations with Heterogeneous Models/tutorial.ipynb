{
  "cells": [
    {
      "cell_type": "markdown",
      "metadata": {},
      "source": [
        "<div style='background-image: url(\"header.png\") ; padding: 0px ; background-size: cover ; border-radius: 5px ; height: 250px'>\n",
        "    <div style=\"float: right ; margin: 50px ; padding: 20px ; background: rgba(255 , 255 , 255 , 0.7) ; width: 50% ; height: 150px\">\n",
        "        <div style=\"position: relative ; top: 50% ; transform: translatey(-50%)\">\n",
        "            <div style=\"font-size: xx-large ; font-weight: 900 ; color: rgba(0 , 0 , 0 , 0.8) ; line-height: 100%\">Tutorial by Mondaic</div>\n",
        "            <div style=\"font-size: large ; padding-top: 20px ; color: rgba(0 , 0 , 0 , 0.5)\">For Salvus version 0.11.25</div>\n",
        "        </div>\n",
        "    </div>\n",
        "</div>"
      ]
    },
    {
      "cell_type": "markdown",
      "metadata": {},
      "source": [
        "# 2-D Global-scale simulations w/ heterogeneous models\n",
        "\n",
        "In this tutorial we'll set up two 2-D teleseismic simulations, with and without a scatter underneath a receiver array. We'll then look at the data we've recorded, and see what types of differences the scatter introduces. First we'll need to import our supporting Python packages."
      ]
    },
    {
      "cell_type": "code",
      "execution_count": null,
      "metadata": {},
      "outputs": [],
      "source": [
        "import os\n",
        "import typing\n",
        "\n",
        "import numpy as np\n",
        "import xarray as xr\n",
        "\n",
        "import salvus.namespace as sn\n",
        "from salvus.project.tools.processing.seismology import (\n",
        "    get_bandpass_filter_processing_function,\n",
        ")\n"
      ]
    },
    {
      "cell_type": "markdown",
      "metadata": {},
      "source": [
        "Now, let's set up our simulation state. Feel free to fiddle with these parameters, with the understanding that simulation costs in 2-D scale with frequency to the power of 3, and memory requirements scale to the power of 2."
      ]
    },
    {
      "cell_type": "code",
      "execution_count": null,
      "metadata": {},
      "outputs": [],
      "source": [
        "n_ranks = 2\n",
        "resolved_period = 100.0\n",
        "salvus_flow_site_name = os.environ.get(\"SITE_NAME\", \"local\")"
      ]
    },
    {
      "cell_type": "markdown",
      "metadata": {},
      "source": [
        "## Setting up a 2-D global domain in Salvus<i>Project</i>\n",
        "\n",
        "To keep the problem tractable on small to medium-sized machines, the simulations will be run in 2-D. The first thing to do is to set up our simulation \"domain\". From this domain, we can create a \"project\" which will store and organize our real and synthetic data for us."
      ]
    },
    {
      "cell_type": "code",
      "execution_count": null,
      "metadata": {},
      "outputs": [],
      "source": [
        "d = sn.domain.dim2.CircularDomain(radius_in_meter=6371e3)\n",
        "\n",
        "# !rm -rf proj # Uncomment to restart from scratch.\n",
        "p = sn.Project.from_domain(path=\"proj\", domain=d, load_if_exists=True)"
      ]
    },
    {
      "cell_type": "markdown",
      "metadata": {},
      "source": [
        "To get a feel for what the domain looks like, we can plot it below. Here we see that the domain is a circle with the radius of Earth. Salvus considers the 2-D circular domain to be a slice through the equator of the equivalent 3-D sphere. This means that latitude values are all $0$, and the azimuthal coordinate is equivalent to longitude."
      ]
    },
    {
      "cell_type": "code",
      "execution_count": null,
      "metadata": {},
      "outputs": [],
      "source": [
        "d.plot()"
      ]
    },
    {
      "cell_type": "markdown",
      "metadata": {},
      "source": [
        "## Adding sources and receivers\n",
        "\n",
        "The next step is to add a source and some receivers into the mix. First, let's create a 2-D moment-tensor source that's 10 km below the surface, at a longitude value of 45 degrees. We choose a `SideSet...` variant of a source here. Accurately locating sources and receivers with respect to deformed mesh surfaces is a nonlinear problem in general. The `SideSet...` specification here instructs Salvus to solve an optimization problem before any simulations begin, to accurately locate points given a reference surface. Here the `\"r1\"` specification implies that the surface of Earth is our coordinate reference."
      ]
    },
    {
      "cell_type": "code",
      "execution_count": null,
      "metadata": {},
      "outputs": [],
      "source": [
        "src = [\n",
        "    sn.simple_config.source.seismology.SideSetMomentTensorPoint2D(\n",
        "        mrr=1e21,\n",
        "        mpp=1e21,\n",
        "        mrp=-1e21,\n",
        "        longitude=45.0,\n",
        "        depth_in_m=10e3,\n",
        "        side_set_name=\"r1\",\n",
        "    )\n",
        "]"
      ]
    },
    {
      "cell_type": "markdown",
      "metadata": {},
      "source": [
        "Now let's add some receivers at a teleseismic distance. Here we place an array of 101 receivers which are equidistantly spaced in longitude. The same discussion from above regarding the `SideSet...` prefix applies here, and a depth of `0` means that the receivers will be placed exactly at the surface."
      ]
    },
    {
      "cell_type": "code",
      "execution_count": null,
      "metadata": {},
      "outputs": [],
      "source": [
        "lons = np.linspace(175.0, 185.0, 101)\n",
        "\n",
        "recs = [\n",
        "    sn.simple_config.receiver.seismology.SideSetPoint2D(\n",
        "        longitude=l,\n",
        "        depth_in_m=0.0,\n",
        "        side_set_name=\"r1\",\n",
        "        fields=[\"velocity\"],\n",
        "        station_code=f\"{_i:06d}\",\n",
        "    )\n",
        "    for _i, l in enumerate(lons)\n",
        "]"
      ]
    },
    {
      "cell_type": "markdown",
      "metadata": {},
      "source": [
        "Finally, we can add this collection of sources and receivers to our project as an `EventCollection`. Adding this to our project means that the data will be saved to disk, so we don't need to worry about accidentally overwriting objects we've previously created. Additionally, it allows to shut down the notebook, and come back later to pick up our work."
      ]
    },
    {
      "cell_type": "code",
      "execution_count": null,
      "metadata": {},
      "outputs": [],
      "source": [
        "p.add_to_project(sn.EventCollection.from_sources(sources=src, receivers=recs))"
      ]
    },
    {
      "cell_type": "markdown",
      "metadata": {},
      "source": [
        "To make sure everything went as expected, let's plot the domain again with the \"event\" overlaid. If a name is not provided, Salvus will give events consecutive names such as `\"event_0000\"`, `\"event_0001\"`, and so on."
      ]
    },
    {
      "cell_type": "code",
      "execution_count": null,
      "metadata": {},
      "outputs": [],
      "source": [
        "p.domain.plot(events=p.events.get(\"event_0000\"))"
      ]
    },
    {
      "cell_type": "markdown",
      "metadata": {},
      "source": [
        "## Adding a 2-D model\n",
        "\n",
        "Whether working in Cartesian or spherical coordinates, working with models parameterized on a regular grid provides many benefits. The external [`xarray`](http://xarray.pydata.org/en/stable/) package eases this process even further. `xarray` natively supports reading models saved as CF-compliant NetCDF files, including many of those stored in the [IRIS Earth Model Catalogue](http://ds.iris.edu/ds/products/emc/). Here we'll create a model from scratch, which parameterizes a Gaussian heterogeneity in units of percent perturbation. First, let's initialize the `xarray` data structure. The model here extends 2000 km from the surface, and spans longitudes 170 to 190. We'll perturb `\"VP\"` in this case, and initialize the perturbation array to $0$."
      ]
    },
    {
      "cell_type": "code",
      "execution_count": null,
      "metadata": {
        "lines_to_end_of_cell_marker": 2
      },
      "outputs": [],
      "source": [
        "lons = np.linspace(170, 190, 101)\n",
        "deps = np.linspace(0, 1000e3, 101)\n",
        "ll, dd = np.meshgrid(lons, deps, indexing=\"ij\")\n",
        "\n",
        "raw_model = xr.Dataset(\n",
        "    coords={\"longitude\": lons, \"depth\": deps},\n",
        "    data_vars={\n",
        "        \"VP\": ([\"longitude\", \"depth\"], np.zeros_like(ll), {\"units\": \"%\"})\n",
        "    },\n",
        "    attrs={\n",
        "        \"geospatial_lon_units\": \"degrees_east\",\n",
        "        \"geospatial_vertical_units\": \"m\",\n",
        "    },\n",
        ")"
      ]
    },
    {
      "cell_type": "markdown",
      "metadata": {
        "lines_to_next_cell": 2
      },
      "source": [
        "Now, let's write a little function which will help us add a 2-D Gaussian to our model."
      ]
    },
    {
      "cell_type": "code",
      "execution_count": null,
      "metadata": {},
      "outputs": [],
      "source": [
        "def gaussian_2d(\n",
        "    m: xr.DataArray,\n",
        "    a: float,\n",
        "    c: typing.Tuple[float, float],\n",
        "    s: typing.Tuple[float, float],\n",
        ") -> xr.DataArray:\n",
        "    \"\"\"\n",
        "    Return a 2-D gaussian.\n",
        "\n",
        "    :param m: The xarray model object. Requires longitude and\n",
        "        depth as coordinates.\n",
        "    :param a: Amplitude of the Gaussian.\n",
        "    :param c: Center of the gaussian (c_lon, c_rad).\n",
        "    :param s: Sigma of the gaussian (lon, dep).\n",
        "    \"\"\"\n",
        "\n",
        "    dep = m.depth\n",
        "    lon = m.longitude\n",
        "    return a * np.exp(\n",
        "        -(\n",
        "            np.abs(lon - c[0]) ** 2 / (2 * s[0] ** 2)\n",
        "            + (np.abs(dep - c[1]) ** 2 / (2 * s[1] ** 2))\n",
        "        )\n",
        "    )"
      ]
    },
    {
      "cell_type": "markdown",
      "metadata": {},
      "source": [
        "Next, let's add the Gaussian to our relative VP model (initialized to zero above). We can then plot the result to get an idea of what the perturbation looks like."
      ]
    },
    {
      "cell_type": "code",
      "execution_count": null,
      "metadata": {},
      "outputs": [],
      "source": [
        "raw_model[\"VP\"] += gaussian_2d(\n",
        "    raw_model.VP, 20, (ll.mean(), dd.mean()), (2.5, 100e3)\n",
        ")\n",
        "raw_model.VP.T.plot(figsize=(10, 5))"
      ]
    },
    {
      "cell_type": "markdown",
      "metadata": {},
      "source": [
        "Finally, with our model defined, let's add it to our project as a `\"MantleModel\"`. This will transform the regularly-gridded `xarray` dataset into Salvus' internal representation, ready to be used in a simulation.\n",
        "\n",
        "While all of this section is specialized for 2-D cylindrical models, the same process applies for 3-D spherical as well as 2- and 3-D Cartesian models."
      ]
    },
    {
      "cell_type": "code",
      "execution_count": null,
      "metadata": {},
      "outputs": [],
      "source": [
        "sm = sn.model.volume.seismology.MantleModel(name=\"2d_model\", data=raw_model)\n",
        "p.add_to_project(sm)"
      ]
    },
    {
      "cell_type": "markdown",
      "metadata": {},
      "source": [
        "## Setting up a simulation\n",
        "\n",
        "Now we're almost ready to fire off our first simulations. Below we define two `SimulationConfiuration`s: one through a 1-D PREM model, and one with our Gaussian blob interpolated as a relative perturbation. The primary difference between each `SimulationConfiguration` below is the model we'll use. In the first, we pass `None` for our volume model. In the second, we pass the model we defined above, or `\"2d_model\"`. The short loop below then defines two distinct simulations, one with and one without the perturbation, and adds them to our project with the names `\"1d\"` and `\"2d\"` respectively. For a detailed overview of all the settings below, check out [this](https://youtu.be/PZHGhXDBoqg?t=3610) video tutorial."
      ]
    },
    {
      "cell_type": "code",
      "execution_count": null,
      "metadata": {},
      "outputs": [],
      "source": [
        "for name, model in zip([\"1d\", \"2d\"], [None, \"2d_model\"]):\n",
        "\n",
        "    p.add_to_project(\n",
        "        sn.SimulationConfiguration(\n",
        "            name=name,\n",
        "            tensor_order=2,\n",
        "            max_depth_in_meters=6371e3,\n",
        "            elements_per_wavelength=1.0,\n",
        "            min_period_in_seconds=resolved_period,\n",
        "            model_configuration=sn.ModelConfiguration(\n",
        "                background_model=sn.model.background.one_dimensional.BuiltIn(\n",
        "                    name=\"prem_iso_one_crust\"\n",
        "                ),\n",
        "                volume_models=model,\n",
        "            ),\n",
        "            event_configuration=sn.EventConfiguration(\n",
        "                wavelet=sn.simple_config.stf.GaussianRate(\n",
        "                    half_duration_in_seconds=2 * resolved_period\n",
        "                ),\n",
        "                waveform_simulation_configuration=sn.WaveformSimulationConfiguration(\n",
        "                    end_time_in_seconds=2000.0\n",
        "                ),\n",
        "            ),\n",
        "        )\n",
        "    )"
      ]
    },
    {
      "cell_type": "markdown",
      "metadata": {},
      "source": [
        "We can now visualize the simulation mesh here in the notebook, which helps to ensure that everything was constructed as expected. Below we visualize the `\"2d\"` configuration -- look out for the source and receiver positions, as well as the perturbation we defined in our model. And caution -- the in-notebook mesh visualization is appropriate for small to medium size meshes. If you are working with high frequencies, we recommend you visualize the mesh in Paraview instead."
      ]
    },
    {
      "cell_type": "code",
      "execution_count": null,
      "metadata": {},
      "outputs": [],
      "source": [
        "if resolved_period > 10:\n",
        "    p.viz.nb.simulation_setup(\"2d\")._repr_html_()"
      ]
    },
    {
      "cell_type": "markdown",
      "metadata": {},
      "source": [
        "## Running a simulation\n",
        "\n",
        "Now we're all set to run our simulations. We'll run each one (`\"1d\"` and `\"2d\"`) sequentially. Salvus<i>Flow</i> will handle all the necessary data transfer too and from the (local or remote) site, and will return when the data is ready for analysis."
      ]
    },
    {
      "cell_type": "code",
      "execution_count": null,
      "metadata": {},
      "outputs": [],
      "source": [
        "for name in [\"1d\", \"2d\"]:\n",
        "    p.simulations.launch(\n",
        "        events=\"event_0000\",\n",
        "        ranks_per_job=n_ranks,\n",
        "        simulation_configuration=name,\n",
        "        site_name=salvus_flow_site_name,\n",
        "    )\n",
        "\n",
        "    p.simulations.query(block=True)"
      ]
    },
    {
      "cell_type": "markdown",
      "metadata": {},
      "source": [
        "## Analyzing the data\n",
        "\n",
        "With the simulations complete, it's now time to do some science. It's good practice to do some light processing of the synthetic data we just computed, to remove any numerical noise that may be present in any un-resolved frequencies. This is generally not an issue when running with $2$ or more elements per wavelength, but as we've used $1$ in these simulations (the minimum recommended) we should filter for completeness."
      ]
    },
    {
      "cell_type": "code",
      "execution_count": null,
      "metadata": {},
      "outputs": [],
      "source": [
        "for sim in [\"1d\", \"2d\"]:\n",
        "\n",
        "    p.add_to_project(\n",
        "        sn.processing.seismology.SeismologyProcessingConfiguration(\n",
        "            name=f\"{sim}\",\n",
        "            data_source_name=sim,\n",
        "            processing_function=get_bandpass_filter_processing_function(\n",
        "                min_frequency_in_hertz=1.0 / 100.0,\n",
        "                max_frequency_in_hertz=1.0 / (4 * resolved_period),\n",
        "                highpass_corners=4,\n",
        "                lowpass_corners=4,\n",
        "            ),\n",
        "        )\n",
        "    )"
      ]
    },
    {
      "cell_type": "markdown",
      "metadata": {},
      "source": [
        "Our processed data is now available by supplying the `\"PROCESSED_DATA\"` prefix to data gathering functions. Raw data can also be accessed by passing the name of the simulation configuration itself. Below we can compare our data in both simulated cases."
      ]
    },
    {
      "cell_type": "code",
      "execution_count": null,
      "metadata": {},
      "outputs": [],
      "source": [
        "p.viz.nb.waveforms(\n",
        "    data=[\"PROCESSED_DATA:1d\", \"PROCESSED_DATA:2d\"],\n",
        "    receiver_field=\"velocity\",\n",
        ")"
      ]
    },
    {
      "cell_type": "markdown",
      "metadata": {},
      "source": [
        "Finally, we can also just get the waveform data itself for use in external processing workflows."
      ]
    },
    {
      "cell_type": "code",
      "execution_count": null,
      "metadata": {},
      "outputs": [],
      "source": [
        "event_data_1d = p.waveforms.get(\"PROCESSED_DATA:1d\", \"event_0000\")\n",
        "event_data_2d = p.waveforms.get(\"PROCESSED_DATA:2d\", \"event_0000\")"
      ]
    },
    {
      "cell_type": "code",
      "execution_count": null,
      "metadata": {},
      "outputs": [],
      "source": [
        "event_1d = event_data_1d.events[0]\n",
        "rec_1d, data_1d = event_1d.receivers[0], event_1d.data\n",
        "stream_1d = data_1d.get_receiver_data(rec_1d, \"velocity\", [\"Z\", \"E\"])\n",
        "\n",
        "event_2d = event_data_2d.events[0]\n",
        "rec_2d, data_2d = event_2d.receivers[0], event_2d.data\n",
        "stream_2d = data_2d.get_receiver_data(rec_2d, \"velocity\", [\"Z\", \"E\"])\n",
        "\n",
        "assert rec_1d.fields == [\"velocity\"]\n",
        "assert stream_1d[0].data.max() > 4\n",
        "assert stream_1d[1].data.max() > 3\n",
        "\n",
        "assert rec_2d.fields == [\"velocity\"]\n",
        "assert stream_2d[0].data.max() > 4\n",
        "assert stream_2d[1].data.max() > 3\n",
        "\n",
        "np.testing.assert_equal(\n",
        "    np.any(np.not_equal(stream_1d[0].data, stream_2d[0].data)), True\n",
        ")\n",
        "np.testing.assert_equal(\n",
        "    np.any(np.not_equal(stream_1d[1].data, stream_2d[1].data)), True\n",
        ")\n",
        "np.testing.assert_equal(\n",
        "    np.any(np.not_equal(stream_1d[0].data, stream_1d[1].data)), True\n",
        ")"
      ]
    }
  ],
  "metadata": {
    "kernelspec": {
      "display_name": "Python 3",
      "language": "python",
      "name": "python3"
    }
  },
  "nbformat": 4,
  "nbformat_minor": 4
}