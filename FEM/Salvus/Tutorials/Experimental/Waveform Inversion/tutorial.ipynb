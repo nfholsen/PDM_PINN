{
  "cells": [
    {
      "cell_type": "markdown",
      "metadata": {},
      "source": [
        "<div style='background-image: url(\"header.png\") ; padding: 0px ; background-size: cover ; border-radius: 5px ; height: 250px'>\n",
        "    <div style=\"float: right ; margin: 50px ; padding: 20px ; background: rgba(255 , 255 , 255 , 0.7) ; width: 50% ; height: 150px\">\n",
        "        <div style=\"position: relative ; top: 50% ; transform: translatey(-50%)\">\n",
        "            <div style=\"font-size: xx-large ; font-weight: 900 ; color: rgba(0 , 0 , 0 , 0.8) ; line-height: 100%\">Tutorial by Mondaic</div>\n",
        "            <div style=\"font-size: large ; padding-top: 20px ; color: rgba(0 , 0 , 0 , 0.5)\">For Salvus version 0.11.25</div>\n",
        "        </div>\n",
        "    </div>\n",
        "</div>"
      ]
    },
    {
      "cell_type": "code",
      "execution_count": null,
      "metadata": {},
      "outputs": [],
      "source": [
        "%matplotlib inline"
      ]
    },
    {
      "cell_type": "code",
      "execution_count": null,
      "metadata": {},
      "outputs": [],
      "source": [
        "# This notebook will use this variable to determine which\n",
        "# remote site to run on.\n",
        "import os\n",
        "\n",
        "SALVUS_FLOW_SITE_NAME = os.environ.get(\"SITE_NAME\", \"local\")"
      ]
    },
    {
      "cell_type": "markdown",
      "metadata": {},
      "source": [
        "# Waveform Inversion\n",
        "\n",
        "(Full)-Waveform Inversion (FWI) can reveal the properties of complex media that are otherwise not accessible to direct observation. This is based on measurements of mechanical waves - excited by either active or passive sources - that propagate through an object of interest and for which we record time series at certain receiver locations.\n",
        "Those data contain valuable information about the object's interior that we can use to create quantitative images of its material properties.\n",
        "\n",
        "In this tutorial, we consider a fairly simple setup in 2D, which is inspired by typical apertures in ultrasound computed tomography (USCT) to illuminate human tissue."
      ]
    },
    {
      "cell_type": "code",
      "execution_count": null,
      "metadata": {
        "lines_to_end_of_cell_marker": 2
      },
      "outputs": [],
      "source": [
        "import matplotlib.pyplot as plt\n",
        "import numpy as np\n",
        "import pathlib\n",
        "import time\n",
        "import xarray as xr\n",
        "\n",
        "import salvus.namespace as sn"
      ]
    },
    {
      "cell_type": "markdown",
      "metadata": {
        "lines_to_next_cell": 2
      },
      "source": [
        "## Step 1: Generate the domain and ground truth\n",
        "\n",
        "This is a purely synthetic study, so we have to generate the \"measurements\" ourselves using a model with a few inclusions. We use a simple box domain of `20 x 20 cm` centered around the origin and insert an object with two spherical inclusions that mimics a breast phantom in a USCT acquisition. The model for density (`RHO`) and speed of sound (`VP`) is created from a structured grid."
      ]
    },
    {
      "cell_type": "code",
      "execution_count": null,
      "metadata": {},
      "outputs": [],
      "source": [
        "def get_spherical_inclusion():\n",
        "    nx, ny = 200, 200\n",
        "    x = np.linspace(-0.1, +0.1, nx)\n",
        "    y = np.linspace(-0.1, +0.1, nx)\n",
        "    xx, yy = np.meshgrid(x, y, indexing=\"ij\")\n",
        "\n",
        "    # Add 3 spherical inclusions\n",
        "    vp = 1500.0 * np.ones_like(xx)\n",
        "    rho = 980.0 * np.ones_like(xx)\n",
        "    mask = np.sqrt(xx ** 2 + yy ** 2) < 0.05\n",
        "    vp[mask] = 1480.0\n",
        "    rho[mask] = 1000.0\n",
        "\n",
        "    mask = np.sqrt(xx ** 2 + (yy - 0.025) ** 2) < 0.015\n",
        "    vp[mask] = 1550.0\n",
        "    rho[mask] = 1040.0\n",
        "\n",
        "    mask = np.sqrt(xx ** 2 + (yy + 0.025) ** 2) < 0.015\n",
        "    vp[mask] = 1460.0\n",
        "    rho[mask] = 1010.0\n",
        "\n",
        "    ds = xr.Dataset(\n",
        "        data_vars={\n",
        "            \"vp\": ([\"x\", \"y\"], vp),\n",
        "            \"rho\": ([\"x\", \"y\"], rho),\n",
        "        },\n",
        "        coords={\"x\": x, \"y\": y},\n",
        "    )\n",
        "\n",
        "    return ds"
      ]
    },
    {
      "cell_type": "markdown",
      "metadata": {},
      "source": [
        "Let's take a look at the model."
      ]
    },
    {
      "cell_type": "code",
      "execution_count": null,
      "metadata": {},
      "outputs": [],
      "source": [
        "true_model = get_spherical_inclusion()\n",
        "\n",
        "# Plot the xarray dataset.\n",
        "plt.figure(figsize=(16, 6))\n",
        "plt.subplot(121)\n",
        "true_model.vp.T.plot()\n",
        "plt.subplot(122)\n",
        "true_model.rho.T.plot()\n",
        "plt.suptitle(\"Model with spherical inclusions\")\n",
        "plt.show()"
      ]
    },
    {
      "cell_type": "markdown",
      "metadata": {},
      "source": [
        "This is also the starting point for setting up a project for the inversion. We can directly create the project from the model defined above. We will call this model the `true_model`."
      ]
    },
    {
      "cell_type": "code",
      "execution_count": null,
      "metadata": {},
      "outputs": [],
      "source": [
        "# Uncomment the following line to delete a\n",
        "# potentially existing project for a fresh start\n",
        "# !rm -rf project\n",
        "if pathlib.Path(\"project\").exists():\n",
        "    print(\"Opening existing project.\")\n",
        "    p = sn.Project(path=\"project\")\n",
        "else:\n",
        "    print(\"Creating new project.\")\n",
        "    vm = sn.model.volume.cartesian.GenericModel(\n",
        "        name=\"true_model\", data=true_model\n",
        "    )\n",
        "    p = sn.Project.from_volume_model(path=\"project\", volume_model=vm)"
      ]
    },
    {
      "cell_type": "markdown",
      "metadata": {},
      "source": [
        "## Step 2: Define the acquisition geometry\n",
        "\n",
        "We assume a ring-shaped aperture with ultrasound transducers surrounding the breast phantom.\n",
        "To keep the computations cheap, we will use only 5 emitters and 100 receiving transducers which are the same for every emitter. The `simple_config` has a few built-in options to create lists of sources and receivers, which we want to make use of. By defining the two rings below - one for sources and one for the receivers, we can readily create an `EventCollection`, i.e., a number of experiments characterized by the locations of the emitting and the receiving transducers."
      ]
    },
    {
      "cell_type": "code",
      "execution_count": null,
      "metadata": {},
      "outputs": [],
      "source": [
        "srcs = sn.simple_config.source.cartesian.collections.ScalarPoint2DRing(\n",
        "    x=0, y=0, radius=0.09, count=5, f=1.0\n",
        ")\n",
        "\n",
        "for _i, s in enumerate(srcs._sources):\n",
        "    all_recs = sn.simple_config.receiver.cartesian.collections.RingPoint2D(\n",
        "        x=0, y=0, radius=0.09, count=100, fields=[\"phi\"]\n",
        "    )\n",
        "    recs = [\n",
        "        r\n",
        "        for r in all_recs._receivers\n",
        "        if np.sqrt(\n",
        "            (s.location[0] - r.location[0]) ** 2\n",
        "            + (s.location[1] - r.location[1]) ** 2\n",
        "        )\n",
        "        > 0.03\n",
        "    ]\n",
        "    p += sn.EventCollection.from_sources(\n",
        "        sources=[s], receivers=recs, event_name_starting_index=_i\n",
        "    )"
      ]
    },
    {
      "cell_type": "markdown",
      "metadata": {},
      "source": [
        "The transducers are identical except for their location, so we use the same simulation time of `1.5 ms` (and later on also the same source time function) for each of them. Here, we also fix the time step to `400 ns`. While this is not strictly necessary and could be automatically detected, of course, it will simplify the data comparison across different simulations."
      ]
    },
    {
      "cell_type": "code",
      "execution_count": null,
      "metadata": {},
      "outputs": [],
      "source": [
        "wsc = sn.WaveformSimulationConfiguration(end_time_in_seconds=0.00015)\n",
        "wsc.physics.wave_equation.time_step_in_seconds = 4.0e-7"
      ]
    },
    {
      "cell_type": "markdown",
      "metadata": {},
      "source": [
        "Now, we put everything together to configure the simulations for the ground truth. To keep the costs low, we only consider a center frequency of `50 kHz` and a mesh accurate up to `100 kHz`."
      ]
    },
    {
      "cell_type": "code",
      "execution_count": null,
      "metadata": {},
      "outputs": [],
      "source": [
        "ec = sn.EventConfiguration(\n",
        "    waveform_simulation_configuration=wsc,\n",
        "    wavelet=sn.simple_config.stf.Ricker(center_frequency=50000.0),\n",
        ")\n",
        "p += sn.SimulationConfiguration(\n",
        "    name=\"true_model_100kHz\",\n",
        "    #\n",
        "    # Settings that influence the mesh.\n",
        "    elements_per_wavelength=2,\n",
        "    tensor_order=4,\n",
        "    max_frequency_in_hertz=100000.0,\n",
        "    #\n",
        "    model_configuration=sn.ModelConfiguration(\n",
        "        background_model=None, volume_models=\"true_model\"\n",
        "    ),\n",
        "    # Potentially event dependent settings.\n",
        "    event_configuration=ec,\n",
        ")"
      ]
    },
    {
      "cell_type": "markdown",
      "metadata": {},
      "source": [
        "Now it is time for the first simulation in our project. This is only to create data though. We haven't even started with the inversion yet..."
      ]
    },
    {
      "cell_type": "code",
      "execution_count": null,
      "metadata": {},
      "outputs": [],
      "source": [
        "p.simulations.launch(\n",
        "    simulation_configuration=\"true_model_100kHz\",\n",
        "    events=p.events.get_all(),\n",
        "    site_name=SALVUS_FLOW_SITE_NAME,\n",
        "    ranks_per_job=1,\n",
        ")"
      ]
    },
    {
      "cell_type": "code",
      "execution_count": null,
      "metadata": {},
      "outputs": [],
      "source": [
        "p.simulations.query(block=True)"
      ]
    },
    {
      "cell_type": "code",
      "execution_count": null,
      "metadata": {},
      "outputs": [],
      "source": [
        "p.simulations.get_mesh(\"true_model_100kHz\")"
      ]
    },
    {
      "cell_type": "markdown",
      "metadata": {},
      "source": [
        "Once the simulations are finished, we can query the data and visualize it directly in the notebook. Note that you might have to execute this cell again, in case the simulations were not already finished."
      ]
    },
    {
      "cell_type": "code",
      "execution_count": null,
      "metadata": {},
      "outputs": [],
      "source": [
        "true_data = p.waveforms.get(\n",
        "    data_name=\"true_model_100kHz\", events=p.events.get_all()\n",
        ")"
      ]
    },
    {
      "cell_type": "markdown",
      "metadata": {},
      "source": [
        "Similar to the event geometry, we can now slide through the individual recordings of each event."
      ]
    },
    {
      "cell_type": "code",
      "execution_count": null,
      "metadata": {},
      "outputs": [],
      "source": [
        "true_data[0].plot(component=\"A\", receiver_field=\"phi\")"
      ]
    },
    {
      "cell_type": "markdown",
      "metadata": {},
      "source": [
        "## Step 3: Create the initial model\n",
        "\n",
        "Alright, enough of these simulations. Now, it is actually time to focus on the inversion.\n",
        "\n",
        "**How do we start?** Well, we need a model of course.\n",
        "\n",
        "**What do we already know about the medium?** Let's pretend we haven't seen the figures above and have no idea about the phantom. The best prior knowledge we have is that the domain is filled with water and we assume that the speed of sound is `1500 m/s` and the density is `980 kg/m^3`.\n",
        "\n",
        "We create a homogeneous background model and set up a simulation configuration that contains the same events as the true data."
      ]
    },
    {
      "cell_type": "code",
      "execution_count": null,
      "metadata": {},
      "outputs": [],
      "source": [
        "bm = sn.model.background.homogeneous.IsotropicAcoustic(vp=1500.0, rho=980.0)\n",
        "mc = sn.ModelConfiguration(background_model=bm)\n",
        "\n",
        "p += sn.SimulationConfiguration(\n",
        "    name=\"initial_model\",\n",
        "    #\n",
        "    # Settings that influence the mesh.\n",
        "    elements_per_wavelength=2,\n",
        "    tensor_order=2,\n",
        "    max_frequency_in_hertz=100000.0,\n",
        "    #\n",
        "    model_configuration=mc,\n",
        "    # Potentially event dependent settings.\n",
        "    event_configuration=sn.EventConfiguration(\n",
        "        waveform_simulation_configuration=wsc,\n",
        "        wavelet=sn.simple_config.stf.Ricker(center_frequency=50000.0),\n",
        "    ),\n",
        ")"
      ]
    },
    {
      "cell_type": "markdown",
      "metadata": {},
      "source": [
        "## Step 4: Compute synthetics\n",
        "\n",
        "With the model in hand, we could start iterating right away if we were brave enough. However, in all relevant cases we would want to do some quality checks first before burning many CPU hours. So let's start by just looking at the synthetic waveforms that the initial model produces."
      ]
    },
    {
      "cell_type": "code",
      "execution_count": null,
      "metadata": {},
      "outputs": [],
      "source": [
        "p.simulations.launch(\n",
        "    simulation_configuration=\"initial_model\",\n",
        "    events=p.events.get_all(),\n",
        "    site_name=SALVUS_FLOW_SITE_NAME,\n",
        "    ranks_per_job=4,\n",
        ")"
      ]
    },
    {
      "cell_type": "code",
      "execution_count": null,
      "metadata": {},
      "outputs": [],
      "source": [
        "p.simulations.query(block=True)"
      ]
    },
    {
      "cell_type": "code",
      "execution_count": null,
      "metadata": {},
      "outputs": [],
      "source": [
        "synthetic_data = p.waveforms.get(\n",
        "    data_name=\"initial_model\", events=p.events.get_all()\n",
        ")"
      ]
    },
    {
      "cell_type": "code",
      "execution_count": null,
      "metadata": {},
      "outputs": [],
      "source": [
        "synthetic_data[0].plot(component=\"A\", receiver_field=\"phi\")"
      ]
    },
    {
      "cell_type": "code",
      "execution_count": null,
      "metadata": {},
      "outputs": [],
      "source": [
        "p.viz.nb.waveforms(\n",
        "    [\"true_model_100kHz\", \"initial_model\"], receiver_field=\"phi\"\n",
        ")"
      ]
    },
    {
      "cell_type": "markdown",
      "metadata": {},
      "source": [
        "This looks alright, and we are moving on to the next step and compute\n",
        "initial misfits and gradients.\n",
        "\n",
        "## Step 5: Manually experiment with misfits and gradients\n",
        "\n",
        "Before triggering the iterations, most applications necessitate at least some amount of quality control, which makes it inevitable to run a few simulations manually. Let start by computing some misfits for the initial model.\n",
        "\n",
        "**Wait!**\n",
        "\n",
        "Do we actually need to run the simulations again? We have already computed shot gathers for the initial model, haven't we? Let's see what the function call will do."
      ]
    },
    {
      "cell_type": "code",
      "execution_count": null,
      "metadata": {},
      "outputs": [],
      "source": [
        "p += sn.MisfitConfiguration(\n",
        "    name=\"L2\",\n",
        "    observed_data=\"true_model_100kHz\",\n",
        "    misfit_function=\"L2\",\n",
        "    receiver_field=\"phi\",\n",
        ")"
      ]
    },
    {
      "cell_type": "code",
      "execution_count": null,
      "metadata": {},
      "outputs": [],
      "source": [
        "print(\n",
        "    p.actions.inversion.compute_misfits(\n",
        "        simulation_configuration=\"initial_model\",\n",
        "        misfit_configuration=\"L2\",\n",
        "        events=p.events.list(),\n",
        "        store_checkpoints=False,\n",
        "        site_name=SALVUS_FLOW_SITE_NAME,\n",
        "        ranks_per_job=4,\n",
        "    )\n",
        ")"
      ]
    },
    {
      "cell_type": "markdown",
      "metadata": {
        "lines_to_next_cell": 2
      },
      "source": [
        "Hm. We did not include any output in the previous run, but since we are now expecting to run an adjoint simulation soon, we had to rerun the forward simulations to store some checkpoints."
      ]
    },
    {
      "cell_type": "markdown",
      "metadata": {},
      "source": [
        "If you closely study the output, you will notice that we did not repeat any simulations this time, but just queries the precomputed values.\n",
        "\n",
        "What's next? Sensitivities!"
      ]
    },
    {
      "cell_type": "code",
      "execution_count": null,
      "metadata": {},
      "outputs": [],
      "source": [
        "while not p.actions.inversion.compute_gradients(\n",
        "    simulation_configuration=\"initial_model\",\n",
        "    misfit_configuration=\"L2\",\n",
        "    events=p.events.list(),\n",
        "    site_name=SALVUS_FLOW_SITE_NAME,\n",
        "    ranks_per_job=4,\n",
        "):\n",
        "    time.sleep(10.0)"
      ]
    },
    {
      "cell_type": "markdown",
      "metadata": {},
      "source": [
        "This function returns individual gradients, which can be useful for event-dependent or batch inversions.\n",
        "Again, take a close look at the verbose output. The forward runs were cached and not repeated to obtain the gradients.\n",
        "\n",
        "Even better, in 2D you can immediately visualize them in a widget."
      ]
    },
    {
      "cell_type": "code",
      "execution_count": null,
      "metadata": {},
      "outputs": [],
      "source": [
        "p.viz.nb.gradients(\n",
        "    simulation_configuration=\"initial_model\",\n",
        "    misfit_configuration=\"L2\",\n",
        "    events=p.events.list(),\n",
        ")"
      ]
    },
    {
      "cell_type": "markdown",
      "metadata": {},
      "source": [
        "We can also obtain the summed gradient over all selected events in one go."
      ]
    },
    {
      "cell_type": "code",
      "execution_count": null,
      "metadata": {
        "lines_to_next_cell": 2
      },
      "outputs": [],
      "source": [
        "gradient = p.actions.inversion.sum_gradients(\n",
        "    simulation_configuration=\"initial_model\",\n",
        "    misfit_configuration=\"L2\",\n",
        "    events=p.events.list(),\n",
        ")\n",
        "gradient"
      ]
    },
    {
      "cell_type": "markdown",
      "metadata": {},
      "source": [
        "There is still quite a strong imprint of the source locations in the gradient. Some smoothing will help to obtain better updates."
      ]
    },
    {
      "cell_type": "code",
      "execution_count": null,
      "metadata": {
        "lines_to_next_cell": 2
      },
      "outputs": [],
      "source": [
        "p.actions.inversion.smooth_model(\n",
        "    model=gradient,\n",
        "    smoothing_configuration=sn.ConstantSmoothing(\n",
        "        smoothing_lengths_in_meters={\n",
        "            \"VP\": 0.01,\n",
        "            \"RHO\": 0.01,\n",
        "        },\n",
        "    ),\n",
        "    ranks_per_job=4,\n",
        "    site_name=SALVUS_FLOW_SITE_NAME,\n",
        ")"
      ]
    },
    {
      "cell_type": "markdown",
      "metadata": {},
      "source": [
        "Smooth. Feel free to play around with the smoothing length to see the effects on the gradient.\n",
        "Indeed, the smoothed gradient looks much better. We will use a similar concept as a preconditioner encapsulated in the optimization method.\n",
        "\n",
        "This toy problem fortunately does not require thorough QC and with the initial waveform fits and gradients, we feel prepared to start the inversion."
      ]
    },
    {
      "cell_type": "markdown",
      "metadata": {},
      "source": [
        "## Step 6: Initialize the inverse problem\n",
        "\n",
        "The inverse problem is a similar entity like all the other configuration objects. We want to be able to keep track of all the individual steps, and avoid unnecessary repetitions of the same task. Fortunately, `SalvusProject` takes care of data management and book keeping.\n",
        "\n",
        "We need to specify the prior, which is just the `SimulationConfiguration` object of the initial model we created above. Furthermore, we need to specify all possible events that we might consider during the inversion. This could be a subset of events defined in the project, and we could add more events later on.\n",
        "Together with the events, we need to pass the observed data. Because we created it synthetically, this is also just a `SimulationConfiguration` object. The remaining parameters specify which parameters to invert for (`VP` and `RHO`), what misfit functional to use, preconditioner and descent method, and where to run the simulations."
      ]
    },
    {
      "cell_type": "code",
      "execution_count": null,
      "metadata": {},
      "outputs": [],
      "source": [
        "p += sn.InverseProblemConfiguration(\n",
        "    name=\"my_inversion\",\n",
        "    prior_model=\"initial_model\",\n",
        "    events=[e.event_name for e in p.events.get_all()],\n",
        "    mapping=sn.Mapping(scaling=\"absolute\", inversion_parameters=[\"VP\", \"RHO\"]),\n",
        "    preconditioner=sn.ConstantSmoothing({\"VP\": 0.01, \"RHO\": 0.01}),\n",
        "    method=sn.TrustRegion(initial_trust_region_linf=10.0),\n",
        "    misfit_configuration=\"L2\",\n",
        "    job_submission=sn.SiteConfig(\n",
        "        site_name=SALVUS_FLOW_SITE_NAME, ranks_per_job=4\n",
        "    ),\n",
        ")"
      ]
    },
    {
      "cell_type": "code",
      "execution_count": null,
      "metadata": {},
      "outputs": [],
      "source": [
        "# Instead of monolithic inversions and a linear flow of iteration, `SalvusOpt` uses a tree-based framework of iteration. At any point during the inversion, you can branch off, modify the settings, and run one or more streams simultaneously.\n",
        "#\n",
        "# Ready for our first iteration? Without specifying any additional information, all parameters will be inherited from the InverseProblemConfiguration."
      ]
    },
    {
      "cell_type": "code",
      "execution_count": null,
      "metadata": {},
      "outputs": [],
      "source": [
        "p.inversions.add_iteration(inverse_problem_configuration=\"my_inversion\")"
      ]
    },
    {
      "cell_type": "code",
      "execution_count": null,
      "metadata": {},
      "outputs": [],
      "source": [
        "#\n",
        "#\n",
        "# ## Step 7: Update the model\n",
        "#\n",
        "# Many steps within a single iteration involve expensive simulations, e.g., for computing misfits or adjoint simulations to compute gradients. In order to be able to closely monitor the progress, `SalvusOpt` steps through an iteration, and automatically dispatches simulations whenever necessary. The function `resume` will return whenever `SalvusOpt` is waiting for other tasks to finish first. Calling it several time, will step through the iteration in sequence."
      ]
    },
    {
      "cell_type": "code",
      "execution_count": null,
      "metadata": {},
      "outputs": [],
      "source": [
        "p.inversions.resume(\n",
        "    inverse_problem_configuration=\"my_inversion\",\n",
        ")"
      ]
    },
    {
      "cell_type": "code",
      "execution_count": null,
      "metadata": {},
      "outputs": [],
      "source": [
        "p.inversions.resume(\n",
        "    inverse_problem_configuration=\"my_inversion\",\n",
        ")"
      ]
    },
    {
      "cell_type": "code",
      "execution_count": null,
      "metadata": {},
      "outputs": [],
      "source": [
        "p.viz.nb.iteration(\n",
        "    inverse_problem_configuration=\"my_inversion\", iteration_id=0\n",
        ")"
      ]
    },
    {
      "cell_type": "code",
      "execution_count": null,
      "metadata": {},
      "outputs": [],
      "source": [
        "# If you feel confident and don't want to be bothered with every single task, you can also tell `SalvusOpt` to run an entire iteration at once. Note the parameter `timeout_in_seconds`, which will force the cell to return even if the iteration has not been completed yet, and there might still be a few simulations running in the back.\n",
        "#\n",
        "# Again, you can execute the cell several times or mix it with calls to the previous one until the iteration is complete."
      ]
    },
    {
      "cell_type": "code",
      "execution_count": null,
      "metadata": {},
      "outputs": [],
      "source": [
        "p.inversions.iterate(\n",
        "    inverse_problem_configuration=\"my_inversion\",\n",
        "    timeout_in_seconds=360,\n",
        "    ping_interval_in_seconds=10,\n",
        ")\n",
        "\n",
        "p.viz.nb.inversion(inverse_problem_configuration=\"my_inversion\")"
      ]
    },
    {
      "cell_type": "code",
      "execution_count": null,
      "metadata": {},
      "outputs": [],
      "source": [
        "# There is still quite a strong imprint of the source locations, but we start moving into the right direction.\n",
        "# The high velocity inclusion in the top part also shows up in the density update.\n",
        "#\n",
        "# ## Step 8: Automate\n",
        "#\n",
        "# The first update gave us confidence in the setup. For the moment, our work here is done.\n",
        "# Let's run a few more iterations, lean back and wait for the results.\n",
        "#\n",
        "# We just loop over the `iterate` function and perform 3 more model updates."
      ]
    },
    {
      "cell_type": "code",
      "execution_count": null,
      "metadata": {},
      "outputs": [],
      "source": [
        "for i in range(2):\n",
        "    p.inversions.iterate(\n",
        "        inverse_problem_configuration=\"my_inversion\",\n",
        "        timeout_in_seconds=360,\n",
        "        ping_interval_in_seconds=10,\n",
        "    )"
      ]
    },
    {
      "cell_type": "code",
      "execution_count": null,
      "metadata": {},
      "outputs": [],
      "source": [
        "# Done!\n",
        "#\n",
        "# Did we converge towards the ground truth?"
      ]
    },
    {
      "cell_type": "code",
      "execution_count": null,
      "metadata": {},
      "outputs": [],
      "source": [
        "p.viz.nb.inversion(inverse_problem_configuration=\"my_inversion\")"
      ]
    },
    {
      "cell_type": "code",
      "execution_count": null,
      "metadata": {},
      "outputs": [],
      "source": [
        "# Well, at are getting closer and the heterogeneities start to form. You can, of course, continue with more iterations or play around with the settings.\n",
        "#\n",
        "#\n",
        "# That's the end of this tutorial. We ran a few iterations of full-waveform inversion in a typical aperture for ultrasound screenings. Note that although the problem size is small and we did not apply any sophisticated inversion technique, we were able to create a suitable initial model and to perform a few model update with just a few lines of code. Nothing would change really if we applied this at a larger scale. By changing the site name to a remote site with more compute capabilities, we could easily scale up the problem.\n",
        "#\n",
        "# ## Additional prior knowledge\n",
        "#\n",
        "# In a typical USCT setup, there is always enough space between the ultrasound transducers and the phantom.\n",
        "# What if we include that information as prior knowledge into our problem formulation?\n",
        "#\n",
        "# An easy way of doing this, is to define a region of interest and restrict the reconstruction to this area.\n",
        "#\n",
        "# To keep it simple, we just define a sphere with a radius of `6.5 cm` as the target region."
      ]
    },
    {
      "cell_type": "code",
      "execution_count": null,
      "metadata": {},
      "outputs": [],
      "source": [
        "mesh = p.simulations.get_mesh(simulation_configuration=\"initial_model\")\n",
        "# define the region of interest\n",
        "roi = np.zeros_like(mesh.connectivity)\n",
        "mask = np.linalg.norm(mesh.points[mesh.connectivity], axis=2) < 0.065\n",
        "roi[mask] = 1.0\n",
        "mesh.attach_field(\"region_of_interest\", roi)"
      ]
    },
    {
      "cell_type": "code",
      "execution_count": null,
      "metadata": {},
      "outputs": [],
      "source": [
        "# Let's see if this helps with the iterations. To be able to compare the results, we just create a new inverse problem within the same project, initialize the region of interest, and start iterating."
      ]
    },
    {
      "cell_type": "code",
      "execution_count": null,
      "metadata": {},
      "outputs": [],
      "source": [
        "p += sn.InverseProblemConfiguration(\n",
        "    name=\"my_second_inversion\",\n",
        "    prior_model=\"initial_model\",\n",
        "    events=[e.event_name for e in p.events.get_all()],\n",
        "    mapping=sn.Mapping(\n",
        "        scaling=\"absolute\",\n",
        "        inversion_parameters=[\"VP\", \"RHO\"],\n",
        "        region_of_interest=mesh,\n",
        "    ),\n",
        "    preconditioner=sn.ConstantSmoothing({\"VP\": 0.01, \"RHO\": 0.01}),\n",
        "    method=sn.TrustRegion(initial_trust_region_linf=10.0),\n",
        "    misfit_configuration=\"L2\",\n",
        "    job_submission=sn.SiteConfig(\n",
        "        site_name=SALVUS_FLOW_SITE_NAME, ranks_per_job=4\n",
        "    ),\n",
        ")"
      ]
    },
    {
      "cell_type": "code",
      "execution_count": null,
      "metadata": {},
      "outputs": [],
      "source": [
        "p.inversions.iterate(\n",
        "    inverse_problem_configuration=\"my_second_inversion\",\n",
        "    timeout_in_seconds=360,\n",
        "    ping_interval_in_seconds=10,\n",
        ")"
      ]
    },
    {
      "cell_type": "code",
      "execution_count": null,
      "metadata": {},
      "outputs": [],
      "source": [
        "# Let's see if the region of interest was considered when the model was updated."
      ]
    },
    {
      "cell_type": "code",
      "execution_count": null,
      "metadata": {},
      "outputs": [],
      "source": [
        "p.viz.nb.inversion(inverse_problem_configuration=\"my_second_inversion\")"
      ]
    },
    {
      "cell_type": "code",
      "execution_count": null,
      "metadata": {},
      "outputs": [],
      "source": [
        "# Indeed, outside of the pre-defined sphere, the model is still constant and has the same values as the initial model.\n",
        "#\n",
        "# Let's do a few more iterations and see what the reconstruction will be."
      ]
    },
    {
      "cell_type": "code",
      "execution_count": null,
      "metadata": {},
      "outputs": [],
      "source": [
        "for i in range(2):\n",
        "    p.inversions.iterate(\n",
        "        inverse_problem_configuration=\"my_second_inversion\",\n",
        "        timeout_in_seconds=360,\n",
        "        ping_interval_in_seconds=10,\n",
        "    )\n",
        "p.viz.nb.inversion(inverse_problem_configuration=\"my_second_inversion\")"
      ]
    },
    {
      "cell_type": "code",
      "execution_count": null,
      "metadata": {},
      "outputs": [],
      "source": [
        "# This looks better, so the prior knowledge was indeed helpful.\n",
        "#\n",
        "#\n",
        "# **Bonus question.** The setup above is also a prime example of an \"inverse crime\", except for one small detail.\n",
        "# Can you identify what it is?"
      ]
    }
  ],
  "metadata": {
    "jupytext": {
      "cell_metadata_json": true
    },
    "kernelspec": {
      "display_name": "Python 3",
      "language": "python",
      "name": "python3"
    }
  },
  "nbformat": 4,
  "nbformat_minor": 4
}