{
  "cells": [
    {
      "cell_type": "markdown",
      "metadata": {},
      "source": [
        "<div style='background-image: url(\"header.png\") ; padding: 0px ; background-size: cover ; border-radius: 5px ; height: 250px'>\n",
        "    <div style=\"float: right ; margin: 50px ; padding: 20px ; background: rgba(255 , 255 , 255 , 0.7) ; width: 50% ; height: 150px\">\n",
        "        <div style=\"position: relative ; top: 50% ; transform: translatey(-50%)\">\n",
        "            <div style=\"font-size: xx-large ; font-weight: 900 ; color: rgba(0 , 0 , 0 , 0.8) ; line-height: 100%\">Tutorial by Mondaic</div>\n",
        "            <div style=\"font-size: large ; padding-top: 20px ; color: rgba(0 , 0 , 0 , 0.5)\">For Salvus version 0.11.25</div>\n",
        "        </div>\n",
        "    </div>\n",
        "</div>"
      ]
    },
    {
      "cell_type": "markdown",
      "metadata": {},
      "source": [
        "# Continental-scale Simulations\n",
        "\n",
        "![](./moho_crust20.jpg)"
      ]
    },
    {
      "cell_type": "markdown",
      "metadata": {},
      "source": [
        "In this tutorial we'll set up, from scratch, a 3-D spherical domain for the region surrounding Australia. This domain will include a 3-D crustal and mantle model, taken from [AusREM](http://rses.anu.edu.au/seismology/AuSREM/index.php), as well as 3-D surface and Moho topography. After our model and simulations are set up, we'll fire them off to a remote site (if available) in order to run simulations accurate to a minimum period of 40 seconds. We'll then gather the data from the remote site and apply some basic processing functions to some observed, as well as our synthetic, data. All right -- let's get started!"
      ]
    },
    {
      "cell_type": "code",
      "execution_count": null,
      "metadata": {},
      "outputs": [],
      "source": [
        "# This notebook will use this variable to determine which\n",
        "# remote site to run on.\n",
        "import os\n",
        "import pathlib\n",
        "import time\n",
        "\n",
        "from salvus import namespace as sn\n"
      ]
    },
    {
      "cell_type": "code",
      "execution_count": null,
      "metadata": {
        "lines_to_next_cell": 2
      },
      "outputs": [],
      "source": [
        "SALVUS_FLOW_SITE_NAME = os.environ.get(\"SITE_NAME\", \"local\")\n",
        "PROJECT_DIR = \"project\""
      ]
    },
    {
      "cell_type": "markdown",
      "metadata": {},
      "source": [
        "We start by initializeing a small domain centered on Australia, and download real data via ObsPy for a few stations from the `IU` global network. These are high quality stations which will be perfect for a comparison to our synthetic data.\n",
        "\n",
        "If the project already exist on disk, the cell below allows us to simply load the project."
      ]
    },
    {
      "cell_type": "code",
      "execution_count": null,
      "metadata": {
        "lines_to_next_cell": 2
      },
      "outputs": [],
      "source": [
        "# Define a spherical chunk domain.\n",
        "lat_c, lon_c = -27.5, 135\n",
        "lat_e, lon_e = 25.5, 42.0\n",
        "d = sn.domain.dim3.SphericalChunkDomain(\n",
        "    lat_center=lat_c,\n",
        "    lat_extent=lat_e,\n",
        "    lon_center=lon_c,\n",
        "    lon_extent=lon_e,\n",
        "    radius_in_meter=6371e3,\n",
        ")\n",
        "\n",
        "# Uncomment the following line to start from scratch\n",
        "# !rm -rf proj\n",
        "if pathlib.Path(PROJECT_DIR).exists():\n",
        "    print(\"Opening existing project.\")\n",
        "    p = sn.Project(path=PROJECT_DIR)\n",
        "else:\n",
        "    print(\"Creating new project.\")\n",
        "    p = sn.Project.from_domain(path=PROJECT_DIR, domain=d)"
      ]
    },
    {
      "cell_type": "code",
      "execution_count": null,
      "metadata": {
        "lines_to_next_cell": 2
      },
      "outputs": [],
      "source": [
        "# Add an event\n",
        "e = sn.Event(\n",
        "    sources=sn.simple_config.source.seismology.parse(\n",
        "        \"./event.txt\", dimensions=3\n",
        "    ),\n",
        "    receivers=[],\n",
        ")\n",
        "\n",
        "if e.event_name not in p.events.list():\n",
        "    p.add_to_project(e)\n",
        "\n",
        "    p.actions.seismology.download_data_for_event(\n",
        "        data_name=\"raw_recording\",\n",
        "        event=p.events.list()[0],\n",
        "        add_receivers_to_project_event=True,\n",
        "        receiver_fields=[\"velocity\"],\n",
        "        seconds_before_event=300.0,\n",
        "        seconds_after_event=1800.0,\n",
        "        network=\"IU\",\n",
        "        download_providers=[\"IRIS\"],\n",
        "    )"
      ]
    },
    {
      "cell_type": "markdown",
      "metadata": {},
      "source": [
        "# Adding volumetric models\n",
        "\n",
        "In previous tutorials we outlined the difference between background and volumetric models, and until now have only considered background models. Here we'll foray into the use of volumetric models as well, and we'll specifically choose a different model for both the crust and the mantle. In the tutorial folder you should see two NetCDF (`.nc`) files entitled `ausrem_crust.nc` and `ausrem_mantle.nc`. The name of these models are relatively self descriptive: they are modified version of the AusREM (Australian Seismological Reference Model) crust and mantle models respectively. The format that they are stored in is governed by the [CF conventions](http://cfconventions.org/), which is a commonly used format for storing geoscientific data.\n",
        "\n",
        "Since we're focussed here on Australia we'll shift back to AusREM for now. In a seismological context, we can restrict the interpolation of models to specific regions, such as the crust or mantle. Also, in many cases we want to apply a taper to the volumetric models so that they will smoothly blend into the background model. To accomplish this, the seismological model API allows us to optionally specify a `taper_in_degrees` parameter. Ok, now let's add the crustal model to the project..."
      ]
    },
    {
      "cell_type": "code",
      "execution_count": null,
      "metadata": {},
      "outputs": [],
      "source": [
        "p.add_to_project(\n",
        "    sn.model.volume.seismology.CrustalModel(\n",
        "        name=\"ausrem_crust\",\n",
        "        data=\"./data/ausrem_crust.nc\",\n",
        "        taper_in_degrees=5.0,\n",
        "    )\n",
        ")"
      ]
    },
    {
      "cell_type": "markdown",
      "metadata": {},
      "source": [
        "...and now the mantle model..."
      ]
    },
    {
      "cell_type": "code",
      "execution_count": null,
      "metadata": {},
      "outputs": [],
      "source": [
        "p.add_to_project(\n",
        "    sn.model.volume.seismology.MantleModel(\n",
        "        name=\"ausrem_mantle\",\n",
        "        data=\"./data/ausrem_mantle.nc\",\n",
        "        taper_in_degrees=5.0,\n",
        "    )\n",
        ")"
      ]
    },
    {
      "cell_type": "markdown",
      "metadata": {},
      "source": [
        "...and now finally let's create a complete model configuration using anisotropic PREM as a background model."
      ]
    },
    {
      "cell_type": "code",
      "execution_count": null,
      "metadata": {},
      "outputs": [],
      "source": [
        "mc = sn.ModelConfiguration(\n",
        "    background_model=\"prem_ani_one_crust\",\n",
        "    volume_models=[\"ausrem_crust\", \"ausrem_mantle\"],\n",
        ")"
      ]
    },
    {
      "cell_type": "markdown",
      "metadata": {},
      "source": [
        "## Adding surface and Moho topography\n",
        "\n",
        "Surface and Moho topography can be added in a similar fashion to those on Cartesian domains.\n",
        "\n",
        "These files contain filtered versions of global surface and moho topography."
      ]
    },
    {
      "cell_type": "code",
      "execution_count": null,
      "metadata": {},
      "outputs": [],
      "source": [
        "p.add_to_project(\n",
        "    sn.topography.spherical.SurfaceTopography(\n",
        "        name=\"topo_surface\",\n",
        "        data=\"./data/topography_wgs84_filtered_512.nc\",\n",
        "        use_symlink=True,\n",
        "    )\n",
        ")"
      ]
    },
    {
      "cell_type": "code",
      "execution_count": null,
      "metadata": {},
      "outputs": [],
      "source": [
        "p.add_to_project(\n",
        "    sn.topography.spherical.MohoTopography(\n",
        "        name=\"topo_moho\",\n",
        "        data=\"./data/moho_topography_wgs84_filtered.nc\",\n",
        "        use_symlink=True,\n",
        "    )\n",
        ")"
      ]
    },
    {
      "cell_type": "code",
      "execution_count": null,
      "metadata": {},
      "outputs": [],
      "source": [
        "tc = sn.topography.TopographyConfiguration(\n",
        "    topography_models=[\"topo_surface\", \"topo_moho\"]\n",
        ")"
      ]
    },
    {
      "cell_type": "markdown",
      "metadata": {},
      "source": [
        "## Preparing the simulation configuration\n",
        "\n",
        "To finalize our simulation configuration, we first prepare an event configuration to define the time and frequency axes. We'll simulate half an hour of synthetic waveforms, and take as our source time function a Gaussian in moment-rate. In this case we'll set a very short half-duration in seconds to get an almost white spectrum in our synthetic data. We'll use this to motivate the processing functions we later apply."
      ]
    },
    {
      "cell_type": "code",
      "execution_count": null,
      "metadata": {},
      "outputs": [],
      "source": [
        "# end_time_in_seconds should be 1800.0 s!\n",
        "# We only truncated the time interval for the CI.\n",
        "\n",
        "ec = sn.EventConfiguration(\n",
        "    wavelet=sn.simple_config.stf.GaussianRate(half_duration_in_seconds=1.5000),\n",
        "    waveform_simulation_configuration=sn.WaveformSimulationConfiguration(\n",
        "        end_time_in_seconds=10.0\n",
        "    ),\n",
        ")"
      ]
    },
    {
      "cell_type": "markdown",
      "metadata": {},
      "source": [
        "As always, we need to also set up some absorbing boundary parameters here. At this point it is fair to ask the question: how do I choose a reference velocity in a domain with a 3-D velocity model, and what even is the reference frequency if my spectrum is white? The answer to both of these questions is that, as always, the performance of the absorbing boundaries is a tunable parameter. In the case of a white spectrum a good rule is to set the reference frequency to the dominant frequency in your observed data."
      ]
    },
    {
      "cell_type": "code",
      "execution_count": null,
      "metadata": {},
      "outputs": [],
      "source": [
        "ab = sn.AbsorbingBoundaryParameters(\n",
        "    reference_velocity=6000.0,\n",
        "    number_of_wavelengths=3.5,\n",
        "    reference_frequency=1 / 40.0,\n",
        ")"
      ]
    },
    {
      "cell_type": "markdown",
      "metadata": {},
      "source": [
        "## Running a simulation\n",
        "\n",
        "We've now got everything we need to set up our simulation configuration object, as we do in the next cell below. Here we'll generate a simulation mesh which ensures that we have at least 1 element per wavelength using a minimum period of 40 seconds, and the using anisotropic PREM as a size function."
      ]
    },
    {
      "cell_type": "code",
      "execution_count": null,
      "metadata": {},
      "outputs": [],
      "source": [
        "# Combine everything into a complete configuration.\n",
        "p.add_to_project(\n",
        "    sn.SimulationConfiguration(\n",
        "        tensor_order=1,\n",
        "        name=\"40seconds\",\n",
        "        elements_per_wavelength=1.0,\n",
        "        min_period_in_seconds=40,\n",
        "        max_depth_in_meters=1000e3,\n",
        "        model_configuration=mc,\n",
        "        topography_configuration=tc,\n",
        "        event_configuration=ec,\n",
        "        absorbing_boundaries=ab,\n",
        "    )\n",
        ")"
      ]
    },
    {
      "cell_type": "markdown",
      "metadata": {},
      "source": [
        "We can, as is true with the other domains, visualize our new simulation configuration..."
      ]
    },
    {
      "cell_type": "code",
      "execution_count": null,
      "metadata": {},
      "outputs": [],
      "source": [
        "p.viz.nb.simulation_setup(\"40seconds\", events=p.events.list())"
      ]
    },
    {
      "cell_type": "markdown",
      "metadata": {},
      "source": [
        "... and then go ahead and run our simulation. The time taken to complete will vary significantly depending on the options you've chosen above. For instance, adding both Moho and surface topography decreases the time step by quite a bit due to the relatively small elements in the oceanic crust."
      ]
    },
    {
      "cell_type": "code",
      "execution_count": null,
      "metadata": {},
      "outputs": [],
      "source": [
        "p.simulations.launch(\n",
        "    ranks_per_job=4,\n",
        "    site_name=SALVUS_FLOW_SITE_NAME,\n",
        "    events=p.events.list()[0],\n",
        "    wall_time_in_seconds_per_job=3600,\n",
        "    simulation_configuration=\"40seconds\",\n",
        ")\n",
        "\n",
        "p.simulations.query(block=True, ping_interval_in_seconds=10.0)"
      ]
    },
    {
      "cell_type": "markdown",
      "metadata": {},
      "source": [
        "## Analyzing output data\n",
        "\n",
        "It is usually necessary to process files to be able to compare data to synthetics."
      ]
    },
    {
      "cell_type": "code",
      "execution_count": null,
      "metadata": {},
      "outputs": [],
      "source": [
        "# Import helper function generating suitable processing functions.\n",
        "from salvus.project.tools.processing.seismology import (\n",
        "    get_bandpass_filter_processing_function,\n",
        "    get_remove_response_and_bandpass_filter_processing_function,\n",
        ")"
      ]
    },
    {
      "cell_type": "code",
      "execution_count": null,
      "metadata": {},
      "outputs": [],
      "source": [
        "p.add_to_project(\n",
        "    sn.processing.seismology.SeismologyProcessingConfiguration(\n",
        "        name=\"observed_40_seconds\",\n",
        "        data_source_name=\"EXTERNAL_DATA:raw_recording\",\n",
        "        processing_function=get_remove_response_and_bandpass_filter_processing_function(\n",
        "            min_frequency_in_hertz=1.0 / 100.0,\n",
        "            max_frequency_in_hertz=1.0 / 40.0,\n",
        "            highpass_corners=4,\n",
        "            lowpass_corners=4,\n",
        "        ),\n",
        "    ),\n",
        "    # Useful here to quickly play around.\n",
        "    overwrite=True,\n",
        ")"
      ]
    },
    {
      "cell_type": "code",
      "execution_count": null,
      "metadata": {},
      "outputs": [],
      "source": [
        "p.add_to_project(\n",
        "    sn.processing.seismology.SeismologyProcessingConfiguration(\n",
        "        name=\"synthetic_40_seconds\",\n",
        "        data_source_name=\"40seconds\",\n",
        "        processing_function=get_bandpass_filter_processing_function(\n",
        "            min_frequency_in_hertz=1.0 / 100.0,\n",
        "            max_frequency_in_hertz=1.0 / 40.0,\n",
        "            highpass_corners=4,\n",
        "            lowpass_corners=4,\n",
        "        ),\n",
        "    ),\n",
        "    overwrite=True,\n",
        ")"
      ]
    },
    {
      "cell_type": "code",
      "execution_count": null,
      "metadata": {},
      "outputs": [],
      "source": [
        "p.viz.nb.waveforms(\n",
        "    [\n",
        "        \"PROCESSED_DATA:observed_40_seconds\",\n",
        "        \"PROCESSED_DATA:synthetic_40_seconds\",\n",
        "    ],\n",
        "    receiver_field=\"velocity\",\n",
        ")"
      ]
    },
    {
      "cell_type": "markdown",
      "metadata": {},
      "source": [
        "## Using other models\n",
        "\n",
        "The `.nc` files we used in this tutorial are in fact the same convention that is used by the IRIS Earth Model Catalogue (EMC). This means that many of the models stored in the EMC can be downloaded and used\n",
        "directly in Salvus! Unfortunately, there is no standard parameter set stored in the EMC, and we've found that not all the files _actually_ conform to the required convention. Nevertheless, with some minimal processing, you can have the public library of 3-D Earth models at your disposal to run simulations through. The picture below show a successful attempt at including 3 distinct 3-D Earth models (crust, mantle, cascadia) for a region along the US west coast.\n",
        "\n",
        "http://ds.iris.edu/ds/products/emc/\n",
        "\n",
        "![](./na.png)"
      ]
    },
    {
      "cell_type": "code",
      "execution_count": null,
      "metadata": {},
      "outputs": [],
      "source": [
        "# # Adding the downloaded file as a mantle model.\n",
        "# p += sn.model.volume.seismology.MantleModel(\n",
        "#     name=\"SEMUM\", data=\"./SEMUM_kmps.nc\"\n",
        "# )"
      ]
    },
    {
      "cell_type": "code",
      "execution_count": null,
      "metadata": {},
      "outputs": [],
      "source": [
        "# # Combine into a model configuration.\n",
        "# mc1 = sn.model.ModelConfiguration(\n",
        "#     background_model=\"prem_iso_one_crust\", volume_models=[\"SEMUM\"]\n",
        "# )"
      ]
    },
    {
      "cell_type": "code",
      "execution_count": null,
      "metadata": {},
      "outputs": [],
      "source": [
        "# # Combine everything into a complete configuration.\n",
        "# p += sn.SimulationConfiguration(\n",
        "#     tensor_order=1,\n",
        "#     name=\"40seconds_semum\",\n",
        "#     elements_per_wavelength=1.0,\n",
        "#     min_period_in_seconds=40,\n",
        "#     max_depth_in_meters=1000e3,\n",
        "#     model_configuration=mc1,\n",
        "#     topography_configuration=tc,\n",
        "#     event_configuration=ec,\n",
        "#     absorbing_boundaries=ab,\n",
        "# )"
      ]
    },
    {
      "cell_type": "code",
      "execution_count": null,
      "metadata": {},
      "outputs": [],
      "source": [
        "# # Visualize the setup.\n",
        "# p.viz.nb.simulation_setup(\"40seconds_semum\", events=p.events.list())"
      ]
    },
    {
      "cell_type": "code",
      "execution_count": null,
      "metadata": {},
      "outputs": [],
      "source": [
        "# # Can also open it in Paraview.\n",
        "# m = p.simulation.get_mesh_filenames(\"40seconds_semum\")[\"xdmf_filename\"]\n",
        "\n",
        "# # Uncomment the following line on Mac OS\n",
        "# # !open {m}"
      ]
    }
  ],
  "metadata": {
    "jupytext": {
      "cell_metadata_json": true
    },
    "kernelspec": {
      "display_name": "Python 3",
      "language": "python",
      "name": "python3"
    }
  },
  "nbformat": 4,
  "nbformat_minor": 4
}