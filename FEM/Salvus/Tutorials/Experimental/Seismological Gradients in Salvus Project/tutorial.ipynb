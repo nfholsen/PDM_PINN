{
  "cells": [
    {
      "cell_type": "markdown",
      "metadata": {},
      "source": [
        "<div style='background-image: url(\"header.png\") ; padding: 0px ; background-size: cover ; border-radius: 5px ; height: 250px'>\n",
        "    <div style=\"float: right ; margin: 50px ; padding: 20px ; background: rgba(255 , 255 , 255 , 0.7) ; width: 50% ; height: 150px\">\n",
        "        <div style=\"position: relative ; top: 50% ; transform: translatey(-50%)\">\n",
        "            <div style=\"font-size: xx-large ; font-weight: 900 ; color: rgba(0 , 0 , 0 , 0.8) ; line-height: 100%\">Tutorial by Mondaic</div>\n",
        "            <div style=\"font-size: large ; padding-top: 20px ; color: rgba(0 , 0 , 0 , 0.5)\">For Salvus version 0.11.25</div>\n",
        "        </div>\n",
        "    </div>\n",
        "</div>"
      ]
    },
    {
      "cell_type": "markdown",
      "metadata": {},
      "source": [
        "# Seismological Gradients in Salvus*Project*\n",
        "\n",
        "This notebooks explains how to work with gradients with respect to model parameters in a seismological setting inside Salvus*Project*. We will use a small synthetic example by first creating a model with a velocity perturbation in the center."
      ]
    },
    {
      "cell_type": "code",
      "execution_count": null,
      "metadata": {},
      "outputs": [],
      "source": [
        "# Variable used in the notebook to determine which site\n",
        "# is used to run the simulations.\n",
        "import os\n",
        "\n",
        "SALVUS_FLOW_SITE_NAME = os.environ.get(\"SITE_NAME\", \"local\")\n",
        "PROJECT_DIR = \"project\""
      ]
    },
    {
      "cell_type": "code",
      "execution_count": null,
      "metadata": {},
      "outputs": [],
      "source": [
        "import time\n",
        "import pathlib\n",
        "\n",
        "import matplotlib.pyplot as plt\n",
        "import numpy as np\n",
        "import obspy\n",
        "import xarray as xr\n",
        "\n",
        "from salvus import namespace as sn\n"
      ]
    },
    {
      "cell_type": "code",
      "execution_count": null,
      "metadata": {},
      "outputs": [],
      "source": [
        "SALVUS_FLOW_SITE_NAME = os.environ.get(\"SITE_NAME\", \"local\")\n",
        "PROJECT_DIR = \"project\""
      ]
    },
    {
      "cell_type": "markdown",
      "metadata": {},
      "source": [
        "## Setup the domain and add an event"
      ]
    },
    {
      "cell_type": "code",
      "execution_count": null,
      "metadata": {},
      "outputs": [],
      "source": [
        "# Define a spherical chunk domain.\n",
        "lat_c, lon_c = -27.5, 135\n",
        "lat_e, lon_e = 25.5, 42.0\n",
        "\n",
        "# Uncomment the following line to start from scratch\n",
        "# !rm -rf project\n",
        "d = sn.domain.dim3.SphericalChunkDomain(\n",
        "    lat_center=lat_c,\n",
        "    lat_extent=lat_e,\n",
        "    lon_center=lon_c,\n",
        "    lon_extent=lon_e,\n",
        "    radius_in_meter=6371e3,\n",
        ")\n",
        "p = sn.Project.from_domain(path=PROJECT_DIR, domain=d, load_if_exists=True)\n",
        "\n",
        "# Add an event by parsing some prepared data.\n",
        "e = sn.Event(\n",
        "    sources=sn.simple_config.source.seismology.parse(\n",
        "        \"./event.txt\", dimensions=3\n",
        "    ),\n",
        "    receivers=sn.simple_config.receiver.seismology.parse(\n",
        "        obspy.read_inventory(\"stations.txt\"),\n",
        "        dimensions=3,\n",
        "        fields=[\"displacement\"],\n",
        "    ),\n",
        ")\n",
        "\n",
        "p += e"
      ]
    },
    {
      "cell_type": "markdown",
      "metadata": {},
      "source": [
        "## Define the target model\n",
        "\n",
        "The target model has a Gaussian velocity perturbation blob in the middle of. We define it here as an xarray dataset. This can be used to define arbitrary material parameter models that Salvus*Project* can directly utilize."
      ]
    },
    {
      "cell_type": "code",
      "execution_count": null,
      "metadata": {},
      "outputs": [],
      "source": [
        "lat = np.linspace(lat_c - lat_e / 2.0, lat_c + lat_e / 2.0, 50)\n",
        "lon = np.linspace(lon_c - lon_e / 2.0, lon_c + lon_e / 2.0, 50)\n",
        "depth = np.linspace(0, 1000.0, 40)\n",
        "\n",
        "_, lon_grid, lat_grid = np.meshgrid(depth, lon, lat, indexing=\"ij\")\n",
        "\n",
        "# Distance from center in degree.\n",
        "d = ((lon_grid - lon_c) ** 2 + (lat_grid - lat_c) ** 2) ** 0.5\n",
        "\n",
        "# Apply Gaussian\n",
        "sigma = 5.0\n",
        "d = 1.0 / (sigma * np.sqrt(2 * np.pi)) * np.exp(-0.5 * (d / sigma) ** 2)\n",
        "\n",
        "# Normalize to 10 % deviation\n",
        "d /= d.max()\n",
        "d *= 10.0\n",
        "\n",
        "ds = xr.Dataset(\n",
        "    data_vars={\n",
        "        \"vs\": ([\"depth\", \"longitude\", \"latitude\"], d),\n",
        "        \"vp\": ([\"depth\", \"longitude\", \"latitude\"], d),\n",
        "    },\n",
        "    coords={\"depth\": depth, \"latitude\": lat, \"longitude\": lon},\n",
        ")\n",
        "\n",
        "ds.vs.attrs[\"units\"] = \"%\"\n",
        "ds.vp.attrs[\"units\"] = \"%\"\n",
        "\n",
        "# Same for the coordinate axes.\n",
        "ds.depth.attrs[\"units\"] = \"km\"\n",
        "ds.latitude.attrs[\"units\"] = \"degrees_north\"\n",
        "ds.longitude.attrs[\"units\"] = \"degrees_east\"\n",
        "ds.attrs[\"geospatial_lat_units\"] = \"degrees_north\"\n",
        "ds.attrs[\"geospatial_lon_units\"] = \"degrees_east\"\n",
        "ds.attrs[\"geospatial_vertical_units\"] = \"km\"\n",
        "\n",
        "ds.vs.isel(depth=0).T.plot()\n",
        "plt.show()"
      ]
    },
    {
      "cell_type": "markdown",
      "metadata": {},
      "source": [
        "## Simulation setup\n",
        "\n",
        "We'll create two simulations: (1) Through the the laterally homogeneous initial model and (2) through the target model with the blob in the middle."
      ]
    },
    {
      "cell_type": "code",
      "execution_count": null,
      "metadata": {},
      "outputs": [],
      "source": [
        "ec = sn.EventConfiguration(\n",
        "    wavelet=sn.simple_config.stf.GaussianRate(half_duration_in_seconds=100.0),\n",
        "    waveform_simulation_configuration=sn.WaveformSimulationConfiguration(\n",
        "        end_time_in_seconds=1800.0\n",
        "    ),\n",
        ")"
      ]
    },
    {
      "cell_type": "code",
      "execution_count": null,
      "metadata": {},
      "outputs": [],
      "source": [
        "mc = sn.ModelConfiguration(background_model=\"prem_iso_no_crust\")"
      ]
    },
    {
      "cell_type": "code",
      "execution_count": null,
      "metadata": {},
      "outputs": [],
      "source": [
        "p += sn.SimulationConfiguration(\n",
        "    tensor_order=1,\n",
        "    name=\"initial_model\",\n",
        "    elements_per_wavelength=1.0,\n",
        "    min_period_in_seconds=200,\n",
        "    max_depth_in_meters=500e3,\n",
        "    model_configuration=sn.ModelConfiguration(\n",
        "        background_model=\"prem_iso_no_crust\",\n",
        "    ),\n",
        "    event_configuration=ec,\n",
        ")"
      ]
    },
    {
      "cell_type": "code",
      "execution_count": null,
      "metadata": {},
      "outputs": [],
      "source": [
        "p += sn.model.volume.seismology.GenericModel(name=\"vs_blob\", data=ds)"
      ]
    },
    {
      "cell_type": "code",
      "execution_count": null,
      "metadata": {},
      "outputs": [],
      "source": [
        "p += sn.SimulationConfiguration(\n",
        "    tensor_order=1,\n",
        "    name=\"target_model\",\n",
        "    elements_per_wavelength=1.0,\n",
        "    min_period_in_seconds=200,\n",
        "    max_depth_in_meters=500e3,\n",
        "    model_configuration=sn.ModelConfiguration(\n",
        "        background_model=\"prem_iso_no_crust\", volume_models=[\"vs_blob\"]\n",
        "    ),\n",
        "    event_configuration=ec,\n",
        ")"
      ]
    },
    {
      "cell_type": "code",
      "execution_count": null,
      "metadata": {},
      "outputs": [],
      "source": [
        "p.viz.nb.simulation_setup(\"target_model\", events=p.events.list())"
      ]
    },
    {
      "cell_type": "markdown",
      "metadata": {},
      "source": [
        "## Run forward simulations"
      ]
    },
    {
      "cell_type": "code",
      "execution_count": null,
      "metadata": {},
      "outputs": [],
      "source": [
        "for simulation in [\"initial_model\", \"target_model\"]:\n",
        "    p.simulations.launch(\n",
        "        ranks_per_job=2,\n",
        "        site_name=SALVUS_FLOW_SITE_NAME,\n",
        "        events=p.events.list()[0],\n",
        "        wall_time_in_seconds_per_job=3600,\n",
        "        simulation_configuration=simulation,\n",
        "    )"
      ]
    },
    {
      "cell_type": "code",
      "execution_count": null,
      "metadata": {
        "lines_to_next_cell": 1
      },
      "outputs": [],
      "source": [
        "p.simulations.query(block=True, ping_interval_in_seconds=1.0)"
      ]
    },
    {
      "cell_type": "markdown",
      "metadata": {},
      "source": [
        "## Add some noise\n",
        "\n",
        "Let's make it a bit more interesting and add some normal distributed noise to the \"observed\" data through the target mode. The generic processing function approach allows the arbitrary modification of data and it will be applied by Salvus*Project* on-the-fly."
      ]
    },
    {
      "cell_type": "code",
      "execution_count": null,
      "metadata": {},
      "outputs": [],
      "source": [
        "def process(st, inv, receiver, sources):\n",
        "    # This particular function adds some random noise to\n",
        "    # the data. To make it reproducible let's create some\n",
        "    # deterministic seed - the seed is based on the receiver\n",
        "    # number and the point-to-point amplitude of the first\n",
        "    # trace.\n",
        "    np.random.seed(\n",
        "        int.from_bytes((receiver.name + str(st[0].data.ptp())).encode(), \"big\")\n",
        "        % 2 ** 32\n",
        "    )\n",
        "    # Add 5% of normal distributed noise.\n",
        "    for tr in st:\n",
        "        tr.data += np.random.normal(\n",
        "            scale=0.05 * tr.data.ptp(), size=tr.data.shape\n",
        "        )\n",
        "\n",
        "    # Filter it again to not have really high-frequencies.\n",
        "    st.filter(\"lowpass\", freq=1.0 / 80.0, zerophase=True)\n",
        "\n",
        "    return st\n",
        "\n",
        "\n",
        "p += sn.processing.seismology.SeismologyProcessingConfiguration(\n",
        "    name=\"target_model_with_noise\",\n",
        "    data_source_name=\"SYNTHETIC_DATA:target_model\",\n",
        "    processing_function=process,\n",
        ")"
      ]
    },
    {
      "cell_type": "code",
      "execution_count": null,
      "metadata": {},
      "outputs": [],
      "source": [
        "# ### Pick Windows\n",
        "#\n",
        "# Real world applications usually need some form of data selection. In seismology this oftentimes takes the form of picking windows. Salvus offers some utilities to automatically select these.\n",
        "\n",
        "if not p.entities.has(\n",
        "    \"data_selection_configuration\", \"initial_model_100_to_300s\"\n",
        "):\n",
        "    p.actions.seismology.pick_windows(\n",
        "        data_selection_configuration=\"initial_model_100_to_300s\",\n",
        "        observed_data_name=\"PROCESSED_DATA:target_model_with_noise\",\n",
        "        synthetic_data_name=\"initial_model\",\n",
        "        events=p.events.list(),\n",
        "        receiver_field=\"displacement\",\n",
        "        window_taper_width_in_seconds=50.0,\n",
        "        window_picking_function=\"built-in\",\n",
        "        window_picking_function_kwargs={\n",
        "            \"minimum_period_in_seconds\": 100.0,\n",
        "            \"maximum_period_in_seconds\": 300.0,\n",
        "        },\n",
        "    )\n"
      ]
    },
    {
      "cell_type": "markdown",
      "metadata": {},
      "source": [
        "### Visualize Windows"
      ]
    },
    {
      "cell_type": "code",
      "execution_count": null,
      "metadata": {},
      "outputs": [],
      "source": [
        "p.viz.nb.waveforms(\n",
        "    data=[\n",
        "        \"SYNTHETIC_DATA:initial_model\",\n",
        "        \"PROCESSED_DATA:target_model_with_noise\",\n",
        "    ],\n",
        "    receiver_field=\"displacement\",\n",
        "    data_selection_configuration=\"initial_model_100_to_300s\",\n",
        ")"
      ]
    },
    {
      "cell_type": "code",
      "execution_count": null,
      "metadata": {},
      "outputs": [],
      "source": [
        "p.viz.seismology.windows(\"initial_model_100_to_300s\")"
      ]
    },
    {
      "cell_type": "markdown",
      "metadata": {},
      "source": [
        "## Misfit configuration\n",
        "\n",
        "This examples defines a custom misfit and adjoint source computation but Salvus also already defines a few."
      ]
    },
    {
      "cell_type": "code",
      "execution_count": null,
      "metadata": {},
      "outputs": [],
      "source": [
        "def l2_misfit_and_adjoint_source(\n",
        "    data_synthetic: np.ndarray,\n",
        "    data_observed: np.ndarray,\n",
        "    sampling_rate_in_hertz: float,\n",
        "):\n",
        "    # Necessary to not run into crazy small numbers.\n",
        "    f = 1e10\n",
        "    assert data_synthetic.shape == data_observed.shape\n",
        "\n",
        "    # the adjoint source is the negative derivative w.r.t.\n",
        "    # synthetic data, i.e., we flip the sign here\n",
        "    diff = data_observed - data_synthetic\n",
        "\n",
        "    misfit = 0.5 * (diff ** 2).sum() / sampling_rate_in_hertz * f\n",
        "    adj_src = diff / sampling_rate_in_hertz * f\n",
        "\n",
        "    return misfit, adj_src\n",
        "\n",
        "\n",
        "# Add a misfit configuration to the project.\n",
        "# Note that this is independet of the synthetic data of the forward run\n",
        "# but it only defines how to compare two sets of data.\n",
        "p += sn.MisfitConfiguration(\n",
        "    name=\"L2-misfit-to-target-model\",\n",
        "    observed_data=\"PROCESSED_DATA:target_model_with_noise\",\n",
        "    misfit_function=l2_misfit_and_adjoint_source,\n",
        "    receiver_field=\"displacement\",\n",
        "    data_selection_configuration=\"initial_model_100_to_300s\",\n",
        ")"
      ]
    },
    {
      "cell_type": "markdown",
      "metadata": {},
      "source": [
        "## Compute misfits and gradients\n",
        "\n",
        "Now we are finally ready to compute misfits and gradients. Note that the misfits can be readily computed without running an additional simulation, whereas the gradients require an upfront adjoint simulation."
      ]
    },
    {
      "cell_type": "code",
      "execution_count": null,
      "metadata": {
        "lines_to_next_cell": 0
      },
      "outputs": [],
      "source": [
        "# Misfits can be computed before running an adjoint simulation.\n",
        "misfits = None\n",
        "while not misfits:\n",
        "    misfits = p.actions.inversion.compute_misfits(\n",
        "        simulation_configuration=\"initial_model\",\n",
        "        misfit_configuration=\"L2-misfit-to-target-model\",\n",
        "        store_checkpoints=False,\n",
        "        events=p.events.list()[0],\n",
        "        ranks_per_job=4,\n",
        "        site_name=SALVUS_FLOW_SITE_NAME,\n",
        "    )\n",
        "    time.sleep(5.0)\n",
        "\n",
        "print(misfits)"
      ]
    },
    {
      "cell_type": "code",
      "execution_count": null,
      "metadata": {},
      "outputs": [],
      "source": [
        "# Actually compute the gradients.\n",
        "while not p.actions.inversion.compute_gradients(\n",
        "    simulation_configuration=\"initial_model\",\n",
        "    misfit_configuration=\"L2-misfit-to-target-model\",\n",
        "    events=p.events.list()[0],\n",
        "    ranks_per_job=4,\n",
        "    site_name=SALVUS_FLOW_SITE_NAME,\n",
        "):\n",
        "    time.sleep(5.0)\n",
        "p.viz.nb.gradients(\n",
        "    simulation_configuration=\"initial_model\",\n",
        "    misfit_configuration=\"L2-misfit-to-target-model\",\n",
        "    events=p.events.list(),\n",
        ")"
      ]
    },
    {
      "cell_type": "markdown",
      "metadata": {},
      "source": [
        "## Analyzing Misfits\n",
        "\n",
        "Salvus guarantees that the gradient is correct with respect to what it is given but what does it actually mean in physical terms? What pieces of data steer and influence the final gradient?\n",
        "\n",
        "One crucial piece are of course the previously plotted windows and their distribution.\n",
        "\n",
        "There are a few more ways to analyze the misfits."
      ]
    },
    {
      "cell_type": "code",
      "execution_count": null,
      "metadata": {},
      "outputs": [],
      "source": [
        "# Look at the misfits from the different receivers.\n",
        "p.viz.nb.misfit_comparison(\n",
        "    reference_data=\"initial_model\",\n",
        "    misfit_configuration=\"L2-misfit-to-target-model\",\n",
        "    event=p.events.list()[0],\n",
        ")"
      ]
    },
    {
      "cell_type": "code",
      "execution_count": null,
      "metadata": {},
      "outputs": [],
      "source": [
        "# Can also be shown on a map.\n",
        "p.viz.seismology.misfit_map(\n",
        "    reference_data=\"initial_model\",\n",
        "    misfit_configuration=\"L2-misfit-to-target-model\",\n",
        ")"
      ]
    },
    {
      "cell_type": "code",
      "execution_count": null,
      "metadata": {},
      "outputs": [],
      "source": [
        "# Or have a detailed look at how the individual misfits are computed.\n",
        "p.viz.nb.misfits(\n",
        "    simulation_configuration=\"initial_model\",\n",
        "    misfit_configuration=\"L2-misfit-to-target-model\",\n",
        ")"
      ]
    },
    {
      "cell_type": "code",
      "execution_count": null,
      "metadata": {},
      "outputs": [],
      "source": [
        "p.viz.misfit_histogram(\n",
        "    simulation_configuration_a=\"initial_model\",\n",
        "    misfit_configuration=\"L2-misfit-to-target-model\",\n",
        "    events=p.events.list(),\n",
        ")"
      ]
    }
  ],
  "metadata": {
    "jupytext": {
      "formats": "ipynb,py:light"
    },
    "kernelspec": {
      "display_name": "Python 3",
      "language": "python",
      "name": "python3"
    }
  },
  "nbformat": 4,
  "nbformat_minor": 4
}