{
  "cells": [
    {
      "cell_type": "markdown",
      "metadata": {},
      "source": [
        "<div style='background-image: url(\"header.png\") ; padding: 0px ; background-size: cover ; border-radius: 5px ; height: 250px'>\n",
        "    <div style=\"float: right ; margin: 50px ; padding: 20px ; background: rgba(255 , 255 , 255 , 0.7) ; width: 50% ; height: 150px\">\n",
        "        <div style=\"position: relative ; top: 50% ; transform: translatey(-50%)\">\n",
        "            <div style=\"font-size: xx-large ; font-weight: 900 ; color: rgba(0 , 0 , 0 , 0.8) ; line-height: 100%\">Tutorial by Mondaic</div>\n",
        "            <div style=\"font-size: large ; padding-top: 20px ; color: rgba(0 , 0 , 0 , 0.5)\">For Salvus version 0.11.25</div>\n",
        "        </div>\n",
        "    </div>\n",
        "</div>"
      ]
    },
    {
      "cell_type": "markdown",
      "metadata": {},
      "source": [
        "# Ground Motion Modelling in Buildings"
      ]
    },
    {
      "cell_type": "code",
      "execution_count": null,
      "metadata": {},
      "outputs": [],
      "source": [
        "# Magic\n",
        "%matplotlib inline\n",
        "%config Completer.use_jedi = False"
      ]
    },
    {
      "cell_type": "markdown",
      "metadata": {},
      "source": [
        "## Introduction\n",
        "\n",
        "In this tutorial we will use Salvus _Mesh_ to generate a simplified model of a\n",
        "\"building\", and instrument the resulting model with a series of sensors which\n",
        "record the gradient of displacement at a series of discrete points.\n",
        "Specifically, we will:\n",
        "\n",
        "* Use the `SalvusToolbox` to generate a parameterized model of a building.\n",
        "* Attach a homogeneous set of material parameters to the resulting mesh.\n",
        "* Instrument the left wall with a series of sensors which will record the gradient of displacement.\n",
        "* Run a simluation.\n",
        "* Plot and analyze the results.\n"
      ]
    },
    {
      "cell_type": "code",
      "execution_count": null,
      "metadata": {},
      "outputs": [],
      "source": [
        "import os\n",
        "import matplotlib.pyplot as plt\n",
        "import numpy as np\n",
        "\n",
        "import salvus.flow.simple_config as config\n",
        "import salvus.toolbox.toolbox as st\n",
        "import salvus.toolbox.toolbox_geotech as st_geo\n",
        "from salvus.flow import api\n",
        "\n",
        "SALVUS_FLOW_SITE_NAME = os.environ.get(\"SITE_NAME\", \"local\")"
      ]
    },
    {
      "cell_type": "markdown",
      "metadata": {},
      "source": [
        "### Generating the mesh\n",
        "\n",
        "To generate our idealized building we'll use a function internal to the Salvus toolbox -- if you're curious how it works, you could take a look at the `get_simple_building` function we've imported above. The function takes a variety of values which parameterize how the mesh is generated. The values below produce a 50 \"story\" building with a basement foundation. As with the rest of Salvus, all units are SI."
      ]
    },
    {
      "cell_type": "code",
      "execution_count": null,
      "metadata": {},
      "outputs": [],
      "source": [
        "n_stories = 50\n",
        "wall_width = 1.0\n",
        "story_height = 3.0\n",
        "ceiling_height = 0.3\n",
        "building_width = 20.0\n",
        "basement_depth = 20.0\n",
        "basement_width = 50.0"
      ]
    },
    {
      "cell_type": "markdown",
      "metadata": {},
      "source": [
        "Before we generate the mesh itself we need to set a few values which determine the resolution of the resulting simulation. For a more detailed discussion on the proper values to choose here, please see one of the other tutorials, such as the \"Marmousi\" tutorial. Below we'll assume a constant shear-wave velocity value of $1500$ m/s, and, using this as the minimum velocity in the mesh, mesh the domain so that we have at least 2 elements per wavelength assuming a maximum frequency of $500$ Hz."
      ]
    },
    {
      "cell_type": "code",
      "execution_count": null,
      "metadata": {},
      "outputs": [],
      "source": [
        "f_max = 500.0\n",
        "vs_min = 1500.0\n",
        "nelem_per_wavelength = 2.0"
      ]
    },
    {
      "cell_type": "markdown",
      "metadata": {},
      "source": [
        "Now its time to build the mesh itsef. Below we pass the requisite parameters to the generation function, and receive back a the tuple: `(mesh, bnd)`. The first entry here is indeed our mesh -- we'll plot it in a few cells -- and the `bnd` value represents the minimum distance to which the mesh was extruded to attach absorbing boundary layers. This value will be helpful later when we're setting up the simulation."
      ]
    },
    {
      "cell_type": "code",
      "execution_count": null,
      "metadata": {},
      "outputs": [],
      "source": [
        "mesh, bnd = st_geo.get_simple_building(\n",
        "    f_max=f_max,\n",
        "    vs_min=vs_min,\n",
        "    n_stories=n_stories,\n",
        "    wall_width=wall_width,\n",
        "    story_height=story_height,\n",
        "    basement_width=basement_width,\n",
        "    basement_depth=basement_depth,\n",
        "    building_width=building_width,\n",
        "    ceiling_height=ceiling_height,\n",
        "    nelem_per_wavelength=nelem_per_wavelength,\n",
        ")"
      ]
    },
    {
      "cell_type": "markdown",
      "metadata": {},
      "source": [
        "Now that we've got the mesh skeleton, we can simply attach our elastic parameters as shown below. We'll use the `vs_min` value we defined above for our shear wave velocity, and use a simple scaling relation such that the p-wave velocity is twice the s-wave velocity. These parameters of course can be changed, and can also be made heterogeneous, but one must always keep in mind the resolution criterion (here: 2 elements per wavelength given a minimum velocity of $1500$ m/s) in mind."
      ]
    },
    {
      "cell_type": "code",
      "execution_count": null,
      "metadata": {},
      "outputs": [],
      "source": [
        "nodes = mesh.get_element_nodes()[:, :, 0]\n",
        "mesh.attach_field(\"RHO\", np.ones_like(nodes) * 1000)\n",
        "mesh.attach_field(\"VS\", np.ones_like(nodes) * vs_min)\n",
        "mesh.attach_field(\"VP\", np.ones_like(nodes) * vs_min * 2)"
      ]
    },
    {
      "cell_type": "markdown",
      "metadata": {},
      "source": [
        "With our parameters attached, we can now plot the model below."
      ]
    },
    {
      "cell_type": "code",
      "execution_count": null,
      "metadata": {},
      "outputs": [],
      "source": [
        "mesh"
      ]
    },
    {
      "cell_type": "markdown",
      "metadata": {},
      "source": [
        "### Setting up the simulation\n",
        "\n",
        "Here we set up a simple source to inject some energy for the upcoming simulation. We use here a Ricker source-time function with a center frequency which is half the maximum frequency in the mesh. More information on the available source-time functions and source types can be found in the relevant tutorials."
      ]
    },
    {
      "cell_type": "code",
      "execution_count": null,
      "metadata": {},
      "outputs": [],
      "source": [
        "stf = config.stf.Ricker(center_frequency=f_max / 2)\n",
        "source = config.source.cartesian.VectorPoint2D(\n",
        "    x=-20, y=0.0, fx=1.0, fy=1.0, source_time_function=stf\n",
        ")"
      ]
    },
    {
      "cell_type": "markdown",
      "metadata": {},
      "source": [
        "Now we set up an array of 100 sensors which will travel up the left wall of our building. In addition to setting the spatial locations for each receiver, we'll also tell Salvus to output the velocity and gradient of displacement at each spatial location."
      ]
    },
    {
      "cell_type": "code",
      "execution_count": null,
      "metadata": {},
      "outputs": [],
      "source": [
        "n_rec = 100\n",
        "x_rec = np.ones(n_rec) * -building_width / 2\n",
        "y_rec = np.linspace(0, n_stories * story_height, n_rec)\n",
        "receivers = [\n",
        "    config.receiver.cartesian.Point2D(\n",
        "        x=x,\n",
        "        y=y,\n",
        "        station_code=f\"{_i:03d}\",\n",
        "        fields=[\"velocity\", \"gradient-of-displacement\"],\n",
        "    )\n",
        "    for _i, (x, y) in enumerate(zip(x_rec, y_rec))\n",
        "]"
      ]
    },
    {
      "cell_type": "markdown",
      "metadata": {},
      "source": [
        "Now we can set up our simulation object, which acts as the parameter file to send to Salvus. We attach the absorbing boundaries at the relevant side-sets, give our simulation a physical end time, and also specify what type of output we want. The volumetric output is commented out below, as this can take up a sizeable chunk of disk space depending on your simulation parameters. Feel free to uncomment this if you have plenty of space -- it is directly from this output that the movie at the end of this tutorial was generated."
      ]
    },
    {
      "cell_type": "code",
      "execution_count": null,
      "metadata": {},
      "outputs": [],
      "source": [
        "# Initialize with sources and receivers.\n",
        "w = config.simulation.Waveform(mesh=mesh, sources=source, receivers=receivers)\n",
        "\n",
        "# Set end time, start time is automatically determined.\n",
        "w.physics.wave_equation.end_time_in_seconds = 0.1\n",
        "\n",
        "# Define and attach our absorbing boundaries.\n",
        "ab = config.boundary.Absorbing(\n",
        "    side_sets=[\"x0\", \"x1\", \"y0\"], width_in_meters=bnd, taper_amplitude=f_max\n",
        ")\n",
        "w.physics.wave_equation.boundaries = [ab]\n",
        "\n",
        "# Use simplified HDF5 source output.\n",
        "w.output.point_data.format = \"hdf5\"\n",
        "\n",
        "# Save the volumetric wavefield for visualization purposes.\n",
        "# w.output.volume_data.format = \"hdf5\"\n",
        "# w.output.volume_data.filename = \"output.h5\"\n",
        "# w.output.volume_data.fields = [\"displacement\"]\n",
        "# w.output.volume_data.sampling_interval_in_time_steps = 10\n",
        "\n",
        "# Ensure that Salvus will accept our parameters.\n",
        "w.validate()\n",
        "\n",
        "# Plot the mesh with the sources and receivers.\n",
        "w"
      ]
    },
    {
      "cell_type": "markdown",
      "metadata": {},
      "source": [
        "With everything defined, plotting the `simulation.Waveform()` object gives us a visual representation of where our sources and sensors were placed. As expected, we've instrumented the left wall with a series of velocity / gradient sensors, and placed a source just outside the building.\n",
        "\n",
        "### Running the simulation\n",
        "\n",
        "Running the simulation is as simple as calling the `api.run` command as below. This simulation is rather small, so running on 2 ranks locally should allow for the simulation to complete within 10 - 30 seconds. Of course for bigger simulations (or simulations in 3D) we could install Salvus on a remote supercomputing site. In this case, none of the above workflow would change, and all we would do is specify the remote site for our `site_name` below. Salvus _Flow_ would take care of shuttling data to and from the remote machine as required."
      ]
    },
    {
      "cell_type": "code",
      "execution_count": null,
      "metadata": {},
      "outputs": [],
      "source": [
        "api.run(\n",
        "    ranks=2,\n",
        "    get_all=True,\n",
        "    input_file=w,\n",
        "    overwrite=False,\n",
        "    site_name=SALVUS_FLOW_SITE_NAME,\n",
        "    output_folder=\"output\",\n",
        ")"
      ]
    },
    {
      "cell_type": "markdown",
      "metadata": {},
      "source": [
        "### Analyzing the results\n",
        "\n",
        "Below we plot a \"shotgather\" showing the output of the displacement gradient sensors we placed along the left wall of the building. While informative in their own right, such results could be used to also investigate the rotational motion recorded at each sensor if desired."
      ]
    },
    {
      "cell_type": "code",
      "execution_count": null,
      "metadata": {},
      "outputs": [],
      "source": [
        "f, ax = plt.subplots(2, 2, figsize=(15, 10), sharex=True, sharey=True)\n",
        "\n",
        "# Read in data.\n",
        "rec_file = \"output/receivers.h5\"\n",
        "field = \"gradient-of-displacement\"\n",
        "uxx, dt, extent = st.get_shotgather(rec_file, field=field, cmp=0, axis=1)\n",
        "uxy, _, _ = st.get_shotgather(rec_file, field=field, cmp=1, axis=1)\n",
        "uyx, _, _ = st.get_shotgather(rec_file, field=field, cmp=2, axis=1)\n",
        "uyy, _, _ = st.get_shotgather(rec_file, field=field, cmp=3, axis=1)\n",
        "\n",
        "# Normalize and plot the shotgather.\n",
        "uxx_min, uxx_max = 0.1 * uxx.min(), 0.1 * uxx.max()\n",
        "uxy_min, uxy_max = 0.1 * uxy.min(), 0.1 * uxy.max()\n",
        "uyx_min, uyx_max = 0.1 * uyx.min(), 0.1 * uyx.max()\n",
        "uyy_min, uyy_max = 0.1 * uyy.min(), 0.1 * uyy.max()\n",
        "\n",
        "# Plot the different fields.\n",
        "ax[0, 0].imshow(uxx, vmin=uxx_min, vmax=uxx_max, extent=extent, aspect=\"auto\")\n",
        "ax[0, 1].imshow(uxy, vmin=uxx_min, vmax=uxx_max, extent=extent, aspect=\"auto\")\n",
        "ax[1, 0].imshow(uyx, vmin=uxx_min, vmax=uxx_max, extent=extent, aspect=\"auto\")\n",
        "ax[1, 1].imshow(uyy, vmin=uxx_min, vmax=uxx_max, extent=extent, aspect=\"auto\")\n",
        "\n",
        "# Label plots\n",
        "ax[0, 0].set_title(r\"$\\partial u_x / \\partial x$\")\n",
        "ax[0, 1].set_title(r\"$\\partial u_x / \\partial y$\")\n",
        "ax[1, 0].set_title(r\"$\\partial u_y / \\partial x$\")\n",
        "ax[1, 1].set_title(r\"$\\partial u_y / \\partial y$\")\n",
        "\n",
        "# Label axes.\n",
        "ax[0, 0].set_ylabel(\"Time (s)\")\n",
        "ax[1, 0].set_ylabel(\"Time (s)\")\n",
        "ax[1, 0].set_xlabel(\"y (m)\")\n",
        "ax[1, 1].set_xlabel(\"y (m)\")\n",
        "\n",
        "plt.show()"
      ]
    },
    {
      "cell_type": "markdown",
      "metadata": {},
      "source": [
        "We've can also create a movie from the volumetric output (if it was saved) using Paraview. An animation of how this might look can be found on YouTube."
      ]
    },
    {
      "cell_type": "markdown",
      "metadata": {
        "tags": [
          "youtube"
        ]
      },
      "source": [
        "youtube: y86aHBDUeFY"
      ]
    }
  ],
  "metadata": {
    "jupytext": {
      "cell_metadata_filter": "tags,-all",
      "cell_metadata_json": true
    },
    "kernelspec": {
      "display_name": "Python 3",
      "language": "python",
      "name": "python3"
    }
  },
  "nbformat": 4,
  "nbformat_minor": 4
}