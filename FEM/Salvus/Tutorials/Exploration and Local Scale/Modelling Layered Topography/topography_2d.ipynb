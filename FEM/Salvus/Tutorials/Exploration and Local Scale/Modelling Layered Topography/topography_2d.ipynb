{
  "cells": [
    {
      "cell_type": "markdown",
      "metadata": {},
      "source": [
        "<div style='background-image: url(\"header.png\") ; padding: 0px ; background-size: cover ; border-radius: 5px ; height: 250px'>\n",
        "    <div style=\"float: right ; margin: 50px ; padding: 20px ; background: rgba(255 , 255 , 255 , 0.7) ; width: 50% ; height: 150px\">\n",
        "        <div style=\"position: relative ; top: 50% ; transform: translatey(-50%)\">\n",
        "            <div style=\"font-size: xx-large ; font-weight: 900 ; color: rgba(0 , 0 , 0 , 0.8) ; line-height: 100%\">Tutorial by Mondaic</div>\n",
        "            <div style=\"font-size: large ; padding-top: 20px ; color: rgba(0 , 0 , 0 , 0.5)\">For Salvus version 0.11.25</div>\n",
        "        </div>\n",
        "    </div>\n",
        "</div>"
      ]
    },
    {
      "cell_type": "markdown",
      "metadata": {},
      "source": [
        "# Modelling Layered Topography\n"
      ]
    },
    {
      "cell_type": "code",
      "execution_count": null,
      "metadata": {},
      "outputs": [],
      "source": [
        "# Magic\n",
        "%matplotlib inline\n",
        "%config Completer.use_jedi = False"
      ]
    },
    {
      "cell_type": "markdown",
      "metadata": {},
      "source": [
        "## Introduction\n",
        "\n",
        "A common use case for spectral-element simulations is for the simulation of\n",
        "wavefields in the presence of surface, subsurface, or seabed topography. In this tutorial we'll\n",
        "* Define a set set of interfaces with topography by using interpolating splines.\n",
        "* Generate a mesh which respects the defined topography.\n",
        "* Set up and run an acoustic simulation through the resulting mesh.\n",
        "\n",
        "Let's get started\n",
        "by importing the relevant `Python` packages."
      ]
    },
    {
      "cell_type": "code",
      "execution_count": null,
      "metadata": {},
      "outputs": [],
      "source": [
        "import os\n",
        "import matplotlib.pyplot as plt\n",
        "import numpy as np\n",
        "\n",
        "import salvus.flow.simple_config as config\n",
        "import salvus.toolbox.toolbox as st\n",
        "from salvus.flow import api\n",
        "from salvus.flow import simple_config as config\n",
        "from salvus.mesh.optimize_dt import optimize_dt\n",
        "from salvus.mesh.simple_mesh import rho_from_gardeners, vs_from_poisson\n",
        "\n",
        "SALVUS_FLOW_SITE_NAME = os.environ.get(\"SITE_NAME\", \"local\")"
      ]
    },
    {
      "cell_type": "markdown",
      "metadata": {},
      "source": [
        "## Setting up the model\n",
        "\n",
        "### Defining the interpolating splines\n",
        "\n",
        "The first thing we'll do is set up the splines which will define the\n",
        "interfaces in our model. Before we get started though, let's set the x extent of our model, which will be $5$ km."
      ]
    },
    {
      "cell_type": "code",
      "execution_count": null,
      "metadata": {},
      "outputs": [],
      "source": [
        "x_min = 0.0\n",
        "x_max = 5000.0"
      ]
    },
    {
      "cell_type": "markdown",
      "metadata": {},
      "source": [
        "To help topography, we'll make use of the\n",
        "`get_interpolating_splines` function from `SalvusToolbox`. This function\n",
        "requires a set of interpolation points which can be used to anchor the\n",
        "splines, and these points in turn are defined by a set of locations in $x$\n",
        "and $y$. In the cell below we define a series of $5$ discontinuities by specifying\n",
        "their interpolation points in each coordiante. We multiply by $1000$ here simply for brevity."
      ]
    },
    {
      "cell_type": "code",
      "execution_count": null,
      "metadata": {},
      "outputs": [],
      "source": [
        "layers_x = [\n",
        "    np.array([0.0, 0.2, 1.0, 2.0, 3.0, 4.0, 4.8, 5.0]) * 1000,\n",
        "    np.array([0.0, 0.2, 1.0, 2.0, 3.0, 4.0, 4.8, 5.0]) * 1000,\n",
        "    np.array([0.0, 0.2, 1.0, 2.0, 3.0, 4.0, 4.8, 5.0]) * 1000,\n",
        "    np.array([0.0, 1.5, 3.5, 5.0]) * 1000,\n",
        "    np.array([0.0, 2.5, 5.0]) * 1000,\n",
        "]\n",
        "\n",
        "layers_y = [\n",
        "    np.array([2.0, 2.0, 1.9, 1.7, 2.0, 2.1, 2.0, 2.0]) * 1000,\n",
        "    np.array([1.6, 1.6, 1.5, 1.4, 1.3, 1.4, 1.5, 1.5]) * 1000,\n",
        "    np.array([0.5, 0.5, 0.7, 0.6, 1.1, 0.9, 1.2, 1.2]) * 1000,\n",
        "    np.array([0.2, 0.2, 0.4, 0.4]) * 1000,\n",
        "    np.array([0.0, 0.0, 0.0]) * 1000,\n",
        "]"
      ]
    },
    {
      "cell_type": "markdown",
      "metadata": {},
      "source": [
        "We'll also define the p-wave velocities for each layer, and use some helper functions from Salvus _Mesh_ to convert these values to realistic density and s-wave velocities."
      ]
    },
    {
      "cell_type": "code",
      "execution_count": null,
      "metadata": {},
      "outputs": [],
      "source": [
        "# Define p-velocities.\n",
        "vp = np.array([2000.0, 2500.0, 2800.0, 3200.0])\n",
        "\n",
        "# Compute vs and rho.\n",
        "vs = vs_from_poisson(vp)\n",
        "rho = rho_from_gardeners(vp)"
      ]
    },
    {
      "cell_type": "markdown",
      "metadata": {},
      "source": [
        "The `get_interpolating_splines` function also accepts an array of interpolations methods. Internally the function uses `interp1d` from Scipy, so please check out the documentation [here](https://docs.scipy.org/doc/scipy/reference/generated/scipy.interpolate.interp1d.html#scipy.interpolate.interp1d) for a complete list of interpolation styles."
      ]
    },
    {
      "cell_type": "code",
      "execution_count": null,
      "metadata": {},
      "outputs": [],
      "source": [
        "interpolation_styles = [\n",
        "    \"quadratic\",\n",
        "    \"quadratic\",\n",
        "    \"quadratic\",\n",
        "    \"linear\",\n",
        "    \"linear\",\n",
        "]"
      ]
    },
    {
      "cell_type": "markdown",
      "metadata": {},
      "source": [
        "Now we're ready to go ahead and generate our interpolating splines. Given the variables we defined above, we can call the function below to get the horizons of our model."
      ]
    },
    {
      "cell_type": "code",
      "execution_count": null,
      "metadata": {},
      "outputs": [],
      "source": [
        "splines = st.get_interpolating_splines(\n",
        "    layers_x, layers_y, kind=interpolation_styles\n",
        ")"
      ]
    },
    {
      "cell_type": "markdown",
      "metadata": {},
      "source": [
        "Below we simply just plot the splines to get an idea of what our model will look like in the end. Indeed the extents and horizons look as we expect, and we can move on to generating the mesh itself. Note that none of the horizons here cross each other, and if this were the case than the subsequent mesh generation would fail with an error. We'll re-visit how to deal with pinched-out layers and crossing horizons in a future tutorial."
      ]
    },
    {
      "cell_type": "code",
      "execution_count": null,
      "metadata": {
        "lines_to_next_cell": 0
      },
      "outputs": [],
      "source": [
        "# Plot the interfaces.\n",
        "f = plt.figure(figsize=(10, 5))\n",
        "x_plot = np.linspace(x_min, x_max)\n",
        "for top, bot in splines:\n",
        "    plt.plot(x_plot, top(x_plot))\n",
        "    plt.plot(x_plot, bot(x_plot))\n",
        "\n",
        "plt.xlabel(\"x (m)\")\n",
        "plt.ylabel(\"y (m)\")\n",
        "plt.title(\"Interfaces\")"
      ]
    },
    {
      "cell_type": "markdown",
      "metadata": {},
      "source": [
        "### Generating the mesh\n",
        "\n",
        "With our interfaces defined, we can now go ahead and generate the mesh itself. For this case a wrapper is included in the SalvusToolbox. This wrapper takes a series of parameters and attempts to build an optimal mesh with topography, and will also mark each individual region with a flag so it can be identified later. A more detailed description of the arguments one can pass is given below:\n",
        "* _x_min_, _x_max_: The minimum and maximum x-values defining the model's horizontal extent. These are the dimensions to be considered _before_ the attachment of absorbing boundaries. If absorbing boundaries are attached the resulting extent of the mesh will grow beyond _x_min_ and _x_max_, but the solution will not be physical in the extruded regions.\n",
        "* _splines_: The list of interpolation objects which we have generated above. These could of course be generated independently as well as long as their form is the same.\n",
        "* _absorbing_\\__boundaries_: A tuple consisting of the side sets which will be made absorbing, along with the number of elements to be extruded in each dimension for the absorbing layer. As previously stated, we recommend an absorbing layer of 3.5+ wavelengths if minimal reflections are desired.\n",
        "* _slowest_\\__velocities_: A list of the slowest velocities in each layer, ordered the same as the interfaces passed through _splines_ (i.e. top to bottom). These values will be used, along with _maximum_\\__frequency_ and _elements_\\__per_\\__wavelength_ to determine the element sizes in each region.\n",
        "* _use_\\__refinements_: Create a totally unstrucuted mesh by allowing for vertical refinements. Whether or not this will result in a performance increase is dependent on the model, we recommend try with and without refinements to see what works best for you.\n",
        "* _maximum_\\__frequency_: The maximum frequency to resolve in the mesh, which will be used in conjunction with _elements_\\__per_\\__wavelength_."
      ]
    },
    {
      "cell_type": "code",
      "execution_count": null,
      "metadata": {},
      "outputs": [],
      "source": [
        "# Maximum frequency to resolve with elements_per_wavelength.\n",
        "max_frequency = 20.0\n",
        "\n",
        "# Generate the mesh\n",
        "mesh, bnd = st.generate_mesh_from_splines_2d(\n",
        "    x_min=0,\n",
        "    x_max=x_max,\n",
        "    splines=splines,\n",
        "    elements_per_wavelength=2,\n",
        "    maximum_frequency=max_frequency,\n",
        "    use_refinements=True,\n",
        "    slowest_velocities=vs,\n",
        "    absorbing_boundaries=([\"x0\", \"x1\", \"y0\"], 10.0),\n",
        ")"
      ]
    },
    {
      "cell_type": "markdown",
      "metadata": {},
      "source": [
        "This function has returned a tuple of two elements. The first entry contains a list of mesh chunks, each of which correspond to a separate region in between two of the defined horizons. The second value returns the minimum size in meters of the extruded boundaries. This value will be used later on when running the actual simulation. We can plot the mesh chunks individually using the build in `plot` functionality of the mesher. Keep in mind that this may take some time for bigger meshes, so if you are running at higher frequencies you may want to skip of comment out the following cell."
      ]
    },
    {
      "cell_type": "code",
      "execution_count": null,
      "metadata": {},
      "outputs": [],
      "source": [
        "f, axs = plt.subplots(2, 2, figsize=(15, 10), sharex=True)\n",
        "for _i, (ax, sub_mesh) in enumerate(zip(axs.flatten(), mesh)):\n",
        "\n",
        "    plt.sca(ax)\n",
        "    ax.set_xlabel(\"x (m)\")\n",
        "    ax.set_ylabel(\"y (m)\")\n",
        "    ax.set_title(f\"Mesh Chunk {_i + 1}\")\n",
        "    sub_mesh.plot(show=False, figure=f, linewidths=0.1)"
      ]
    },
    {
      "cell_type": "markdown",
      "metadata": {},
      "source": [
        "Our four individual mesh chunks are now properly properly sized and deformed, and are ready to be glued together. Each individual chunk has an elemental variable called `region` attached to  it, and we'll use this variable later on to track which region is which when we're attaching parameters. To sum the mesh regions into one continuous mesh all we need to do is simply call the `sum` operation on the array of sub-meshes as below..."
      ]
    },
    {
      "cell_type": "code",
      "execution_count": null,
      "metadata": {},
      "outputs": [],
      "source": [
        "mesh = np.sum(mesh)"
      ]
    },
    {
      "cell_type": "markdown",
      "metadata": {},
      "source": [
        "...and now the meshing stage is complete. The cell below will visualize the complete mesh. Note that we have the usual side sets (x0, x1, y0, y1) on the edges of our mesh, but we also have additional side sets which mark the internal discontinuities. These internal side sets can be handy when placing sources and receivers, as we'll explore in a future tutorial."
      ]
    },
    {
      "cell_type": "code",
      "execution_count": null,
      "metadata": {},
      "outputs": [],
      "source": [
        "mesh  # Visualize the mesh."
      ]
    },
    {
      "cell_type": "markdown",
      "metadata": {
        "lines_to_next_cell": 2
      },
      "source": [
        "### Attaching parameters\n",
        "\n",
        "Attaching the parameters we defined above is simple because the elements are flagged by region."
      ]
    },
    {
      "cell_type": "code",
      "execution_count": null,
      "metadata": {},
      "outputs": [],
      "source": [
        "nodes = mesh.get_element_nodes()[:, :, 0]\n",
        "vp_a, vs_a, ro_a = np.ones((3, *nodes.shape))\n",
        "for _i, (vp_val, vs_val, ro_val) in enumerate(zip(vp, vs, rho)):\n",
        "\n",
        "    # Find which elements are in a given region.\n",
        "    idx = np.where(mesh.elemental_fields[\"region\"] == _i)\n",
        "\n",
        "    # Set parameters in that region to a constant value.\n",
        "    vp_a[idx] = vp_val\n",
        "    vs_a[idx] = vs_val\n",
        "    ro_a[idx] = ro_val\n",
        "\n",
        "# Attach parameters.\n",
        "for k, v in zip([\"VP\", \"VS\", \"RHO\"], [vp_a, vs_a, ro_a]):\n",
        "    mesh.attach_field(k, v)\n",
        "\n",
        "# Attach acoustic / elastic flag.\n",
        "mesh = st.detect_fluid(mesh)"
      ]
    },
    {
      "cell_type": "markdown",
      "metadata": {},
      "source": [
        "And of course we can visualize the mesh again to ensure everything is as we expect."
      ]
    },
    {
      "cell_type": "code",
      "execution_count": null,
      "metadata": {},
      "outputs": [],
      "source": [
        "mesh"
      ]
    },
    {
      "cell_type": "markdown",
      "metadata": {},
      "source": [
        "## Setting up the simulation"
      ]
    },
    {
      "cell_type": "markdown",
      "metadata": {},
      "source": [
        "This section has been convered in other tutorials, so we'll only breifly outline the main steps here. First, create a source object and place it directly on the surface. Note that because the surface is curved this process in non-trivial, and to assist we'll use the `SideSetVectorPoint2D` class."
      ]
    },
    {
      "cell_type": "code",
      "execution_count": null,
      "metadata": {},
      "outputs": [],
      "source": [
        "# Location of source (this will snap to the closet side-set).\n",
        "loc = [x_max / 2, 2500.0]\n",
        "\n",
        "# Ricker wavelet with a center frequency of mf / 2.\n",
        "stf = config.stf.Ricker(center_frequency=max_frequency / 2)\n",
        "\n",
        "# Create the source.\n",
        "source = config.source.cartesian.SideSetVectorPoint2D(\n",
        "    fx=1,\n",
        "    fy=1,\n",
        "    point=loc,\n",
        "    direction=\"y\",\n",
        "    side_set_name=\"y1\",\n",
        "    source_time_function=stf,\n",
        ")"
      ]
    },
    {
      "cell_type": "markdown",
      "metadata": {},
      "source": [
        "Now we'll bury an array of 1000 receivers 1m below that same deformed surface. At each receiver we'll save the velocity as well as the measured strain."
      ]
    },
    {
      "cell_type": "code",
      "execution_count": null,
      "metadata": {},
      "outputs": [],
      "source": [
        "receivers = config.receiver.cartesian.SideSetHorizontalPointCollection2D(\n",
        "    x=np.linspace(x_min, x_max, 1000),\n",
        "    offset=-1.0,\n",
        "    side_set_name=\"y1\",\n",
        "    station_code=\"xx\",\n",
        "    fields=[\"velocity\", \"strain\"],\n",
        ")"
      ]
    },
    {
      "cell_type": "markdown",
      "metadata": {},
      "source": [
        "We'll then initialize our `Waveform` object with the mesh, sources, and receivers we just created. This will also call the source and receiver attachment routines and place those object at their desired side sets and offsets."
      ]
    },
    {
      "cell_type": "code",
      "execution_count": null,
      "metadata": {},
      "outputs": [],
      "source": [
        "w = config.simulation.Waveform(mesh=mesh, sources=source, receivers=receivers)"
      ]
    },
    {
      "cell_type": "markdown",
      "metadata": {},
      "source": [
        "And now we'll set some parameters governing the characteristics of the simulation, validate our chosen inputs, and finally plot the mesh with the sources and receivers to ensure that everything is behaving as expected."
      ]
    },
    {
      "cell_type": "code",
      "execution_count": null,
      "metadata": {
        "lines_to_next_cell": 2
      },
      "outputs": [],
      "source": [
        "# Set end time of the simulation.\n",
        "# Start-time will be automatically determined.\n",
        "w.physics.wave_equation.end_time_in_seconds = 2.0\n",
        "\n",
        "# Simplified HDF5 point output.\n",
        "w.output.point_data.format = \"hdf5\"\n",
        "\n",
        "# Define coupled Clayton-Enqist / Kosloff\n",
        "# damping boundaries at the 3 absorbing edges.\n",
        "absorbing = config.boundary.Absorbing(\n",
        "    width_in_meters=float(bnd),\n",
        "    side_sets=[\"x0\", \"y0\", \"x1\"],\n",
        "    taper_amplitude=stf.center_frequency,\n",
        ")\n",
        "\n",
        "# Add the boundaries to the parameter file.\n",
        "w.physics.wave_equation.boundaries = [absorbing]\n",
        "\n",
        "# Add movie output if you feel inclined\n",
        "# (beware file size restrictions).\n",
        "# w.output.volume_data.format = \"hdf5\"\n",
        "# w.output.volume_data.fields = [\"displacement\"]\n",
        "# w.output.volume_data.filename = \"output.h5\"\n",
        "# w.output.volume_data.sampling_interval_in_time_steps = 100\n",
        "\n",
        "# Ensure SalvusCompute will accept our paramters.\n",
        "w.validate()\n",
        "\n",
        "# Visualize.\n",
        "w"
      ]
    },
    {
      "cell_type": "markdown",
      "metadata": {},
      "source": [
        "## Running the simulation"
      ]
    },
    {
      "cell_type": "markdown",
      "metadata": {},
      "source": [
        "To run the simulation we just need to call Salvus _Flow_'s `api.run` function and our simulation will run on any site where Salvus has been set up. If this site is remote all data will be copied to and fro as required."
      ]
    },
    {
      "cell_type": "code",
      "execution_count": null,
      "metadata": {},
      "outputs": [],
      "source": [
        "api.run(\n",
        "    ranks=2,\n",
        "    input_file=w,\n",
        "    get_all=True,\n",
        "    overwrite=False,\n",
        "    site_name=SALVUS_FLOW_SITE_NAME,\n",
        "    output_folder=\"output\",\n",
        ")"
      ]
    },
    {
      "cell_type": "markdown",
      "metadata": {},
      "source": [
        "## Analysing the results"
      ]
    },
    {
      "cell_type": "markdown",
      "metadata": {},
      "source": [
        "Once the simulation is done (2D elastic, high accuracy up to 20 Hz -- should take ~ 1 minute on 2 cores), we can then plot shotgathers of all the fields we've output (vector velocity, as well as the elastic strain)."
      ]
    },
    {
      "cell_type": "code",
      "execution_count": null,
      "metadata": {},
      "outputs": [],
      "source": [
        "# Setup up figure.\n",
        "f = plt.figure(figsize=(15, 10))\n",
        "gs = f.add_gridspec(2, 6)\n",
        "ax0 = f.add_subplot(gs[0, 0:3])\n",
        "ax1 = f.add_subplot(gs[0, 3:6], sharey=ax0)\n",
        "ax2 = f.add_subplot(gs[1, 0:2])\n",
        "ax3 = f.add_subplot(gs[1, 2:4], sharey=ax2)\n",
        "ax4 = f.add_subplot(gs[1, 4:6], sharey=ax3)\n",
        "\n",
        "# Make plot a bit prettier\n",
        "plt.setp(ax1.get_yticklabels(), visible=False)\n",
        "plt.setp(ax3.get_yticklabels(), visible=False)\n",
        "plt.setp(ax4.get_yticklabels(), visible=False)\n",
        "\n",
        "# Generate a shotgather from and HDF5 receiver file.\n",
        "rec_file = \"output/receivers.h5\"\n",
        "\n",
        "# Use the first call to get the plotting dimensions\n",
        "vx, dt, extent = st.get_shotgather(rec_file, field=\"velocity\", cmp=0)\n",
        "\n",
        "# Get the rest of the components we've output\n",
        "vy, _, _ = st.get_shotgather(rec_file, field=\"velocity\", cmp=1)\n",
        "sxx, _, _ = st.get_shotgather(rec_file, field=\"strain\", cmp=0)\n",
        "syy, _, _ = st.get_shotgather(rec_file, field=\"strain\", cmp=1)\n",
        "sxy, _, _ = st.get_shotgather(rec_file, field=\"strain\", cmp=2)\n",
        "\n",
        "# Normalize and plot the shotgather.\n",
        "cv_min, cv_max = 0.05 * vx.min(), 0.05 * vx.max()\n",
        "sxx_min, sxx_max = 0.01 * sxx.min(), 0.01 * sxx.max()\n",
        "syy_min, syy_max = 0.01 * syy.min(), 0.01 * syy.max()\n",
        "sxy_min, sxy_max = 0.01 * sxy.min(), 0.01 * sxy.max()\n",
        "\n",
        "# Plot the different fields\n",
        "ax0.imshow(vx, vmin=cv_min, vmax=cv_max, extent=extent, aspect=\"auto\")\n",
        "ax1.imshow(vy, vmin=cv_min, vmax=cv_max, extent=extent, aspect=\"auto\")\n",
        "ax2.imshow(sxx, vmin=sxx_min, vmax=sxx_max, extent=extent, aspect=\"auto\")\n",
        "ax3.imshow(syy, vmin=sxx_min, vmax=sxx_max, extent=extent, aspect=\"auto\")\n",
        "ax4.imshow(sxy, vmin=sxx_min, vmax=sxx_max, extent=extent, aspect=\"auto\")\n",
        "\n",
        "# Label plots.\n",
        "ax0.set_title(\"$v_x$ (m/s)\")\n",
        "ax1.set_title(\"$v_y$ (m/s)\")\n",
        "ax2.set_title(r\"$\\varepsilon_{xx}$\")\n",
        "ax3.set_title(r\"$\\varepsilon_{yy}$\")\n",
        "ax4.set_title(r\"$\\varepsilon_{xy}$\")\n",
        "\n",
        "# Label axes.\n",
        "ax0.set_ylabel(\"Time (s)\")\n",
        "ax2.set_ylabel(\"Time (s)\")\n",
        "for a in [ax0, ax1, ax2, ax3, ax4]:\n",
        "    a.set_xlabel(\"x (m)\")\n",
        "\n",
        "plt.show()"
      ]
    }
  ],
  "metadata": {
    "jupytext": {
      "cell_metadata_filter": "tags,-all",
      "cell_metadata_json": true
    },
    "kernelspec": {
      "display_name": "Python 3",
      "language": "python",
      "name": "python3"
    }
  },
  "nbformat": 4,
  "nbformat_minor": 4
}