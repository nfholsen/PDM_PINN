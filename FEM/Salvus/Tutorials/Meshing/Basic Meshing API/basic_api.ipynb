{
  "cells": [
    {
      "cell_type": "markdown",
      "metadata": {},
      "source": [
        "<div style='background-image: url(\"header.png\") ; padding: 0px ; background-size: cover ; border-radius: 5px ; height: 250px'>\n",
        "    <div style=\"float: right ; margin: 50px ; padding: 20px ; background: rgba(255 , 255 , 255 , 0.7) ; width: 50% ; height: 150px\">\n",
        "        <div style=\"position: relative ; top: 50% ; transform: translatey(-50%)\">\n",
        "            <div style=\"font-size: xx-large ; font-weight: 900 ; color: rgba(0 , 0 , 0 , 0.8) ; line-height: 100%\">Tutorial by Mondaic</div>\n",
        "            <div style=\"font-size: large ; padding-top: 20px ; color: rgba(0 , 0 , 0 , 0.5)\">For Salvus version 0.11.25</div>\n",
        "        </div>\n",
        "    </div>\n",
        "</div>"
      ]
    },
    {
      "cell_type": "markdown",
      "metadata": {},
      "source": [
        "# Basic Meshing API"
      ]
    },
    {
      "cell_type": "markdown",
      "metadata": {},
      "source": [
        "## The most basic mesh to run with Salvus\n",
        "\n",
        "This exercise shows the most basic mesh with all necessary commands to put material properties and boundaries ready to run with Salvus."
      ]
    },
    {
      "cell_type": "code",
      "execution_count": null,
      "metadata": {},
      "outputs": [],
      "source": [
        "# initialize notebook\n",
        "%matplotlib inline\n",
        "import matplotlib.pyplot as plt\n",
        "import numpy as np\n",
        "\n",
        "plt.rcParams[\"figure.figsize\"] = (10, 8)"
      ]
    },
    {
      "cell_type": "markdown",
      "metadata": {},
      "source": [
        "### 2D"
      ]
    },
    {
      "cell_type": "markdown",
      "metadata": {},
      "source": [
        "Set basic input parameters for a rectangular domain with homogeneous material properties."
      ]
    },
    {
      "cell_type": "code",
      "execution_count": null,
      "metadata": {},
      "outputs": [],
      "source": [
        "vp = 1700  # p-wave velocity in m/s\n",
        "vs = 1000  # s-wave velocity in m/s\n",
        "rho = 2700  # density in kg / m^3\n",
        "\n",
        "max_x = 10000  # domain size in x direction\n",
        "max_y = 5000  # domain size in y direction\n",
        "\n",
        "fmax = 1.0  # maximum frequency in Hz\n",
        "elements_per_wavelength = 2.0  # resolution criterion"
      ]
    },
    {
      "cell_type": "markdown",
      "metadata": {},
      "source": [
        "Compute element size and number of elements needed according to the resolution criterion."
      ]
    },
    {
      "cell_type": "code",
      "execution_count": null,
      "metadata": {},
      "outputs": [],
      "source": [
        "hmax = vs / fmax / elements_per_wavelength\n",
        "nelem_x = int(max_x / hmax)\n",
        "nelem_y = int(max_y / hmax)"
      ]
    },
    {
      "cell_type": "markdown",
      "metadata": {},
      "source": [
        "In the mesher, we build unstructured meshes by combining multiple structured grids. For the simplest case here, we build a single structured grid and plot it."
      ]
    },
    {
      "cell_type": "code",
      "execution_count": null,
      "metadata": {},
      "outputs": [],
      "source": [
        "from salvus.mesh.structured_grid_2D import StructuredGrid2D\n",
        "\n",
        "sg = StructuredGrid2D.rectangle(\n",
        "    nelem_x=nelem_x, nelem_y=nelem_y, max_x=max_x, max_y=max_y\n",
        ")\n",
        "sg.plot(show=True)"
      ]
    },
    {
      "cell_type": "markdown",
      "metadata": {},
      "source": [
        "Then, we convert the structured grid to an unstructured mesh (trivial in this special case, but uses the same general routines)."
      ]
    },
    {
      "cell_type": "code",
      "execution_count": null,
      "metadata": {},
      "outputs": [],
      "source": [
        "m = sg.get_unstructured_mesh()"
      ]
    },
    {
      "cell_type": "markdown",
      "metadata": {},
      "source": [
        "Attach the material properties, constant here, but using the general array storage on element nodes."
      ]
    },
    {
      "cell_type": "code",
      "execution_count": null,
      "metadata": {},
      "outputs": [],
      "source": [
        "m.attach_field(\"VP\", vp * np.ones(m.npoint))\n",
        "m.attach_field(\"VS\", vs * np.ones(m.npoint))\n",
        "m.attach_field(\"RHO\", rho * np.ones(m.npoint))\n",
        "\n",
        "# this is necessary to tell salvus that this is elastic material everywhere. Set to 1 to make it fluid.\n",
        "m.attach_field(\"fluid\", np.zeros(m.nelem))"
      ]
    },
    {
      "cell_type": "markdown",
      "metadata": {},
      "source": [
        "Find outer Boundaries of the domain assuming the domain is rectangular."
      ]
    },
    {
      "cell_type": "code",
      "execution_count": null,
      "metadata": {},
      "outputs": [],
      "source": [
        "m.find_side_sets(mode=\"cartesian\")"
      ]
    },
    {
      "cell_type": "markdown",
      "metadata": {},
      "source": [
        "Open a preview inline, showing all parameters stored on the mesh."
      ]
    },
    {
      "cell_type": "code",
      "execution_count": null,
      "metadata": {},
      "outputs": [],
      "source": [
        "m"
      ]
    },
    {
      "cell_type": "markdown",
      "metadata": {},
      "source": [
        "### 3D"
      ]
    },
    {
      "cell_type": "markdown",
      "metadata": {},
      "source": [
        "The interfaces are very much the same as in 2D, so less comments."
      ]
    },
    {
      "cell_type": "code",
      "execution_count": null,
      "metadata": {},
      "outputs": [],
      "source": [
        "vp = 1700  # p-wave velocity in m/s\n",
        "vs = 1000  # s-wave velocity in m/s\n",
        "rho = 2700  # density in kg / m^3\n",
        "\n",
        "max_x = 10000  # domain size in x direction\n",
        "max_y = 5000  # domain size in y direction\n",
        "max_z = 3000  # domain size in y direction\n",
        "\n",
        "fmax = 1.0  # maximum frequency in Hz\n",
        "elements_per_wavelength = 2.0  # resolution criterion"
      ]
    },
    {
      "cell_type": "code",
      "execution_count": null,
      "metadata": {},
      "outputs": [],
      "source": [
        "hmax = vs / fmax / elements_per_wavelength\n",
        "nelem_x = int(max_x / hmax)\n",
        "nelem_y = int(max_y / hmax)\n",
        "nelem_z = int(max_z / hmax)"
      ]
    },
    {
      "cell_type": "markdown",
      "metadata": {},
      "source": [
        "Build a structured Grid. Don't plot it, because in 3D matplotlib is to slow."
      ]
    },
    {
      "cell_type": "code",
      "execution_count": null,
      "metadata": {},
      "outputs": [],
      "source": [
        "from salvus.mesh.structured_grid_3D import StructuredGrid3D\n",
        "\n",
        "sg = StructuredGrid3D.cube(\n",
        "    nelem_x=nelem_x,\n",
        "    nelem_y=nelem_y,\n",
        "    nelem_z=nelem_z,\n",
        "    max_x=max_x,\n",
        "    max_y=max_y,\n",
        "    max_z=max_z,\n",
        ")"
      ]
    },
    {
      "cell_type": "code",
      "execution_count": null,
      "metadata": {},
      "outputs": [],
      "source": [
        "m = sg.get_unstructured_mesh()"
      ]
    },
    {
      "cell_type": "code",
      "execution_count": null,
      "metadata": {},
      "outputs": [],
      "source": [
        "m.attach_field(\"VP\", vp * np.ones(m.npoint))\n",
        "m.attach_field(\"VS\", vs * np.ones(m.npoint))\n",
        "m.attach_field(\"RHO\", rho * np.ones(m.npoint))"
      ]
    },
    {
      "cell_type": "code",
      "execution_count": null,
      "metadata": {},
      "outputs": [],
      "source": [
        "m.find_side_sets(mode=\"cartesian\")\n",
        "m"
      ]
    },
    {
      "cell_type": "markdown",
      "metadata": {},
      "source": [
        "## Meshes composed from multiple structured grids"
      ]
    },
    {
      "cell_type": "markdown",
      "metadata": {},
      "source": [
        "The general strategy in the mesher is to compose unstructured meshes from multiple structured grids. For example, a mesh with a doubling can be thought of as two structured rectilinear grids connected by a doubling grid. The doubling is also considered as a structured grid, with some elements masked out and nodes moved. Nodes that appear multiple times are reduced to single node by lexicographic sorting when converting to an unstructured mesh."
      ]
    },
    {
      "cell_type": "code",
      "execution_count": null,
      "metadata": {},
      "outputs": [],
      "source": [
        "from salvus.mesh.skeleton import Skeleton"
      ]
    },
    {
      "cell_type": "markdown",
      "metadata": {},
      "source": [
        "Start by creating three structured grids"
      ]
    },
    {
      "cell_type": "code",
      "execution_count": null,
      "metadata": {},
      "outputs": [],
      "source": [
        "max_x = 1000.0\n",
        "y = np.array([0.0, 500.0, 750.0, 1000.0])\n",
        "nelem_x = 5\n",
        "nelem_y = np.array([2, 2])\n",
        "\n",
        "sg1 = StructuredGrid2D.rectangle(\n",
        "    nelem_x, nelem_y[0], min_x=0, max_x=max_x, min_y=y[0], max_y=y[1]\n",
        ")\n",
        "\n",
        "sg2 = StructuredGrid2D.cartesian_doubling_layer(\n",
        "    nelem_x, min_x=0, max_x=max_x, min_y=y[1], max_y=y[2]\n",
        ")\n",
        "\n",
        "sg3 = StructuredGrid2D.rectangle(\n",
        "    nelem_x * 2, nelem_y[1], min_x=0, max_x=max_x, min_y=y[2], max_y=y[3]\n",
        ")\n",
        "\n",
        "\n",
        "# plot using different colors\n",
        "sg1.plot(edgecolor=\"r\")\n",
        "sg2.plot(edgecolor=\"b\")\n",
        "sg3.plot(edgecolor=\"g\")\n",
        "\n",
        "plt.show()"
      ]
    },
    {
      "cell_type": "markdown",
      "metadata": {},
      "source": [
        "Collect the structured grids in a Skeleton and convert to an unstructured mesh."
      ]
    },
    {
      "cell_type": "code",
      "execution_count": null,
      "metadata": {},
      "outputs": [],
      "source": [
        "sk = Skeleton([sg1, sg2, sg3])\n",
        "m = sk.get_unstructured_mesh()\n",
        "m"
      ]
    }
  ],
  "metadata": {
    "jupytext": {
      "cell_metadata_json": true,
      "formats": "ipynb,py:light"
    },
    "kernelspec": {
      "display_name": "Python 3",
      "language": "python",
      "name": "python3"
    }
  },
  "nbformat": 4,
  "nbformat_minor": 4
}