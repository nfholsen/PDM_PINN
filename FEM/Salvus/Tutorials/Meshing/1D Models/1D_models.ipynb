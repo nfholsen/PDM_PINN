{
  "cells": [
    {
      "cell_type": "markdown",
      "metadata": {},
      "source": [
        "<div style='background-image: url(\"header.png\") ; padding: 0px ; background-size: cover ; border-radius: 5px ; height: 250px'>\n",
        "    <div style=\"float: right ; margin: 50px ; padding: 20px ; background: rgba(255 , 255 , 255 , 0.7) ; width: 50% ; height: 150px\">\n",
        "        <div style=\"position: relative ; top: 50% ; transform: translatey(-50%)\">\n",
        "            <div style=\"font-size: xx-large ; font-weight: 900 ; color: rgba(0 , 0 , 0 , 0.8) ; line-height: 100%\">Tutorial by Mondaic</div>\n",
        "            <div style=\"font-size: large ; padding-top: 20px ; color: rgba(0 , 0 , 0 , 0.5)\">For Salvus version 0.11.25</div>\n",
        "        </div>\n",
        "    </div>\n",
        "</div>"
      ]
    },
    {
      "cell_type": "markdown",
      "metadata": {},
      "source": [
        "# 1D Models"
      ]
    },
    {
      "cell_type": "markdown",
      "metadata": {},
      "source": [
        "## 1D model file format\n",
        "\n",
        "The 1D model file format is adopted from AxiSEM and also used as a standard within the NASA Insight mission. It is based on `KEY VALUE` pairs as follows:\n",
        "\n",
        "##### KEY VALUE definitions\n",
        "\n",
        "The key value format can accomodate 3 different types of values: single values, list of values and tables,\n",
        "all separated by white space. Keys are case sensitive and must not have leading white space. Comments\n",
        "are indicated byt the # character. Continuation lines of tables are indented by at least one blank.\n",
        "\n",
        "```\n",
        "# single value\n",
        "KEY VALUE\n",
        "\n",
        "# list of values\n",
        "KEY VALUE1 VALUE2 VALUE3\n",
        "\n",
        "# table\n",
        "KEY HEADER1 HEADER2\n",
        "  VALUE11 VALUE21\n",
        "  VALUE12 VALUE22\n",
        "```\n",
        "\n",
        "#### Available Keys for Salvus\n",
        "\n",
        "For Salvus, the following keys can be used:\n",
        "\n",
        "`NAME` Name of the model. type: string, default: filename without ending.\n",
        "\n",
        "`DESCRIPTION` Reference or verbal description of the model.\n",
        "\n",
        "`ANISOTROPIC` Whether the model is anisotropic. type: boolean, default: `false`.\n",
        "\n",
        "`ANELASTIC` Whether the model includes an attenuation model. type: boolean, default: `false`.\n",
        "\n",
        "`REFERENCE_FREQUENCY` Frequency at which the seismic velocities are defined in Hz. type: float, default:\n",
        "`1.0`.\n",
        "\n",
        "`UNITS` Units used for density, seismic velocities and depth/radius, either `m` for SI units (m, m/s, kg/m 3 )\n",
        "or `km` for (km, km/s, g/cm 3 ). type: string, default: `m`.\n",
        "\n",
        "`COLUMNS` Table containing the depth dependent model parameters. type: float.\n",
        "\n",
        "#### Depth dependent parameters\n",
        "\n",
        "Discontinuities in the model (both first and second order) are detected based on repeated radius/depth values. In between these discontinuities, paramteres are assumed to be smooth and interpolated using splines (cubic by default). The table columns in the table `COLUMNS` have no particular order, the rows can be sorted either from top to bottom or vice versa. The table needs to contain at least these colums:\n",
        "\n",
        "`radius` or `depth`\n",
        "\n",
        "`rho`\n",
        "\n",
        "`vp` and `vs` if ANISOTROPIC is false.\n",
        "\n",
        "`vpv`, `vph`, `vsv`, `vsh` and `eta` if `ANISOTROPIC` is `true`.\n",
        "\n",
        "`QMU` and `QKAPPA` if `ANELASTIC` is `true`\n",
        "\n",
        "\n",
        "#### Sample File 1: a local isotropic elastic model with 3 layers\n",
        "\n",
        "A three layer 1D model where the seismic velocities have gradients in the upper 2 layers and constant below.\n",
        "\n",
        "```\n",
        "NAME         true_model\n",
        "UNITS        m\n",
        "COLUMNS      depth rho vp vs\n",
        "    0.0     2384.4 3500.0 2020.0\n",
        "    2000.0  2441.9 3850.0 2223.0\n",
        "    2000.0  2570.1 4725.0 2728.0\n",
        "    7000.0  2780.8 6475.0 3738.0\n",
        "    7000.0  2835.5 7000.0 4041.0\n",
        "    10000.0 2835.5 7000.0 4041.0\n",
        "```\n",
        "\n",
        "#### Sample File 2: a global PREM model\n",
        "\n",
        "some lines removed as indicated by `[...]`:\n",
        "\n",
        "```\n",
        "# Input file for Salvus\n",
        "NAME         prem_ani\n",
        "ANELASTIC       T\n",
        "ANISOTROPIC     T\n",
        "UNITS        m\n",
        "COLUMNS       radius      rho      vpv      vsv      qka      qmu      vph      vsh      eta\n",
        "            6371000.  2600.00  5800.00  3200.00    57827.0      600.0  5800.00  3200.00  1.00000\n",
        "            6356000.  2600.00  5800.00  3200.00    57827.0      600.0  5800.00  3200.00  1.00000\n",
        "#          Discontinuity   1, depth:      15.00 km < this just a comment and ignored by the software\n",
        "            6356000.  2900.00  6800.00  3900.00    57827.0      600.0  6800.00  3900.00  1.00000\n",
        "            6346600.  2900.00  6800.00  3900.00    57827.0      600.0  6800.00  3900.00  1.00000\n",
        "#          Discontinuity   2, depth:      24.40 km\n",
        "            6346600.  3380.75  8190.32  4396.02    57827.0      600.0  8190.32  4611.80  0.90039\n",
        "            6335480.  3379.54  8182.26  4398.58    57827.0      600.0  8182.26  4601.82  0.90471\n",
        "            [...]\n",
        "            5771000.  3975.82 10157.83  5515.93    57827.0      143.0 10157.83  5515.93  1.00000\n",
        "#          Discontinuity   6, depth:     600.00 km > second order discontinuity\n",
        "            5771000.  3975.82 10157.76  5516.02    57827.0      143.0 10157.76  5516.02  1.00000\n",
        "            [...\n",
        "            3480000.  5566.46 13716.62  7264.65    57827.0      312.0 13716.62  7264.65  1.00000\n",
        "#          Discontinuity  10, depth:    2891.00 km > fluid by vs=0\n",
        "            3480000.  9903.44  8064.79     0.00    57827.0        0.0  8064.79     0.00  1.00000\n",
        "            [...]\n",
        "            1221500. 12166.33 10355.72     0.00    57827.0        0.0 10355.72     0.00  1.00000\n",
        "#          Discontinuity  11, depth:    5149.50 km\n",
        "            1221500. 12763.61 11028.26  3504.31     1327.7       84.6 11028.26  3504.31  1.00000\n",
        "            [...]\n",
        "                  0. 13088.50 11262.20  3667.80     1327.7       84.6 11262.20  3667.80  1.00000\n",
        "```"
      ]
    },
    {
      "cell_type": "markdown",
      "metadata": {},
      "source": [
        "## Built-in models\n",
        "\n",
        "Salvus includes a number of popular 1D models that can directly be used for meshing."
      ]
    },
    {
      "cell_type": "code",
      "execution_count": null,
      "metadata": {},
      "outputs": [],
      "source": [
        "from salvus.mesh.models_1D import model\n",
        "\n",
        "for mname in sorted(model.get_builtin_models()):\n",
        "    mod = model.built_in(mname)\n",
        "    print(\"\\033[1m\" + mod.name + \"\\033[0m\")\n",
        "    print(mod.description + \"\\n\")"
      ]
    },
    {
      "cell_type": "markdown",
      "metadata": {},
      "source": [
        "## Plotting 1D models\n",
        "\n",
        "Salvus' 1D model class includes funcionality to plot 1D models in a number of different ways."
      ]
    },
    {
      "cell_type": "code",
      "execution_count": null,
      "metadata": {},
      "outputs": [],
      "source": [
        "# plot all model parameters\n",
        "mod = model.built_in(\"prem_ani\")\n",
        "mod.plot()"
      ]
    },
    {
      "cell_type": "code",
      "execution_count": null,
      "metadata": {},
      "outputs": [],
      "source": [
        "# plot vp vs only\n",
        "mod = model.built_in(\"prem_iso\")\n",
        "mod.plot_vp_vs_profile()"
      ]
    },
    {
      "cell_type": "code",
      "execution_count": null,
      "metadata": {},
      "outputs": [],
      "source": [
        "# compare 2 models\n",
        "mod1 = model.built_in(\"prem_iso\")\n",
        "mod2 = model.built_in(\"ak135f\")\n",
        "\n",
        "figure = mod1.plot_vp_vs_profile(show=False)\n",
        "figure = mod2.plot_vp_vs_profile(\n",
        "    show=True, figure=figure, linestylemap={\"VP\": \"--\", \"VS\": \"--\"}\n",
        ")"
      ]
    },
    {
      "cell_type": "markdown",
      "metadata": {},
      "source": [
        "## Derived parameters\n",
        "\n",
        "Salvus' model class can also compute quantities that derive from the 1D parameters, in particular ellipticity as a function of depth by solving Clairaut's equation and the gravity potential and force by solving Poisson's equation:"
      ]
    },
    {
      "cell_type": "code",
      "execution_count": null,
      "metadata": {},
      "outputs": [],
      "source": [
        "mod = model.built_in(\"prem_ani\")\n",
        "mod.plot_ellipticity()"
      ]
    },
    {
      "cell_type": "code",
      "execution_count": null,
      "metadata": {},
      "outputs": [],
      "source": [
        "mod.plot_gravity()"
      ]
    }
  ],
  "metadata": {
    "jupytext": {
      "formats": "ipynb,py:light"
    },
    "kernelspec": {
      "display_name": "Python 3",
      "language": "python",
      "name": "python3"
    }
  },
  "nbformat": 4,
  "nbformat_minor": 4
}