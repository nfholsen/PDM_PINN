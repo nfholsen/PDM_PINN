{
  "cells": [
    {
      "cell_type": "markdown",
      "metadata": {},
      "source": [
        "<div style='background-image: url(\"header.png\") ; padding: 0px ; background-size: cover ; border-radius: 5px ; height: 250px'>\n",
        "    <div style=\"float: right ; margin: 50px ; padding: 20px ; background: rgba(255 , 255 , 255 , 0.7) ; width: 50% ; height: 150px\">\n",
        "        <div style=\"position: relative ; top: 50% ; transform: translatey(-50%)\">\n",
        "            <div style=\"font-size: xx-large ; font-weight: 900 ; color: rgba(0 , 0 , 0 , 0.8) ; line-height: 100%\">Tutorial by Mondaic</div>\n",
        "            <div style=\"font-size: large ; padding-top: 20px ; color: rgba(0 , 0 , 0 , 0.5)\">For Salvus version 0.11.25</div>\n",
        "        </div>\n",
        "    </div>\n",
        "</div>"
      ]
    },
    {
      "cell_type": "markdown",
      "metadata": {},
      "source": [
        "# 2D Topography and Vertical Refinements"
      ]
    },
    {
      "cell_type": "markdown",
      "metadata": {},
      "source": [
        "## Beyond piecewise structured grids\n",
        "### Vertical refinement in layers with strong thickness variation\n",
        "\n",
        "This notebooks shows how problems with small time steps in layers with strongly varying thickness can be avoided. One prominent example is the crustal thickness variations.\n",
        "\n",
        "Salvus provides structured grid classes in 2D and 3D, that allow to vary the number of elements in one dimension, creating anisotropic element sizes. When combined with a corresponding topography model, the elements end up with isotropic sizes again and avoid the small time step that would result from a regular grid.\n",
        "\n",
        "The workflow is as follows:\n",
        "\n",
        " - create a topography model\n",
        " - compute the number of elements needed in vertical direction according to the resolution criterion\n",
        " - create a structured grid with anisotropic refinement\n",
        " - convert to an unstructured mesh and deform the elements according to the topography"
      ]
    },
    {
      "cell_type": "code",
      "execution_count": null,
      "metadata": {},
      "outputs": [],
      "source": [
        "# initialize notebook\n",
        "%matplotlib inline\n",
        "\n",
        "import matplotlib.pyplot as plt\n",
        "import numpy as np\n",
        "\n",
        "plt.rcParams[\"figure.figsize\"] = (12, 8)"
      ]
    },
    {
      "cell_type": "code",
      "execution_count": null,
      "metadata": {},
      "outputs": [],
      "source": [
        "from salvus.mesh.structured_grid_2D import StructuredGrid2D\n",
        "from salvus.mesh.skeleton import Skeleton\n",
        "\n",
        "# general input\n",
        "max_x = 10000.0  # domain width in m\n",
        "fmax = 2.0  # maximum frequency in Hz\n",
        "elements_per_wavelength = 2.0\n",
        "vs = 1000.0  # s-wave velocity in m / s\n",
        "vp = 1700.0  # p-wave velocity in m / s\n",
        "\n",
        "refine_x = 1.2  # extra security factor to make elements smaller before\n",
        "refine_y = 1.2  # deformation\n",
        "\n",
        "# compute edgelengths\n",
        "hmax = vs / fmax / elements_per_wavelength\n",
        "\n",
        "# create some artificial topography model - h(x)\n",
        "nelem_x = int(np.ceil(max_x / hmax * refine_x))\n",
        "h0 = 0.6\n",
        "h1 = 0.5\n",
        "h2 = -0.1\n",
        "h3 = 0.15\n",
        "\n",
        "x = np.linspace(0.0, max_x, nelem_x + 1)\n",
        "norm_x = x / max_x * 2 * np.pi\n",
        "h = (\n",
        "    h0\n",
        "    - h1 * np.cos(norm_x)\n",
        "    - h2 * np.cos(2 * norm_x)\n",
        "    - h3 * np.sin(3 * norm_x)\n",
        ")\n",
        "h = h * max_x / 2 / np.pi\n",
        "\n",
        "# number of vertical elements needed for each element in horizontal direction\n",
        "nelem_y = np.ceil(h / hmax * refine_y).astype(\"int\")\n",
        "\n",
        "# create box mesh with refinements\n",
        "sg1 = StructuredGrid2D.rectangle_vertical_refine_doubling(\n",
        "    nelem_x, nelem_y, min_x=0, max_x=max_x, min_y=0.0, max_y=np.max(h)\n",
        ")\n",
        "\n",
        "# make unstructured mesh\n",
        "m1 = sg1.get_unstructured_mesh()\n",
        "m1.find_side_sets(\"cartesian\")\n",
        "m1.plot(linewidths=1.0)"
      ]
    },
    {
      "cell_type": "markdown",
      "metadata": {},
      "source": [
        "At this point we have a somewhat unusal looking mesh on a cartesian domain and varying number of elements in vertical direction. Once we deform it according to the topography, it looks much more reasonable"
      ]
    },
    {
      "cell_type": "code",
      "execution_count": null,
      "metadata": {},
      "outputs": [],
      "source": [
        "m1.add_dem_2D(x, h - np.max(h))\n",
        "m1.apply_dem()\n",
        "m1.plot(linewidths=1.0)"
      ]
    },
    {
      "cell_type": "markdown",
      "metadata": {},
      "source": [
        "For reference we also create a mesh without refinements,"
      ]
    },
    {
      "cell_type": "code",
      "execution_count": null,
      "metadata": {},
      "outputs": [],
      "source": [
        "sg2 = StructuredGrid2D.rectangle(\n",
        "    nelem_x, max(nelem_y), min_x=0, max_x=max_x, min_y=0.0, max_y=np.max(h)\n",
        ")\n",
        "m2 = sg2.get_unstructured_mesh()\n",
        "m2.find_side_sets(\"cartesian\")\n",
        "m2.plot(linewidths=1.0)"
      ]
    },
    {
      "cell_type": "markdown",
      "metadata": {},
      "source": [
        "which has very thin elements after applying topography:"
      ]
    },
    {
      "cell_type": "code",
      "execution_count": null,
      "metadata": {},
      "outputs": [],
      "source": [
        "m2.add_dem_2D(x, h - np.max(h))\n",
        "m2.apply_dem()\n",
        "m2.plot(linewidths=1.0)"
      ]
    },
    {
      "cell_type": "markdown",
      "metadata": {},
      "source": [
        "These result in small time steps due to the Courant criterion discussed in exercise 2. We again use the accurate algorithm to estimate $\\Delta t$, which accounts for the shape of the elements:"
      ]
    },
    {
      "cell_type": "code",
      "execution_count": null,
      "metadata": {},
      "outputs": [],
      "source": [
        "dt1, dt1_elem = m1.compute_dt(vp, fast=False)\n",
        "dt2, dt2_elem = m2.compute_dt(vp, fast=False)\n",
        "\n",
        "print(\"dt1:       {:10.4f}\".format(dt1))\n",
        "print(\"dt2:       {:10.4f}\".format(dt2))\n",
        "print(\"dt1 / dt2: {:10.4f}\".format(dt1 / dt2))\n",
        "\n",
        "# plot dt over the mesh\n",
        "m1.attach_field(\"dt\", dt1_elem)\n",
        "m2.attach_field(\"dt\", dt2_elem)"
      ]
    },
    {
      "cell_type": "markdown",
      "metadata": {},
      "source": [
        "If we include the number of elements, which is also reduced with the anistropic refinement, we can estimate the resulting speed up of the simulation:"
      ]
    },
    {
      "cell_type": "code",
      "execution_count": null,
      "metadata": {},
      "outputs": [],
      "source": [
        "cost1 = m1.nelem / dt1\n",
        "cost2 = m2.nelem / dt2\n",
        "\n",
        "print(\"nelem1:  \", m1.nelem)\n",
        "print(\"nelem2:  \", m2.nelem)\n",
        "print(\"speedup:  {:.2f}\".format(cost2 / cost1))"
      ]
    },
    {
      "cell_type": "code",
      "execution_count": null,
      "metadata": {},
      "outputs": [],
      "source": [
        "m1"
      ]
    },
    {
      "cell_type": "code",
      "execution_count": null,
      "metadata": {},
      "outputs": [],
      "source": [
        "m2"
      ]
    },
    {
      "cell_type": "markdown",
      "metadata": {},
      "source": [
        "### Outlook: Time step optimization\n",
        "The mesh can be further improved by smoothing with a criterion that directly optimizes the time step. Note that the method is work in progress and currently does not ensure that the resolution criterion remains fulfilled and hence should be used with caution."
      ]
    },
    {
      "cell_type": "code",
      "execution_count": null,
      "metadata": {},
      "outputs": [],
      "source": [
        "from salvus.mesh.optimize_dt import optimize_dt\n",
        "\n",
        "# collect side sets where nodes should not be moved\n",
        "side_sets = [m1.get_side_set(ssn) for ssn in m1.side_sets.keys()]\n",
        "\n",
        "# actual optimization\n",
        "m3 = optimize_dt(m1, [side_sets] * 2, maxiter=50)\n",
        "\n",
        "# compute new dt and speedup compared to unsmoothed mesh\n",
        "dt3, dt3_elem = m3.compute_dt(vp, fast=False)\n",
        "cost3 = m3.nelem / dt3\n",
        "\n",
        "print(\"dt3:                  {:10.3f}\".format(dt3))\n",
        "print(\"speedup by smoothing: {:10.3f}\".format(cost1 / cost3))\n",
        "print(\"total speedup:        {:10.3f}\".format(cost2 / cost3))\n",
        "\n",
        "# plot dt over the mesh\n",
        "m3.attach_field(\"dt\", dt3_elem)\n",
        "m3"
      ]
    }
  ],
  "metadata": {
    "jupytext": {
      "cell_metadata_json": true,
      "formats": "ipynb,py:light"
    },
    "kernelspec": {
      "display_name": "Python 3",
      "language": "python",
      "name": "python3"
    }
  },
  "nbformat": 4,
  "nbformat_minor": 4
}