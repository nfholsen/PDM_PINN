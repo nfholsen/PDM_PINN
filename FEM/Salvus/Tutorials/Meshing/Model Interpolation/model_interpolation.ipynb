{
  "cells": [
    {
      "cell_type": "markdown",
      "metadata": {},
      "source": [
        "<div style='background-image: url(\"header.png\") ; padding: 0px ; background-size: cover ; border-radius: 5px ; height: 250px'>\n",
        "    <div style=\"float: right ; margin: 50px ; padding: 20px ; background: rgba(255 , 255 , 255 , 0.7) ; width: 50% ; height: 150px\">\n",
        "        <div style=\"position: relative ; top: 50% ; transform: translatey(-50%)\">\n",
        "            <div style=\"font-size: xx-large ; font-weight: 900 ; color: rgba(0 , 0 , 0 , 0.8) ; line-height: 100%\">Tutorial by Mondaic</div>\n",
        "            <div style=\"font-size: large ; padding-top: 20px ; color: rgba(0 , 0 , 0 , 0.5)\">For Salvus version 0.11.25</div>\n",
        "        </div>\n",
        "    </div>\n",
        "</div>"
      ]
    },
    {
      "cell_type": "markdown",
      "metadata": {},
      "source": [
        "# Model Interpolation"
      ]
    },
    {
      "cell_type": "markdown",
      "metadata": {},
      "source": [
        "This notebook shows how to interpolate a given model defined on a regular grid to a Salvus mesh using the Marmousi model as an example."
      ]
    },
    {
      "cell_type": "code",
      "execution_count": null,
      "metadata": {
        "lines_to_end_of_cell_marker": 2
      },
      "outputs": [],
      "source": [
        "# initialize notebook\n",
        "%matplotlib inline\n",
        "import matplotlib.pyplot as plt\n",
        "import numpy as np\n",
        "import obspy\n",
        "from salvus.mesh.structured_grid_2D import StructuredGrid2D\n",
        "\n",
        "plt.rcParams[\"figure.figsize\"] = (10, 8)"
      ]
    },
    {
      "cell_type": "markdown",
      "metadata": {
        "lines_to_next_cell": 2
      },
      "source": [
        "The Marmousi model is provided in a segy file, which we open with obspy and map to numpy arrays."
      ]
    },
    {
      "cell_type": "code",
      "execution_count": null,
      "metadata": {},
      "outputs": [],
      "source": [
        "def get_marmousi():\n",
        "    nx, ny = 2301, 751\n",
        "    dx, dy = 4.0, 4.0\n",
        "\n",
        "    rho = np.empty((ny, nx))\n",
        "    st = obspy.read(\"data/marmousi_density.segy.gz\")\n",
        "    for _i, tr in enumerate(st):\n",
        "        rho[_i, :] = tr.data\n",
        "\n",
        "    vp = np.empty((ny, nx))\n",
        "    st = obspy.read(\"data/marmousi_velocity.segy.gz\")\n",
        "    for _i, tr in enumerate(st):\n",
        "        vp[_i, :] = tr.data\n",
        "\n",
        "    x = np.arange(nx) * dx\n",
        "    y = np.arange(ny) * dy\n",
        "\n",
        "    return x, y, vp, rho"
      ]
    },
    {
      "cell_type": "markdown",
      "metadata": {},
      "source": [
        "Plot the model to verify we got it in correctly:"
      ]
    },
    {
      "cell_type": "code",
      "execution_count": null,
      "metadata": {},
      "outputs": [],
      "source": [
        "x, y, vp, rho = get_marmousi()\n",
        "fig, axes = plt.subplots(2, 1)\n",
        "axes[0].imshow(vp)\n",
        "axes[1].imshow(rho)\n",
        "plt.show()"
      ]
    },
    {
      "cell_type": "markdown",
      "metadata": {},
      "source": [
        "Build a rectilinear mesh for a subregion of the model. While this might be simplistic, note that the model interpolation afterwards would be the same for any unstructured mesh."
      ]
    },
    {
      "cell_type": "code",
      "execution_count": null,
      "metadata": {},
      "outputs": [],
      "source": [
        "fmax = 10.0  # maximum frequency in Hz\n",
        "elements_per_wavelength = 2.0  # resolution criterion\n",
        "\n",
        "# region in the marmousi model to mesh\n",
        "mesh_min_x = x.max() * 0.2\n",
        "mesh_max_x = x.max() * 0.7\n",
        "mesh_min_y = y.min()\n",
        "mesh_max_y = y.max()\n",
        "\n",
        "hmax = vp.min() / fmax / elements_per_wavelength\n",
        "nelem_x = int((mesh_max_x - mesh_min_x) / hmax) + 1\n",
        "nelem_y = int((mesh_max_y - mesh_min_y) / hmax) + 1\n",
        "\n",
        "sg = StructuredGrid2D.rectangle(\n",
        "    nelem_x=nelem_x,\n",
        "    nelem_y=nelem_y,\n",
        "    min_x=mesh_min_x,\n",
        "    max_x=mesh_max_x,\n",
        "    min_y=mesh_min_y,\n",
        "    max_y=mesh_max_y,\n",
        ")\n",
        "m = sg.get_unstructured_mesh()\n",
        "m.change_tensor_order(4)"
      ]
    },
    {
      "cell_type": "markdown",
      "metadata": {},
      "source": [
        "Interpolate the model to the mesh's element nodes using a scipy function and attach it to the mesh for plotting:"
      ]
    },
    {
      "cell_type": "code",
      "execution_count": null,
      "metadata": {},
      "outputs": [],
      "source": [
        "from scipy.interpolate import RectBivariateSpline\n",
        "\n",
        "f_vp = RectBivariateSpline(x, y, vp.T[:, ::-1])\n",
        "f_rho = RectBivariateSpline(x, y, rho.T[:, ::-1])\n",
        "\n",
        "nodes = m.get_element_nodes()\n",
        "\n",
        "nodes_x = nodes[:, :, 0]\n",
        "nodes_y = nodes[:, :, 1]\n",
        "\n",
        "vp_nodes = f_vp(nodes_x, nodes_y, grid=False)\n",
        "rho_nodes = f_rho(nodes_x, nodes_y, grid=False)\n",
        "\n",
        "m.attach_field(\"VP\", vp_nodes)\n",
        "m.attach_field(\"RHO\", rho_nodes)\n",
        "m.attach_field(\"fluid\", np.ones(m.nelem))\n",
        "m"
      ]
    }
  ],
  "metadata": {
    "jupytext": {
      "cell_metadata_json": true,
      "formats": "ipynb,py:light"
    },
    "kernelspec": {
      "display_name": "Python 3",
      "language": "python",
      "name": "python3"
    }
  },
  "nbformat": 4,
  "nbformat_minor": 4
}