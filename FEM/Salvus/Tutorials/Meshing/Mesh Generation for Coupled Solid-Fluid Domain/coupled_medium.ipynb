{
  "cells": [
    {
      "cell_type": "markdown",
      "metadata": {},
      "source": [
        "<div style='background-image: url(\"header.png\") ; padding: 0px ; background-size: cover ; border-radius: 5px ; height: 250px'>\n",
        "    <div style=\"float: right ; margin: 50px ; padding: 20px ; background: rgba(255 , 255 , 255 , 0.7) ; width: 50% ; height: 150px\">\n",
        "        <div style=\"position: relative ; top: 50% ; transform: translatey(-50%)\">\n",
        "            <div style=\"font-size: xx-large ; font-weight: 900 ; color: rgba(0 , 0 , 0 , 0.8) ; line-height: 100%\">Tutorial by Mondaic</div>\n",
        "            <div style=\"font-size: large ; padding-top: 20px ; color: rgba(0 , 0 , 0 , 0.5)\">For Salvus version 0.11.25</div>\n",
        "        </div>\n",
        "    </div>\n",
        "</div>"
      ]
    },
    {
      "cell_type": "markdown",
      "metadata": {},
      "source": [
        "# Mesh generation for coupled solid-fluid domain"
      ]
    },
    {
      "cell_type": "markdown",
      "metadata": {},
      "source": [
        "\n",
        "In this notebook you build a 2D mesh with alternating solid and fluid blocks of elements."
      ]
    },
    {
      "cell_type": "code",
      "execution_count": null,
      "metadata": {},
      "outputs": [],
      "source": [
        "# initialize notebook\n",
        "%matplotlib inline\n",
        "\n",
        "import matplotlib.pyplot as plt\n",
        "import numpy as np\n",
        "\n",
        "plt.rcParams[\"figure.figsize\"] = (10, 10)\n",
        "\n",
        "from salvus.mesh.structured_grid_2D import StructuredGrid2D\n",
        "from salvus.mesh import Skeleton\n"
      ]
    },
    {
      "cell_type": "markdown",
      "metadata": {
        "lines_to_next_cell": 2
      },
      "source": [
        "Simulations in coupled solid-fluid media require two different kinds of wave equations, the acoustic wave equation in the fluid part of the domain and the elastic wave equation in the solid part, as well as some interface conditions to ensure the continuity of traction.\n",
        "\n",
        "Imposing the interface conditions on unstructured meshes can be challenging, because it requires some book-keeping which elements are facing each other along the interface.\n",
        "\n",
        "Fortunately, this is automatically done within Salvus_Compute_ and we only need to flag elements as being either solid and fluid. In this example, we create a simple quadratic domain that consists of small patches of acoustic and elastic material. Of course, this is not a realistic physical domain, but it shows how easy it is to create meshes for coupled domains with Salvus."
      ]
    },
    {
      "cell_type": "code",
      "execution_count": null,
      "metadata": {},
      "outputs": [],
      "source": [
        "# input in SI units\n",
        "solid_vp = 1500.0  # m/s\n",
        "solid_vs = 1000.0  # m/s\n",
        "solid_rho = 1000.0  # kg / m^3\n",
        "fluid_vp = 1000.0  # m/s\n",
        "fluid_rho = 1200.0  # kg / m^3\n",
        "lx = 10000  # domain size in x direction in m\n",
        "ly = 10000  # domain size in y direction in m\n",
        "fmax = 1.0  # maximum frequency in Hz\n",
        "block_size = 3  # size of the solid and fluid blocks in\n",
        "# number of elements\n",
        "\n",
        "courant_number = 0.5\n",
        "elements_per_wavelength = 2"
      ]
    },
    {
      "cell_type": "code",
      "execution_count": null,
      "metadata": {},
      "outputs": [],
      "source": [
        "# maximum element size\n",
        "hmax = min(solid_vs, fluid_vp) / fmax / elements_per_wavelength\n",
        "\n",
        "# compute number of elements\n",
        "nelemx = int(lx / hmax) + 1\n",
        "nelemy = int(ly / hmax) + 1\n",
        "\n",
        "# generate rectilinear grid\n",
        "sg = StructuredGrid2D.rectangle(nelemx, nelemy, max_x=lx, max_y=ly)\n",
        "\n",
        "# create unstructured mesh\n",
        "m = sg.get_unstructured_mesh()\n",
        "\n",
        "# make fluid blocks\n",
        "fluid = np.zeros((nelemx, nelemy), dtype=\"bool\")\n",
        "for i in range(block_size):\n",
        "    for j in range(block_size):\n",
        "        fluid[i :: block_size * 2, j :: block_size * 2] = True\n",
        "        fluid[\n",
        "            i + block_size :: block_size * 2, j + block_size :: block_size * 2\n",
        "        ] = True\n",
        "\n",
        "fluid = fluid.ravel()\n",
        "\n",
        "# a mask for the solid elements\n",
        "nfluid = np.logical_not(fluid)\n",
        "\n",
        "# attach material properties\n",
        "vpa = nfluid * solid_vp + fluid * fluid_vp\n",
        "vsa = nfluid * solid_vs\n",
        "rhoa = nfluid * solid_rho + fluid * fluid_rho\n",
        "\n",
        "m.attach_field(\"fluid\", fluid.astype(\"int\"))\n",
        "m.attach_field(\"VP\", vpa)\n",
        "m.attach_field(\"VS\", vsa)\n",
        "m.attach_field(\"RHO\", rhoa)\n",
        "\n",
        "# define outer boundaries\n",
        "m.find_side_sets(mode=\"cartesian\")\n",
        "\n",
        "# compute time step\n",
        "dt, dt_elem = m.compute_dt(vpa, courant_number, fast=False)\n",
        "m.attach_global_variable(\"dt\", dt)\n",
        "m.attach_field(\"dt\", dt_elem)  # this is mainly for visualization\n",
        "\n",
        "print(\"================\")\n",
        "print(\"nelem = %d\" % m.nelem)\n",
        "print(\"dt    = %e\" % dt)\n",
        "print(\"================\")"
      ]
    },
    {
      "cell_type": "markdown",
      "metadata": {},
      "source": [
        "We have created a simple mesh with patches of acoustic and elastic elements. Now, let's verify that we indeed attached the coorect physics by visualizing the mesh and checking the fluid flag. You also want to ensure that the shear wave velocity `VS` is zero in the fluid domain."
      ]
    },
    {
      "cell_type": "code",
      "execution_count": null,
      "metadata": {},
      "outputs": [],
      "source": [
        "m"
      ]
    }
  ],
  "metadata": {
    "jupytext": {
      "cell_metadata_json": true,
      "formats": "ipynb,py:light"
    },
    "kernelspec": {
      "display_name": "Python 3",
      "language": "python",
      "name": "python3"
    }
  },
  "nbformat": 4,
  "nbformat_minor": 4
}