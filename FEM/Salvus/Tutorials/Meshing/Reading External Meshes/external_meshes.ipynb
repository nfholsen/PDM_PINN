{
  "cells": [
    {
      "cell_type": "markdown",
      "metadata": {},
      "source": [
        "<div style='background-image: url(\"header.png\") ; padding: 0px ; background-size: cover ; border-radius: 5px ; height: 250px'>\n",
        "    <div style=\"float: right ; margin: 50px ; padding: 20px ; background: rgba(255 , 255 , 255 , 0.7) ; width: 50% ; height: 150px\">\n",
        "        <div style=\"position: relative ; top: 50% ; transform: translatey(-50%)\">\n",
        "            <div style=\"font-size: xx-large ; font-weight: 900 ; color: rgba(0 , 0 , 0 , 0.8) ; line-height: 100%\">Tutorial by Mondaic</div>\n",
        "            <div style=\"font-size: large ; padding-top: 20px ; color: rgba(0 , 0 , 0 , 0.5)\">For Salvus version 0.11.25</div>\n",
        "        </div>\n",
        "    </div>\n",
        "</div>"
      ]
    },
    {
      "cell_type": "markdown",
      "metadata": {},
      "source": [
        "# Reading External Meshes\n",
        "\n",
        "## Introduction\n",
        "\n",
        "Sometimes it is useful to interact with third-party meshing software. This\n",
        "may be case, for example, when using meshes based on CAD models. Salvus\n",
        "supports the use of such meshes, and has automated readers for a collection\n",
        "of open-source mesh formats. In this tutorial we'll give an overview of the\n",
        "currently supported formats along with an example of their use. The first\n",
        "thing to do of course is to import the required Python packages."
      ]
    },
    {
      "cell_type": "code",
      "execution_count": null,
      "metadata": {},
      "outputs": [],
      "source": [
        "%matplotlib inline\n",
        "\n",
        "from pathlib import Path\n",
        "\n",
        "import h5py\n",
        "import matplotlib.pyplot as plt\n",
        "import numpy as np\n",
        "import os\n",
        "import salvus.mesh.unstructured_mesh as um\n",
        "from salvus.flow import api\n",
        "from salvus.flow import simple_config as sc\n",
        "from typing import List\n",
        "\n",
        "SALVUS_FLOW_SITE_NAME = os.environ.get(\"SITE_NAME\", \"local\")\n"
      ]
    },
    {
      "cell_type": "markdown",
      "metadata": {
        "lines_to_next_cell": 2
      },
      "source": [
        "Also, to make our lives a bit easier, we'll write a few short functions that\n",
        "will help us quickly generate Salvus inputs as we proceed"
      ]
    },
    {
      "cell_type": "code",
      "execution_count": null,
      "metadata": {},
      "outputs": [],
      "source": [
        "def get_basic_source(\n",
        "    *, frequency: float, physics: str, location: List\n",
        ") -> sc.source:\n",
        "    \"\"\"Gets a simple physics- and dimension-dependent source.\n",
        "\n",
        "    Args:\n",
        "        frequency: Center frequency of the (Ricker) wavelet.\n",
        "        physics: Physics of the source.\n",
        "        location: Location of the source.\n",
        "\n",
        "    Returns:\n",
        "        SalvusFlow source object appropriate for the specified physics.\n",
        "    \"\"\"\n",
        "\n",
        "    l = location\n",
        "    src = sc.source.cartesian\n",
        "    s = sc.stf.Ricker(center_frequency=frequency)\n",
        "    if physics == \"acoustic\":\n",
        "        return src.ScalarPoint3D(\n",
        "            x=l[0], y=l[1], z=l[2], f=1, source_time_function=s\n",
        "        )\n",
        "\n",
        "    return src.VectorPoint3D(\n",
        "        x=l[0], y=l[1], z=l[2], fx=1.0, fy=1.0, fz=0.0, source_time_function=s\n",
        "    )"
      ]
    },
    {
      "cell_type": "markdown",
      "metadata": {},
      "source": [
        "---\n",
        "---\n",
        "\n",
        "\n",
        "Exodus is one of the more common third-party mesh formats, and SalvusMesh\n",
        "can read Exodus files natively. In the following example we'll read some\n",
        "Exodus meshes into Salvus and run some simulations. We'll focus on two use\n",
        "cases: a purely elastic simulation, and a coupled fluid-solid simulation.\n",
        "\n",
        "---\n",
        "\n",
        "## Elastic\n",
        "\n",
        "### Mesh"
      ]
    },
    {
      "cell_type": "code",
      "execution_count": null,
      "metadata": {
        "lines_to_next_cell": 0
      },
      "outputs": [],
      "source": [
        "# Read mesh from Exodus file.\n",
        "mesh = um.UnstructuredMesh.from_exodus(\"./data/glass.e\")\n",
        "\n",
        "# Find the surface of mesh.\n",
        "mesh.find_surface(side_set_name=\"surface\")\n",
        "\n",
        "# Mark simulation as elastic.\n",
        "mesh.attach_field(\"fluid\", np.zeros(mesh.nelem))\n",
        "\n",
        "# Attach parameters.\n",
        "pars = {\"VP\": 5800, \"VS\": 4000, \"RHO\": 2600}\n",
        "template = np.ones_like(mesh.get_element_nodes()[:, :, 0])\n",
        "for key, value in pars.items():\n",
        "    mesh.attach_field(key, template * value)\n",
        "\n",
        "# Visualize.\n",
        "mesh"
      ]
    },
    {
      "cell_type": "markdown",
      "metadata": {},
      "source": [
        "### Setup"
      ]
    },
    {
      "cell_type": "code",
      "execution_count": null,
      "metadata": {
        "lines_to_next_cell": 0
      },
      "outputs": [],
      "source": [
        "# Set up simulation.\n",
        "w = sc.simulation.Waveform(\n",
        "    mesh=mesh,\n",
        "    sources=get_basic_source(\n",
        "        frequency=100.0, physics=\"elastic\", location=[0, 0, 70]\n",
        "    ),\n",
        ")\n",
        "\n",
        "# Generate a movie.\n",
        "w.output.volume_data.format = \"hdf5\"\n",
        "w.output.volume_data.filename = \"movie.h5\"\n",
        "w.output.volume_data.fields = [\"displacement\"]\n",
        "w.output.volume_data.sampling_interval_in_time_steps = 100\n",
        "\n",
        "# Validate simulation parameters.\n",
        "w.validate()"
      ]
    },
    {
      "cell_type": "markdown",
      "metadata": {},
      "source": [
        "### Simulate"
      ]
    },
    {
      "cell_type": "code",
      "execution_count": null,
      "metadata": {},
      "outputs": [],
      "source": [
        "api.run(\n",
        "    ranks=2,\n",
        "    get_all=True,\n",
        "    input_file=w,\n",
        "    site_name=SALVUS_FLOW_SITE_NAME,\n",
        "    output_folder=\"output\",\n",
        ")"
      ]
    },
    {
      "cell_type": "markdown",
      "metadata": {},
      "source": [
        "### Analyze\n",
        "\n",
        "![](./screenshot_1.png)\n",
        "\n",
        "\n",
        "Snapshot of the magnitude of dynamic elastic displacement, visualized using Paraview and the output `.xdmf` file.\n",
        "\n",
        "---"
      ]
    },
    {
      "cell_type": "markdown",
      "metadata": {},
      "source": [
        "## Coupled\n",
        "\n",
        "### Mesh"
      ]
    },
    {
      "cell_type": "code",
      "execution_count": null,
      "metadata": {},
      "outputs": [],
      "source": [
        "# Read mesh from Exodus file.\n",
        "mesh_solid = um.UnstructuredMesh.from_exodus(\"./data/solid.e\")\n",
        "mesh_fluid = um.UnstructuredMesh.from_exodus(\"./data/fluid.e\")\n",
        "\n",
        "# Mark fluid and solid elements.\n",
        "mesh_solid.attach_field(\"fluid\", np.zeros(mesh_solid.nelem))\n",
        "mesh_fluid.attach_field(\"fluid\", np.ones(mesh_fluid.nelem))\n",
        "\n",
        "# Attach parameters (elastic).\n",
        "pars = {\"VP\": 5800, \"VS\": 4000, \"RHO\": 2600}\n",
        "template = np.ones_like(mesh_solid.get_element_nodes()[:, :, 0])\n",
        "for key, value in pars.items():\n",
        "    mesh_solid.attach_field(key, template * value)\n",
        "\n",
        "# Attach parameters (acoustic).\n",
        "pars = {\"VP\": 1500, \"VS\": 0, \"RHO\": 1000}\n",
        "template = np.ones_like(mesh_fluid.get_element_nodes()[:, :, 0])\n",
        "for key, value in pars.items():\n",
        "    mesh_fluid.attach_field(key, template * value)\n",
        "\n",
        "# Combine both element blocks.\n",
        "mesh = mesh_solid + mesh_fluid\n",
        "\n",
        "# Find the surface of mesh.\n",
        "mesh.find_surface(side_set_name=\"surface\")\n",
        "\n",
        "# Visualize.\n",
        "mesh"
      ]
    },
    {
      "cell_type": "markdown",
      "metadata": {},
      "source": [
        "### Setup"
      ]
    },
    {
      "cell_type": "code",
      "execution_count": null,
      "metadata": {},
      "outputs": [],
      "source": [
        "# Set up simulation.\n",
        "w = sc.simulation.Waveform(\n",
        "    mesh=mesh,\n",
        "    sources=get_basic_source(\n",
        "        frequency=100.0, physics=\"acoustic\", location=[0, -30, 70]\n",
        "    ),\n",
        ")\n",
        "\n",
        "# Set your simulation length here.\n",
        "# w.physics.wave_equation.end_time_in_seconds = ?\n",
        "\n",
        "# Generate a movie.\n",
        "w.output.volume_data.format = \"hdf5\"\n",
        "w.output.volume_data.filename = \"movie.h5\"\n",
        "w.output.volume_data.fields = [\"displacement\", \"phi_tt\"]\n",
        "w.output.volume_data.sampling_interval_in_time_steps = 100\n",
        "\n",
        "# Validate simulation parameters.\n",
        "w.validate()"
      ]
    },
    {
      "cell_type": "markdown",
      "metadata": {},
      "source": [
        "### Simulate"
      ]
    },
    {
      "cell_type": "code",
      "execution_count": null,
      "metadata": {},
      "outputs": [],
      "source": [
        "api.run(\n",
        "    ranks=2,\n",
        "    get_all=True,\n",
        "    input_file=w,\n",
        "    site_name=SALVUS_FLOW_SITE_NAME,\n",
        "    output_folder=\"output_coupled\",\n",
        ")"
      ]
    },
    {
      "cell_type": "markdown",
      "metadata": {},
      "source": [
        "### Analyze\n",
        "\n",
        "![](./screenshot_2.png)\n",
        "\n",
        "Snapshot of the magnitude of dynamic elastic displacement and the acoustic pressure, visualized using Paraview and the output `.xdmf` file.\n",
        "\n",
        "---"
      ]
    }
  ],
  "metadata": {
    "jupytext": {
      "cell_metadata_filter": "tags,-all",
      "cell_metadata_json": true
    },
    "kernelspec": {
      "display_name": "Python 3",
      "language": "python",
      "name": "python3"
    }
  },
  "nbformat": 4,
  "nbformat_minor": 4
}