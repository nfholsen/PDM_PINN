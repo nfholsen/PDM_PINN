{
  "cells": [
    {
      "cell_type": "markdown",
      "metadata": {},
      "source": [
        "<div style='background-image: url(\"header.png\") ; padding: 0px ; background-size: cover ; border-radius: 5px ; height: 250px'>\n",
        "    <div style=\"float: right ; margin: 50px ; padding: 20px ; background: rgba(255 , 255 , 255 , 0.7) ; width: 50% ; height: 150px\">\n",
        "        <div style=\"position: relative ; top: 50% ; transform: translatey(-50%)\">\n",
        "            <div style=\"font-size: xx-large ; font-weight: 900 ; color: rgba(0 , 0 , 0 , 0.8) ; line-height: 100%\">Tutorial by Mondaic</div>\n",
        "            <div style=\"font-size: large ; padding-top: 20px ; color: rgba(0 , 0 , 0 , 0.5)\">For Salvus version 0.11.25</div>\n",
        "        </div>\n",
        "    </div>\n",
        "</div>"
      ]
    },
    {
      "cell_type": "markdown",
      "metadata": {},
      "source": [
        "# Model Parameterizations in Salvus\n",
        "\n",
        "In this notebook we will explore all the different options to parameterize the\n",
        "material properties, which are\n",
        "currently supported in Salvus. As always, the first step is to import the\n",
        "requisite Python modules."
      ]
    },
    {
      "cell_type": "code",
      "execution_count": null,
      "metadata": {},
      "outputs": [],
      "source": [
        "%matplotlib inline\n",
        "import os\n",
        "from functools import partial\n",
        "from pathlib import Path\n",
        "\n",
        "import h5py\n",
        "import matplotlib.pyplot as plt\n",
        "import numpy as np\n",
        "\n",
        "import salvus.mesh.structured_grid_2D as sg2d\n",
        "import salvus.mesh.structured_grid_3D as sg3d\n",
        "import salvus.mesh.unstructured_mesh as um\n",
        "import salvus.toolbox.toolbox as st\n",
        "from salvus.flow import api\n",
        "from salvus.flow import simple_config as sc\n",
        "\n",
        "SALVUS_FLOW_SITE_NAME = os.environ.get(\"SITE_NAME\", \"local\")"
      ]
    },
    {
      "cell_type": "markdown",
      "metadata": {
        "lines_to_next_cell": 2
      },
      "source": [
        "First we set up a simple function to return simple meshes for testing in both\n",
        "2- and 3-D dimensions. The size of the mesh is small as these examples will\n",
        "only run for a trivial duration, and are just meant to be used to explore the\n",
        "possible parameterizations."
      ]
    },
    {
      "cell_type": "code",
      "execution_count": null,
      "metadata": {},
      "outputs": [],
      "source": [
        "def get_basic_mesh(dim: int, epd: int = 20) -> um.UnstructuredMesh:\n",
        "    \"\"\"Get a simple mesh to outline allowed parameter types.\n",
        "\n",
        "    Parameters\n",
        "    ----------\n",
        "    dim : int\n",
        "        Dimension of the mesh.\n",
        "    epd : int, optional\n",
        "        Elements per dimension, by default 10\n",
        "\n",
        "    Returns\n",
        "    -------\n",
        "    um.UnstructuredMesh\n",
        "        An unstructured mesh free of any parameters.\n",
        "\n",
        "    \"\"\"\n",
        "    x = 2.0\n",
        "    if dim == 2:\n",
        "\n",
        "        mesh = sg2d.StructuredGrid2D.rectangle(\n",
        "            nelem_x=epd, nelem_y=epd, max_x=x, max_y=x\n",
        "        ).get_unstructured_mesh()\n",
        "\n",
        "    elif dim == 3:\n",
        "\n",
        "        mesh = sg3d.StructuredGrid3D.cube(\n",
        "            nelem_x=epd, nelem_y=epd, nelem_z=epd, max_x=x, max_y=x, max_z=x\n",
        "        ).get_unstructured_mesh()\n",
        "\n",
        "    mesh.find_side_sets()\n",
        "    mesh.change_tensor_order(4)\n",
        "    return mesh"
      ]
    },
    {
      "cell_type": "markdown",
      "metadata": {},
      "source": [
        "Second, we will define some basic parameter values to use (all SI units)."
      ]
    },
    {
      "cell_type": "code",
      "execution_count": null,
      "metadata": {},
      "outputs": [],
      "source": [
        "vs = 500.0\n",
        "vp = 1000.0\n",
        "rho = 1000.0"
      ]
    },
    {
      "cell_type": "markdown",
      "metadata": {},
      "source": [
        "Now we will define a set of sources which can be used in all of our testing\n",
        "environments. We'll use a Ricker wavelet in all cases, but we'll change the\n",
        "spatial type of our source depending on the dimension of the problem and the\n",
        "physics."
      ]
    },
    {
      "cell_type": "code",
      "execution_count": null,
      "metadata": {},
      "outputs": [],
      "source": [
        "stf = sc.stf.Ricker(center_frequency=2e3)\n",
        "\n",
        "src_scalar_2d = sc.source.cartesian.ScalarPoint2D(\n",
        "    f=1, x=1, y=1, source_time_function=stf\n",
        ")\n",
        "src_scalar_3d = sc.source.cartesian.ScalarPoint3D(\n",
        "    f=1, x=1, y=1, z=1, source_time_function=stf\n",
        ")\n",
        "src_vector_2d = sc.source.cartesian.VectorPoint2D(\n",
        "    fx=1, fy=1, x=1, y=1, source_time_function=stf\n",
        ")\n",
        "src_vector_3d = sc.source.cartesian.VectorPoint3D(\n",
        "    fx=1, fy=1, fz=1, x=1, y=1, z=1, source_time_function=stf\n",
        ")"
      ]
    },
    {
      "cell_type": "markdown",
      "metadata": {},
      "source": [
        "An finally we'll partially fill in Salvus _Flow_'s `api.run` function. We'll\n",
        "be running the function many times with mostly the same setup, so this is a nice\n",
        "space saving method."
      ]
    },
    {
      "cell_type": "code",
      "execution_count": null,
      "metadata": {},
      "outputs": [],
      "source": [
        "run_salvus = partial(\n",
        "    api.run, ranks=2, get_all=True, site_name=SALVUS_FLOW_SITE_NAME\n",
        ")"
      ]
    },
    {
      "cell_type": "markdown",
      "metadata": {},
      "source": [
        "Now, onto the examples themselves.\n",
        "\n",
        "## 2D domains\n",
        "\n",
        "We'll start with all of the 2-D parameterizations. Again, to save space,\n",
        "we'll prepare our `simulation.Waveform` object with values which will\n",
        "be re-used."
      ]
    },
    {
      "cell_type": "code",
      "execution_count": null,
      "metadata": {},
      "outputs": [],
      "source": [
        "w = sc.simulation.Waveform()\n",
        "\n",
        "w.domain.dimension = 2\n",
        "w.output.volume_data.format = \"hdf5\"\n",
        "w.output.volume_data.filename = \"output.h5\"\n",
        "w.output.volume_data.sampling_interval_in_time_steps = 100"
      ]
    },
    {
      "cell_type": "markdown",
      "metadata": {},
      "source": [
        "### Acoustic\n",
        "\n",
        "Acoustic meshes can be parameterized either using p-velocity and density, or\n",
        "a linear parameterization using M0 and M1. Acoustic elements must have the\n",
        "`fluid` flag set to 1.\n",
        "\n",
        "#### Velocity (sound speed) and density"
      ]
    },
    {
      "cell_type": "code",
      "execution_count": null,
      "metadata": {},
      "outputs": [],
      "source": [
        "# Generate the mesh.\n",
        "m = get_basic_mesh(2)\n",
        "\n",
        "# Attach parameter to the nodes of each element.\n",
        "par_template = np.ones_like(m.get_element_nodes()[:, :, 0])\n",
        "m.attach_field(\"VP\", par_template * vp)\n",
        "m.attach_field(\"RHO\", par_template * rho)\n",
        "m.attach_field(\"fluid\", np.ones(m.nelem))\n",
        "\n",
        "# Attach the mesh and set some custom output.\n",
        "w.set_mesh(m)\n",
        "w.output.volume_data.fields = [\"phi\"]\n",
        "w.physics.wave_equation.point_source = [src_scalar_2d]\n",
        "\n",
        "# Run the solver.\n",
        "output_folder = Path(\"acoustic_rhovp\")\n",
        "output_file = output_folder / \"output.h5\"\n",
        "run_salvus(input_file=w, output_folder=output_folder)\n",
        "\n",
        "# Visualize the results.\n",
        "f, ax = plt.subplots(1, 1)\n",
        "ax.set_aspect(\"equal\")\n",
        "t, da0 = st.visualize_wavefield_2d(output_file, \"phi\")\n",
        "ax.tricontourf(t, da0[-1, :])"
      ]
    },
    {
      "cell_type": "markdown",
      "metadata": {},
      "source": [
        "#### (Linear) compliance parameters"
      ]
    },
    {
      "cell_type": "code",
      "execution_count": null,
      "metadata": {},
      "outputs": [],
      "source": [
        "# Re-parameterize as m0 and m1.\n",
        "m0, m1 = (1 / rho) / vp ** 2, 1 / rho\n",
        "\n",
        "# Generate the mesh.\n",
        "m = get_basic_mesh(2)\n",
        "\n",
        "# Attach parameter to the nodes of each element.\n",
        "par_template = np.ones_like(m.get_element_nodes()[:, :, 0])\n",
        "m.attach_field(\"M0\", par_template * m0)\n",
        "m.attach_field(\"M1\", par_template * m1)\n",
        "m.attach_field(\"fluid\", np.ones(m.nelem))\n",
        "\n",
        "# Attach the mesh and set some custom output.\n",
        "w.set_mesh(m)\n",
        "w.output.volume_data.fields = [\"phi\"]\n",
        "w.physics.wave_equation.point_source = [src_scalar_2d]\n",
        "\n",
        "# Run the solver.\n",
        "output_folder = Path(\"acoustic_linear\")\n",
        "output_file = output_folder / \"output.h5\"\n",
        "run_salvus(input_file=w, output_folder=output_folder)\n",
        "\n",
        "# Visualize the results.\n",
        "f, ax = plt.subplots(1, 1)\n",
        "ax.set_aspect(\"equal\")\n",
        "t, da1 = st.visualize_wavefield_2d(output_file, \"phi\")\n",
        "ax.tricontourf(t, da1[-1, :])\n",
        "\n",
        "# All parameterizations should have produced the same output.\n",
        "np.testing.assert_allclose(da0, da1, atol=1e-3)"
      ]
    },
    {
      "cell_type": "markdown",
      "metadata": {},
      "source": [
        "### Elastic\n",
        "\n",
        "Isotropic elastic models can be parameterized using either:\n",
        "\n",
        "* velocities {VP, VS, RHO}\n",
        "\n",
        "* Lame's first parameter, shear modulus, and density {LAMBDA, MU, RHO}\n",
        "\n",
        "* Bulk modulus, shear modulus, and density {KAPPA, MU, RHO}\n",
        "\n",
        "#### Velocities and density"
      ]
    },
    {
      "cell_type": "code",
      "execution_count": null,
      "metadata": {},
      "outputs": [],
      "source": [
        "# Generate the mesh.\n",
        "m = get_basic_mesh(2)\n",
        "\n",
        "# Attach parameter to the nodes of each element.\n",
        "par_template = np.ones_like(m.get_element_nodes()[:, :, 0])\n",
        "m.attach_field(\"VP\", par_template * vp)\n",
        "m.attach_field(\"VS\", par_template * vs)\n",
        "m.attach_field(\"RHO\", par_template * rho)\n",
        "m.attach_field(\"fluid\", np.zeros(m.nelem))\n",
        "\n",
        "# Attach the mesh and set some custom output.\n",
        "w.set_mesh(m)\n",
        "w.output.volume_data.fields = [\"displacement\"]\n",
        "w.physics.wave_equation.point_source = [src_vector_2d]\n",
        "\n",
        "# Run the solver.\n",
        "output_folder = Path(\"elastic_vpvsrho\")\n",
        "output_file = output_folder / \"output.h5\"\n",
        "run_salvus(input_file=w, output_folder=output_folder)\n",
        "\n",
        "# Visualize the results.\n",
        "f, ax = plt.subplots(1, 1)\n",
        "ax.set_aspect(\"equal\")\n",
        "t, de0 = st.visualize_wavefield_2d(output_file, \"displacement\")\n",
        "ax.tricontourf(t, de0[-1, :])"
      ]
    },
    {
      "cell_type": "markdown",
      "metadata": {},
      "source": [
        "#### Lame parameters and density"
      ]
    },
    {
      "cell_type": "code",
      "execution_count": null,
      "metadata": {},
      "outputs": [],
      "source": [
        "# Generate the mesh.\n",
        "m = get_basic_mesh(2)\n",
        "\n",
        "# Attach parameter to the nodes of each element.\n",
        "mu = rho * vs ** 2\n",
        "lam = rho * vp ** 2 - 2 * mu\n",
        "par_template = np.ones_like(m.get_element_nodes()[:, :, 0])\n",
        "m.attach_field(\"LAMBDA\", par_template * lam)\n",
        "m.attach_field(\"MU\", par_template * mu)\n",
        "m.attach_field(\"RHO\", par_template * rho)\n",
        "m.attach_field(\"fluid\", np.zeros(m.nelem))\n",
        "\n",
        "# Attach the mesh and set some custom output.\n",
        "w.set_mesh(m)\n",
        "w.output.volume_data.fields = [\"displacement\"]\n",
        "w.physics.wave_equation.point_source = [src_vector_2d]\n",
        "\n",
        "# Run the solver.\n",
        "output_folder = Path(\"elastic_lambdamurho\")\n",
        "output_file = output_folder / \"output.h5\"\n",
        "run_salvus(input_file=w, output_folder=output_folder)\n",
        "\n",
        "# Visualize the results.\n",
        "f, ax = plt.subplots(1, 1)\n",
        "ax.set_aspect(\"equal\")\n",
        "t, de1 = st.visualize_wavefield_2d(output_file, \"displacement\")\n",
        "ax.tricontourf(t, de1[-1, :])"
      ]
    },
    {
      "cell_type": "markdown",
      "metadata": {},
      "source": [
        "#### Elastic moduli and density"
      ]
    },
    {
      "cell_type": "code",
      "execution_count": null,
      "metadata": {},
      "outputs": [],
      "source": [
        "# Generate the mesh.\n",
        "m = get_basic_mesh(2)\n",
        "\n",
        "# Attach parameter to the nodes of each element.\n",
        "mu = rho * vs ** 2\n",
        "kap = rho * (vp ** 2 - 4 / 3 * vs ** 2)\n",
        "par_template = np.ones_like(m.get_element_nodes()[:, :, 0])\n",
        "m.attach_field(\"KAPPA\", par_template * kap)\n",
        "m.attach_field(\"MU\", par_template * mu)\n",
        "m.attach_field(\"RHO\", par_template * rho)\n",
        "m.attach_field(\"fluid\", np.zeros(m.nelem))\n",
        "\n",
        "# Attach the mesh and set some custom output.\n",
        "w.set_mesh(m)\n",
        "w.output.volume_data.fields = [\"displacement\"]\n",
        "w.physics.wave_equation.point_source = [src_vector_2d]\n",
        "\n",
        "# Run the solver.\n",
        "output_folder = Path(\"elastic_kappamurho\")\n",
        "output_file = output_folder / \"output.h5\"\n",
        "run_salvus(input_file=w, output_folder=output_folder)\n",
        "\n",
        "# Visualize the results.\n",
        "f, ax = plt.subplots(1, 1)\n",
        "ax.set_aspect(\"equal\")\n",
        "t, de2 = st.visualize_wavefield_2d(output_file, \"displacement\")\n",
        "ax.tricontourf(t, de2[-1, :])\n",
        "\n",
        "# All parameterizations should have produced the same output.\n",
        "np.testing.assert_allclose(de0, de1, atol=1e-7)\n",
        "np.testing.assert_allclose(de1, de2, atol=1e-7)"
      ]
    },
    {
      "cell_type": "markdown",
      "metadata": {},
      "source": [
        "## 3D domains\n",
        "We'll generate a new partially-filled waveform simulation object for 3-D."
      ]
    },
    {
      "cell_type": "code",
      "execution_count": null,
      "metadata": {},
      "outputs": [],
      "source": [
        "w = sc.simulation.Waveform()\n",
        "\n",
        "w.domain.dimension = 3\n",
        "w.output.volume_data.format = \"hdf5\"\n",
        "w.output.volume_data.filename = \"output.h5\"\n",
        "w.output.volume_data.sampling_interval_in_time_steps = 100"
      ]
    },
    {
      "cell_type": "markdown",
      "metadata": {},
      "source": [
        "### Acoustic\n",
        "\n",
        "Acoustic meshes can be parameterized either using p-velocity and density, or\n",
        "a linear parameterization using M0 and M1. Acoustic elements must have the\n",
        "`fluid` flag set to 1.\n",
        "\n",
        "#### Velocity (sounds speed) and density"
      ]
    },
    {
      "cell_type": "code",
      "execution_count": null,
      "metadata": {},
      "outputs": [],
      "source": [
        "# Generate the mesh.\n",
        "m = get_basic_mesh(3)\n",
        "\n",
        "# Attach parameter to the nodes of each element.\n",
        "par_template = np.ones_like(m.get_element_nodes()[:, :, 0])\n",
        "m.attach_field(\"VP\", par_template * vp)\n",
        "m.attach_field(\"RHO\", par_template * rho)\n",
        "m.attach_field(\"fluid\", np.ones(m.nelem))\n",
        "\n",
        "# Attach the mesh.\n",
        "w.set_mesh(m)\n",
        "w.output.volume_data.fields = [\"phi\"]\n",
        "w.physics.wave_equation.point_source = [src_scalar_3d]\n",
        "\n",
        "# Run the solver.\n",
        "output_folder = Path(\"acoustic_rhovp\")\n",
        "output_file = output_folder / \"output.h5\"\n",
        "run_salvus(input_file=w, output_folder=output_folder, overwrite=True)\n",
        "\n",
        "# Read the results.\n",
        "with h5py.File(output_file, \"r\") as fh:\n",
        "    da0 = fh[\"/volume/phi\"][:]"
      ]
    },
    {
      "cell_type": "markdown",
      "metadata": {},
      "source": [
        "#### (Linear) compliance parameters"
      ]
    },
    {
      "cell_type": "code",
      "execution_count": null,
      "metadata": {},
      "outputs": [],
      "source": [
        "# Re-parameterize as m0 and m1.\n",
        "m0, m1 = (1 / rho) / vp ** 2, 1 / rho\n",
        "\n",
        "# Generate the mesh.\n",
        "m = get_basic_mesh(3)\n",
        "\n",
        "# Attach parameter to the nodes of each element.\n",
        "par_template = np.ones_like(m.get_element_nodes()[:, :, 0])\n",
        "m.attach_field(\"M0\", par_template * m0)\n",
        "m.attach_field(\"M1\", par_template * m1)\n",
        "m.attach_field(\"fluid\", np.ones(m.nelem))\n",
        "\n",
        "# Attach the mesh and set some custom output.\n",
        "w.set_mesh(m)\n",
        "w.output.volume_data.fields = [\"phi\"]\n",
        "w.physics.wave_equation.point_source = [src_scalar_3d]\n",
        "\n",
        "# Run the solver.\n",
        "output_folder = Path(\"acoustic_linear\")\n",
        "output_file = output_folder / \"output.h5\"\n",
        "run_salvus(input_file=w, output_folder=output_folder, overwrite=True)\n",
        "\n",
        "# Visualize the results.\n",
        "with h5py.File(output_file, \"r\") as fh:\n",
        "    da1 = fh[\"/volume/phi\"][:]\n",
        "\n",
        "# All parameterizations should have produced the same output.\n",
        "da0_l2 = np.linalg.norm(da0)\n",
        "da1_l2 = np.linalg.norm(da1)\n",
        "np.testing.assert_allclose(da0_l2, da1_l2, atol=da0_l2 * 1e-6)"
      ]
    },
    {
      "cell_type": "markdown",
      "metadata": {},
      "source": [
        "### Elastic\n",
        "\n",
        "Isotropic elastic models can be parameterized using either:\n",
        "* velocities {VP, VS, RHO}\n",
        "* Lame's first parameter, shear modulus, and density {LAMBDA, MU, RHO}\n",
        "* Bulk modulus, shear modulus, and density {KAPPA, MU, RHO}\n",
        "\n",
        "#### Velocities and density"
      ]
    },
    {
      "cell_type": "code",
      "execution_count": null,
      "metadata": {},
      "outputs": [],
      "source": [
        "# Generate the mesh.\n",
        "m = get_basic_mesh(3)\n",
        "\n",
        "# Attach parameter to the nodes of each element.\n",
        "par_template = np.ones_like(m.get_element_nodes()[:, :, 0])\n",
        "m.attach_field(\"VP\", par_template * vp)\n",
        "m.attach_field(\"VS\", par_template * vs)\n",
        "m.attach_field(\"RHO\", par_template * rho)\n",
        "m.attach_field(\"fluid\", np.zeros(m.nelem))\n",
        "\n",
        "# # Attach the mesh and set some custom output.\n",
        "w.set_mesh(m)\n",
        "w.output.volume_data.fields = [\"displacement\"]\n",
        "w.physics.wave_equation.point_source = [src_vector_3d]\n",
        "\n",
        "# # Run the solver.\n",
        "output_folder = Path(\"elastic_vpvsrho\")\n",
        "output_file = output_folder / \"output.h5\"\n",
        "run_salvus(input_file=w, output_folder=output_folder, overwrite=True)\n",
        "\n",
        "# Visualize the results.\n",
        "with h5py.File(output_file, \"r\") as fh:\n",
        "    de0 = fh[\"/volume/displacement\"][:]"
      ]
    },
    {
      "cell_type": "markdown",
      "metadata": {},
      "source": [
        "#### Lame parameters and density"
      ]
    },
    {
      "cell_type": "code",
      "execution_count": null,
      "metadata": {},
      "outputs": [],
      "source": [
        "# Generate the mesh.\n",
        "m = get_basic_mesh(3)\n",
        "\n",
        "# Attach parameter to the nodes of each element.\n",
        "mu = rho * vs ** 2\n",
        "lam = rho * vp ** 2 - 2 * mu\n",
        "par_template = np.ones_like(m.get_element_nodes()[:, :, 0])\n",
        "m.attach_field(\"LAMBDA\", par_template * lam)\n",
        "m.attach_field(\"MU\", par_template * mu)\n",
        "m.attach_field(\"RHO\", par_template * rho)\n",
        "m.attach_field(\"fluid\", np.zeros(m.nelem))\n",
        "\n",
        "# # Attach the mesh and set some custom output.\n",
        "w.set_mesh(m)\n",
        "w.output.volume_data.fields = [\"displacement\"]\n",
        "w.physics.wave_equation.point_source = [src_vector_3d]\n",
        "\n",
        "# Run the solver.\n",
        "output_folder = Path(\"elastic_lambdamurho\")\n",
        "output_file = output_folder / \"output.h5\"\n",
        "run_salvus(input_file=w, output_folder=output_folder, overwrite=True)\n",
        "\n",
        "# # Visualize the results.\n",
        "with h5py.File(output_file, \"r\") as fh:\n",
        "    de1 = fh[\"/volume/displacement\"][:]"
      ]
    },
    {
      "cell_type": "markdown",
      "metadata": {},
      "source": [
        "#### Elastic moduli and density"
      ]
    },
    {
      "cell_type": "code",
      "execution_count": null,
      "metadata": {},
      "outputs": [],
      "source": [
        "# Generate the mesh.\n",
        "m = get_basic_mesh(3)\n",
        "\n",
        "# Attach parameter to the nodes of each element.\n",
        "mu = rho * vs ** 2\n",
        "kap = rho * (vp ** 2 - (4 / 3) * vs ** 2)\n",
        "par_template = np.ones_like(m.get_element_nodes()[:, :, 0])\n",
        "m.attach_field(\"KAPPA\", par_template * kap)\n",
        "m.attach_field(\"MU\", par_template * mu)\n",
        "m.attach_field(\"RHO\", par_template * rho)\n",
        "m.attach_field(\"fluid\", np.zeros(m.nelem))\n",
        "\n",
        "# Attach the mesh and set some custom output.\n",
        "w.set_mesh(m)\n",
        "w.output.volume_data.fields = [\"displacement\"]\n",
        "w.physics.wave_equation.point_source = [src_vector_3d]\n",
        "\n",
        "# Run the solver.\n",
        "output_folder = Path(\"elastic_kappamurho\")\n",
        "output_file = output_folder / \"output.h5\"\n",
        "run_salvus(input_file=w, output_folder=output_folder, overwrite=True)\n",
        "\n",
        "# Visualize the results.\n",
        "with h5py.File(output_file, \"r\") as fh:\n",
        "    de2 = fh[\"/volume/displacement\"][:]\n",
        "\n",
        "# All parameterizations should have produced the same output.\n",
        "np.testing.assert_allclose(de0, de1, atol=1e-7)\n",
        "np.testing.assert_allclose(de1, de2, atol=1e-7)"
      ]
    }
  ],
  "metadata": {
    "jupytext": {
      "cell_metadata_filter": "tags,-all"
    },
    "kernelspec": {
      "display_name": "Python 3",
      "language": "python",
      "name": "python3"
    }
  },
  "nbformat": 4,
  "nbformat_minor": 4
}