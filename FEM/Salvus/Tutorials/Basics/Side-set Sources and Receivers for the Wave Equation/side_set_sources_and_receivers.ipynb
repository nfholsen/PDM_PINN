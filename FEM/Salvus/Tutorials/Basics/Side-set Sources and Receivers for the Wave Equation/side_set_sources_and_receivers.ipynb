{
  "cells": [
    {
      "cell_type": "markdown",
      "metadata": {},
      "source": [
        "<div style='background-image: url(\"header.png\") ; padding: 0px ; background-size: cover ; border-radius: 5px ; height: 250px'>\n",
        "    <div style=\"float: right ; margin: 50px ; padding: 20px ; background: rgba(255 , 255 , 255 , 0.7) ; width: 50% ; height: 150px\">\n",
        "        <div style=\"position: relative ; top: 50% ; transform: translatey(-50%)\">\n",
        "            <div style=\"font-size: xx-large ; font-weight: 900 ; color: rgba(0 , 0 , 0 , 0.8) ; line-height: 100%\">Tutorial by Mondaic</div>\n",
        "            <div style=\"font-size: large ; padding-top: 20px ; color: rgba(0 , 0 , 0 , 0.5)\">For Salvus version 0.11.25</div>\n",
        "        </div>\n",
        "    </div>\n",
        "</div>"
      ]
    },
    {
      "cell_type": "markdown",
      "metadata": {},
      "source": [
        "# Side-set Sources and Receivers for the Wave Equation\n",
        "\n",
        "The previous tutorial introduced source and receivers for `SalvusCompute` where the coordinates are already known exactly. In many scenarios this is not necessarily the case. Imaging a mesh with potentially arbitrarily shaped and curved elements and you want to exactly locate a source or receiver relative to the local surface or for example at the ocean bottom. This problem is dependent on the exact mesh used for the simulation.\n",
        "\n",
        "To this end we offer so called \"side-set relative\" sources and receiver."
      ]
    },
    {
      "cell_type": "code",
      "execution_count": null,
      "metadata": {},
      "outputs": [],
      "source": [
        "# This line helps with tab-completion of the simple_config objects.\n",
        "# The IPython/Jupyter project default to a differnet inference based\n",
        "# tab completion engine which unfortunately does not yet fully work\n",
        "# with SalvusFlow. This is completely optional and a convenience\n",
        "# option.\n",
        "%config Completer.use_jedi = False\n",
        "\n",
        "# SalvusFlow and SalvusMesh convenience interfaces.\n",
        "from salvus.flow import simple_config\n",
        "from salvus.mesh import simple_mesh\n",
        "\n",
        "# We'll also use numpy.\n",
        "import numpy as np\n"
      ]
    },
    {
      "cell_type": "markdown",
      "metadata": {},
      "source": [
        "## Side-sets\n",
        "\n",
        "side-set are just a way to flag edges (in 2D) or faces (in 3D) and giving these a name. In `SalvusCompute` these are used to specify boundary conditions, here we will use them to locate source and receiver relative to them. The following example mesh has 4 side-sets, each denoting one side of the mesh. *Please note, that the names are arbitrary and mesh dependent.*\n",
        "\n",
        "![](./side_set_explanation.png)"
      ]
    },
    {
      "cell_type": "markdown",
      "metadata": {},
      "source": [
        "## Source and receiver locations relative to a side-set\n",
        "\n",
        "The following sketch illustrates how the location of sources and receivers on side-sets is specified."
      ]
    },
    {
      "cell_type": "markdown",
      "metadata": {},
      "source": [
        "![](./side_set_point_explanation.png)"
      ]
    },
    {
      "cell_type": "markdown",
      "metadata": {},
      "source": [
        "## List of available classes\n",
        "\n",
        "The available types of sources and receivers are exactly identical to the ones introduced in the previous tutorial, but prefixed with `SideSet` and all the coordinates are replaced with a `point`, `direction`, `side_set_name`, and `offset` parameters."
      ]
    },
    {
      "cell_type": "markdown",
      "metadata": {},
      "source": [
        "#### Receivers\n",
        "\n",
        "* `simple_config.receiver.cartesian.SideSetPoint2D`\n",
        "* `simple_config.receiver.cartesian.SideSetPoint3D`\n",
        "\n",
        "\n",
        "#### Sources in acoustic media\n",
        "\n",
        "* `simple_config.source.cartesian.SideSetScalarPoint2D`\n",
        "* `simple_config.source.cartesian.SideSetScalarPoint3D`\n",
        "\n",
        "* `simple_config.source.cartesian.SideSetScalarGradientPoint2D`\n",
        "* `simple_config.source.cartesian.SideSetScalarGradientPoint3D`\n",
        "\n",
        "#### Sources in elastic media\n",
        "\n",
        "* `simple_config.source.cartesian.SideSetVectorPoint2D`\n",
        "* `simple_config.source.cartesian.SideSetVectorPoint3D`\n",
        "\n",
        "* `simple_config.source.cartesian.SideSetMomentTensorPoint2D`\n",
        "* `simple_config.source.cartesian.SideSetMomentTensorPoint3D`"
      ]
    },
    {
      "cell_type": "markdown",
      "metadata": {},
      "source": [
        "## Examples\n",
        "\n",
        "Let us construct a tad bit of a more complicated mesh - the elements of this mesh have fourth order polynomial shapes, thus finding their surface is a non-trivial undertaking."
      ]
    },
    {
      "cell_type": "code",
      "execution_count": null,
      "metadata": {},
      "outputs": [],
      "source": [
        "m = simple_mesh.Cartesian2D()\n",
        "m.basic.min_period_in_seconds = 1500.0\n",
        "m.basic.model = \"prem_iso_no_crust\"\n",
        "m.basic.elements_per_wavelength = 2.0\n",
        "m.advanced.tensor_order = 4\n",
        "mesh = m.create_mesh()\n",
        "\n",
        "# Add a nice curve to the mesh surface.\n",
        "# Note how it would not longer be trivial to add sources\n",
        "# or receivers exactly at the surface of the mesh!\n",
        "x_range = mesh.points[:, 0].ptp()\n",
        "mesh.points[:, 1] += np.sin(mesh.points[:, 0] / x_range * 2 * np.pi) * 3e5\n",
        "mesh"
      ]
    },
    {
      "cell_type": "code",
      "execution_count": null,
      "metadata": {},
      "outputs": [],
      "source": [
        "# One receiver at the top, one at the bottom.\n",
        "recs = [\n",
        "    simple_config.receiver.cartesian.SideSetPoint2D(\n",
        "        point=(3e6, 0.0),\n",
        "        # Locate vertically.\n",
        "        direction=(0.0, 1.0),\n",
        "        # Top side-set.\n",
        "        side_set_name=\"y1\",\n",
        "        # Followed by the normal receiver coordinates.\n",
        "        station_code=\"A1\",\n",
        "        fields=[\"displacement\"],\n",
        "    ),\n",
        "    # Second receiver.\n",
        "    simple_config.receiver.cartesian.SideSetPoint2D(\n",
        "        point=(5e6, 0.0),\n",
        "        # Note that the direction vector can also be specified as the\n",
        "        # name of the coordinate axis.\n",
        "        direction=\"y\",\n",
        "        # Bottom\n",
        "        side_set_name=\"y0\",\n",
        "        # Followed by the normal receiver coordinates.\n",
        "        station_code=\"A2\",\n",
        "        fields=[\"displacement\"],\n",
        "    ),\n",
        "]\n",
        "\n",
        "srcs = simple_config.source.cartesian.SideSetVectorPoint2D(\n",
        "    point=[2e6, 0.0],\n",
        "    direction=\"y\",\n",
        "    side_set_name=\"y1\",\n",
        "    # Bury it a bit.\n",
        "    offset=-2e6,\n",
        "    fx=1.0,\n",
        "    fy=2.0,\n",
        "    source_time_function=simple_config.stf.Delta(),\n",
        ")\n",
        "\n",
        "\n",
        "w = simple_config.simulation.Waveform()\n",
        "w.set_mesh(mesh)\n",
        "w.add_receivers(recs)\n",
        "w.add_sources(srcs)\n",
        "\n",
        "w"
      ]
    }
  ],
  "metadata": {
    "jupytext": {
      "cell_metadata_json": true,
      "formats": "ipynb,py:light"
    },
    "kernelspec": {
      "display_name": "Python 3",
      "language": "python",
      "name": "python3"
    }
  },
  "nbformat": 4,
  "nbformat_minor": 4
}