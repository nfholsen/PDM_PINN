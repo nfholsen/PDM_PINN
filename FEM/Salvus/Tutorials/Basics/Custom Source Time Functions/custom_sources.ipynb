{
  "cells": [
    {
      "cell_type": "markdown",
      "metadata": {},
      "source": [
        "<div style='background-image: url(\"header.png\") ; padding: 0px ; background-size: cover ; border-radius: 5px ; height: 250px'>\n",
        "    <div style=\"float: right ; margin: 50px ; padding: 20px ; background: rgba(255 , 255 , 255 , 0.7) ; width: 50% ; height: 150px\">\n",
        "        <div style=\"position: relative ; top: 50% ; transform: translatey(-50%)\">\n",
        "            <div style=\"font-size: xx-large ; font-weight: 900 ; color: rgba(0 , 0 , 0 , 0.8) ; line-height: 100%\">Tutorial by Mondaic</div>\n",
        "            <div style=\"font-size: large ; padding-top: 20px ; color: rgba(0 , 0 , 0 , 0.5)\">For Salvus version 0.11.25</div>\n",
        "        </div>\n",
        "    </div>\n",
        "</div>"
      ]
    },
    {
      "cell_type": "markdown",
      "metadata": {},
      "source": [
        "# Custom Source Time Functions"
      ]
    },
    {
      "cell_type": "code",
      "execution_count": null,
      "metadata": {},
      "outputs": [],
      "source": [
        "%matplotlib inline\n",
        "%config Completer.use_jedi = False"
      ]
    },
    {
      "cell_type": "code",
      "execution_count": null,
      "metadata": {
        "lines_to_next_cell": 0
      },
      "outputs": [],
      "source": [
        "# Standard Python packages\n",
        "import os\n",
        "import pathlib\n",
        "\n",
        "# Third-party imports.\n",
        "import numpy as np\n",
        "import matplotlib.pyplot as plt\n",
        "import pyasdf\n",
        "\n",
        "# Salvus packages\n",
        "import salvus.flow.api\n",
        "import salvus.flow.simple_config as sc\n",
        "from salvus.mesh.simple_mesh import basic_mesh\n",
        "\n",
        "SALVUS_FLOW_SITE_NAME = os.environ.get(\"SITE_NAME\", \"local\")\n"
      ]
    },
    {
      "cell_type": "markdown",
      "metadata": {},
      "source": [
        "## Main message\n",
        "\n",
        "Salvus offers a number of parameterized source time functions (STFs) - if that is not sufficient one can construct a custom one from a `numpy` array as illustrated in the following cell. Several rules apply:\n",
        "\n",
        "* The array has to have the shape `[npts, N]` where `npts` the number of samples and `N` is the number of source components. The order can also be reversed in which case the array will automatically be transposed by `SalvusFlow` before the simulations are run.\n",
        "* The spatial weights (`f[_x, ...]`, `m_[xx, yy, ...]`) are always multiplied on top of the given STFs. Thus either normalize these or set the weights all to `1.0`.\n",
        "* For sources that have multiple components, e.g. vectorial or moment tensor sources, `N` is either equal to the number of independent source components (`xy[z]` in the vectorial case, `m_xx, m_yy, ...` in the tensor case) or equal to 1 in which case a copy of that array will be created before the weights are applied.\n",
        "* The order of the given components must either be `xy[z]` in the vectorial case or adhering to the Voigt notation in the tensor case.\n",
        "* Potentially specified rotation matrizes for the sources are applied **after** the weights and original STFs have been multiplied."
      ]
    },
    {
      "cell_type": "code",
      "execution_count": null,
      "metadata": {},
      "outputs": [],
      "source": [
        "# A single array.\n",
        "stf = sc.stf.Custom.from_array(\n",
        "    np.sin(np.linspace(0, 4 * np.pi, 100)),\n",
        "    sampling_rate_in_hertz=2.0,\n",
        "    start_time_in_seconds=0.0,\n",
        ")\n",
        "stf.plot()\n",
        "\n",
        "# Combine with a source object to create a complete source object.\n",
        "# Note the different weights will define the final source together\n",
        "# with the STF.\n",
        "src = sc.source.cartesian.VectorPoint2D(\n",
        "    x=10.0, y=0.0, fx=1e-2, fy=-2e-2, source_time_function=stf\n",
        ")"
      ]
    },
    {
      "cell_type": "code",
      "execution_count": null,
      "metadata": {},
      "outputs": [],
      "source": [
        "# It is also possible to specify a separate array for every components.\n",
        "array = np.array(\n",
        "    [\n",
        "        1.5 * np.sin(np.linspace(0, 4 * np.pi, 100)),\n",
        "        -3.0 * np.sin(np.linspace(0, 4 * np.pi, 100)),\n",
        "    ]\n",
        ")\n",
        "\n",
        "stf = sc.stf.Custom.from_array(\n",
        "    array, sampling_rate_in_hertz=2.0, start_time_in_seconds=-10.0\n",
        ")\n",
        "stf.plot()\n",
        "\n",
        "# Note that in this case the weights should be set to 1.0\n",
        "src = sc.source.cartesian.VectorPoint2D(\n",
        "    x=10.0, y=0.0, fx=1.0, fy=1.0, source_time_function=stf\n",
        ")"
      ]
    },
    {
      "cell_type": "markdown",
      "metadata": {},
      "source": [
        "## Expanded tutorial"
      ]
    },
    {
      "cell_type": "markdown",
      "metadata": {},
      "source": [
        "### Introduction\n",
        "\n",
        "Salvus comes with a few wavelets that can readily be used as [source time functions](/docs/references/salvus_compute_api#point-source-subgroup-physicswave-equationpoint-source).\n",
        "However, sometimes it is necessary to define a custom source time function.\n",
        "This tutorial shows how to do that."
      ]
    },
    {
      "cell_type": "markdown",
      "metadata": {
        "lines_to_next_cell": 2
      },
      "source": [
        "### Ricker wavelet as custom source time function\n",
        "\n",
        "The Ricker wavelet is the second derivative of a Gaussian, and defined as\n",
        "\n",
        "$$\n",
        "s(t) = \\left(1 - 2\\,t^2\\,\\pi^2\\,\\omega^2\\right) \\, \\exp\\left(-t^2\\,\\pi^2\\,\\omega^2\\right),\n",
        "$$\n",
        "\n",
        "where $t$ is the time and $\\omega$ is the center frequency.\n",
        "\n",
        "To see the connection with a Gaussian, it helps to define\n",
        "\n",
        "$$\n",
        "\\sigma = \\left(\\pi\\,\\omega\\right)^{-1},\n",
        "$$\n",
        "\n",
        "which gives\n",
        "\n",
        "$$\n",
        "s(t) = \\left(1 - \\frac{2\\,t^2}{\\sigma^2}\\right) \\, \\exp\\left(-\\frac{t^2}{\\sigma^2}\\right).\n",
        "$$\n",
        "\n",
        "$s(t)$ is centered around zero, so we either have to introduce a time shift, or start the simulation at a time $t < 0$.\n",
        "\n",
        "There are two important things to notice:\n",
        "\n",
        "- **To avoid artifacts in the wavefield the custom source function should always start smoothly from zero** to be compatible with the homogeneous initial conditions.\n",
        "\n",
        "- You don't need to worry too much about the correct sampling rate, as the source time function will be resampled internally using the actual time step of the simulation. Just make sure that you have sufficiently many data points to avoid undersampling.\n"
      ]
    },
    {
      "cell_type": "code",
      "execution_count": null,
      "metadata": {},
      "outputs": [],
      "source": [
        "wavelet_width_in_seconds = 0.1075\n",
        "time_step_in_seconds = 1e-3\n",
        "center_frequency = 14.5\n",
        "\n",
        "sigma_2 = 1 / (np.pi * center_frequency) ** 2\n",
        "\n",
        "time = np.linspace(\n",
        "    -wavelet_width_in_seconds,\n",
        "    wavelet_width_in_seconds,\n",
        "    int((2 * wavelet_width_in_seconds / time_step_in_seconds)),\n",
        ")\n",
        "\n",
        "sampling_rate_in_hertz = 1.0 / time_step_in_seconds\n",
        "\n",
        "wavelet = (1 - (2 * time ** 2) / sigma_2) * np.exp(-(time ** 2) / sigma_2)\n",
        "\n",
        "# plot the wavelet\n",
        "plt.plot(time, wavelet)\n",
        "plt.xlabel(\"time [s]\")\n",
        "plt.ylabel(\"amplitude\")\n",
        "plt.title(\"Custom ricker wavelet\")\n",
        "plt.show()"
      ]
    },
    {
      "cell_type": "markdown",
      "metadata": {},
      "source": [
        "### Simulation setup\n",
        "\n",
        "To run a simulation with our custom source time functions, we'll just use a very simple example mesh."
      ]
    },
    {
      "cell_type": "code",
      "execution_count": null,
      "metadata": {},
      "outputs": [],
      "source": [
        "# Simple 2D elastic mesh.\n",
        "mesh = basic_mesh.CartesianHomogeneousIsotropicElastic2D(\n",
        "    vp=3200.0,\n",
        "    vs=1847.5,\n",
        "    rho=2200.0,\n",
        "    x_max=2000.0,\n",
        "    y_max=1000.0,\n",
        "    max_frequency=25.0,\n",
        ").create_mesh()"
      ]
    },
    {
      "cell_type": "markdown",
      "metadata": {},
      "source": [
        "Use a single receiver."
      ]
    },
    {
      "cell_type": "code",
      "execution_count": null,
      "metadata": {},
      "outputs": [],
      "source": [
        "receiver = sc.receiver.cartesian.Point2D(\n",
        "    x=1400.0, y=700.0, station_code=\"XX\", fields=[\"displacement\"]\n",
        ")"
      ]
    },
    {
      "cell_type": "markdown",
      "metadata": {},
      "source": [
        "Now we'll demonstrate the creation of the same source plus source time function in three different ways:\n",
        "\n",
        "1. Using a built-in parameterized source time function.\n",
        "2. Using a single component custom source time function and corresponding weights.\n",
        "3. Using a multi-component source time function."
      ]
    },
    {
      "cell_type": "code",
      "execution_count": null,
      "metadata": {
        "lines_to_next_cell": 0
      },
      "outputs": [],
      "source": [
        "# Spatial weights of the vectorial source.\n",
        "fx = 1e-5\n",
        "fy = -0.8e-4\n",
        "\n",
        "# Location.\n",
        "sx = 1000.0\n",
        "sy = 500.0\n",
        "\n",
        "# Option 1 - Parameterized STF.\n",
        "stf_1 = sc.stf.Ricker(center_frequency=14.5)\n",
        "source_1 = custom_source = sc.source.cartesian.VectorPoint2D(\n",
        "    x=sx, y=sy, fx=fx, fy=fy, source_time_function=stf_1\n",
        ")\n",
        "\n",
        "# Option 2 - single-component STF and associated weights.\n",
        "stf_2 = sc.stf.Custom.from_array(\n",
        "    array=wavelet,\n",
        "    sampling_rate_in_hertz=sampling_rate_in_hertz,\n",
        "    start_time_in_seconds=time[0],\n",
        ")\n",
        "source_2 = sc.source.cartesian.VectorPoint2D(\n",
        "    x=sx, y=sy, fx=fx, fy=fy, source_time_function=stf_2\n",
        ")\n",
        "\n",
        "# Option 3 - multi-component STF and unit weights.\n",
        "source_time_function = [wavelet * fx, wavelet * fy]\n",
        "stf_3 = sc.stf.Custom.from_array(\n",
        "    array=source_time_function,\n",
        "    sampling_rate_in_hertz=sampling_rate_in_hertz,\n",
        "    start_time_in_seconds=time[0],\n",
        ")\n",
        "source_3 = sc.source.cartesian.VectorPoint2D(\n",
        "    x=sx, y=sy, fx=1.0, fy=1.0, source_time_function=stf_3\n",
        ")"
      ]
    },
    {
      "cell_type": "code",
      "execution_count": null,
      "metadata": {},
      "outputs": [],
      "source": [
        "stf_1.plot()\n",
        "stf_2.plot()\n",
        "stf_3.plot()"
      ]
    },
    {
      "cell_type": "markdown",
      "metadata": {},
      "source": [
        "Now it is time to actually run the simulations."
      ]
    },
    {
      "cell_type": "code",
      "execution_count": null,
      "metadata": {
        "code_folding": []
      },
      "outputs": [],
      "source": [
        "for _i, src in enumerate([source_1, source_2, source_3]):\n",
        "    sim = sc.simulation.Waveform(mesh=mesh, sources=src, receivers=receiver)\n",
        "    sim.physics.wave_equation.end_time_in_seconds = 0.5\n",
        "\n",
        "    salvus.flow.api.run(\n",
        "        site_name=SALVUS_FLOW_SITE_NAME,\n",
        "        input_file=sim,\n",
        "        ranks=1,\n",
        "        output_folder=f\"output_custom_{_i}\",\n",
        "        overwrite=True,\n",
        "    )"
      ]
    },
    {
      "cell_type": "markdown",
      "metadata": {},
      "source": [
        "### Compare results"
      ]
    },
    {
      "cell_type": "code",
      "execution_count": null,
      "metadata": {},
      "outputs": [],
      "source": [
        "_, axes = plt.subplots(nrows=1, ncols=2, figsize=(15, 5))\n",
        "\n",
        "for _i in range(3):\n",
        "    folder = pathlib.Path(f\"output_custom_{_i}\")\n",
        "    with pyasdf.ASDFDataSet(folder / \"receivers.h5\") as ds:\n",
        "        for _j, ax in enumerate(axes):\n",
        "            tr = ds.waveforms.XX_XX.displacement[_j]\n",
        "            ax.plot(tr.times(), tr.data, label=f\"Source {_i}\")\n",
        "            ax.set_title(f\"Component {_j + 1}\")\n",
        "axes[0].legend()\n",
        "axes[1].legend()\n",
        "plt.show()"
      ]
    },
    {
      "cell_type": "markdown",
      "metadata": {},
      "source": [
        "As expected the traces look exactly the same. If you modify any of the parameters of any of the three sources you will see a difference."
      ]
    }
  ],
  "metadata": {
    "jupytext": {
      "cell_metadata_json": true
    },
    "kernelspec": {
      "display_name": "Python 3",
      "language": "python",
      "name": "python3"
    }
  },
  "nbformat": 4,
  "nbformat_minor": 4
}