{
  "cells": [
    {
      "cell_type": "markdown",
      "metadata": {},
      "source": [
        "<div style='background-image: url(\"header.png\") ; padding: 0px ; background-size: cover ; border-radius: 5px ; height: 250px'>\n",
        "    <div style=\"float: right ; margin: 50px ; padding: 20px ; background: rgba(255 , 255 , 255 , 0.7) ; width: 50% ; height: 150px\">\n",
        "        <div style=\"position: relative ; top: 50% ; transform: translatey(-50%)\">\n",
        "            <div style=\"font-size: xx-large ; font-weight: 900 ; color: rgba(0 , 0 , 0 , 0.8) ; line-height: 100%\">Tutorial by Mondaic</div>\n",
        "            <div style=\"font-size: large ; padding-top: 20px ; color: rgba(0 , 0 , 0 , 0.5)\">For Salvus version 0.11.25</div>\n",
        "        </div>\n",
        "    </div>\n",
        "</div>"
      ]
    },
    {
      "cell_type": "markdown",
      "metadata": {},
      "source": [
        "# Model Interpolation\n",
        "\n",
        "In this notebook we'll explore the concept of \"model interpolation order\".\n",
        "The spectral-element method works by approximating the dynamic field\n",
        "variables as Lagrange polynomials with time-varying coefficients. These\n",
        "polynomials are defined using the Gauss-Lobatto-Legendre (GLL) collocation\n",
        "points defined within each element. For a polynomial interpolation order\n",
        "of degree 4 (the default in Salvus), there will be 5 GLL points along each\n",
        "edge of a given element, which results in 25 and 125 points each for 2-D\n",
        "and 3-D elements, respectively. In general, a $d$-dimensional spectral element\n",
        "equipped with order $n$ interpolating polynomials will have $(n+1)^d$ GLL\n",
        "points in its interior.\n",
        "\n",
        "While the GLL basis is the canonical method for representing the wavefield,\n",
        "we can also use it to represent the material parameters and spatial geometry.\n",
        "This tutorial shows how one can use different order (1, 2, and 4)\n",
        "interpolating polynomials to represent the model in Salvus. Specifically,\n",
        "we'll:\n",
        "\n",
        "* Discretize a linearly-varying 2-D model onto 1st and 4th order polynomial\n",
        "bases\n",
        "* Compare the wavefield solutions generated in each of these cases.\n",
        "* Do the same in 3-D.\n"
      ]
    },
    {
      "cell_type": "code",
      "execution_count": null,
      "metadata": {},
      "outputs": [],
      "source": [
        "%matplotlib inline\n",
        "%config Completer.use_jedi = False\n",
        "import os\n",
        "from functools import partial\n",
        "from pathlib import Path\n",
        "\n",
        "import h5py\n",
        "import matplotlib.pyplot as plt\n",
        "import numpy as np\n",
        "\n",
        "import salvus.mesh.structured_grid_2D as sg2d\n",
        "import salvus.mesh.structured_grid_3D as sg3d\n",
        "import salvus.mesh.unstructured_mesh as um\n",
        "import salvus.toolbox.toolbox as st\n",
        "from salvus.flow import api\n",
        "from salvus.flow import simple_config as sc\n",
        "\n",
        "SALVUS_FLOW_SITE_NAME = os.environ.get(\"SITE_NAME\", \"local\")\n",
        "ranks = 2"
      ]
    },
    {
      "cell_type": "markdown",
      "metadata": {},
      "source": [
        "## Setting up the models\n",
        "\n",
        "First we set up a simple function to return basic meshes for testing in both\n",
        "2 and 3 dimensions. The size of the mesh is small as these examples will\n",
        "only run for a trivial duration, and are just meant to be used to explore the\n",
        "possible parameterizations. We'll also set up a constant density throughout\n",
        "the domain."
      ]
    },
    {
      "cell_type": "code",
      "execution_count": null,
      "metadata": {},
      "outputs": [],
      "source": [
        "n = 25\n",
        "x = 1.0\n",
        "rho = 1000.0\n",
        "mesh = sg2d.StructuredGrid2D.rectangle(\n",
        "    nelem_x=n, nelem_y=n, max_x=x, max_y=x\n",
        ").get_unstructured_mesh()\n",
        "mesh.find_side_sets()"
      ]
    },
    {
      "cell_type": "markdown",
      "metadata": {},
      "source": [
        "Now we copy the mesh skeleton we created above into two separate meshes,\n",
        "each of which we'll set to a different model interpolation order. For brevity\n",
        "we'll use here orders 1 and 4 (order 2 is also supported and the workflow is identical)."
      ]
    },
    {
      "cell_type": "code",
      "execution_count": null,
      "metadata": {},
      "outputs": [],
      "source": [
        "mesh_order_1 = mesh.copy()\n",
        "mesh_order_1.change_tensor_order(1)\n",
        "\n",
        "mesh_order_4 = mesh.copy()\n",
        "mesh_order_4.change_tensor_order(4)"
      ]
    },
    {
      "cell_type": "markdown",
      "metadata": {},
      "source": [
        "Now we'll copy the coordinate arrays for use with the interpolation function\n",
        "we will write below. Note that we randomly choose which axis to interpolate\n",
        "over."
      ]
    },
    {
      "cell_type": "code",
      "execution_count": null,
      "metadata": {},
      "outputs": [],
      "source": [
        "axis = np.random.choice([0, 1])\n",
        "coords_order_1 = mesh_order_1.get_element_nodes()[:, :, axis].flatten()\n",
        "coords_order_4 = mesh_order_4.get_element_nodes()[:, :, axis].flatten()"
      ]
    },
    {
      "cell_type": "markdown",
      "metadata": {
        "lines_to_next_cell": 2
      },
      "source": [
        "The function below will linearly interpolate a range of model parameters\n",
        "over the coordinate range of a mesh."
      ]
    },
    {
      "cell_type": "code",
      "execution_count": null,
      "metadata": {},
      "outputs": [],
      "source": [
        "def li(x: np.ndarray, min_val, max_val) -> np.ndarray:\n",
        "    \"\"\"Linearly interpolate a parameter over a coordinate array.\n",
        "\n",
        "    Parameters\n",
        "    ----------\n",
        "    x : np.ndarray\n",
        "        Flattened coordinate array (either x or y).\n",
        "    min_val : float\n",
        "        Value of the parameter at the minimum coordinate.\n",
        "    max_val : float\n",
        "        Value of the parameter at the maximum coordinate.\n",
        "\n",
        "    Returns\n",
        "    -------\n",
        "    np.ndarray\n",
        "        An array of values linearly interpolated over the coordinate range.\n",
        "\n",
        "    \"\"\"\n",
        "    m = (max_val - min_val) / (np.max(x) - np.min(x))\n",
        "    return m * x + min_val"
      ]
    },
    {
      "cell_type": "markdown",
      "metadata": {},
      "source": [
        "We'll use the linear $M0$ and $M1$ to parameterize our acoustic domain. For more information on different supported parameterizations in Salvus, please refer to the relevant tutorial."
      ]
    },
    {
      "cell_type": "code",
      "execution_count": null,
      "metadata": {},
      "outputs": [],
      "source": [
        "vp0, vp1 = 1000, 2000\n",
        "m10 = m11 = 1 / rho\n",
        "m00 = m10 / vp0 ** 2\n",
        "m01 = m11 / vp1 ** 2"
      ]
    },
    {
      "cell_type": "markdown",
      "metadata": {},
      "source": [
        "Now we interpolate and attach the desired parameter to our 1st order mesh..."
      ]
    },
    {
      "cell_type": "code",
      "execution_count": null,
      "metadata": {
        "lines_to_next_cell": 2
      },
      "outputs": [],
      "source": [
        "m0 = (np.apply_along_axis(li, 0, coords_order_1, m00, m01)).reshape(\n",
        "    mesh_order_1.nelem, mesh_order_1.nodes_per_element\n",
        ") * 0.5\n",
        "\n",
        "m1 = (np.apply_along_axis(li, 0, coords_order_1, m10, m11)).reshape(\n",
        "    mesh_order_1.nelem, mesh_order_1.nodes_per_element\n",
        ") * 0.5\n",
        "\n",
        "mesh_order_1.attach_field(\"M0\", m0)\n",
        "mesh_order_1.attach_field(\"M1\", m1)\n",
        "mesh_order_1.attach_field(\"fluid\", np.ones(mesh.nelem))\n",
        "mesh_order_1"
      ]
    },
    {
      "cell_type": "markdown",
      "metadata": {},
      "source": [
        "...and our 4th order mesh."
      ]
    },
    {
      "cell_type": "code",
      "execution_count": null,
      "metadata": {},
      "outputs": [],
      "source": [
        "m0 = (np.apply_along_axis(li, 0, coords_order_4, m00, m01)).reshape(\n",
        "    mesh_order_4.nelem, mesh_order_4.nodes_per_element\n",
        ") * 0.5\n",
        "\n",
        "m1 = (np.apply_along_axis(li, 0, coords_order_4, m10, m11)).reshape(\n",
        "    mesh_order_4.nelem, mesh_order_4.nodes_per_element\n",
        ") * 0.5\n",
        "\n",
        "mesh_order_4.attach_field(\"M0\", m0)\n",
        "mesh_order_4.attach_field(\"M1\", m1)\n",
        "mesh_order_4.attach_field(\"fluid\", np.ones(mesh.nelem))\n",
        "\n",
        "mesh_order_4"
      ]
    },
    {
      "cell_type": "markdown",
      "metadata": {},
      "source": [
        "Note here how both meshes end up do looking the same! This is because, no matter which interpolation order we choose, Salvus must regardless interpolate the material parameters from the grid defining the model interpolation to the grid defining the wavefield interpolation. This interpolation itself is a bilinear operation which, for the linear function we've chosen to interpolate, will return the same results (to numerical precision) as simply doing the interpolation oneself. Nevertheless, this is our point here as we want to show that the generated solutions are also the same. For an application where higher-order models make a significant different in the solution, check our the Marmousi tutorial in the \"exploration\" section."
      ]
    },
    {
      "cell_type": "markdown",
      "metadata": {},
      "source": [
        "## Setting up a simulation (order 1)\n",
        "\n",
        "Now we'll set up some sources and receivers as is standard. Here we're mocking a \"cross-hole\" setup, where we have a source in one borehole and a line of receivers in another."
      ]
    },
    {
      "cell_type": "code",
      "execution_count": null,
      "metadata": {
        "lines_to_next_cell": 2
      },
      "outputs": [],
      "source": [
        "# Source in the left borehole.\n",
        "src = sc.source.cartesian.ScalarPoint2D(\n",
        "    x=0.1, y=0.5, f=1, source_time_function=sc.stf.Ricker(center_frequency=1e4)\n",
        ")\n",
        "\n",
        "# String of receivers in the right borehole.\n",
        "recs = sc.receiver.cartesian.SideSetVerticalPointCollection2D(\n",
        "    y=np.linspace(0, 1, 101),\n",
        "    side_set_name=\"x1\",\n",
        "    station_code=\"xx\",\n",
        "    fields=[\"phi\"],\n",
        "    offset=-0.1,\n",
        ")\n",
        "\n",
        "w1 = sc.simulation.Waveform(mesh=mesh_order_1, sources=src, receivers=recs)"
      ]
    },
    {
      "cell_type": "markdown",
      "metadata": {},
      "source": [
        "Now we just need to set a few more parameters and we're good to go."
      ]
    },
    {
      "cell_type": "code",
      "execution_count": null,
      "metadata": {},
      "outputs": [],
      "source": [
        "# Output receivers in simplified HDF5 format.\n",
        "w1.output.point_data.format = \"hdf5\"\n",
        "\n",
        "# Run the simulation long enough that wave hit the receivers.\n",
        "w1.physics.wave_equation.end_time_in_seconds = 1e-3\n",
        "\n",
        "# Output the state variable at all time steps (for comparison).\n",
        "w1.output.volume_data.format = \"hdf5\"\n",
        "w1.output.volume_data.fields = [\"phi\"]\n",
        "w1.output.volume_data.filename = \"output.h5\"\n",
        "w1.output.volume_data.sampling_interval_in_time_steps = 1\n",
        "\n",
        "# Validate and plot.\n",
        "w1.validate()\n",
        "w1"
      ]
    },
    {
      "cell_type": "markdown",
      "metadata": {},
      "source": [
        "Everything looks good, so let's now go ahead and run the simulation on our order 1 model."
      ]
    },
    {
      "cell_type": "code",
      "execution_count": null,
      "metadata": {},
      "outputs": [],
      "source": [
        "# Output folder 1.\n",
        "of1 = Path(\"output_order_1\")\n",
        "\n",
        "# Run.\n",
        "api.run(\n",
        "    ranks=ranks,\n",
        "    get_all=True,\n",
        "    input_file=w1,\n",
        "    overwrite=False,\n",
        "    site_name=SALVUS_FLOW_SITE_NAME,\n",
        "    output_folder=of1,\n",
        ")"
      ]
    },
    {
      "cell_type": "markdown",
      "metadata": {},
      "source": [
        "Now let's see some quick plots to see how everything looks."
      ]
    },
    {
      "cell_type": "code",
      "execution_count": null,
      "metadata": {
        "lines_to_next_cell": 0
      },
      "outputs": [],
      "source": [
        "# Get output data into notebook.\n",
        "f, ax = plt.subplots(1, 2, figsize=(15, 5))\n",
        "tri, d1_vol = st.visualize_wavefield_2d(of1 / \"output.h5\", field=\"phi\")\n",
        "d1, t, extent = st.get_shotgather(of1 / \"receivers.h5\", field=\"phi\", axis=1)\n",
        "\n",
        "# Plot shotgather.\n",
        "ax[0].imshow(d1, extent=extent, aspect=\"auto\")\n",
        "ax[0].set_xlabel(\"Position (m)\")\n",
        "ax[0].set_ylabel(\"Time (s)\")\n",
        "ax[0].set_title(\"Shotgather\")\n",
        "\n",
        "# Plot last time step of wavefield.\n",
        "ax[1].tricontourf(tri, d1_vol[-1, :])\n",
        "ax[1].set_xlabel(\"Position (m)\")\n",
        "ax[1].set_ylabel(\"Position (m)\")\n",
        "ax[1].set_title(\"Wavefield snapshot\")"
      ]
    },
    {
      "cell_type": "markdown",
      "metadata": {},
      "source": [
        "Looks as we might expect. Now, moving onto order 4.\n",
        "\n",
        "## Setting up a simulation (order 4)\n",
        "\n",
        "All we need to do here is initialize a new simulation object for our order 4 mesh. We can re-use the sources and receivers which we've created above."
      ]
    },
    {
      "cell_type": "code",
      "execution_count": null,
      "metadata": {},
      "outputs": [],
      "source": [
        "w4 = sc.simulation.Waveform(mesh=mesh_order_4, sources=src, receivers=recs)"
      ]
    },
    {
      "cell_type": "markdown",
      "metadata": {},
      "source": [
        "Again, setting some output parameters so we can analyze the solution..."
      ]
    },
    {
      "cell_type": "code",
      "execution_count": null,
      "metadata": {
        "lines_to_next_cell": 2
      },
      "outputs": [],
      "source": [
        "w4.output.point_data.format = \"hdf5\"\n",
        "w4.physics.wave_equation.end_time_in_seconds = 1e-3\n",
        "\n",
        "w4.output.volume_data.format = \"hdf5\"\n",
        "w4.output.volume_data.fields = [\"phi\"]\n",
        "w4.output.volume_data.filename = \"output.h5\"\n",
        "w4.output.volume_data.sampling_interval_in_time_steps = 1\n",
        "\n",
        "w4.validate()"
      ]
    },
    {
      "cell_type": "markdown",
      "metadata": {},
      "source": [
        "...and running the simulation."
      ]
    },
    {
      "cell_type": "code",
      "execution_count": null,
      "metadata": {},
      "outputs": [],
      "source": [
        "# Output folder 4.\n",
        "of4 = Path(\"output_order_4\")\n",
        "\n",
        "# Run.\n",
        "api.run(\n",
        "    input_file=w4,\n",
        "    site_name=SALVUS_FLOW_SITE_NAME,\n",
        "    ranks=ranks,\n",
        "    output_folder=of4,\n",
        "    overwrite=False,\n",
        "    get_all=True,\n",
        ")"
      ]
    },
    {
      "cell_type": "markdown",
      "metadata": {},
      "source": [
        "Now we can look at the solution and see that indeed the same solution has been generated! Keep in mind though that there are __some theoretical caveats__ to using model parameterizations which vary quickly within each element. For more information on these caveats please see the reference manual and the associated scientific papers."
      ]
    },
    {
      "cell_type": "code",
      "execution_count": null,
      "metadata": {},
      "outputs": [],
      "source": [
        "f = plt.figure(figsize=(15, 10))\n",
        "gs = f.add_gridspec(2, 2)\n",
        "ax0 = f.add_subplot(gs[0, 0])\n",
        "ax1 = f.add_subplot(gs[0, 1])\n",
        "ax2 = f.add_subplot(gs[1, :])\n",
        "\n",
        "d1, dt, extent = st.get_shotgather(of1 / \"receivers.h5\", field=\"phi\", axis=1)\n",
        "d4, dt, extent = st.get_shotgather(of4 / \"receivers.h5\", field=\"phi\", axis=1)\n",
        "\n",
        "\n",
        "ax0.imshow(d1, extent=extent, aspect=\"auto\")\n",
        "ax0.set_xlabel(\"Position (m)\")\n",
        "ax0.set_ylabel(\"Time (s)\")\n",
        "ax0.set_title(\"Shotgather (order 1)\")\n",
        "\n",
        "ax1.imshow(d4, extent=extent, aspect=\"auto\")\n",
        "ax1.set_xlabel(\"Position (m)\")\n",
        "ax1.set_ylabel(\"Time (s)\")\n",
        "ax1.set_title(\"Shotgather (order 4)\")\n",
        "\n",
        "ax2.set_title(\"Trace comparison\")\n",
        "ax2.plot(np.arange(d4.shape[0]) * dt, d1[:, 50], label=\"Order 1\")\n",
        "ax2.plot(np.arange(d4.shape[0]) * dt, d4[:, 50], label=\"Order 4\", ls=\"dashed\")\n",
        "ax2.set_xlabel(\"Time (s)\")\n",
        "ax2.set_ylabel(\"Amplitude\")\n",
        "ax2.legend()"
      ]
    },
    {
      "cell_type": "code",
      "execution_count": null,
      "metadata": {},
      "outputs": [],
      "source": [
        "# Testing, removed for tutorial.\n",
        "np.testing.assert_allclose(d1, d4, atol=1e-5 * np.max(np.abs(d1)))"
      ]
    },
    {
      "cell_type": "markdown",
      "metadata": {},
      "source": [
        "## Extensions to 3D\n",
        "\n",
        "For completeness we also show how different model orders can be used to parameterize 3D models. To ensure a quick run time, we'll use a smaller number of elements in each dimension."
      ]
    },
    {
      "cell_type": "code",
      "execution_count": null,
      "metadata": {},
      "outputs": [],
      "source": [
        "# Generate mesh w/ 10 elements per dim.\n",
        "n = 10\n",
        "mesh = sg3d.StructuredGrid3D.cube(\n",
        "    nelem_x=n, nelem_y=n, nelem_z=n, max_x=x, max_y=x, max_z=x\n",
        ").get_unstructured_mesh()\n",
        "mesh.find_side_sets()"
      ]
    },
    {
      "cell_type": "code",
      "execution_count": null,
      "metadata": {},
      "outputs": [],
      "source": [
        "# Copy into two different meshes and tensorize.\n",
        "mesh_order_1 = mesh.copy()\n",
        "mesh_order_1.change_tensor_order(1)\n",
        "\n",
        "mesh_order_4 = mesh.copy()\n",
        "mesh_order_4.change_tensor_order(4)"
      ]
    },
    {
      "cell_type": "code",
      "execution_count": null,
      "metadata": {},
      "outputs": [],
      "source": [
        "# Choose an axis to interpolate over.\n",
        "axis = np.random.choice([0, 1, 2])\n",
        "coords_order_1 = mesh_order_1.get_element_nodes()[:, :, axis].flatten()\n",
        "coords_order_4 = mesh_order_4.get_element_nodes()[:, :, axis].flatten()"
      ]
    },
    {
      "cell_type": "code",
      "execution_count": null,
      "metadata": {},
      "outputs": [],
      "source": [
        "# Interpolate the models (order 1).\n",
        "m0 = (np.apply_along_axis(li, 0, coords_order_1, m00, m01)).reshape(\n",
        "    mesh_order_1.nelem, mesh_order_1.nodes_per_element\n",
        ") * 0.5\n",
        "\n",
        "m1 = (np.apply_along_axis(li, 0, coords_order_1, m10, m11)).reshape(\n",
        "    mesh_order_1.nelem, mesh_order_1.nodes_per_element\n",
        ") * 0.5\n",
        "\n",
        "mesh_order_1.attach_field(\"M0\", m0)\n",
        "mesh_order_1.attach_field(\"M1\", m1)\n",
        "mesh_order_1.attach_field(\"fluid\", np.ones(mesh.nelem))\n",
        "mesh_order_1"
      ]
    },
    {
      "cell_type": "code",
      "execution_count": null,
      "metadata": {},
      "outputs": [],
      "source": [
        "# Interpolate the models (order 4).\n",
        "m0 = (np.apply_along_axis(li, 0, coords_order_4, m00, m01)).reshape(\n",
        "    mesh_order_4.nelem, mesh_order_4.nodes_per_element\n",
        ") * 0.5\n",
        "\n",
        "m1 = (np.apply_along_axis(li, 0, coords_order_4, m10, m11)).reshape(\n",
        "    mesh_order_4.nelem, mesh_order_4.nodes_per_element\n",
        ") * 0.5\n",
        "\n",
        "mesh_order_4.attach_field(\"M0\", m0)\n",
        "mesh_order_4.attach_field(\"M1\", m1)\n",
        "mesh_order_4.attach_field(\"fluid\", np.ones(mesh.nelem))\n",
        "\n",
        "mesh_order_4"
      ]
    },
    {
      "cell_type": "code",
      "execution_count": null,
      "metadata": {},
      "outputs": [],
      "source": [
        "# Set up a simulation.\n",
        "\n",
        "# Source in the left borehole.\n",
        "src = sc.source.cartesian.ScalarPoint3D(\n",
        "    x=0.1,\n",
        "    y=0.5,\n",
        "    z=0.5,\n",
        "    f=1,\n",
        "    source_time_function=sc.stf.Ricker(center_frequency=5e3),\n",
        ")\n",
        "\n",
        "# String of receivers in the right borehole.\n",
        "recs = [\n",
        "    sc.receiver.cartesian.Point3D(\n",
        "        x=0.9, y=0.5, z=z, station_code=f\"{i:03d}\", fields=[\"phi\"]\n",
        "    )\n",
        "    for i, z in enumerate(np.linspace(0, 1, 101))\n",
        "]\n",
        "\n",
        "w1 = sc.simulation.Waveform(mesh=mesh_order_1, sources=src, receivers=recs)"
      ]
    },
    {
      "cell_type": "code",
      "execution_count": null,
      "metadata": {},
      "outputs": [],
      "source": [
        "# Finalize simulation setup.\n",
        "# Output receivers in simplified HDF5 format.\n",
        "w1.output.point_data.format = \"hdf5\"\n",
        "\n",
        "# Run the simulation long enough that wave hit the receivers.\n",
        "w1.physics.wave_equation.end_time_in_seconds = 2e-3\n",
        "\n",
        "# Output the state variable at all time steps (for comparison).\n",
        "w1.output.volume_data.format = \"hdf5\"\n",
        "w1.output.volume_data.fields = [\"phi\"]\n",
        "w1.output.volume_data.filename = \"output.h5\"\n",
        "w1.output.volume_data.sampling_interval_in_time_steps = 1\n",
        "\n",
        "# Validate and plot.\n",
        "w1.validate()\n",
        "w1"
      ]
    },
    {
      "cell_type": "code",
      "execution_count": null,
      "metadata": {},
      "outputs": [],
      "source": [
        "# Run simulation.\n",
        "of1 = Path(\"output_order_1\")\n",
        "\n",
        "# Run.\n",
        "api.run(\n",
        "    ranks=ranks,\n",
        "    get_all=True,\n",
        "    input_file=w1,\n",
        "    overwrite=True,\n",
        "    site_name=SALVUS_FLOW_SITE_NAME,\n",
        "    output_folder=of1,\n",
        ")"
      ]
    },
    {
      "cell_type": "code",
      "execution_count": null,
      "metadata": {},
      "outputs": [],
      "source": [
        "# Visualize shotgather.\n",
        "f, ax = plt.subplots(1, 1, figsize=(15, 5))\n",
        "d1, t, extent = st.get_shotgather(of1 / \"receivers.h5\", field=\"phi\", axis=2)\n",
        "\n",
        "# Plot shotgather.\n",
        "ax.imshow(d1, extent=extent, aspect=\"auto\")\n",
        "ax.set_xlabel(\"Position (m)\")\n",
        "ax.set_ylabel(\"Time (s)\")\n",
        "ax.set_title(\"Shotgather\")"
      ]
    },
    {
      "cell_type": "code",
      "execution_count": null,
      "metadata": {},
      "outputs": [],
      "source": [
        "# Do the same for order 4.\n",
        "w4 = sc.simulation.Waveform(mesh=mesh_order_4, sources=src, receivers=recs)\n",
        "\n",
        "w4.output.point_data.format = \"hdf5\"\n",
        "w4.physics.wave_equation.end_time_in_seconds = 2e-3\n",
        "\n",
        "w4.output.volume_data.format = \"hdf5\"\n",
        "w4.output.volume_data.fields = [\"phi\"]\n",
        "w4.output.volume_data.filename = \"output.h5\"\n",
        "w4.output.volume_data.sampling_interval_in_time_steps = 1\n",
        "\n",
        "w4.validate()"
      ]
    },
    {
      "cell_type": "code",
      "execution_count": null,
      "metadata": {},
      "outputs": [],
      "source": [
        "# Output folder 4.\n",
        "of4 = Path(\"output_order_4\")\n",
        "\n",
        "# Run.\n",
        "api.run(\n",
        "    input_file=w4,\n",
        "    site_name=SALVUS_FLOW_SITE_NAME,\n",
        "    ranks=ranks,\n",
        "    output_folder=of4,\n",
        "    overwrite=True,\n",
        "    get_all=True,\n",
        ")"
      ]
    },
    {
      "cell_type": "code",
      "execution_count": null,
      "metadata": {},
      "outputs": [],
      "source": [
        "# Plot and compare results.\n",
        "f = plt.figure(figsize=(15, 10))\n",
        "gs = f.add_gridspec(2, 2)\n",
        "ax0 = f.add_subplot(gs[0, 0])\n",
        "ax1 = f.add_subplot(gs[0, 1])\n",
        "ax2 = f.add_subplot(gs[1, :])\n",
        "\n",
        "d1, dt, extent = st.get_shotgather(of1 / \"receivers.h5\", field=\"phi\", axis=2)\n",
        "d4, dt, extent = st.get_shotgather(of4 / \"receivers.h5\", field=\"phi\", axis=2)\n",
        "\n",
        "ax0.imshow(d1, extent=extent, aspect=\"auto\")\n",
        "ax0.set_xlabel(\"Position (m)\")\n",
        "ax0.set_ylabel(\"Time (s)\")\n",
        "ax0.set_title(\"Shotgather (order 1)\")\n",
        "\n",
        "ax1.imshow(d4, extent=extent, aspect=\"auto\")\n",
        "ax1.set_xlabel(\"Position (m)\")\n",
        "ax1.set_ylabel(\"Position (m)\")\n",
        "ax1.set_title(\"Shotgather (order 4)\")\n",
        "\n",
        "ax2.set_title(\"Trace comparison\")\n",
        "ax2.plot(np.arange(d1.shape[0]) * dt, d1[:, 50], label=\"Order 1\")\n",
        "ax2.plot(np.arange(d4.shape[0]) * dt, d4[:, 50], label=\"Order 4\", ls=\"dashed\")\n",
        "ax2.set_xlabel(\"Time (s)\")\n",
        "ax2.set_ylabel(\"Amplitude\")\n",
        "ax2.legend()"
      ]
    }
  ],
  "metadata": {
    "jupytext": {
      "cell_metadata_filter": "tags,-all",
      "cell_metadata_json": true
    },
    "kernelspec": {
      "display_name": "Python 3",
      "language": "python",
      "name": "python3"
    }
  },
  "nbformat": 4,
  "nbformat_minor": 4
}