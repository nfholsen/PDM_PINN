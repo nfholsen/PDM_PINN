{
  "cells": [
    {
      "cell_type": "markdown",
      "metadata": {},
      "source": [
        "<div style='background-image: url(\"header.png\") ; padding: 0px ; background-size: cover ; border-radius: 5px ; height: 250px'>\n",
        "    <div style=\"float: right ; margin: 50px ; padding: 20px ; background: rgba(255 , 255 , 255 , 0.7) ; width: 50% ; height: 150px\">\n",
        "        <div style=\"position: relative ; top: 50% ; transform: translatey(-50%)\">\n",
        "            <div style=\"font-size: xx-large ; font-weight: 900 ; color: rgba(0 , 0 , 0 , 0.8) ; line-height: 100%\">Tutorial by Mondaic</div>\n",
        "            <div style=\"font-size: large ; padding-top: 20px ; color: rgba(0 , 0 , 0 , 0.5)\">For Salvus version 0.11.25</div>\n",
        "        </div>\n",
        "    </div>\n",
        "</div>"
      ]
    },
    {
      "cell_type": "markdown",
      "metadata": {},
      "source": [
        "# Point Sources and Receivers for the Wave Equation\n",
        "\n",
        "Without injected energy there is nothing to simulate and the most common scenario is to do this at individual points. Point evaluations of the resulting wavefield are similarly the most widely used output of waveform simulations. Salvus is particularly flexible in this regard and the tutorials in this section will explain all possible options.\n",
        "\n",
        "Salvus*Compute* internally operates in Cartesian `x`, `y`(, `z`) coordinates and thus everything has to be specified in this reference system. For simple domains this is no problem, but for complicated, unstructured domains using higher order shape functions for the individual elements this poses a significant challenge.\n",
        "\n",
        "This notebook explains the straightforward case of directly specifying the coordinates and other parameters. It is also possible to specifiy coordinates relative to specific surfaces in a mesh and in a seismological reference system. For this, please have a look at the other tutorials."
      ]
    },
    {
      "cell_type": "markdown",
      "metadata": {},
      "source": [
        "We will again use Salvus*Flow*'s `simple_config` interface."
      ]
    },
    {
      "cell_type": "code",
      "execution_count": null,
      "metadata": {},
      "outputs": [],
      "source": [
        "# This line helps with tab-completion of the simple_config objects.\n",
        "# The IPython/Jupyter project default to a differnet inference based\n",
        "# tab completion engine which unfortunately does not yet fully work\n",
        "# with SalvusFlow. This is completely optional and a convenience\n",
        "# option.\n",
        "%config Completer.use_jedi = False\n",
        "\n",
        "import os\n",
        "from salvus.flow import simple_config\n",
        "\n",
        "SALVUS_FLOW_SITE_NAME = os.environ.get(\"SITE_NAME\", \"local\")\n"
      ]
    },
    {
      "cell_type": "markdown",
      "metadata": {},
      "source": [
        "## Receivers\n",
        "\n",
        "There are two basic receiver classes:\n",
        "\n",
        "* `simple_config.receiver.cartesian.Point2D`\n",
        "* `simple_config.receiver.cartesian.Point3D`\n",
        "\n",
        "The only difference is that (as the name implies) one is for 2D simulations, and the other one for 3D simulations. Otherwise they behave identically. Like all objects in the `simple_config`, it is not possible to initialize invalid objects."
      ]
    },
    {
      "cell_type": "code",
      "execution_count": null,
      "metadata": {},
      "outputs": [],
      "source": [
        "rec = simple_config.receiver.cartesian.Point2D(\n",
        "    # Cartesian coordinates.\n",
        "    x=2000.0,\n",
        "    y=2000.0,\n",
        "    # The network is optional but helps to group receivers.\n",
        "    network_code=\"XX\",\n",
        "    # The name of the receiver.\n",
        "    station_code=\"A1\",\n",
        "    # An additional level to group receivers.\n",
        "    location_code=\"\",\n",
        "    # At least one output field is required. More are possible.\n",
        "    # Have a look at the API documentation for a list of all\n",
        "    # available fields.\n",
        "    fields=[\"displacement\", \"acceleration\"],\n",
        ")\n",
        "\n",
        "# They are internally represented as dictionaries exactly\n",
        "# corresponding to what SalvusCompute demands.\n",
        "print(rec)"
      ]
    },
    {
      "cell_type": "markdown",
      "metadata": {},
      "source": [
        "## Sources\n",
        "\n",
        "Source by necessity are a bit more complicated. As of new we support 4 types of point sources, in 2 as well as 3 dimensions, with self-explaining names."
      ]
    },
    {
      "cell_type": "markdown",
      "metadata": {},
      "source": [
        "#### Sources in acoustic media\n",
        "\n",
        "\n",
        "* `simple_config.source.cartesian.ScalarPoint2D`\n",
        "* `simple_config.source.cartesian.ScalarPoint3D`\n",
        "\n",
        "* `simple_config.source.cartesian.ScalarGradientPoint2D`\n",
        "* `simple_config.source.cartesian.ScalarGradientPoint3D`\n",
        "\n",
        "\n",
        "#### Source in elastic media\n",
        "\n",
        "* `simple_config.source.cartesian.VectorPoint2D`\n",
        "* `simple_config.source.cartesian.VectorPoint3D`\n",
        "\n",
        "* `simple_config.source.cartesian.MomentTensorPoint2D`\n",
        "* `simple_config.source.cartesian.MomentTensorPoint3D`\n"
      ]
    },
    {
      "cell_type": "code",
      "execution_count": null,
      "metadata": {},
      "outputs": [],
      "source": [
        "src = simple_config.source.cartesian.VectorPoint2D(\n",
        "    # Coordinates of the source.\n",
        "    x=500.0,\n",
        "    y=1000.0,\n",
        "    # Force vector in x and y direction in Nm.\n",
        "    fx=1e5,\n",
        "    fy=-1e4,\n",
        "    # It also requires a source time function.\n",
        "    source_time_function=simple_config.stf.Ricker(center_frequency=1.0),\n",
        ")\n",
        "\n",
        "# They are again internally represented as a dictionary.\n",
        "print(src)"
      ]
    },
    {
      "cell_type": "markdown",
      "metadata": {},
      "source": [
        "#### Source time functions\n",
        "\n",
        "`SalvusCompute` as of now supports 4 parameterized source time functions as well as a custom source time function. A source object cannot be initialized without one.\n",
        "\n",
        "* `simple_config.stf.Delta`\n",
        "* `simple_config.stf.GaussianRate`\n",
        "* `simple_config.stf.Heaviside`\n",
        "* `simple_config.stf.Ricker`\n",
        "* `simple_config.stf.Custom`"
      ]
    },
    {
      "cell_type": "markdown",
      "metadata": {},
      "source": [
        "## Attaching sources and receivers to a mesh\n",
        "\n",
        "Our Python based configuration interface is now used to assemble mesh, source, and receiver into a single simulation object that can be visualized in the browser."
      ]
    },
    {
      "cell_type": "code",
      "execution_count": null,
      "metadata": {},
      "outputs": [],
      "source": [
        "from salvus.mesh import simple_mesh\n",
        "\n",
        "m = simple_mesh.CartesianHomogeneousIsotropicElastic2D(\n",
        "    vp=2000.0,\n",
        "    vs=1500.0,\n",
        "    rho=2000.0,\n",
        "    x_max=3000.0,\n",
        "    y_max=2000.0,\n",
        "    max_frequency=2.0,\n",
        ")\n",
        "\n",
        "w = simple_config.simulation.Waveform(mesh=m.create_mesh())\n",
        "w.add_receivers(rec)\n",
        "w.add_sources(src)\n",
        "w"
      ]
    },
    {
      "cell_type": "markdown",
      "metadata": {},
      "source": [
        "\n",
        "This can now finally be used to actually run the simulation."
      ]
    },
    {
      "cell_type": "code",
      "execution_count": null,
      "metadata": {},
      "outputs": [],
      "source": [
        "import salvus.flow.api\n",
        "\n",
        "salvus.flow.api.run(\n",
        "    site_name=SALVUS_FLOW_SITE_NAME, input_file=w, output_folder=\"output\"\n",
        ")"
      ]
    }
  ],
  "metadata": {
    "jupytext": {
      "cell_metadata_json": true,
      "formats": "ipynb,py:light"
    },
    "kernelspec": {
      "display_name": "Python 3",
      "language": "python",
      "name": "python3"
    }
  },
  "nbformat": 4,
  "nbformat_minor": 4
}