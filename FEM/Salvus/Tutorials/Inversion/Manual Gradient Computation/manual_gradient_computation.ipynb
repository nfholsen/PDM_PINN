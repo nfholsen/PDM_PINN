{
  "cells": [
    {
      "cell_type": "markdown",
      "metadata": {},
      "source": [
        "<div style='background-image: url(\"header.png\") ; padding: 0px ; background-size: cover ; border-radius: 5px ; height: 250px'>\n",
        "    <div style=\"float: right ; margin: 50px ; padding: 20px ; background: rgba(255 , 255 , 255 , 0.7) ; width: 50% ; height: 150px\">\n",
        "        <div style=\"position: relative ; top: 50% ; transform: translatey(-50%)\">\n",
        "            <div style=\"font-size: xx-large ; font-weight: 900 ; color: rgba(0 , 0 , 0 , 0.8) ; line-height: 100%\">Tutorial by Mondaic</div>\n",
        "            <div style=\"font-size: large ; padding-top: 20px ; color: rgba(0 , 0 , 0 , 0.5)\">For Salvus version 0.11.25</div>\n",
        "        </div>\n",
        "    </div>\n",
        "</div>"
      ]
    },
    {
      "cell_type": "markdown",
      "metadata": {},
      "source": [
        "# Manual Gradient Computation\n",
        "\n",
        "This notebook teaches how to compute gradients with respect to a mesh's material parameters using only Salvus*Flow* and not Salvus*Project*. Salvus*Project* internally handles many of the complexities but the approach presented here grants a bit more flexibility."
      ]
    },
    {
      "cell_type": "code",
      "execution_count": null,
      "metadata": {},
      "outputs": [],
      "source": [
        "# Variable used in the notebook to determine which site\n",
        "# is used to run the simulations.\n",
        "import os"
      ]
    },
    {
      "cell_type": "code",
      "execution_count": null,
      "metadata": {},
      "outputs": [],
      "source": [
        "SALVUS_FLOW_SITE_NAME = os.environ.get(\"SITE_NAME\", \"local\")"
      ]
    },
    {
      "cell_type": "code",
      "execution_count": null,
      "metadata": {
        "lines_to_end_of_cell_marker": 2
      },
      "outputs": [],
      "source": [
        "%matplotlib inline\n",
        "\n",
        "import matplotlib.pyplot as plt\n",
        "import numpy as np\n",
        "import pathlib\n",
        "import xarray as xr\n",
        "\n",
        "import salvus.namespace as sn"
      ]
    },
    {
      "cell_type": "markdown",
      "metadata": {
        "lines_to_next_cell": 2
      },
      "source": [
        "## Step 1: Generate target and initial model\n",
        "\n",
        "This example is purely synthetic so we'll generate a target model with a Gaussian blob perturbation in $v_s$ in the center of the domain. This will be used to generate the \"observed data\" in this case. The initial model (the synthetics for cause of this tutorial) is a homogeneous model without the blob."
      ]
    },
    {
      "cell_type": "code",
      "execution_count": null,
      "metadata": {},
      "outputs": [],
      "source": [
        "# Use xarray to define the blob in vs.\n",
        "def get_target_model():\n",
        "    x = np.linspace(-500, 500, 200)\n",
        "    y = np.linspace(-500, 500, 200)\n",
        "    xx, yy = np.meshgrid(x, y, indexing=\"ij\")\n",
        "\n",
        "    # Simple gaussian blob around the center of the domain.\n",
        "    d = (xx ** 2 + yy ** 2) ** 0.5\n",
        "    vs = np.exp(-0.5 * (d / 100.0) ** 2) * 250.0 + 1000.0\n",
        "\n",
        "    ds = xr.Dataset(\n",
        "        data_vars={\"vs\": ([\"x\", \"y\"], vs)}, coords={\"x\": x, \"y\": y}\n",
        "    )\n",
        "\n",
        "    return ds\n",
        "\n",
        "\n",
        "target_model = get_target_model()\n",
        "target_model.vs.plot()"
      ]
    },
    {
      "cell_type": "markdown",
      "metadata": {},
      "source": [
        "Create a mesh - this is directly used as the initial model."
      ]
    },
    {
      "cell_type": "code",
      "execution_count": null,
      "metadata": {},
      "outputs": [],
      "source": [
        "# Build mesh for the initial model.\n",
        "initial_model_mesh = sn.simple_mesh.CartesianHomogeneousIsotropicElastic2D(\n",
        "    vp=1500.0,\n",
        "    vs=1000.0,\n",
        "    rho=2000.0,\n",
        "    x_max=float(target_model.x.data.ptp()),\n",
        "    y_max=float(target_model.y.data.ptp()),\n",
        "    max_frequency=10.0,\n",
        "    tensor_order=1,\n",
        ").create_mesh()\n",
        "\n",
        "# Shift.\n",
        "initial_model_mesh.points[:, 0] += target_model.x.data.min()\n",
        "initial_model_mesh.points[:, 1] += target_model.y.data.min()"
      ]
    },
    {
      "cell_type": "markdown",
      "metadata": {},
      "source": [
        "Now interpolate the blob onto it thus creating the target mesh. Have a look at the perturbation in $v_s$."
      ]
    },
    {
      "cell_type": "code",
      "execution_count": null,
      "metadata": {},
      "outputs": [],
      "source": [
        "target_model_mesh = initial_model_mesh.copy()\n",
        "\n",
        "target_model_mesh = sn.toolbox.interpolate_cartesian(\n",
        "    data=target_model, mesh=target_model_mesh, extrapolate=True\n",
        ")\n",
        "target_model_mesh"
      ]
    },
    {
      "cell_type": "markdown",
      "metadata": {},
      "source": [
        "This is also the starting point for setting up a project for the inversion. We can directly create the project from the model defined above. We will call this model the `true_model`."
      ]
    },
    {
      "cell_type": "markdown",
      "metadata": {},
      "source": [
        "## Step 2: Setup the simulation with a single source and a ring of receivers"
      ]
    },
    {
      "cell_type": "code",
      "execution_count": null,
      "metadata": {
        "code_folding": []
      },
      "outputs": [],
      "source": [
        "# Explosive source in one corner of the mesh.\n",
        "src = sn.simple_config.source.cartesian.MomentTensorPoint2D(\n",
        "    mxx=10000.0,\n",
        "    myy=10000.0,\n",
        "    mxy=0.0,\n",
        "    x=300.0,\n",
        "    y=300.0,\n",
        "    source_time_function=sn.simple_config.stf.Ricker(center_frequency=5.0),\n",
        ")\n",
        "\n",
        "# A centered ring of receivers.\n",
        "recs = sn.simple_config.receiver.cartesian.collections.RingPoint2D(\n",
        "    x=0, y=0, radius=200.0, count=50, fields=[\"displacement\"]\n",
        ")\n",
        "\n",
        "# Create two simulation objects.\n",
        "# (1) The target will serve as observed data.\n",
        "w_target = sn.simple_config.simulation.Waveform(\n",
        "    mesh=target_model_mesh, sources=src, receivers=recs\n",
        ")\n",
        "w_target.physics.wave_equation.end_time_in_seconds = 1.0\n",
        "w_target\n",
        "\n",
        "\n",
        "# (2) The initial model will be used to compute synthetics.\n",
        "w_initial = sn.simple_config.simulation.Waveform(\n",
        "    mesh=initial_model_mesh, sources=src, receivers=recs\n",
        ")\n",
        "w_initial.physics.wave_equation.end_time_in_seconds = 1.0\n",
        "\n",
        "# Must store the checkpoints for the subsequent adjoint run.\n",
        "w_initial.output.volume_data.format = \"hdf5\"\n",
        "w_initial.output.volume_data.filename = \"output.h5\"\n",
        "w_initial.output.volume_data.fields = [\"adjoint-checkpoint\"]\n",
        "w_initial.output.volume_data.sampling_interval_in_time_steps = (\n",
        "    \"auto-for-checkpointing\"\n",
        ")"
      ]
    },
    {
      "cell_type": "markdown",
      "metadata": {},
      "source": [
        "## Step 3: Run Simulations\n",
        "\n",
        "For the target/observed model and the initial/current model."
      ]
    },
    {
      "cell_type": "code",
      "execution_count": null,
      "metadata": {},
      "outputs": [],
      "source": [
        "# Create the \"observed data\".\n",
        "j_target = sn.api.run(\n",
        "    input_file=w_target,\n",
        "    site_name=SALVUS_FLOW_SITE_NAME,\n",
        "    output_folder=\"output_target\",\n",
        "    overwrite=True,\n",
        ")\n",
        "\n",
        "# Forward run for the synthetics.\n",
        "j_initial = sn.api.run(\n",
        "    input_file=w_initial,\n",
        "    site_name=SALVUS_FLOW_SITE_NAME,\n",
        "    output_folder=\"output_initial\",\n",
        "    overwrite=True,\n",
        "    # Don't delete the remote files as they are needed\n",
        "    # for the adjoint run!\n",
        "    delete_remote_files=False,\n",
        ")"
      ]
    },
    {
      "cell_type": "code",
      "execution_count": null,
      "metadata": {},
      "outputs": [],
      "source": [
        "# Load the data from both runs, and visualize.\n",
        "#\n",
        "# Note that this is a vectorial receiver and thus the component\n",
        "# has to be specified.\n",
        "target_event = j_target.get_as_event()\n",
        "initial_event = j_initial.get_as_event()\n",
        "\n",
        "target_event.plot(receiver_field=\"displacement\", component=\"X\")\n",
        "initial_event.plot(receiver_field=\"displacement\", component=\"X\")"
      ]
    },
    {
      "cell_type": "markdown",
      "metadata": {},
      "source": [
        "## Step 4: Data Processing\n",
        "\n",
        "Data oftentimes has to be processed to be able to make a meaningful misfit measurement. You are free to perform any operation on the observed data - gradient computation/inversion does not care about that as it only sees the final result and operates no that. Synthetic data on the hand has to be processed carefully as structural gradients are partial derivatives of the misfit with respect to the model parameters. As the misfit is computed on the potentially processed synthetic data one has to account for that processing for the adjoint sources.\n",
        "\n",
        "Salvus can do this fully automatically for temporal weights, e.g. a multiplication of each data sample with a given factor. If such a weight is specified Salvus will take care to apply it correctly to the synthetics as well as the final adjoint source.\n",
        "\n",
        "The temporal weights enable classical processing steps like muting/damping of phases and windowing. At the Salvus*Flow* level it is specified as a function that is passed to the `EventData` objects."
      ]
    },
    {
      "cell_type": "code",
      "execution_count": null,
      "metadata": {},
      "outputs": [],
      "source": [
        "import typing\n",
        "\n",
        "import numpy as np\n",
        "import obspy\n",
        "\n",
        "from salvus.project.tools.data_selection import compute_window\n",
        "\n",
        "\n",
        "def compute_temporal_weights(\n",
        "    st: obspy.Stream,\n",
        "    receiver: sn.simple_config.receiver._Base,\n",
        "    sources: typing.List[sn.simple_config.source._Base],\n",
        ") -> typing.Dict[str, typing.List[np.ndarray]]:\n",
        "    \"\"\"\n",
        "    Function computing temporal weights.\n",
        "\n",
        "    This example function will taper to zero after the first arrival\n",
        "    which is just computed geometrically in this case.\n",
        "\n",
        "    Args:\n",
        "        st: The input data, one trace per component. Don't\n",
        "            modify it!\n",
        "        receiver: The receiver for the data.\n",
        "        sources: All sources for this event. Just one source\n",
        "            in many cases.\n",
        "\n",
        "    Returns:\n",
        "        A dictionary with a list of weight sets per component.\n",
        "    \"\"\"\n",
        "    # This project only has a single source per event.\n",
        "    # Does not yet account for the source time function.\n",
        "    distance = np.linalg.norm(\n",
        "        np.array(receiver.location) - np.array(sources[0].location)\n",
        "    )\n",
        "\n",
        "    first_arrival = distance / 1000.0 - 0.1  # Account for STF\n",
        "    taper_length = 0.1\n",
        "\n",
        "    weights = {}\n",
        "    for tr in st:\n",
        "        all_weights_for_components = []\n",
        "        component = tr.stats.channel[-1]\n",
        "        times = tr.times() + tr.stats.starttime.timestamp\n",
        "\n",
        "        # Only a single window for each trace.\n",
        "        weights[component] = [\n",
        "            {\n",
        "                \"values\": compute_window(\n",
        "                    t=times,\n",
        "                    window_center=first_arrival + 0.05,\n",
        "                    window_width=0.2,\n",
        "                    ramp_width=0.1,\n",
        "                )\n",
        "            }\n",
        "        ]\n",
        "\n",
        "    return weights\n",
        "\n",
        "\n",
        "# Can be hooked up to the event that will then process\n",
        "# the data on the fly.\n",
        "initial_event.register_temporal_weights_function(compute_temporal_weights)\n",
        "target_event.register_temporal_weights_function(compute_temporal_weights)\n",
        "\n",
        "# Now the processing is always applied for any subsequent action.\n",
        "initial_event.plot(receiver_field=\"displacement\", component=\"X\")\n",
        "target_event.plot(receiver_field=\"displacement\", component=\"X\")"
      ]
    },
    {
      "cell_type": "markdown",
      "metadata": {},
      "source": [
        "## Step 5: Compute adjoint sources and gradients\n",
        "\n",
        "Now that both events have registered data processing function, they can be used to compute adjoint sources. The actual misfit and adjoint source function can either be a string with any of the Salvus supported misfit functions, or a function. The misfit function in this interface always acts trace by trace and the total misfit is just summed up.\n",
        "\n",
        "The `EventMisfit` class takes care of efficiently computing everything when required and makes sure to create adjoint sources that are valid and fully compatible with the rest of Salvus. Things like receiver rotations are also taken care of."
      ]
    },
    {
      "cell_type": "code",
      "execution_count": null,
      "metadata": {},
      "outputs": [],
      "source": [
        "# Now construct a misfit object.\n",
        "event_misfit = sn.EventMisfit(\n",
        "    # For the purpose of this gradient we treat the simulation\n",
        "    # with the target model as observed data and the simulation\n",
        "    # with the intitial model as the synthetic data.\n",
        "    observed_event=target_event,\n",
        "    synthetic_event=initial_event,\n",
        "    # Choose misfit function - can also be a function.\n",
        "    misfit_function=\"L2\",\n",
        "    # Some misfit function take extra keyword arguments.\n",
        "    extra_kwargs_misfit_function={},\n",
        "    # Let's measure on the displacement.\n",
        "    receiver_field=\"displacement\",\n",
        ")\n",
        "\n",
        "print(\"Total misfit for event:\", event_misfit.misfit_value)"
      ]
    },
    {
      "cell_type": "code",
      "execution_count": null,
      "metadata": {},
      "outputs": [],
      "source": [
        "from salvus.flow.simple_config.simulation_generator import (\n",
        "    create_adjoint_waveform_simulation,\n",
        ")\n",
        "\n",
        "# Use the adjoint source to generate a simulation object for the\n",
        "# adjoint simulation. It is aware of the parameters of the forward\n",
        "# simulation and can thus guarantee everything is compatible.\n",
        "adjoint_source_filename = pathlib.Path(\"adjoint_source.h5\")\n",
        "event_misfit.write(filename=adjoint_source_filename)\n",
        "\n",
        "w_adjoint = create_adjoint_waveform_simulation(\n",
        "    meta_json_forward_run=event_misfit.synthetic_event.meta_json_contents,\n",
        "    adjoint_source_file=adjoint_source_filename,\n",
        "    gradient_parameterization=\"rho-vp-vs\",\n",
        ")\n",
        "\n",
        "# Last but not least actually run the adjoint simulation to compute\n",
        "# the gradient.\n",
        "sn.api.run(\n",
        "    input_file=w_adjoint,\n",
        "    site_name=SALVUS_FLOW_SITE_NAME,\n",
        "    output_folder=\"output_gradient\",\n",
        "    overwrite=True,\n",
        ")\n",
        "\n",
        "# Time to clean up the forward run.\n",
        "j_initial.delete()\n",
        "\n",
        "# Finally visualize the gradient.\n",
        "from salvus.mesh.unstructured_mesh import UnstructuredMesh\n",
        "\n",
        "UnstructuredMesh.from_h5(\"./output_gradient/gradient.h5\")"
      ]
    }
  ],
  "metadata": {
    "kernelspec": {
      "display_name": "Python 3",
      "language": "python",
      "name": "python3"
    }
  },
  "nbformat": 4,
  "nbformat_minor": 4
}