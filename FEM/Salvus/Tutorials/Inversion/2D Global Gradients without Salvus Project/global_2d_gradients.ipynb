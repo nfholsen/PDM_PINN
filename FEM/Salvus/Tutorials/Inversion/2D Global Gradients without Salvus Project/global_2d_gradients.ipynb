{
  "cells": [
    {
      "cell_type": "markdown",
      "metadata": {},
      "source": [
        "<div style='background-image: url(\"header.png\") ; padding: 0px ; background-size: cover ; border-radius: 5px ; height: 250px'>\n",
        "    <div style=\"float: right ; margin: 50px ; padding: 20px ; background: rgba(255 , 255 , 255 , 0.7) ; width: 50% ; height: 150px\">\n",
        "        <div style=\"position: relative ; top: 50% ; transform: translatey(-50%)\">\n",
        "            <div style=\"font-size: xx-large ; font-weight: 900 ; color: rgba(0 , 0 , 0 , 0.8) ; line-height: 100%\">Tutorial by Mondaic</div>\n",
        "            <div style=\"font-size: large ; padding-top: 20px ; color: rgba(0 , 0 , 0 , 0.5)\">For Salvus version 0.11.25</div>\n",
        "        </div>\n",
        "    </div>\n",
        "</div>"
      ]
    },
    {
      "cell_type": "markdown",
      "metadata": {},
      "source": [
        "# 2-D Global Gradients without Salvus*Project*\n",
        "\n",
        "This tutorial demonstrates how to compute gradients in a 2-D global Earth model only using Salvus*Flow* and Salvus*Mesh*. This is useful in cases where you want full control and individual runs are small enough that there is no advantage to use the persistent on-disc storage Salvus*Project* provides."
      ]
    },
    {
      "cell_type": "code",
      "execution_count": null,
      "metadata": {},
      "outputs": [],
      "source": [
        "# Global site name for all runs\n",
        "import os\n",
        "\n",
        "SALVUS_FLOW_SITE_NAME = os.environ.get(\"SITE_NAME\", \"local\")"
      ]
    },
    {
      "cell_type": "code",
      "execution_count": null,
      "metadata": {},
      "outputs": [],
      "source": [
        "%matplotlib inline\n",
        "\n",
        "from salvus.mesh.simple_mesh import basic_mesh\n",
        "from salvus.flow import simple_config\n",
        "from salvus.flow import api\n",
        "import salvus.namespace as sn\n",
        "\n",
        "import json\n",
        "import h5py\n",
        "import matplotlib.pyplot as plt\n",
        "import numpy as np\n",
        "import obspy\n",
        "import pathlib\n",
        "import typing"
      ]
    },
    {
      "cell_type": "code",
      "execution_count": null,
      "metadata": {},
      "outputs": [],
      "source": [
        "# Print all available 1-D Earth models. You can of course\n",
        "# provide your own.\n",
        "from salvus.mesh.models_1D import model\n",
        "\n",
        "model.get_builtin_models()"
      ]
    },
    {
      "cell_type": "code",
      "execution_count": null,
      "metadata": {},
      "outputs": [],
      "source": [
        "# The most important settings are collected here.\n",
        "PERIOD = 100.0\n",
        "\n",
        "# A good idea as the gradients are always computed\n",
        "# relative to the input parameterization. This will\n",
        "# just result in a much smoother looking gradient.\n",
        "# Planet will also be actually round.\n",
        "TENSOR_ORDER = 4\n",
        "\n",
        "# Probably up this a bit for any final results but works\n",
        "# just fine for testing purposes.\n",
        "ELEMENTS_PER_WAVELENGTH = 1.0\n",
        "\n",
        "# No latitude in 2-D. Receiver always at the surface.\n",
        "SRC_LONGITUDE = 0.0\n",
        "SRC_DEPTH_KM = 100.0\n",
        "REC_LONGITUDE = 135.0\n",
        "\n",
        "# It will by default select a window around this phase.\n",
        "PHASE = \"Pdiff\""
      ]
    },
    {
      "cell_type": "markdown",
      "metadata": {},
      "source": [
        "## Step 1: Build Mesh"
      ]
    },
    {
      "cell_type": "code",
      "execution_count": null,
      "metadata": {},
      "outputs": [],
      "source": [
        "m = basic_mesh.Circular2D()\n",
        "\n",
        "m.basic.model = \"prem_iso_no_crust\"\n",
        "m.basic.min_period_in_seconds = PERIOD\n",
        "m.basic.elements_per_wavelength = ELEMENTS_PER_WAVELENGTH\n",
        "m.advanced.tensor_order = TENSOR_ORDER\n",
        "\n",
        "m"
      ]
    },
    {
      "cell_type": "markdown",
      "metadata": {},
      "source": [
        "## Step 2: Setup Forward Run"
      ]
    },
    {
      "cell_type": "markdown",
      "metadata": {},
      "source": [
        "Available sources: https://mondaic.com/docs/references/python_apis/salvus_flow/simple_config/source/seismology\n",
        "\n",
        "Definitely choose a `SideSet...` one as this will guarantee they are exactly relative to the local mesh surface.\n",
        "\n",
        "Available source time functions: https://mondaic.com/docs/references/python_apis/salvus_flow/simple_config/stf"
      ]
    },
    {
      "cell_type": "code",
      "execution_count": null,
      "metadata": {},
      "outputs": [],
      "source": [
        "src = simple_config.source.seismology.SideSetMomentTensorPoint2D(\n",
        "    longitude=SRC_LONGITUDE,\n",
        "    depth_in_m=SRC_DEPTH_KM * 1000.0,\n",
        "    mrr=0.0,\n",
        "    mpp=0.0,\n",
        "    mrp=1e20,\n",
        "    side_set_name=\"r1\",\n",
        "    source_time_function=simple_config.stf.GaussianRate(\n",
        "        half_duration_in_seconds=PERIOD / 2.0\n",
        "    ),\n",
        ")"
      ]
    },
    {
      "cell_type": "markdown",
      "metadata": {},
      "source": [
        "Same logic with the receiver: https://mondaic.com/docs/references/python_apis/salvus_flow/simple_config/receiver/seismology"
      ]
    },
    {
      "cell_type": "code",
      "execution_count": null,
      "metadata": {},
      "outputs": [],
      "source": [
        "rec = simple_config.receiver.seismology.SideSetPoint2D(\n",
        "    longitude=REC_LONGITUDE,\n",
        "    station_code=\"AA\",\n",
        "    side_set_name=\"r1\",\n",
        "    fields=[\"velocity\"],\n",
        ")"
      ]
    },
    {
      "cell_type": "code",
      "execution_count": null,
      "metadata": {},
      "outputs": [],
      "source": [
        "# Create the simulation object.\n",
        "w = simple_config.simulation.Waveform(\n",
        "    mesh=m.create_mesh(),\n",
        "    sources=src,\n",
        "    receivers=rec,\n",
        "    end_time_in_seconds=2000.0,\n",
        "    # Necessary to be able to later run an adjoint\n",
        "    # simulation.\n",
        "    store_adjoint_checkpoints=True,\n",
        ")\n",
        "\n",
        "w.validate()\n",
        "w"
      ]
    },
    {
      "cell_type": "markdown",
      "metadata": {},
      "source": [
        "## Step 3: Forward Run"
      ]
    },
    {
      "cell_type": "code",
      "execution_count": null,
      "metadata": {},
      "outputs": [],
      "source": [
        "!rm -rf output\n",
        "job_forward = api.run(\n",
        "    input_file=w,\n",
        "    site_name=SALVUS_FLOW_SITE_NAME,\n",
        "    output_folder=\"output\",\n",
        "    ranks=4,\n",
        "    delete_remote_files=False,\n",
        ")"
      ]
    },
    {
      "cell_type": "markdown",
      "metadata": {},
      "source": [
        "## Step 4: Data Processing and Adjoint Source Computation"
      ]
    },
    {
      "cell_type": "code",
      "execution_count": null,
      "metadata": {},
      "outputs": [],
      "source": [
        "event = job_forward.get_as_event()\n",
        "event.get_receiver_data(\n",
        "    receiver_name=\"XX.AA.\", receiver_field=\"velocity\"\n",
        ").plot()"
      ]
    },
    {
      "cell_type": "markdown",
      "metadata": {},
      "source": [
        "Use ObsPy to automatically pick a window around a certain phase - but of course this can also be done manually."
      ]
    },
    {
      "cell_type": "code",
      "execution_count": null,
      "metadata": {},
      "outputs": [],
      "source": [
        "from obspy.taup import TauPyModel\n",
        "from obspy.geodetics import locations2degrees\n",
        "\n",
        "# Same model as in the Salvus meshing constructor.\n",
        "m = TauPyModel(model=\"prem\")\n",
        "\n",
        "distance = locations2degrees(0.0, SRC_LONGITUDE, 0.0, REC_LONGITUDE)\n",
        "\n",
        "arrivals = m.get_ray_paths(\n",
        "    distance_in_degree=distance,\n",
        "    source_depth_in_km=SRC_DEPTH_KM,\n",
        "    phase_list=[PHASE],\n",
        ")\n",
        "\n",
        "arrivals.plot_rays()\n",
        "\n",
        "window_center = arrivals[0].time\n",
        "\n",
        "print(f\"Distance: {distance} degrees\")\n",
        "print(f\"Window center: {window_center:.2f} seconds\")"
      ]
    },
    {
      "cell_type": "markdown",
      "metadata": {},
      "source": [
        "In the most general case Salvus supports applying temporal weights with a custom function. If processing is done this way, Salvus can later assure to do the correct thing when actually computing the adjoint source."
      ]
    },
    {
      "cell_type": "code",
      "execution_count": null,
      "metadata": {},
      "outputs": [],
      "source": [
        "from salvus.project.tools.data_selection import compute_window\n",
        "\n",
        "\n",
        "def temporal_weights_fct(\n",
        "    st: obspy.Stream,\n",
        "    receiver: simple_config.receiver._Base,\n",
        "    sources: typing.List[simple_config.source._Base],\n",
        ") -> typing.Dict[str, typing.List[typing.Dict]]:\n",
        "    # Absolute time array.\n",
        "    t = st[0].times() + st[0].stats.starttime.timestamp\n",
        "\n",
        "    weights = {}\n",
        "    for tr in st:\n",
        "        component = tr.stats.channel[-1]\n",
        "        # Only keep a window on the vertical component.\n",
        "        if component != \"Z\":\n",
        "            continue\n",
        "        weights[component] = [\n",
        "            {\n",
        "                \"values\": compute_window(\n",
        "                    t=t,\n",
        "                    window_center=window_center,\n",
        "                    window_width=2.0 * PERIOD,\n",
        "                    ramp_width=PERIOD,\n",
        "                )\n",
        "            }\n",
        "        ]\n",
        "    return weights\n",
        "\n",
        "\n",
        "event.register_temporal_weights_function(temporal_weights_fct)\n",
        "event.get_receiver_data(\n",
        "    receiver_name=\"XX.AA.\", receiver_field=\"velocity\"\n",
        ").plot()"
      ]
    },
    {
      "cell_type": "markdown",
      "metadata": {},
      "source": [
        "### Adjoint Source\n",
        "\n",
        "Salvus comes with a couple of built-in adjoint source. You can also define your own. Please refer to Salvus' documentation for details. Here we'll write a function to compute a simple no-data cross correlation adjoint source.\n",
        "\n",
        "Please not that you do not have to invert it in time but rather specify it in a forward time axis."
      ]
    },
    {
      "cell_type": "code",
      "execution_count": null,
      "metadata": {},
      "outputs": [],
      "source": [
        "def cc_misfit(data_synthetic: np.ndarray, sampling_rate_in_hertz: float):\n",
        "    dt = 1.0 / sampling_rate_in_hertz\n",
        "\n",
        "    s_dt = np.gradient(data_synthetic, dt)\n",
        "    s_dt_2 = np.gradient(s_dt, dt)\n",
        "\n",
        "    N = (data_synthetic * s_dt_2).sum() * dt\n",
        "\n",
        "    adj_src = -1.0 * (1.0 / N * s_dt)\n",
        "\n",
        "    # The first value is the misfit which does not really have a meaning here.\n",
        "    return 1.0, adj_src\n",
        "\n",
        "\n",
        "# Finally construct the misfit object.\n",
        "event_misfit = sn.EventMisfit(\n",
        "    # This particular misfit function does\n",
        "    # not require data.\n",
        "    observed_event=None,\n",
        "    synthetic_event=event,\n",
        "    # Passed as a function here for demonstration purposes.\n",
        "    # One could also pass a string to use Salvus' built-in\n",
        "    # misfit functions.\n",
        "    misfit_function=cc_misfit,\n",
        "    receiver_field=\"velocity\",\n",
        ")\n"
      ]
    },
    {
      "cell_type": "markdown",
      "metadata": {},
      "source": [
        "## Step 5: Adjoint Run"
      ]
    },
    {
      "cell_type": "code",
      "execution_count": null,
      "metadata": {},
      "outputs": [],
      "source": [
        "from salvus.flow.simple_config.simulation_generator import (\n",
        "    create_adjoint_waveform_simulation,\n",
        ")\n",
        "\n",
        "# Use the adjoint source to generate a simulation object for the\n",
        "# adjoint simulation. It is aware of the parameters of the forward\n",
        "# simulation and can thus guarantee everything is compatible.\n",
        "adjoint_source_filename = pathlib.Path(\"adjoint_source.h5\")\n",
        "event_misfit.write(filename=adjoint_source_filename)\n",
        "\n",
        "w_adjoint = create_adjoint_waveform_simulation(\n",
        "    meta_json_forward_run=event_misfit.synthetic_event.meta_json_contents,\n",
        "    adjoint_source_file=adjoint_source_filename,\n",
        "    gradient_parameterization=\"rho-vp-vs\",\n",
        ")\n",
        "\n",
        "# Finally run it to produce the gradient.\n",
        "job_adjoint = api.run(\n",
        "    input_file=w_adjoint,\n",
        "    site_name=SALVUS_FLOW_SITE_NAME,\n",
        "    output_folder=\"output_adjoint\",\n",
        "    overwrite=True,\n",
        "    ranks=4,\n",
        ")"
      ]
    },
    {
      "cell_type": "code",
      "execution_count": null,
      "metadata": {},
      "outputs": [],
      "source": [
        "# Visualize the gradients. Make sure to play with the color\n",
        "# scale to get a nicer result.\n",
        "\n",
        "from salvus.mesh.unstructured_mesh import UnstructuredMesh\n",
        "\n",
        "UnstructuredMesh.from_h5(\"output_adjoint/gradient.h5\")"
      ]
    },
    {
      "cell_type": "code",
      "execution_count": null,
      "metadata": {},
      "outputs": [],
      "source": [
        "# The forward job can now be deleted.\n",
        "job_forward.delete()"
      ]
    }
  ],
  "metadata": {
    "jupytext": {
      "formats": "ipynb,py:light"
    },
    "kernelspec": {
      "display_name": "Python 3",
      "language": "python",
      "name": "python3"
    }
  },
  "nbformat": 4,
  "nbformat_minor": 4
}