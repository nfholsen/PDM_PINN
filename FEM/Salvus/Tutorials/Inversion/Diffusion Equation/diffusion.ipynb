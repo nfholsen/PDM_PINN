{
  "cells": [
    {
      "cell_type": "markdown",
      "metadata": {},
      "source": [
        "<div style='background-image: url(\"header.png\") ; padding: 0px ; background-size: cover ; border-radius: 5px ; height: 250px'>\n",
        "    <div style=\"float: right ; margin: 50px ; padding: 20px ; background: rgba(255 , 255 , 255 , 0.7) ; width: 50% ; height: 150px\">\n",
        "        <div style=\"position: relative ; top: 50% ; transform: translatey(-50%)\">\n",
        "            <div style=\"font-size: xx-large ; font-weight: 900 ; color: rgba(0 , 0 , 0 , 0.8) ; line-height: 100%\">Tutorial by Mondaic</div>\n",
        "            <div style=\"font-size: large ; padding-top: 20px ; color: rgba(0 , 0 , 0 , 0.5)\">For Salvus version 0.11.25</div>\n",
        "        </div>\n",
        "    </div>\n",
        "</div>"
      ]
    },
    {
      "cell_type": "markdown",
      "metadata": {},
      "source": [
        "# Diffusion Equation\n",
        "\n",
        "We consider a spatial domain $\\Omega \\subset \\mathbf{R}^d$ (d = 2 or 3), a time interval $I = [0, T]$, and\n",
        "a diffusion equation of the following form:\n",
        "\n",
        "$$\n",
        "  m_0(\\mathbf{x}) \\partial_t u(\\mathbf{x},t) - \\nabla \\cdot \\big(\\mathcal{D}(\\mathbf{x}) \\nabla u(\\mathbf{x},t)\\big) = 0,\n",
        "$$\n",
        "\n",
        "with initial conditions\n",
        "\n",
        "$$u(\\mathbf{x},0) = u_{\\text{init}}(\\mathbf{x})$$.\n",
        "\n",
        "\n",
        "Here, $u$ denotes the space- and time-dependent diffusive field and $u_{\\text{init}}$ are describes external forces.\n",
        "$\\partial_t$ denotes the first time derivative and $\\nabla$ the spatial gradient operator.\n",
        "Furthermore, the scalar parameter $m_0$ and the symmetric second-order diffusion tensor $\\mathcal{D}$ are space-dependent coefficients.\n",
        "\n",
        "$\\mathcal{D}$ can be related to a Wiener process using the relation\n",
        "\n",
        "$$\\mathcal{D} = \\frac{1}{2} \\sigma \\sigma\\,^T,$$\n",
        "\n",
        "which direction-dependent smoothing lengths $\\sigma_i$.\n",
        "\n",
        "For the special case of $m_0 = 1$ and $T = 1$, $\\sigma$ corresponds to the standard deviation of the Gaussian smoothing in meters.\n",
        "\n",
        "In the isotropic case, $\\mathcal{D}$ simplifies to a scalar value, in which case we may re-write the diffusion equation as\n",
        "\n",
        "$$\n",
        "  m_0(\\mathbf{x}) \\partial_t u(\\mathbf{x},t) - \\nabla \\cdot \\big(m_1(\\mathbf{x}) \\nabla u(\\mathbf{x},t)\\big) = 0,\n",
        "$$\n",
        "\n",
        "with $m_1 = 0.5 * \\sigma^2$ and the isotropic smoothing length $\\sigma$."
      ]
    },
    {
      "cell_type": "code",
      "execution_count": null,
      "metadata": {},
      "outputs": [],
      "source": [
        "%config Completer.use_jedi = False"
      ]
    },
    {
      "cell_type": "code",
      "execution_count": null,
      "metadata": {},
      "outputs": [],
      "source": [
        "# Standard Python packages\n",
        "import matplotlib.pyplot as plt\n",
        "import numpy as np\n",
        "import os\n",
        "import toml\n",
        "\n",
        "# Salvus imports\n",
        "from salvus.mesh.structured_grid_2D import StructuredGrid2D\n",
        "from salvus.mesh.unstructured_mesh import UnstructuredMesh\n",
        "import salvus.flow.api\n",
        "import salvus.flow.simple_config as sc\n",
        "\n",
        "SALVUS_FLOW_SITE_NAME = os.environ.get(\"SITE_NAME\", \"token\")"
      ]
    },
    {
      "cell_type": "code",
      "execution_count": null,
      "metadata": {},
      "outputs": [],
      "source": [
        "sg = StructuredGrid2D.rectangle(nelem_x=40, nelem_y=60, max_x=4.0, max_y=6.0)\n",
        "mesh = sg.get_unstructured_mesh()\n",
        "mesh.find_side_sets(\"cartesian\")\n",
        "input_mesh = mesh.copy()"
      ]
    },
    {
      "cell_type": "code",
      "execution_count": null,
      "metadata": {},
      "outputs": [],
      "source": [
        "input_mesh.attach_field(\"some_field\", np.random.randn(mesh.npoint))\n",
        "input_mesh.map_nodal_fields_to_element_nodal()\n",
        "input_mesh.write_h5(\"initial_values.h5\")\n",
        "input_mesh"
      ]
    },
    {
      "cell_type": "code",
      "execution_count": null,
      "metadata": {},
      "outputs": [],
      "source": [
        "smoothing_length_in_meters = 0.1\n",
        "\n",
        "mesh.attach_field(\"M0\", np.ones_like(mesh.get_element_nodes()[:, :, 0]))\n",
        "mesh.attach_field(\n",
        "    \"M1\",\n",
        "    0.5\n",
        "    * smoothing_length_in_meters ** 2\n",
        "    * np.ones_like(mesh.get_element_nodes()[:, :, 0]),\n",
        ")\n",
        "mesh.attach_field(\"fluid\", np.ones(mesh.nelem))\n",
        "mesh"
      ]
    },
    {
      "cell_type": "code",
      "execution_count": null,
      "metadata": {},
      "outputs": [],
      "source": [
        "sim = sc.simulation.Diffusion(mesh=mesh)\n",
        "\n",
        "sim.domain.polynomial_order = 1\n",
        "\n",
        "sim.physics.diffusion_equation.time_step_in_seconds = 1e-3\n",
        "sim.physics.diffusion_equation.courant_number = 0.06\n",
        "\n",
        "sim.physics.diffusion_equation.initial_values.filename = \"initial_values.h5\"\n",
        "sim.physics.diffusion_equation.initial_values.format = \"hdf5\"\n",
        "sim.physics.diffusion_equation.initial_values.field = \"some_field\"\n",
        "\n",
        "sim.physics.diffusion_equation.final_values.filename = \"out.h5\"\n",
        "\n",
        "sim.output.volume_data.filename = \"diffusion.h5\"\n",
        "sim.output.volume_data.format = \"hdf5\"\n",
        "sim.output.volume_data.fields = [\"phi\"]\n",
        "sim.output.volume_data.sampling_interval_in_time_steps = 10\n",
        "\n",
        "sim.validate()"
      ]
    },
    {
      "cell_type": "code",
      "execution_count": null,
      "metadata": {},
      "outputs": [],
      "source": [
        "salvus.flow.api.run(\n",
        "    site_name=SALVUS_FLOW_SITE_NAME,\n",
        "    input_file=sim,\n",
        "    ranks=1,\n",
        "    output_folder=\"output\",\n",
        "    get_all=True,\n",
        "    overwrite=True,\n",
        "    wall_time_in_seconds=600,\n",
        ")"
      ]
    },
    {
      "cell_type": "code",
      "execution_count": null,
      "metadata": {},
      "outputs": [],
      "source": [
        "mesh = UnstructuredMesh.from_h5(filename=\"output/out.h5\")\n",
        "mesh"
      ]
    }
  ],
  "metadata": {
    "jupytext": {
      "cell_metadata_json": true
    },
    "kernelspec": {
      "display_name": "Python 3",
      "language": "python",
      "name": "python3"
    }
  },
  "nbformat": 4,
  "nbformat_minor": 4
}