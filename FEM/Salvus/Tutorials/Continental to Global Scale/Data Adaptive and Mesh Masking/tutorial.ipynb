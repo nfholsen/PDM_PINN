{
  "cells": [
    {
      "cell_type": "markdown",
      "metadata": {},
      "source": [
        "<div style='background-image: url(\"header.png\") ; padding: 0px ; background-size: cover ; border-radius: 5px ; height: 250px'>\n",
        "    <div style=\"float: right ; margin: 50px ; padding: 20px ; background: rgba(255 , 255 , 255 , 0.7) ; width: 50% ; height: 150px\">\n",
        "        <div style=\"position: relative ; top: 50% ; transform: translatey(-50%)\">\n",
        "            <div style=\"font-size: xx-large ; font-weight: 900 ; color: rgba(0 , 0 , 0 , 0.8) ; line-height: 100%\">Tutorial by Mondaic</div>\n",
        "            <div style=\"font-size: large ; padding-top: 20px ; color: rgba(0 , 0 , 0 , 0.5)\">For Salvus version 0.11.25</div>\n",
        "        </div>\n",
        "    </div>\n",
        "</div>"
      ]
    },
    {
      "cell_type": "markdown",
      "metadata": {},
      "source": [
        "# Data Adaptive Mesh Masking\n",
        "\n",
        "In many seismologic applications, the source reveiver distribution does not follow a simple geometry such as a square or a circle. Due to the fact that sources are mostly confined to plate boundaries and stations are almost always on land, very complicated domain shapes are common. See [1] for an application.\n",
        "\n",
        "In this tutorial, we show two different ways of adapting a mesh to the source receiver distribution my removing elements from a larger mesh that are not passed by waves of interest. The example we use here is a quake in Turkey recorded on the Search Results USArray Reference Network (\\_US-REF)."
      ]
    },
    {
      "cell_type": "code",
      "execution_count": null,
      "metadata": {},
      "outputs": [],
      "source": [
        "%matplotlib inline\n",
        "%config Completer.use_jedi = False\n",
        "\n",
        "from salvus.mesh.simple_mesh import SmoothieSEM, Globe3D\n",
        "from salvus import namespace as sn\n",
        "\n",
        "from obspy.clients.fdsn import Client\n",
        "\n",
        "# a quake in Turkey that we will use in this tutorial, original data from IRIS spud:\n",
        "# http://service.iris.edu/fdsnws/event/1/query?eventid=2847365\n",
        "# http://ds.iris.edu/spudservice/momenttensor/gcmtid/C201003241411A/quakeml#momenttensor\n",
        "source = sn.simple_config.source.seismology.SideSetMomentTensorPoint3D(\n",
        "    latitude=38.82,\n",
        "    longitude=40.14,\n",
        "    depth_in_m=4500,\n",
        "    side_set_name=\"r1\",\n",
        "    mrr=5.47e15,\n",
        "    mtt=-4.11e16,\n",
        "    mpp=3.56e16,\n",
        "    mrt=2.26e16,\n",
        "    mrp=-2.25e16,\n",
        "    mtp=1.92e16,\n",
        ")\n",
        "\n",
        "# get USarray stations from iris\n",
        "inv = Client(\"IRIS\").get_stations(\n",
        "    network=\"_US-REF\", level=\"station\", format=\"text\"\n",
        ")\n",
        "\n",
        "receivers = sn.simple_config.receiver.seismology.parse(\n",
        "    inv, dimensions=3, fields=[\"displacement\"]\n",
        ")\n",
        "\n",
        "# prepare an event collection that will later be used to mask the mesh to a region of interest\n",
        "event_collection = sn.EventCollection.from_sources(\n",
        "    sources=[source], receivers=receivers\n",
        ")"
      ]
    },
    {
      "cell_type": "markdown",
      "metadata": {},
      "source": [
        "## Method 1: Surface Based\n",
        "\n",
        "In the first approach, we only mask out element based on there lateral position on the sphere and ignore the depth (this approach is used in [1]). To achieve this, a covex hull is built from the sources and receivers and all elements within that hull as well as those within a specified distance are retained in the mesh."
      ]
    },
    {
      "cell_type": "code",
      "execution_count": null,
      "metadata": {},
      "outputs": [],
      "source": [
        "from salvus.mesh.mask_generators import SurfaceMaskGenerator\n",
        "\n",
        "sm = Globe3D()\n",
        "sm.basic.model = \"prem_iso_one_crust\"\n",
        "sm.basic.min_period_in_seconds = 100.0\n",
        "sm.basic.elements_per_wavelength = 2.0\n",
        "sm.spherical.min_radius = 4000.0\n",
        "\n",
        "\n",
        "# use event collection to create a surface mask\n",
        "smg = SurfaceMaskGenerator(\n",
        "    event_collection,\n",
        "    number_of_points=1000,\n",
        "    distance_in_km=1000.0,\n",
        ")\n",
        "\n",
        "# hand over the mask as a callback funcion\n",
        "sm.create_mesh(mesh_processing_callback=smg)"
      ]
    },
    {
      "cell_type": "markdown",
      "metadata": {},
      "source": [
        "## Method 2: Body Wave Rays\n",
        "\n",
        "Alternatively, we can use rays computed with obspy.TauPy to mask out all elements beyond a specified distance from the rays. E.g. for teleseismic body wave tomography, this reduces the number of elements further in comparison to the surface based masking. This may be particularly interesting in the context of SmoothieSEM meshes, however, this works identically with standard cubed sphere type meshes.\n",
        "\n",
        "In this particular example we only use the P-waves, as would be applicable in a teleseismic P-wave tomography:"
      ]
    },
    {
      "cell_type": "code",
      "execution_count": null,
      "metadata": {
        "lines_to_next_cell": 0
      },
      "outputs": [],
      "source": [
        "from salvus.mesh.mask_generators import RayMaskGenerator\n",
        "\n",
        "sm = SmoothieSEM()\n",
        "sm.basic.model = \"prem_iso_one_crust\"\n",
        "sm.basic.min_period_in_seconds = 50.0\n",
        "sm.basic.elements_per_wavelength = 2.0\n",
        "sm.basic.number_of_lateral_elements = 12\n",
        "sm.spherical.min_radius = 1500.0\n",
        "\n",
        "# no refinement, rotation to a source in Turkey\n",
        "sm.basic.number_of_lateral_elements = 10\n",
        "sm.source.latitude = source._initial_arguments[\"latitude\"]\n",
        "sm.source.longitude = source._initial_arguments[\"longitude\"]\n",
        "\n",
        "# use event collection to create a ray mask\n",
        "rmg = RayMaskGenerator(\n",
        "    event_collection,\n",
        "    phases=[\"P\"],\n",
        "    number_of_points_per_ray=100,\n",
        "    distance_in_km=1000.0,\n",
        ")\n",
        "\n",
        "sm.create_mesh(mesh_processing_callback=rmg)"
      ]
    },
    {
      "cell_type": "markdown",
      "metadata": {},
      "source": [
        "## References\n",
        "\n",
        "[1] van Herwaarden, Dirk Philip, Christian Boehm, Michael Afanasiev, Solvi Thrastarson, Lion Krischer, Jeannot Trampert, and Andreas Fichtner. 2020. \u201cAccelerated Full-Waveform Inversion Using Dynamic Mini-Batches.\u201d Geophysical Journal International 221 (2): 1427\u201338. https://doi.org/10.1093/gji/ggaa079."
      ]
    }
  ],
  "metadata": {
    "jupytext": {
      "cell_metadata_json": true,
      "formats": "ipynb,py:light"
    },
    "kernelspec": {
      "display_name": "Python 3",
      "language": "python",
      "name": "python3"
    }
  },
  "nbformat": 4,
  "nbformat_minor": 4
}