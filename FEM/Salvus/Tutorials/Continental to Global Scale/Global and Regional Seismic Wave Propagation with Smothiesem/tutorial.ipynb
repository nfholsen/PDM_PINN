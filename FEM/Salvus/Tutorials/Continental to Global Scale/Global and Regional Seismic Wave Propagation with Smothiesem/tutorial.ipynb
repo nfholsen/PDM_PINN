{
  "cells": [
    {
      "cell_type": "markdown",
      "metadata": {},
      "source": [
        "<div style='background-image: url(\"header.png\") ; padding: 0px ; background-size: cover ; border-radius: 5px ; height: 250px'>\n",
        "    <div style=\"float: right ; margin: 50px ; padding: 20px ; background: rgba(255 , 255 , 255 , 0.7) ; width: 50% ; height: 150px\">\n",
        "        <div style=\"position: relative ; top: 50% ; transform: translatey(-50%)\">\n",
        "            <div style=\"font-size: xx-large ; font-weight: 900 ; color: rgba(0 , 0 , 0 , 0.8) ; line-height: 100%\">Tutorial by Mondaic</div>\n",
        "            <div style=\"font-size: large ; padding-top: 20px ; color: rgba(0 , 0 , 0 , 0.5)\">For Salvus version 0.11.25</div>\n",
        "        </div>\n",
        "    </div>\n",
        "</div>"
      ]
    },
    {
      "cell_type": "markdown",
      "metadata": {},
      "source": [
        "# Global and Regional Seismic Wave Propagation with Smothiesem\n",
        "\n",
        "This tutorial demonstrates how to prepare meshes for global seismic wave simulations using the anisotropic adaptive mesh refinement rechnique (aamr), which in this context is also known as smoothiesem [1, 2]. The meshes are specifically build for a particular source location to take advantage of the lateral smoothness of the wavefield and reduce the numerical burden significantly for global and regional scale simulations.\n",
        "\n",
        "The mesh can be refined in predefined depth, distance and azimuth regions. Additionally, the domain can be restricted to a region of interest as discussed in the separate data adaptive mesh masking tutorial.\n",
        "\n",
        "In this tutorial we demonstrate the basic concept and most important parameters to build these meshes."
      ]
    },
    {
      "cell_type": "code",
      "execution_count": null,
      "metadata": {},
      "outputs": [],
      "source": [
        "%matplotlib inline\n",
        "%config Completer.use_jedi = False\n",
        "\n",
        "from salvus.mesh.simple_mesh import SmoothieSEM\n",
        "from salvus import namespace as sn\n",
        "\n",
        "from obspy.clients.fdsn import Client\n",
        "\n",
        "period_global = 100.0\n",
        "\n",
        "# a quake in Turkey that we will use in this tutorial, original data from IRIS spud:\n",
        "# http://service.iris.edu/fdsnws/event/1/query?eventid=2847365\n",
        "# http://ds.iris.edu/spudservice/momenttensor/gcmtid/C201003241411A/quakeml#momenttensor\n",
        "source = sn.simple_config.source.seismology.SideSetMomentTensorPoint3D(\n",
        "    latitude=38.82,\n",
        "    longitude=40.14,\n",
        "    depth_in_m=4500,\n",
        "    side_set_name=\"r1\",\n",
        "    mrr=5.47e15,\n",
        "    mtt=-4.11e16,\n",
        "    mpp=3.56e16,\n",
        "    mrt=2.26e16,\n",
        "    mrp=-2.25e16,\n",
        "    mtp=1.92e16,\n",
        ")"
      ]
    },
    {
      "cell_type": "markdown",
      "metadata": {},
      "source": [
        "## Full Sphere Meshes"
      ]
    },
    {
      "cell_type": "markdown",
      "metadata": {},
      "source": [
        "First, we build some full sphere meshes to highlight the different lateral refinement options."
      ]
    },
    {
      "cell_type": "markdown",
      "metadata": {},
      "source": [
        "### 1) no lateral refinement"
      ]
    },
    {
      "cell_type": "markdown",
      "metadata": {},
      "source": [
        "The simplemost smoothiesem mesh is a full sphere with no lateral refinements and the symmetry axis is aligned with the seismic source location. The tensor order controls boths the accuracy of representing the seismic velocities as well as the geometry of the domain (here: the sphere). On top, the parameter `nlat` allows to vary the number of elements in the lateral direction that is used throughout the whole mesh. Compare Figure 9 in [1] to choose values appropriate for your application."
      ]
    },
    {
      "cell_type": "code",
      "execution_count": null,
      "metadata": {
        "lines_to_next_cell": 0
      },
      "outputs": [],
      "source": [
        "sm = SmoothieSEM()\n",
        "sm.basic.model = \"prem_iso_one_crust\"\n",
        "sm.basic.min_period_in_seconds = period_global\n",
        "sm.basic.elements_per_wavelength = 2.0\n",
        "\n",
        "sm.advanced.tensor_order = 2\n",
        "sm.basic.number_of_lateral_elements = 4\n",
        "sm.source.latitude = source._initial_arguments[\"latitude\"]\n",
        "sm.source.longitude = source._initial_arguments[\"longitude\"]\n",
        "\n",
        "sm.create_mesh()"
      ]
    },
    {
      "cell_type": "markdown",
      "metadata": {},
      "source": [
        "### 2) lateral refinement at the surface as a function of distance\n",
        "\n",
        "This type of refinement is particularly useful to increase resolution of the surface towards the equator, hence to improve resolution of surface waves as well as surface topography. Here, `theta` is the angular distance from the source in the range [0\u00b0, 180\u00b0]. Multiple such refinements can be combined, but refinement boundaries should not cross to ensure high quality elements: each refinement should be fully contained in all previous refinements."
      ]
    },
    {
      "cell_type": "code",
      "execution_count": null,
      "metadata": {},
      "outputs": [],
      "source": [
        "sm.refinement.lateral_refinements = [\n",
        "    {\n",
        "        \"theta_min\": 60.0,\n",
        "        \"theta_max\": 150.0,\n",
        "        \"r_min\": 6000.0,\n",
        "    },\n",
        "    {\n",
        "        \"theta_min\": 80.0,\n",
        "        \"theta_max\": 130.0,\n",
        "        \"r_min\": 6200.0,\n",
        "    },\n",
        "]\n",
        "\n",
        "sm.create_mesh()"
      ]
    },
    {
      "cell_type": "markdown",
      "metadata": {},
      "source": [
        "### 3) lateral refinement at the surface as a function of distance in a constrained azimuth range\n",
        "\n",
        "This type of refinement may be used to increase resolution in particular areas of interest defined by a distance and azimuth range [-180\u00b0, 180\u00b0] for [`phi_min`, `phi_max`] relative to the source azimuths measured clockwise from north. This may be a practical alternative to absorbing boundaries and a azimuthally constrained domain."
      ]
    },
    {
      "cell_type": "code",
      "execution_count": null,
      "metadata": {},
      "outputs": [],
      "source": [
        "sm.refinement.lateral_refinements = [\n",
        "    {\n",
        "        \"theta_min\": 40.0,\n",
        "        \"theta_max\": 110.0,\n",
        "        \"r_min\": 6000.0,\n",
        "        \"phi_min\": -45.0,\n",
        "        \"phi_max\": 45.0,\n",
        "    }\n",
        "]\n",
        "\n",
        "sm.source.azimuth = 270.0\n",
        "\n",
        "sm.create_mesh()"
      ]
    },
    {
      "cell_type": "markdown",
      "metadata": {},
      "source": [
        "### 4) lateral refinements at depth\n",
        "\n",
        "The lateral refinements can also be contrained to a depth region not at the surface to resolve e.g. small scale structure at a certain dept of interest. This can be achieved with the `r_max` parameter of ther lateral refinement object:"
      ]
    },
    {
      "cell_type": "code",
      "execution_count": null,
      "metadata": {},
      "outputs": [],
      "source": [
        "sm.refinement.lateral_refinements = [\n",
        "    {\n",
        "        \"theta_min\": 40.0,\n",
        "        \"theta_max\": 110.0,\n",
        "        \"r_min\": 3000.0,\n",
        "        \"r_max\": 4000.0,\n",
        "        \"phi_min\": -45.0,\n",
        "        \"phi_max\": 45.0,\n",
        "    }\n",
        "]\n",
        "\n",
        "sm.create_mesh()"
      ]
    },
    {
      "cell_type": "markdown",
      "metadata": {},
      "source": [
        "## Regional Meshes\n",
        "\n",
        "The meshing region can be constrained in depth and distance to create regional or local meshes with higher resolution. This is provided by the following options in the simple mesh object. These parameters can freely be combined with the refinement parameters from above."
      ]
    },
    {
      "cell_type": "code",
      "execution_count": null,
      "metadata": {},
      "outputs": [],
      "source": [
        "sml = SmoothieSEM()\n",
        "sml.basic.model = \"prem_iso_one_crust\"\n",
        "sml.basic.min_period_in_seconds = 10.0\n",
        "sml.basic.elements_per_wavelength = 2.0\n",
        "\n",
        "sml.spherical.min_radius = 6000.0\n",
        "sml.chunk.max_colatitude = 10.0\n",
        "\n",
        "sml.advanced.tensor_order = 2\n",
        "sml.basic.number_of_lateral_elements = 4\n",
        "sml.source.latitude = source._initial_arguments[\"latitude\"]\n",
        "sml.source.longitude = source._initial_arguments[\"longitude\"]\n",
        "\n",
        "sml.create_mesh()"
      ]
    },
    {
      "cell_type": "markdown",
      "metadata": {
        "lines_to_next_cell": 2
      },
      "source": [
        "## 3D: Topography, Crustal Thickness, Ocean Loading, Ellipticity\n",
        "\n",
        "SmoothieSEM meshes are also capable to include smooth 3D stucture both in terms of the material properties (i.e. seismic velocities) as well as the domain shape (e.g. topography). However, special care needs to be taken to choose appropriate resolution for the mesh as well as the 3D structure and this is currently not automatized. Instead, it is the users responsibility to explicitly choose the resolution of the input data used in the meshing and verify not only it is represented without aliasing on the mesh, but also that the smoothieSEM approximation is still apropriate for the given application e.g. by a convergence test refining in azimuthal direction.\n",
        "\n",
        "First, download the data files:"
      ]
    },
    {
      "cell_type": "code",
      "execution_count": null,
      "metadata": {},
      "outputs": [],
      "source": [
        "import pathlib\n",
        "import requests\n",
        "\n",
        "for fname in [\n",
        "    \"topography_earth2014_egm2008_lmax_256.nc\",\n",
        "    \"bathymetry_earth2014_lmax_256.nc\",\n",
        "    \"moho_topography_crust_1_0_egm2008.nc\",\n",
        "]:\n",
        "\n",
        "    topography_file = pathlib.Path(fname)\n",
        "\n",
        "    if not topography_file.exists():\n",
        "        r = requests.get(\n",
        "            f\"https://data.mondaic.com/topography-data/{fname}\",\n",
        "            stream=True,\n",
        "        )\n",
        "\n",
        "        assert r.ok\n",
        "\n",
        "        with topography_file.open(\"wb\") as f:\n",
        "            f.write(r.raw.read())"
      ]
    },
    {
      "cell_type": "markdown",
      "metadata": {},
      "source": [
        "\n",
        "Topography, crustal thickness, ocean loading and ellipticity can be included in the meshing using the following options:"
      ]
    },
    {
      "cell_type": "code",
      "execution_count": null,
      "metadata": {},
      "outputs": [],
      "source": [
        "sm = SmoothieSEM()\n",
        "sm.basic.model = \"prem_iso_one_crust\"\n",
        "sm.basic.min_period_in_seconds = 100.0\n",
        "sm.basic.elements_per_wavelength = 2.0\n",
        "sm.basic.number_of_lateral_elements = 6\n",
        "sm.advanced.tensor_order = 2\n",
        "\n",
        "sm.source.latitude = 38.82\n",
        "sm.source.longitude = 40.14\n",
        "\n",
        "sm.topography.topography_file = \"topography_earth2014_egm2008_lmax_256.nc\"\n",
        "sm.topography.topography_varname = (\n",
        "    \"topography_earth2014_egm2008_lmax_256_lmax_32\"\n",
        ")\n",
        "\n",
        "sm.topography.moho_topography_file = \"moho_topography_crust_1_0_egm2008.nc\"\n",
        "sm.topography.moho_topography_varname = (\n",
        "    \"moho_topography_crust_1_0_egm2008_lmax_32\"\n",
        ")"
      ]
    },
    {
      "cell_type": "markdown",
      "metadata": {},
      "source": [
        "The topography files can be directly opened with paraview (using the `NetCDF Reader`) to vizualize the available datasets. The variable name is composed of the filename appended with the maximum resolution in terms of the spherical harmonic degree and order `lmax`. For reasonable accuracy, `lmax` should not be larger than approximately `number_of_lateral_elements` * `tensor_order`, so the settings in the example here are very optimistic to keep it small enough."
      ]
    },
    {
      "cell_type": "code",
      "execution_count": null,
      "metadata": {},
      "outputs": [],
      "source": [
        "# WGS84 ellipticity value\n",
        "sm.spherical.ellipticity = 0.0033528106647474805\n",
        "\n",
        "m = sm.create_mesh()\n",
        "\n",
        "# for vizualisation compute the radius (note that this in case includes the ellipticity)\n",
        "m.attach_field(\"r\", (m.points ** 2).sum(axis=1) ** 0.5)\n",
        "\n",
        "# choose 'OCEANLOAD' or 'r' in the widget to see the 3D data\n",
        "m"
      ]
    },
    {
      "cell_type": "markdown",
      "metadata": {},
      "source": [
        "## References\n",
        "\n",
        "[1] Driel, Martin van, C Boehm, Lion Krischer, and Michael Afanasiev. 2020. \u201cAccelerating Numerical Wave Propagation Using Wavefield Adapted Meshes. Part I: Forward and Adjoint Modelling.\u201d Geophysical Journal International 221 (3): 1580\u201390. https://doi.org/10.1093/gji/ggaa058.\n",
        "\n",
        "[2] Thrastarson, Solvi, Martin van Driel, Lion Krischer, Christian Boehm, Michael Afanasiev, Dirk-Philip van Herwaarden, and Andreas Fichtner. 2020. \u201cAccelerating Numerical Wave Propagation by Wavefield Adapted Meshes. Part II: Full-Waveform Inversion.\u201d Geophysical Journal International 221 (3): 1591\u20131604. https://doi.org/10.1093/gji/ggaa065."
      ]
    }
  ],
  "metadata": {
    "jupytext": {
      "cell_metadata_json": true,
      "formats": "ipynb,py:light"
    },
    "kernelspec": {
      "display_name": "Python 3",
      "language": "python",
      "name": "python3"
    }
  },
  "nbformat": 4,
  "nbformat_minor": 4
}