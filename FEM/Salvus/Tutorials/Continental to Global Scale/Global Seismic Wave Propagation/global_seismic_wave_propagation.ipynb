{
  "cells": [
    {
      "cell_type": "markdown",
      "metadata": {},
      "source": [
        "<div style='background-image: url(\"header.png\") ; padding: 0px ; background-size: cover ; border-radius: 5px ; height: 250px'>\n",
        "    <div style=\"float: right ; margin: 50px ; padding: 20px ; background: rgba(255 , 255 , 255 , 0.7) ; width: 50% ; height: 150px\">\n",
        "        <div style=\"position: relative ; top: 50% ; transform: translatey(-50%)\">\n",
        "            <div style=\"font-size: xx-large ; font-weight: 900 ; color: rgba(0 , 0 , 0 , 0.8) ; line-height: 100%\">Tutorial by Mondaic</div>\n",
        "            <div style=\"font-size: large ; padding-top: 20px ; color: rgba(0 , 0 , 0 , 0.5)\">For Salvus version 0.11.25</div>\n",
        "        </div>\n",
        "    </div>\n",
        "</div>"
      ]
    },
    {
      "cell_type": "markdown",
      "metadata": {},
      "source": [
        "# Global Seismic Wave Propagation\n",
        "\n",
        "This short tutorial demonstrates how to perform a global seismic wave simulation on Earth and how to work with seismological community data formats within Salvus.\n",
        "\n",
        "## A note of caution\n",
        "\n",
        "Fully 3-D global seismic waveform simulations can be amongst the biggest numerical simulations. Across all sciences. In many cases you might not have enough computational power available to run things you would like to run. Seismologists spent many decades on developing approximate methods using various simplifications and it might be worthwhile searching the literature for these.\n",
        "\n",
        "That being said - there is of course merit in these simulations and performing these is one of the reasons why Salvus was originally created. Salvus itself supports a number of these but this is not the topic of this tutorial.\n",
        "\n",
        "#### How big is too big?\n",
        "\n",
        "A good rule of thumb is to try to use about 5000 4th order elements in 3-D per rank/process. Thus a simulation with 1 million elements already requires a machine/cluster with about 200 cores.\n",
        "\n",
        "Another thing to note is that these simulations scale with highest simulated frequency to the 4th power. Thus doubling the frequency results in 16 times the simulation costs.\n",
        "\n",
        "#### What will we be doing in this tutorial?\n",
        "\n",
        "We will run a simulation of the 2011 Tohoku-Oki earthquake and record it at receivers from the global seismological network (GSN). Because we want to run this on a laptop we will run this at periods of 4000 seconds. This is of course completely impractical for any real world simulation but it demonstrates how to use Salvus and the computation actually finishes in a few seconds.\n",
        "\n",
        "One of Salvus' best features is its scalability. Changing a single variable (`period` here) and re-running the whole notebook could also be used to run realistic and large-scale simulations.\n",
        "\n",
        "Steps we will perform:\n",
        "\n",
        "* Build a cubed-sphere mesh of the whole Earth.\n",
        "* Build a source object for the Tohoku-Oki earthquake.\n",
        "* Download receiver information for GSN stations from the IRIS DMC data center.\n",
        "* Assemble all that information into a waveform simulation object.\n",
        "* Actually run that simulation.\n",
        "* Look at the data.\n",
        "\n",
        "## Additional requirements\n",
        "\n",
        "Aside from Salvus, this tutorial requires the `pyasdf` and `obspy` Python libraries which can be installed either via `pip` or via `conda`."
      ]
    },
    {
      "cell_type": "code",
      "execution_count": null,
      "metadata": {},
      "outputs": [],
      "source": [
        "%matplotlib inline\n",
        "%config Completer.use_jedi = False\n",
        "import os\n",
        "import obspy.clients.fdsn\n",
        "import pyasdf\n",
        "\n",
        "from salvus.flow import api, simple_config\n",
        "from salvus.mesh import simple_mesh\n",
        "\n",
        "SALVUS_FLOW_SITE_NAME = os.environ.get(\"SITE_NAME\", \"local\")"
      ]
    },
    {
      "cell_type": "markdown",
      "metadata": {},
      "source": [
        "## Setup the simulation"
      ]
    },
    {
      "cell_type": "code",
      "execution_count": null,
      "metadata": {},
      "outputs": [],
      "source": [
        "# Controls the dominant period of the mesh and the width\n",
        "# of the source time function. It is given in seconds.\n",
        "period = 4000.0\n",
        "\n",
        "# We'll first build a mesh using the simple_mesh interface.\n",
        "m = simple_mesh.Globe3D()\n",
        "m.basic.min_period_in_seconds = period\n",
        "# At these period we don't require a crust. Adding a 3D model\n",
        "# is the topic of another tutorial.\n",
        "m.basic.model = \"prem_ani_no_crust\"\n",
        "# Higher order shapes and models better approximate the sphere.\n",
        "# With order 4 we achieve a very good approximation of it\n",
        "# even with only very few elements.\n",
        "m.advanced.tensor_order = 4\n",
        "# In order to make it a bit more interesting we'll create an\n",
        "# elliptic mesh. This is the WGS84 ellipsoid.\n",
        "m.spherical.ellipticity = 0.0033528106647474805\n",
        "# This is an important setting. The more elementes per wavelength\n",
        "# the more accurate the solution. 2 is a conservative value and\n",
        "# the default. Many global seismologist only use 1 element per\n",
        "# wavelength which ends up being 16 times cheaper in terms of\n",
        "# simulation cost but is still usable in many scenarios.\n",
        "m.basic.elements_per_wavelength = 2.0\n",
        "\n",
        "\n",
        "# Tohuko-Oki earthquake. Information is taken from the GCMT catalog\n",
        "# which unfortunately does not offer a proper web service.\n",
        "source = simple_config.source.seismology.SideSetMomentTensorPoint3D(\n",
        "    latitude=37.5200,\n",
        "    longitude=143.0500,\n",
        "    depth_in_m=20000,\n",
        "    side_set_name=\"r1\",\n",
        "    mrr=1.730000e22,\n",
        "    mtt=-2.810000e21,\n",
        "    mpp=-1.450000e22,\n",
        "    mrt=2.120000e22,\n",
        "    mrp=4.550000e22,\n",
        "    mtp=-6.570000e21,\n",
        "    source_time_function=simple_config.stf.GaussianRate(\n",
        "        half_duration_in_seconds=period / 2\n",
        "    ),\n",
        ")\n",
        "# Download GSN stations via IRIS. _GSN is the virtual GSN network\n",
        "# which groups a number of actual seismic network.\n",
        "inv = obspy.clients.fdsn.Client(\"IRIS\").get_stations(\n",
        "    network=\"_GSN\", level=\"station\", format=\"text\"\n",
        ")\n",
        "\n",
        "\n",
        "# Create the simulation object and combine all the information.\n",
        "w = simple_config.simulation.Waveform(mesh=m.create_mesh())\n",
        "# Sources and receivers will be placed exactly relative to the\n",
        "# local mesh surface. Please refer to the sources and receivers\n",
        "# documentation for more details.\n",
        "w.add_sources(source)\n",
        "w.add_receivers(\n",
        "    simple_config.receiver.seismology.parse(\n",
        "        inv, dimensions=3, fields=[\"displacement\"]\n",
        "    )\n",
        ")\n",
        "\n",
        "# Visualize it.\n",
        "w"
      ]
    },
    {
      "cell_type": "markdown",
      "metadata": {},
      "source": [
        "## Run the simulation and visualize the waveforms"
      ]
    },
    {
      "cell_type": "code",
      "execution_count": null,
      "metadata": {},
      "outputs": [],
      "source": [
        "# We use SalvusFlow to run the simulation. The site determines\n",
        "# where it will run in the end. Might be the local machine, or\n",
        "# a large remote cluster.\n",
        "api.run(\n",
        "    input_file=w,\n",
        "    site_name=SALVUS_FLOW_SITE_NAME,\n",
        "    output_folder=\"global_simulation\",\n",
        ")"
      ]
    },
    {
      "cell_type": "code",
      "execution_count": null,
      "metadata": {},
      "outputs": [],
      "source": [
        "# Now we'll just randomly select a waveform to plot.\n",
        "ds = pyasdf.ASDFDataSet(\"./global_simulation/receivers.h5\")\n",
        "ds.waveforms.IU_ANMO.displacement.plot()"
      ]
    }
  ],
  "metadata": {
    "jupytext": {
      "cell_metadata_json": true,
      "formats": "ipynb,py:light"
    },
    "kernelspec": {
      "display_name": "Python 3",
      "language": "python",
      "name": "python3"
    }
  },
  "nbformat": 4,
  "nbformat_minor": 4
}