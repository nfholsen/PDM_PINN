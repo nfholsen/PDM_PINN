{
 "metadata": {
  "language_info": {
   "codemirror_mode": {
    "name": "ipython",
    "version": 3
   },
   "file_extension": ".py",
   "mimetype": "text/x-python",
   "name": "python",
   "nbconvert_exporter": "python",
   "pygments_lexer": "ipython3",
   "version": "3.7.9-final"
  },
  "orig_nbformat": 2,
  "kernelspec": {
   "name": "python3",
   "display_name": "Python 3.7.9 64-bit ('FEM': conda)",
   "metadata": {
    "interpreter": {
     "hash": "1c563b7fe953dbdb3ba4eaa59e9d412b923356d4359154e0be2e5b29e65e0d56"
    }
   }
  }
 },
 "nbformat": 4,
 "nbformat_minor": 2,
 "cells": [
  {
   "cell_type": "code",
   "execution_count": 2,
   "metadata": {},
   "outputs": [],
   "source": [
    "from esys.escript import *\n",
    "# This defines the LinearPDE module as LinearPDE\n",
    "from esys.escript.linearPDEs import LinearPDE\n",
    "# This imports the rectangle domain function from finley.\n",
    "from esys.finley import Rectangle\n",
    "# A useful unit handling package which will make sure all our units\n",
    "# match up in the equations under SI.\n",
    "from esys.escript.unitsSI import *\n",
    "\n",
    "import matplotlib.pyplot as plt\n",
    "import os\n",
    "import numpy as np\n",
    "\n",
    "save_path = os.path.join(\"Example1\",\"Imgs\")\n",
    "#os.mkdir(save_path)"
   ]
  },
  {
   "cell_type": "code",
   "execution_count": 3,
   "metadata": {},
   "outputs": [],
   "source": [
    "mx = 500.*m #meters - model length\n",
    "my = 100.*m #meters - model width\n",
    "ndx = 50 # mesh steps in x direction\n",
    "ndy = 1 # mesh steps in y direction\n",
    "boundloc = mx/2 # location of boundary between the two blocks"
   ]
  },
  {
   "cell_type": "code",
   "execution_count": 4,
   "metadata": {},
   "outputs": [],
   "source": [
    "# Granite \n",
    "# PDE related\n",
    "rho = 2750. *kg/m**3 #kg/mˆ{3} density of iron\n",
    "cp = 790.*J/(kg*K) # J/Kg.K thermal capacity\n",
    "rhocp = rho*cp\n",
    "kappa = 2.2*W/m/K # watts/m.Kthermal conductivity\n",
    "qH=0 * J/(sec*m**3) # J/(sec.mˆ{3}) no heat source\n",
    "T1=20 * Celsius # initial temperature at Block 1\n",
    "T2=2273. * Celsius # base temperature at Block 2"
   ]
  },
  {
   "cell_type": "code",
   "execution_count": 5,
   "metadata": {},
   "outputs": [
    {
     "output_type": "stream",
     "name": "stdout",
     "text": [
      "Expected Number of time outputs is:  200.0\n"
     ]
    }
   ],
   "source": [
    "t=0 * day # our start time, usually zero\n",
    "tend=50 * yr # - time to end simulation\n",
    "outputs = 200 # number of time steps required.\n",
    "h=(tend-t)/outputs #size of time step\n",
    "#user warning statement\n",
    "print(\"Expected Number of time outputs is: \", (tend-t)/h)\n",
    "i=0 #loop counter"
   ]
  },
  {
   "cell_type": "code",
   "execution_count": 6,
   "metadata": {},
   "outputs": [],
   "source": [
    "# Generate domain using rectangle\n",
    "blocks = Rectangle(l0=mx,l1=my,n0=ndx, n1=ndy)"
   ]
  },
  {
   "cell_type": "code",
   "execution_count": 7,
   "metadata": {},
   "outputs": [],
   "source": [
    "mypde=LinearPDE(blocks)\n",
    "A=zeros((2,2))\n",
    "A[0,0]=kappa\n",
    "mypde.setValue(A=A, D=rhocp/h)"
   ]
  },
  {
   "cell_type": "code",
   "execution_count": 8,
   "metadata": {},
   "outputs": [],
   "source": [
    "mypde.setSymmetryOn()"
   ]
  },
  {
   "cell_type": "code",
   "execution_count": 9,
   "metadata": {},
   "outputs": [],
   "source": [
    "# ... set initial temperature ....\n",
    "x=Solution(blocks).getX()\n",
    "T= T1*whereNegative(x[0]-boundloc)+T2*(1-whereNegative(x[0]-boundloc))"
   ]
  },
  {
   "cell_type": "code",
   "execution_count": 10,
   "metadata": {},
   "outputs": [],
   "source": [
    "#convert solution points for plotting\n",
    "plx = x.toListOfTuples()\n",
    "plx = np.array(plx) # convert to tuple to numpy array\n",
    "plx = plx[:,0] # extract x locations"
   ]
  },
  {
   "cell_type": "code",
   "execution_count": 11,
   "metadata": {},
   "outputs": [
    {
     "output_type": "stream",
     "name": "stdout",
     "text": [
      "time step 1 at t=9.131063e+01 days completed. total energy = 1.566568e+14.\n",
      "time step 2 at t=1.826213e+02 days completed. total energy = 1.566568e+14.\n",
      "C:\\Users\\nilso\\Anaconda3\\envs\\FEM\\lib\\site-packages\\matplotlib\\cbook\\__init__.py:2347: DeprecationWarning: Using or importing the ABCs from 'collections' instead of from 'collections.abc' is deprecated since Python 3.3,and in 3.9 it will stop working\n",
      "  if isinstance(obj, collections.Iterator):\n",
      "C:\\Users\\nilso\\Anaconda3\\envs\\FEM\\lib\\site-packages\\matplotlib\\cbook\\__init__.py:2364: DeprecationWarning: Using or importing the ABCs from 'collections' instead of from 'collections.abc' is deprecated since Python 3.3,and in 3.9 it will stop working\n",
      "  return list(data) if isinstance(data, collections.MappingView) else data\n",
      "time step 3 at t=2.739319e+02 days completed. total energy = 1.566568e+14.\n",
      "time step 4 at t=3.652425e+02 days completed. total energy = 1.566568e+14.\n",
      "time step 5 at t=4.565531e+02 days completed. total energy = 1.566568e+14.\n",
      "time step 6 at t=5.478637e+02 days completed. total energy = 1.566568e+14.\n",
      "time step 7 at t=6.391744e+02 days completed. total energy = 1.566568e+14.\n",
      "time step 8 at t=7.304850e+02 days completed. total energy = 1.566568e+14.\n",
      "time step 9 at t=8.217956e+02 days completed. total energy = 1.566568e+14.\n",
      "time step 10 at t=9.131063e+02 days completed. total energy = 1.566568e+14.\n",
      "time step 11 at t=1.004417e+03 days completed. total energy = 1.566568e+14.\n",
      "time step 12 at t=1.095727e+03 days completed. total energy = 1.566568e+14.\n",
      "time step 13 at t=1.187038e+03 days completed. total energy = 1.566568e+14.\n",
      "time step 14 at t=1.278349e+03 days completed. total energy = 1.566568e+14.\n",
      "time step 15 at t=1.369659e+03 days completed. total energy = 1.566568e+14.\n",
      "time step 16 at t=1.460970e+03 days completed. total energy = 1.566568e+14.\n",
      "time step 17 at t=1.552281e+03 days completed. total energy = 1.566568e+14.\n",
      "time step 18 at t=1.643591e+03 days completed. total energy = 1.566568e+14.\n",
      "time step 19 at t=1.734902e+03 days completed. total energy = 1.566568e+14.\n",
      "time step 20 at t=1.826213e+03 days completed. total energy = 1.566568e+14.\n",
      "time step 21 at t=1.917523e+03 days completed. total energy = 1.566568e+14.\n",
      "time step 22 at t=2.008834e+03 days completed. total energy = 1.566568e+14.\n",
      "time step 23 at t=2.100144e+03 days completed. total energy = 1.566568e+14.\n",
      "time step 24 at t=2.191455e+03 days completed. total energy = 1.566568e+14.\n",
      "time step 25 at t=2.282766e+03 days completed. total energy = 1.566568e+14.\n",
      "time step 26 at t=2.374076e+03 days completed. total energy = 1.566568e+14.\n",
      "time step 27 at t=2.465387e+03 days completed. total energy = 1.566568e+14.\n",
      "time step 28 at t=2.556698e+03 days completed. total energy = 1.566568e+14.\n",
      "time step 29 at t=2.648008e+03 days completed. total energy = 1.566568e+14.\n",
      "time step 30 at t=2.739319e+03 days completed. total energy = 1.566568e+14.\n",
      "time step 31 at t=2.830629e+03 days completed. total energy = 1.566568e+14.\n",
      "time step 32 at t=2.921940e+03 days completed. total energy = 1.566568e+14.\n",
      "time step 33 at t=3.013251e+03 days completed. total energy = 1.566568e+14.\n",
      "time step 34 at t=3.104561e+03 days completed. total energy = 1.566568e+14.\n",
      "time step 35 at t=3.195872e+03 days completed. total energy = 1.566568e+14.\n",
      "time step 36 at t=3.287182e+03 days completed. total energy = 1.566568e+14.\n",
      "time step 37 at t=3.378493e+03 days completed. total energy = 1.566568e+14.\n",
      "time step 38 at t=3.469804e+03 days completed. total energy = 1.566568e+14.\n",
      "time step 39 at t=3.561114e+03 days completed. total energy = 1.566568e+14.\n",
      "time step 40 at t=3.652425e+03 days completed. total energy = 1.566568e+14.\n",
      "time step 41 at t=3.743736e+03 days completed. total energy = 1.566568e+14.\n",
      "time step 42 at t=3.835046e+03 days completed. total energy = 1.566568e+14.\n",
      "time step 43 at t=3.926357e+03 days completed. total energy = 1.566568e+14.\n",
      "time step 44 at t=4.017668e+03 days completed. total energy = 1.566568e+14.\n",
      "time step 45 at t=4.108978e+03 days completed. total energy = 1.566568e+14.\n",
      "time step 46 at t=4.200289e+03 days completed. total energy = 1.566568e+14.\n",
      "time step 47 at t=4.291599e+03 days completed. total energy = 1.566568e+14.\n",
      "time step 48 at t=4.382910e+03 days completed. total energy = 1.566568e+14.\n",
      "time step 49 at t=4.474221e+03 days completed. total energy = 1.566568e+14.\n",
      "time step 50 at t=4.565531e+03 days completed. total energy = 1.566568e+14.\n",
      "time step 51 at t=4.656842e+03 days completed. total energy = 1.566568e+14.\n",
      "time step 52 at t=4.748153e+03 days completed. total energy = 1.566568e+14.\n",
      "time step 53 at t=4.839463e+03 days completed. total energy = 1.566568e+14.\n",
      "time step 54 at t=4.930774e+03 days completed. total energy = 1.566568e+14.\n",
      "time step 55 at t=5.022084e+03 days completed. total energy = 1.566568e+14.\n",
      "time step 56 at t=5.113395e+03 days completed. total energy = 1.566568e+14.\n",
      "time step 57 at t=5.204706e+03 days completed. total energy = 1.566568e+14.\n",
      "time step 58 at t=5.296016e+03 days completed. total energy = 1.566568e+14.\n",
      "time step 59 at t=5.387327e+03 days completed. total energy = 1.566568e+14.\n",
      "time step 60 at t=5.478637e+03 days completed. total energy = 1.566568e+14.\n",
      "time step 61 at t=5.569948e+03 days completed. total energy = 1.566568e+14.\n",
      "time step 62 at t=5.661259e+03 days completed. total energy = 1.566568e+14.\n",
      "time step 63 at t=5.752569e+03 days completed. total energy = 1.566568e+14.\n",
      "time step 64 at t=5.843880e+03 days completed. total energy = 1.566568e+14.\n",
      "time step 65 at t=5.935191e+03 days completed. total energy = 1.566568e+14.\n",
      "time step 66 at t=6.026501e+03 days completed. total energy = 1.566568e+14.\n",
      "time step 67 at t=6.117812e+03 days completed. total energy = 1.566568e+14.\n",
      "time step 68 at t=6.209123e+03 days completed. total energy = 1.566568e+14.\n",
      "time step 69 at t=6.300433e+03 days completed. total energy = 1.566568e+14.\n",
      "time step 70 at t=6.391744e+03 days completed. total energy = 1.566568e+14.\n",
      "time step 71 at t=6.483054e+03 days completed. total energy = 1.566568e+14.\n",
      "time step 72 at t=6.574365e+03 days completed. total energy = 1.566568e+14.\n",
      "time step 73 at t=6.665676e+03 days completed. total energy = 1.566568e+14.\n",
      "time step 74 at t=6.756986e+03 days completed. total energy = 1.566568e+14.\n",
      "time step 75 at t=6.848297e+03 days completed. total energy = 1.566568e+14.\n",
      "time step 76 at t=6.939608e+03 days completed. total energy = 1.566568e+14.\n",
      "time step 77 at t=7.030918e+03 days completed. total energy = 1.566568e+14.\n",
      "time step 78 at t=7.122229e+03 days completed. total energy = 1.566568e+14.\n",
      "time step 79 at t=7.213539e+03 days completed. total energy = 1.566568e+14.\n",
      "time step 80 at t=7.304850e+03 days completed. total energy = 1.566568e+14.\n",
      "time step 81 at t=7.396161e+03 days completed. total energy = 1.566568e+14.\n",
      "time step 82 at t=7.487471e+03 days completed. total energy = 1.566568e+14.\n",
      "time step 83 at t=7.578782e+03 days completed. total energy = 1.566568e+14.\n",
      "time step 84 at t=7.670092e+03 days completed. total energy = 1.566568e+14.\n",
      "time step 85 at t=7.761403e+03 days completed. total energy = 1.566568e+14.\n",
      "time step 86 at t=7.852714e+03 days completed. total energy = 1.566568e+14.\n",
      "time step 87 at t=7.944024e+03 days completed. total energy = 1.566568e+14.\n",
      "time step 88 at t=8.035335e+03 days completed. total energy = 1.566568e+14.\n",
      "time step 89 at t=8.126646e+03 days completed. total energy = 1.566568e+14.\n",
      "time step 90 at t=8.217956e+03 days completed. total energy = 1.566568e+14.\n",
      "time step 91 at t=8.309267e+03 days completed. total energy = 1.566568e+14.\n",
      "time step 92 at t=8.400577e+03 days completed. total energy = 1.566568e+14.\n",
      "time step 93 at t=8.491888e+03 days completed. total energy = 1.566568e+14.\n",
      "time step 94 at t=8.583199e+03 days completed. total energy = 1.566568e+14.\n",
      "time step 95 at t=8.674509e+03 days completed. total energy = 1.566568e+14.\n",
      "time step 96 at t=8.765820e+03 days completed. total energy = 1.566568e+14.\n",
      "time step 97 at t=8.857131e+03 days completed. total energy = 1.566568e+14.\n",
      "time step 98 at t=8.948441e+03 days completed. total energy = 1.566568e+14.\n",
      "time step 99 at t=9.039752e+03 days completed. total energy = 1.566568e+14.\n",
      "time step 100 at t=9.131062e+03 days completed. total energy = 1.566568e+14.\n",
      "time step 101 at t=9.222373e+03 days completed. total energy = 1.566568e+14.\n",
      "time step 102 at t=9.313684e+03 days completed. total energy = 1.566568e+14.\n",
      "time step 103 at t=9.404994e+03 days completed. total energy = 1.566568e+14.\n",
      "time step 104 at t=9.496305e+03 days completed. total energy = 1.566568e+14.\n",
      "time step 105 at t=9.587616e+03 days completed. total energy = 1.566568e+14.\n",
      "time step 106 at t=9.678926e+03 days completed. total energy = 1.566568e+14.\n",
      "time step 107 at t=9.770237e+03 days completed. total energy = 1.566568e+14.\n",
      "time step 108 at t=9.861548e+03 days completed. total energy = 1.566568e+14.\n",
      "time step 109 at t=9.952858e+03 days completed. total energy = 1.566568e+14.\n",
      "time step 110 at t=1.004417e+04 days completed. total energy = 1.566568e+14.\n",
      "time step 111 at t=1.013548e+04 days completed. total energy = 1.566568e+14.\n",
      "time step 112 at t=1.022679e+04 days completed. total energy = 1.566568e+14.\n",
      "time step 113 at t=1.031810e+04 days completed. total energy = 1.566568e+14.\n",
      "time step 114 at t=1.040941e+04 days completed. total energy = 1.566568e+14.\n",
      "time step 115 at t=1.050072e+04 days completed. total energy = 1.566568e+14.\n",
      "time step 116 at t=1.059203e+04 days completed. total energy = 1.566568e+14.\n",
      "time step 117 at t=1.068334e+04 days completed. total energy = 1.566568e+14.\n",
      "time step 118 at t=1.077465e+04 days completed. total energy = 1.566568e+14.\n",
      "time step 119 at t=1.086596e+04 days completed. total energy = 1.566568e+14.\n",
      "time step 120 at t=1.095727e+04 days completed. total energy = 1.566568e+14.\n",
      "time step 121 at t=1.104859e+04 days completed. total energy = 1.566568e+14.\n",
      "time step 122 at t=1.113990e+04 days completed. total energy = 1.566568e+14.\n",
      "time step 123 at t=1.123121e+04 days completed. total energy = 1.566568e+14.\n",
      "time step 124 at t=1.132252e+04 days completed. total energy = 1.566568e+14.\n",
      "time step 125 at t=1.141383e+04 days completed. total energy = 1.566568e+14.\n",
      "time step 126 at t=1.150514e+04 days completed. total energy = 1.566568e+14.\n",
      "time step 127 at t=1.159645e+04 days completed. total energy = 1.566568e+14.\n",
      "time step 128 at t=1.168776e+04 days completed. total energy = 1.566568e+14.\n",
      "time step 129 at t=1.177907e+04 days completed. total energy = 1.566568e+14.\n",
      "time step 130 at t=1.187038e+04 days completed. total energy = 1.566568e+14.\n",
      "time step 131 at t=1.196169e+04 days completed. total energy = 1.566568e+14.\n",
      "time step 132 at t=1.205300e+04 days completed. total energy = 1.566568e+14.\n",
      "time step 133 at t=1.214431e+04 days completed. total energy = 1.566568e+14.\n",
      "time step 134 at t=1.223562e+04 days completed. total energy = 1.566568e+14.\n",
      "time step 135 at t=1.232693e+04 days completed. total energy = 1.566568e+14.\n",
      "time step 136 at t=1.241825e+04 days completed. total energy = 1.566568e+14.\n",
      "time step 137 at t=1.250956e+04 days completed. total energy = 1.566568e+14.\n",
      "time step 138 at t=1.260087e+04 days completed. total energy = 1.566568e+14.\n",
      "time step 139 at t=1.269218e+04 days completed. total energy = 1.566568e+14.\n",
      "time step 140 at t=1.278349e+04 days completed. total energy = 1.566568e+14.\n",
      "time step 141 at t=1.287480e+04 days completed. total energy = 1.566568e+14.\n",
      "time step 142 at t=1.296611e+04 days completed. total energy = 1.566568e+14.\n",
      "time step 143 at t=1.305742e+04 days completed. total energy = 1.566568e+14.\n",
      "time step 144 at t=1.314873e+04 days completed. total energy = 1.566568e+14.\n",
      "time step 145 at t=1.324004e+04 days completed. total energy = 1.566568e+14.\n",
      "time step 146 at t=1.333135e+04 days completed. total energy = 1.566568e+14.\n",
      "time step 147 at t=1.342266e+04 days completed. total energy = 1.566568e+14.\n",
      "time step 148 at t=1.351397e+04 days completed. total energy = 1.566568e+14.\n",
      "time step 149 at t=1.360528e+04 days completed. total energy = 1.566568e+14.\n",
      "time step 150 at t=1.369659e+04 days completed. total energy = 1.566568e+14.\n",
      "time step 151 at t=1.378790e+04 days completed. total energy = 1.566568e+14.\n",
      "time step 152 at t=1.387922e+04 days completed. total energy = 1.566568e+14.\n",
      "time step 153 at t=1.397053e+04 days completed. total energy = 1.566568e+14.\n",
      "time step 154 at t=1.406184e+04 days completed. total energy = 1.566568e+14.\n",
      "time step 155 at t=1.415315e+04 days completed. total energy = 1.566568e+14.\n",
      "time step 156 at t=1.424446e+04 days completed. total energy = 1.566568e+14.\n",
      "time step 157 at t=1.433577e+04 days completed. total energy = 1.566568e+14.\n",
      "time step 158 at t=1.442708e+04 days completed. total energy = 1.566568e+14.\n",
      "time step 159 at t=1.451839e+04 days completed. total energy = 1.566568e+14.\n",
      "time step 160 at t=1.460970e+04 days completed. total energy = 1.566568e+14.\n",
      "time step 161 at t=1.470101e+04 days completed. total energy = 1.566568e+14.\n",
      "time step 162 at t=1.479232e+04 days completed. total energy = 1.566568e+14.\n",
      "time step 163 at t=1.488363e+04 days completed. total energy = 1.566568e+14.\n",
      "time step 164 at t=1.497494e+04 days completed. total energy = 1.566568e+14.\n",
      "time step 165 at t=1.506625e+04 days completed. total energy = 1.566568e+14.\n",
      "time step 166 at t=1.515756e+04 days completed. total energy = 1.566568e+14.\n",
      "time step 167 at t=1.524887e+04 days completed. total energy = 1.566568e+14.\n",
      "time step 168 at t=1.534018e+04 days completed. total energy = 1.566568e+14.\n",
      "time step 169 at t=1.543150e+04 days completed. total energy = 1.566568e+14.\n",
      "time step 170 at t=1.552281e+04 days completed. total energy = 1.566568e+14.\n",
      "time step 171 at t=1.561412e+04 days completed. total energy = 1.566568e+14.\n",
      "time step 172 at t=1.570543e+04 days completed. total energy = 1.566568e+14.\n",
      "time step 173 at t=1.579674e+04 days completed. total energy = 1.566568e+14.\n",
      "time step 174 at t=1.588805e+04 days completed. total energy = 1.566568e+14.\n",
      "time step 175 at t=1.597936e+04 days completed. total energy = 1.566568e+14.\n",
      "time step 176 at t=1.607067e+04 days completed. total energy = 1.566568e+14.\n",
      "time step 177 at t=1.616198e+04 days completed. total energy = 1.566568e+14.\n",
      "time step 178 at t=1.625329e+04 days completed. total energy = 1.566568e+14.\n",
      "time step 179 at t=1.634460e+04 days completed. total energy = 1.566568e+14.\n",
      "time step 180 at t=1.643591e+04 days completed. total energy = 1.566568e+14.\n",
      "time step 181 at t=1.652722e+04 days completed. total energy = 1.566568e+14.\n",
      "time step 182 at t=1.661853e+04 days completed. total energy = 1.566568e+14.\n",
      "time step 183 at t=1.670984e+04 days completed. total energy = 1.566568e+14.\n",
      "time step 184 at t=1.680115e+04 days completed. total energy = 1.566568e+14.\n",
      "time step 185 at t=1.689247e+04 days completed. total energy = 1.566568e+14.\n",
      "time step 186 at t=1.698378e+04 days completed. total energy = 1.566568e+14.\n",
      "time step 187 at t=1.707509e+04 days completed. total energy = 1.566568e+14.\n",
      "time step 188 at t=1.716640e+04 days completed. total energy = 1.566568e+14.\n",
      "time step 189 at t=1.725771e+04 days completed. total energy = 1.566568e+14.\n",
      "time step 190 at t=1.734902e+04 days completed. total energy = 1.566568e+14.\n",
      "time step 191 at t=1.744033e+04 days completed. total energy = 1.566568e+14.\n",
      "time step 192 at t=1.753164e+04 days completed. total energy = 1.566568e+14.\n",
      "time step 193 at t=1.762295e+04 days completed. total energy = 1.566568e+14.\n",
      "time step 194 at t=1.771426e+04 days completed. total energy = 1.566568e+14.\n",
      "time step 195 at t=1.780557e+04 days completed. total energy = 1.566568e+14.\n",
      "time step 196 at t=1.789688e+04 days completed. total energy = 1.566568e+14.\n",
      "time step 197 at t=1.798819e+04 days completed. total energy = 1.566568e+14.\n",
      "time step 198 at t=1.807950e+04 days completed. total energy = 1.566568e+14.\n",
      "time step 199 at t=1.817081e+04 days completed. total energy = 1.566568e+14.\n",
      "time step 200 at t=1.826212e+04 days completed. total energy = 1.566568e+14.\n"
     ]
    },
    {
     "output_type": "display_data",
     "data": {
      "text/plain": "<Figure size 432x288 with 0 Axes>"
     },
     "metadata": {}
    }
   ],
   "source": [
    "t_list=[]\n",
    "E_list=[]\n",
    "# ... start iteration:\n",
    "while t<tend:\n",
    "    i+=1\n",
    "    t+=h\n",
    "    mypde.setValue(Y=qH+rhocp/h*T) # set variable PDE coefficients\n",
    "    T=mypde.getSolution() #get the PDE solution\n",
    "    totE=integrate(rhocp*T)\n",
    "\n",
    "    print(\"time step %s at t=%e days completed. total energy = %e.\"%(i,t/day,totE))\n",
    "\n",
    "    t_list.append(t) # add current time mark to record\n",
    "    E_list.append(totE) # add current total energy to record\n",
    "\n",
    "    #establish figure 1 for temperature vs x plots\n",
    "    tempT = T.toListOfTuples()\n",
    "    plt.figure(1) #current figure\n",
    "    plt.plot(plx,tempT) #plot solution\n",
    "    # add title\n",
    "    plt.axis([0,mx,T1*.9,T2*1.1])\n",
    "    plt.title(\"Temperature across blocks at time %d days\"%(t/day))\n",
    "    #save figure to file\n",
    "    plt.savefig(os.path.join(save_path, \"blockspyplot%03d.png\"%i))\n",
    "    plt.clf() #clear figure"
   ]
  },
  {
   "cell_type": "code",
   "execution_count": 12,
   "metadata": {},
   "outputs": [
    {
     "output_type": "execute_result",
     "data": {
      "text/plain": [
       "[0, 1577847600.0, 0, 172322483829730.88]"
      ]
     },
     "metadata": {},
     "execution_count": 12
    },
    {
     "output_type": "display_data",
     "data": {
      "text/plain": "<Figure size 432x288 with 1 Axes>",
      "image/svg+xml": "<?xml version=\"1.0\" encoding=\"utf-8\" standalone=\"no\"?>\r\n<!DOCTYPE svg PUBLIC \"-//W3C//DTD SVG 1.1//EN\"\r\n  \"http://www.w3.org/Graphics/SVG/1.1/DTD/svg11.dtd\">\r\n<!-- Created with matplotlib (http://matplotlib.org/) -->\r\n<svg height=\"276.314375pt\" version=\"1.1\" viewBox=\"0 0 375.603125 276.314375\" width=\"375.603125pt\" xmlns=\"http://www.w3.org/2000/svg\" xmlns:xlink=\"http://www.w3.org/1999/xlink\">\r\n <defs>\r\n  <style type=\"text/css\">\r\n*{stroke-linecap:butt;stroke-linejoin:round;}\r\n  </style>\r\n </defs>\r\n <g id=\"figure_1\">\r\n  <g id=\"patch_1\">\r\n   <path d=\"M 0 276.314375 \r\nL 375.603125 276.314375 \r\nL 375.603125 0 \r\nL 0 0 \r\nz\r\n\" style=\"fill:none;\"/>\r\n  </g>\r\n  <g id=\"axes_1\">\r\n   <g id=\"patch_2\">\r\n    <path d=\"M 30.103125 239.758125 \r\nL 364.903125 239.758125 \r\nL 364.903125 22.318125 \r\nL 30.103125 22.318125 \r\nz\r\n\" style=\"fill:#ffffff;\"/>\r\n   </g>\r\n   <g id=\"matplotlib.axis_1\">\r\n    <g id=\"xtick_1\">\r\n     <g id=\"line2d_1\">\r\n      <defs>\r\n       <path d=\"M 0 0 \r\nL 0 3.5 \r\n\" id=\"m09c15aca64\" style=\"stroke:#000000;stroke-width:0.8;\"/>\r\n      </defs>\r\n      <g>\r\n       <use style=\"stroke:#000000;stroke-width:0.8;\" x=\"30.103125\" xlink:href=\"#m09c15aca64\" y=\"239.758125\"/>\r\n      </g>\r\n     </g>\r\n     <g id=\"text_1\">\r\n      <!-- 0.0 -->\r\n      <defs>\r\n       <path d=\"M 31.78125 66.40625 \r\nQ 24.171875 66.40625 20.328125 58.90625 \r\nQ 16.5 51.421875 16.5 36.375 \r\nQ 16.5 21.390625 20.328125 13.890625 \r\nQ 24.171875 6.390625 31.78125 6.390625 \r\nQ 39.453125 6.390625 43.28125 13.890625 \r\nQ 47.125 21.390625 47.125 36.375 \r\nQ 47.125 51.421875 43.28125 58.90625 \r\nQ 39.453125 66.40625 31.78125 66.40625 \r\nz\r\nM 31.78125 74.21875 \r\nQ 44.046875 74.21875 50.515625 64.515625 \r\nQ 56.984375 54.828125 56.984375 36.375 \r\nQ 56.984375 17.96875 50.515625 8.265625 \r\nQ 44.046875 -1.421875 31.78125 -1.421875 \r\nQ 19.53125 -1.421875 13.0625 8.265625 \r\nQ 6.59375 17.96875 6.59375 36.375 \r\nQ 6.59375 54.828125 13.0625 64.515625 \r\nQ 19.53125 74.21875 31.78125 74.21875 \r\nz\r\n\" id=\"DejaVuSans-30\"/>\r\n       <path d=\"M 10.6875 12.40625 \r\nL 21 12.40625 \r\nL 21 0 \r\nL 10.6875 0 \r\nz\r\n\" id=\"DejaVuSans-2e\"/>\r\n      </defs>\r\n      <g transform=\"translate(22.151563 254.356562)scale(0.1 -0.1)\">\r\n       <use xlink:href=\"#DejaVuSans-30\"/>\r\n       <use x=\"63.623047\" xlink:href=\"#DejaVuSans-2e\"/>\r\n       <use x=\"95.410156\" xlink:href=\"#DejaVuSans-30\"/>\r\n      </g>\r\n     </g>\r\n    </g>\r\n    <g id=\"xtick_2\">\r\n     <g id=\"line2d_2\">\r\n      <g>\r\n       <use style=\"stroke:#000000;stroke-width:0.8;\" x=\"72.540684\" xlink:href=\"#m09c15aca64\" y=\"239.758125\"/>\r\n      </g>\r\n     </g>\r\n     <g id=\"text_2\">\r\n      <!-- 0.2 -->\r\n      <defs>\r\n       <path d=\"M 19.1875 8.296875 \r\nL 53.609375 8.296875 \r\nL 53.609375 0 \r\nL 7.328125 0 \r\nL 7.328125 8.296875 \r\nQ 12.9375 14.109375 22.625 23.890625 \r\nQ 32.328125 33.6875 34.8125 36.53125 \r\nQ 39.546875 41.84375 41.421875 45.53125 \r\nQ 43.3125 49.21875 43.3125 52.78125 \r\nQ 43.3125 58.59375 39.234375 62.25 \r\nQ 35.15625 65.921875 28.609375 65.921875 \r\nQ 23.96875 65.921875 18.8125 64.3125 \r\nQ 13.671875 62.703125 7.8125 59.421875 \r\nL 7.8125 69.390625 \r\nQ 13.765625 71.78125 18.9375 73 \r\nQ 24.125 74.21875 28.421875 74.21875 \r\nQ 39.75 74.21875 46.484375 68.546875 \r\nQ 53.21875 62.890625 53.21875 53.421875 \r\nQ 53.21875 48.921875 51.53125 44.890625 \r\nQ 49.859375 40.875 45.40625 35.40625 \r\nQ 44.1875 33.984375 37.640625 27.21875 \r\nQ 31.109375 20.453125 19.1875 8.296875 \r\nz\r\n\" id=\"DejaVuSans-32\"/>\r\n      </defs>\r\n      <g transform=\"translate(64.589121 254.356562)scale(0.1 -0.1)\">\r\n       <use xlink:href=\"#DejaVuSans-30\"/>\r\n       <use x=\"63.623047\" xlink:href=\"#DejaVuSans-2e\"/>\r\n       <use x=\"95.410156\" xlink:href=\"#DejaVuSans-32\"/>\r\n      </g>\r\n     </g>\r\n    </g>\r\n    <g id=\"xtick_3\">\r\n     <g id=\"line2d_3\">\r\n      <g>\r\n       <use style=\"stroke:#000000;stroke-width:0.8;\" x=\"114.978242\" xlink:href=\"#m09c15aca64\" y=\"239.758125\"/>\r\n      </g>\r\n     </g>\r\n     <g id=\"text_3\">\r\n      <!-- 0.4 -->\r\n      <defs>\r\n       <path d=\"M 37.796875 64.3125 \r\nL 12.890625 25.390625 \r\nL 37.796875 25.390625 \r\nz\r\nM 35.203125 72.90625 \r\nL 47.609375 72.90625 \r\nL 47.609375 25.390625 \r\nL 58.015625 25.390625 \r\nL 58.015625 17.1875 \r\nL 47.609375 17.1875 \r\nL 47.609375 0 \r\nL 37.796875 0 \r\nL 37.796875 17.1875 \r\nL 4.890625 17.1875 \r\nL 4.890625 26.703125 \r\nz\r\n\" id=\"DejaVuSans-34\"/>\r\n      </defs>\r\n      <g transform=\"translate(107.02668 254.356562)scale(0.1 -0.1)\">\r\n       <use xlink:href=\"#DejaVuSans-30\"/>\r\n       <use x=\"63.623047\" xlink:href=\"#DejaVuSans-2e\"/>\r\n       <use x=\"95.410156\" xlink:href=\"#DejaVuSans-34\"/>\r\n      </g>\r\n     </g>\r\n    </g>\r\n    <g id=\"xtick_4\">\r\n     <g id=\"line2d_4\">\r\n      <g>\r\n       <use style=\"stroke:#000000;stroke-width:0.8;\" x=\"157.415801\" xlink:href=\"#m09c15aca64\" y=\"239.758125\"/>\r\n      </g>\r\n     </g>\r\n     <g id=\"text_4\">\r\n      <!-- 0.6 -->\r\n      <defs>\r\n       <path d=\"M 33.015625 40.375 \r\nQ 26.375 40.375 22.484375 35.828125 \r\nQ 18.609375 31.296875 18.609375 23.390625 \r\nQ 18.609375 15.53125 22.484375 10.953125 \r\nQ 26.375 6.390625 33.015625 6.390625 \r\nQ 39.65625 6.390625 43.53125 10.953125 \r\nQ 47.40625 15.53125 47.40625 23.390625 \r\nQ 47.40625 31.296875 43.53125 35.828125 \r\nQ 39.65625 40.375 33.015625 40.375 \r\nz\r\nM 52.59375 71.296875 \r\nL 52.59375 62.3125 \r\nQ 48.875 64.0625 45.09375 64.984375 \r\nQ 41.3125 65.921875 37.59375 65.921875 \r\nQ 27.828125 65.921875 22.671875 59.328125 \r\nQ 17.53125 52.734375 16.796875 39.40625 \r\nQ 19.671875 43.65625 24.015625 45.921875 \r\nQ 28.375 48.1875 33.59375 48.1875 \r\nQ 44.578125 48.1875 50.953125 41.515625 \r\nQ 57.328125 34.859375 57.328125 23.390625 \r\nQ 57.328125 12.15625 50.6875 5.359375 \r\nQ 44.046875 -1.421875 33.015625 -1.421875 \r\nQ 20.359375 -1.421875 13.671875 8.265625 \r\nQ 6.984375 17.96875 6.984375 36.375 \r\nQ 6.984375 53.65625 15.1875 63.9375 \r\nQ 23.390625 74.21875 37.203125 74.21875 \r\nQ 40.921875 74.21875 44.703125 73.484375 \r\nQ 48.484375 72.75 52.59375 71.296875 \r\nz\r\n\" id=\"DejaVuSans-36\"/>\r\n      </defs>\r\n      <g transform=\"translate(149.464238 254.356562)scale(0.1 -0.1)\">\r\n       <use xlink:href=\"#DejaVuSans-30\"/>\r\n       <use x=\"63.623047\" xlink:href=\"#DejaVuSans-2e\"/>\r\n       <use x=\"95.410156\" xlink:href=\"#DejaVuSans-36\"/>\r\n      </g>\r\n     </g>\r\n    </g>\r\n    <g id=\"xtick_5\">\r\n     <g id=\"line2d_5\">\r\n      <g>\r\n       <use style=\"stroke:#000000;stroke-width:0.8;\" x=\"199.853359\" xlink:href=\"#m09c15aca64\" y=\"239.758125\"/>\r\n      </g>\r\n     </g>\r\n     <g id=\"text_5\">\r\n      <!-- 0.8 -->\r\n      <defs>\r\n       <path d=\"M 31.78125 34.625 \r\nQ 24.75 34.625 20.71875 30.859375 \r\nQ 16.703125 27.09375 16.703125 20.515625 \r\nQ 16.703125 13.921875 20.71875 10.15625 \r\nQ 24.75 6.390625 31.78125 6.390625 \r\nQ 38.8125 6.390625 42.859375 10.171875 \r\nQ 46.921875 13.96875 46.921875 20.515625 \r\nQ 46.921875 27.09375 42.890625 30.859375 \r\nQ 38.875 34.625 31.78125 34.625 \r\nz\r\nM 21.921875 38.8125 \r\nQ 15.578125 40.375 12.03125 44.71875 \r\nQ 8.5 49.078125 8.5 55.328125 \r\nQ 8.5 64.0625 14.71875 69.140625 \r\nQ 20.953125 74.21875 31.78125 74.21875 \r\nQ 42.671875 74.21875 48.875 69.140625 \r\nQ 55.078125 64.0625 55.078125 55.328125 \r\nQ 55.078125 49.078125 51.53125 44.71875 \r\nQ 48 40.375 41.703125 38.8125 \r\nQ 48.828125 37.15625 52.796875 32.3125 \r\nQ 56.78125 27.484375 56.78125 20.515625 \r\nQ 56.78125 9.90625 50.3125 4.234375 \r\nQ 43.84375 -1.421875 31.78125 -1.421875 \r\nQ 19.734375 -1.421875 13.25 4.234375 \r\nQ 6.78125 9.90625 6.78125 20.515625 \r\nQ 6.78125 27.484375 10.78125 32.3125 \r\nQ 14.796875 37.15625 21.921875 38.8125 \r\nz\r\nM 18.3125 54.390625 \r\nQ 18.3125 48.734375 21.84375 45.5625 \r\nQ 25.390625 42.390625 31.78125 42.390625 \r\nQ 38.140625 42.390625 41.71875 45.5625 \r\nQ 45.3125 48.734375 45.3125 54.390625 \r\nQ 45.3125 60.0625 41.71875 63.234375 \r\nQ 38.140625 66.40625 31.78125 66.40625 \r\nQ 25.390625 66.40625 21.84375 63.234375 \r\nQ 18.3125 60.0625 18.3125 54.390625 \r\nz\r\n\" id=\"DejaVuSans-38\"/>\r\n      </defs>\r\n      <g transform=\"translate(191.901797 254.356562)scale(0.1 -0.1)\">\r\n       <use xlink:href=\"#DejaVuSans-30\"/>\r\n       <use x=\"63.623047\" xlink:href=\"#DejaVuSans-2e\"/>\r\n       <use x=\"95.410156\" xlink:href=\"#DejaVuSans-38\"/>\r\n      </g>\r\n     </g>\r\n    </g>\r\n    <g id=\"xtick_6\">\r\n     <g id=\"line2d_6\">\r\n      <g>\r\n       <use style=\"stroke:#000000;stroke-width:0.8;\" x=\"242.290918\" xlink:href=\"#m09c15aca64\" y=\"239.758125\"/>\r\n      </g>\r\n     </g>\r\n     <g id=\"text_6\">\r\n      <!-- 1.0 -->\r\n      <defs>\r\n       <path d=\"M 12.40625 8.296875 \r\nL 28.515625 8.296875 \r\nL 28.515625 63.921875 \r\nL 10.984375 60.40625 \r\nL 10.984375 69.390625 \r\nL 28.421875 72.90625 \r\nL 38.28125 72.90625 \r\nL 38.28125 8.296875 \r\nL 54.390625 8.296875 \r\nL 54.390625 0 \r\nL 12.40625 0 \r\nz\r\n\" id=\"DejaVuSans-31\"/>\r\n      </defs>\r\n      <g transform=\"translate(234.339356 254.356562)scale(0.1 -0.1)\">\r\n       <use xlink:href=\"#DejaVuSans-31\"/>\r\n       <use x=\"63.623047\" xlink:href=\"#DejaVuSans-2e\"/>\r\n       <use x=\"95.410156\" xlink:href=\"#DejaVuSans-30\"/>\r\n      </g>\r\n     </g>\r\n    </g>\r\n    <g id=\"xtick_7\">\r\n     <g id=\"line2d_7\">\r\n      <g>\r\n       <use style=\"stroke:#000000;stroke-width:0.8;\" x=\"284.728477\" xlink:href=\"#m09c15aca64\" y=\"239.758125\"/>\r\n      </g>\r\n     </g>\r\n     <g id=\"text_7\">\r\n      <!-- 1.2 -->\r\n      <g transform=\"translate(276.776914 254.356562)scale(0.1 -0.1)\">\r\n       <use xlink:href=\"#DejaVuSans-31\"/>\r\n       <use x=\"63.623047\" xlink:href=\"#DejaVuSans-2e\"/>\r\n       <use x=\"95.410156\" xlink:href=\"#DejaVuSans-32\"/>\r\n      </g>\r\n     </g>\r\n    </g>\r\n    <g id=\"xtick_8\">\r\n     <g id=\"line2d_8\">\r\n      <g>\r\n       <use style=\"stroke:#000000;stroke-width:0.8;\" x=\"327.166035\" xlink:href=\"#m09c15aca64\" y=\"239.758125\"/>\r\n      </g>\r\n     </g>\r\n     <g id=\"text_8\">\r\n      <!-- 1.4 -->\r\n      <g transform=\"translate(319.214473 254.356562)scale(0.1 -0.1)\">\r\n       <use xlink:href=\"#DejaVuSans-31\"/>\r\n       <use x=\"63.623047\" xlink:href=\"#DejaVuSans-2e\"/>\r\n       <use x=\"95.410156\" xlink:href=\"#DejaVuSans-34\"/>\r\n      </g>\r\n     </g>\r\n    </g>\r\n    <g id=\"text_9\">\r\n     <!-- 1e9 -->\r\n     <defs>\r\n      <path d=\"M 56.203125 29.59375 \r\nL 56.203125 25.203125 \r\nL 14.890625 25.203125 \r\nQ 15.484375 15.921875 20.484375 11.0625 \r\nQ 25.484375 6.203125 34.421875 6.203125 \r\nQ 39.59375 6.203125 44.453125 7.46875 \r\nQ 49.3125 8.734375 54.109375 11.28125 \r\nL 54.109375 2.78125 \r\nQ 49.265625 0.734375 44.1875 -0.34375 \r\nQ 39.109375 -1.421875 33.890625 -1.421875 \r\nQ 20.796875 -1.421875 13.15625 6.1875 \r\nQ 5.515625 13.8125 5.515625 26.8125 \r\nQ 5.515625 40.234375 12.765625 48.109375 \r\nQ 20.015625 56 32.328125 56 \r\nQ 43.359375 56 49.78125 48.890625 \r\nQ 56.203125 41.796875 56.203125 29.59375 \r\nz\r\nM 47.21875 32.234375 \r\nQ 47.125 39.59375 43.09375 43.984375 \r\nQ 39.0625 48.390625 32.421875 48.390625 \r\nQ 24.90625 48.390625 20.390625 44.140625 \r\nQ 15.875 39.890625 15.1875 32.171875 \r\nz\r\n\" id=\"DejaVuSans-65\"/>\r\n      <path d=\"M 10.984375 1.515625 \r\nL 10.984375 10.5 \r\nQ 14.703125 8.734375 18.5 7.8125 \r\nQ 22.3125 6.890625 25.984375 6.890625 \r\nQ 35.75 6.890625 40.890625 13.453125 \r\nQ 46.046875 20.015625 46.78125 33.40625 \r\nQ 43.953125 29.203125 39.59375 26.953125 \r\nQ 35.25 24.703125 29.984375 24.703125 \r\nQ 19.046875 24.703125 12.671875 31.3125 \r\nQ 6.296875 37.9375 6.296875 49.421875 \r\nQ 6.296875 60.640625 12.9375 67.421875 \r\nQ 19.578125 74.21875 30.609375 74.21875 \r\nQ 43.265625 74.21875 49.921875 64.515625 \r\nQ 56.59375 54.828125 56.59375 36.375 \r\nQ 56.59375 19.140625 48.40625 8.859375 \r\nQ 40.234375 -1.421875 26.421875 -1.421875 \r\nQ 22.703125 -1.421875 18.890625 -0.6875 \r\nQ 15.09375 0.046875 10.984375 1.515625 \r\nz\r\nM 30.609375 32.421875 \r\nQ 37.25 32.421875 41.125 36.953125 \r\nQ 45.015625 41.5 45.015625 49.421875 \r\nQ 45.015625 57.28125 41.125 61.84375 \r\nQ 37.25 66.40625 30.609375 66.40625 \r\nQ 23.96875 66.40625 20.09375 61.84375 \r\nQ 16.21875 57.28125 16.21875 49.421875 \r\nQ 16.21875 41.5 20.09375 36.953125 \r\nQ 23.96875 32.421875 30.609375 32.421875 \r\nz\r\n\" id=\"DejaVuSans-39\"/>\r\n     </defs>\r\n     <g transform=\"translate(346.025 267.034687)scale(0.1 -0.1)\">\r\n      <use xlink:href=\"#DejaVuSans-31\"/>\r\n      <use x=\"63.623047\" xlink:href=\"#DejaVuSans-65\"/>\r\n      <use x=\"125.146484\" xlink:href=\"#DejaVuSans-39\"/>\r\n     </g>\r\n    </g>\r\n   </g>\r\n   <g id=\"matplotlib.axis_2\">\r\n    <g id=\"ytick_1\">\r\n     <g id=\"line2d_9\">\r\n      <defs>\r\n       <path d=\"M 0 0 \r\nL -3.5 0 \r\n\" id=\"m2bde0e9632\" style=\"stroke:#000000;stroke-width:0.8;\"/>\r\n      </defs>\r\n      <g>\r\n       <use style=\"stroke:#000000;stroke-width:0.8;\" x=\"30.103125\" xlink:href=\"#m2bde0e9632\" y=\"239.758125\"/>\r\n      </g>\r\n     </g>\r\n     <g id=\"text_10\">\r\n      <!-- 0.0 -->\r\n      <g transform=\"translate(7.2 243.557344)scale(0.1 -0.1)\">\r\n       <use xlink:href=\"#DejaVuSans-30\"/>\r\n       <use x=\"63.623047\" xlink:href=\"#DejaVuSans-2e\"/>\r\n       <use x=\"95.410156\" xlink:href=\"#DejaVuSans-30\"/>\r\n      </g>\r\n     </g>\r\n    </g>\r\n    <g id=\"ytick_2\">\r\n     <g id=\"line2d_10\">\r\n      <g>\r\n       <use style=\"stroke:#000000;stroke-width:0.8;\" x=\"30.103125\" xlink:href=\"#m2bde0e9632\" y=\"214.52172\"/>\r\n      </g>\r\n     </g>\r\n     <g id=\"text_11\">\r\n      <!-- 0.2 -->\r\n      <g transform=\"translate(7.2 218.320939)scale(0.1 -0.1)\">\r\n       <use xlink:href=\"#DejaVuSans-30\"/>\r\n       <use x=\"63.623047\" xlink:href=\"#DejaVuSans-2e\"/>\r\n       <use x=\"95.410156\" xlink:href=\"#DejaVuSans-32\"/>\r\n      </g>\r\n     </g>\r\n    </g>\r\n    <g id=\"ytick_3\">\r\n     <g id=\"line2d_11\">\r\n      <g>\r\n       <use style=\"stroke:#000000;stroke-width:0.8;\" x=\"30.103125\" xlink:href=\"#m2bde0e9632\" y=\"189.285315\"/>\r\n      </g>\r\n     </g>\r\n     <g id=\"text_12\">\r\n      <!-- 0.4 -->\r\n      <g transform=\"translate(7.2 193.084534)scale(0.1 -0.1)\">\r\n       <use xlink:href=\"#DejaVuSans-30\"/>\r\n       <use x=\"63.623047\" xlink:href=\"#DejaVuSans-2e\"/>\r\n       <use x=\"95.410156\" xlink:href=\"#DejaVuSans-34\"/>\r\n      </g>\r\n     </g>\r\n    </g>\r\n    <g id=\"ytick_4\">\r\n     <g id=\"line2d_12\">\r\n      <g>\r\n       <use style=\"stroke:#000000;stroke-width:0.8;\" x=\"30.103125\" xlink:href=\"#m2bde0e9632\" y=\"164.04891\"/>\r\n      </g>\r\n     </g>\r\n     <g id=\"text_13\">\r\n      <!-- 0.6 -->\r\n      <g transform=\"translate(7.2 167.848129)scale(0.1 -0.1)\">\r\n       <use xlink:href=\"#DejaVuSans-30\"/>\r\n       <use x=\"63.623047\" xlink:href=\"#DejaVuSans-2e\"/>\r\n       <use x=\"95.410156\" xlink:href=\"#DejaVuSans-36\"/>\r\n      </g>\r\n     </g>\r\n    </g>\r\n    <g id=\"ytick_5\">\r\n     <g id=\"line2d_13\">\r\n      <g>\r\n       <use style=\"stroke:#000000;stroke-width:0.8;\" x=\"30.103125\" xlink:href=\"#m2bde0e9632\" y=\"138.812505\"/>\r\n      </g>\r\n     </g>\r\n     <g id=\"text_14\">\r\n      <!-- 0.8 -->\r\n      <g transform=\"translate(7.2 142.611724)scale(0.1 -0.1)\">\r\n       <use xlink:href=\"#DejaVuSans-30\"/>\r\n       <use x=\"63.623047\" xlink:href=\"#DejaVuSans-2e\"/>\r\n       <use x=\"95.410156\" xlink:href=\"#DejaVuSans-38\"/>\r\n      </g>\r\n     </g>\r\n    </g>\r\n    <g id=\"ytick_6\">\r\n     <g id=\"line2d_14\">\r\n      <g>\r\n       <use style=\"stroke:#000000;stroke-width:0.8;\" x=\"30.103125\" xlink:href=\"#m2bde0e9632\" y=\"113.5761\"/>\r\n      </g>\r\n     </g>\r\n     <g id=\"text_15\">\r\n      <!-- 1.0 -->\r\n      <g transform=\"translate(7.2 117.375319)scale(0.1 -0.1)\">\r\n       <use xlink:href=\"#DejaVuSans-31\"/>\r\n       <use x=\"63.623047\" xlink:href=\"#DejaVuSans-2e\"/>\r\n       <use x=\"95.410156\" xlink:href=\"#DejaVuSans-30\"/>\r\n      </g>\r\n     </g>\r\n    </g>\r\n    <g id=\"ytick_7\">\r\n     <g id=\"line2d_15\">\r\n      <g>\r\n       <use style=\"stroke:#000000;stroke-width:0.8;\" x=\"30.103125\" xlink:href=\"#m2bde0e9632\" y=\"88.339695\"/>\r\n      </g>\r\n     </g>\r\n     <g id=\"text_16\">\r\n      <!-- 1.2 -->\r\n      <g transform=\"translate(7.2 92.138913)scale(0.1 -0.1)\">\r\n       <use xlink:href=\"#DejaVuSans-31\"/>\r\n       <use x=\"63.623047\" xlink:href=\"#DejaVuSans-2e\"/>\r\n       <use x=\"95.410156\" xlink:href=\"#DejaVuSans-32\"/>\r\n      </g>\r\n     </g>\r\n    </g>\r\n    <g id=\"ytick_8\">\r\n     <g id=\"line2d_16\">\r\n      <g>\r\n       <use style=\"stroke:#000000;stroke-width:0.8;\" x=\"30.103125\" xlink:href=\"#m2bde0e9632\" y=\"63.10329\"/>\r\n      </g>\r\n     </g>\r\n     <g id=\"text_17\">\r\n      <!-- 1.4 -->\r\n      <g transform=\"translate(7.2 66.902508)scale(0.1 -0.1)\">\r\n       <use xlink:href=\"#DejaVuSans-31\"/>\r\n       <use x=\"63.623047\" xlink:href=\"#DejaVuSans-2e\"/>\r\n       <use x=\"95.410156\" xlink:href=\"#DejaVuSans-34\"/>\r\n      </g>\r\n     </g>\r\n    </g>\r\n    <g id=\"ytick_9\">\r\n     <g id=\"line2d_17\">\r\n      <g>\r\n       <use style=\"stroke:#000000;stroke-width:0.8;\" x=\"30.103125\" xlink:href=\"#m2bde0e9632\" y=\"37.866885\"/>\r\n      </g>\r\n     </g>\r\n     <g id=\"text_18\">\r\n      <!-- 1.6 -->\r\n      <g transform=\"translate(7.2 41.666103)scale(0.1 -0.1)\">\r\n       <use xlink:href=\"#DejaVuSans-31\"/>\r\n       <use x=\"63.623047\" xlink:href=\"#DejaVuSans-2e\"/>\r\n       <use x=\"95.410156\" xlink:href=\"#DejaVuSans-36\"/>\r\n      </g>\r\n     </g>\r\n    </g>\r\n    <g id=\"text_19\">\r\n     <!-- 1e14 -->\r\n     <g transform=\"translate(30.103125 19.318125)scale(0.1 -0.1)\">\r\n      <use xlink:href=\"#DejaVuSans-31\"/>\r\n      <use x=\"63.623047\" xlink:href=\"#DejaVuSans-65\"/>\r\n      <use x=\"125.146484\" xlink:href=\"#DejaVuSans-31\"/>\r\n      <use x=\"188.769531\" xlink:href=\"#DejaVuSans-34\"/>\r\n     </g>\r\n    </g>\r\n   </g>\r\n   <g id=\"line2d_18\">\r\n    <path clip-path=\"url(#p5e58ce69f8)\" d=\"M 31.777125 42.085399 \r\nL 364.903125 42.085398 \r\nL 364.903125 42.085398 \r\n\" style=\"fill:none;stroke:#1f77b4;stroke-linecap:square;stroke-width:1.5;\"/>\r\n   </g>\r\n   <g id=\"patch_3\">\r\n    <path d=\"M 30.103125 239.758125 \r\nL 30.103125 22.318125 \r\n\" style=\"fill:none;stroke:#000000;stroke-linecap:square;stroke-linejoin:miter;stroke-width:0.8;\"/>\r\n   </g>\r\n   <g id=\"patch_4\">\r\n    <path d=\"M 364.903125 239.758125 \r\nL 364.903125 22.318125 \r\n\" style=\"fill:none;stroke:#000000;stroke-linecap:square;stroke-linejoin:miter;stroke-width:0.8;\"/>\r\n   </g>\r\n   <g id=\"patch_5\">\r\n    <path d=\"M 30.103125 239.758125 \r\nL 364.903125 239.758125 \r\n\" style=\"fill:none;stroke:#000000;stroke-linecap:square;stroke-linejoin:miter;stroke-width:0.8;\"/>\r\n   </g>\r\n   <g id=\"patch_6\">\r\n    <path d=\"M 30.103125 22.318125 \r\nL 364.903125 22.318125 \r\n\" style=\"fill:none;stroke:#000000;stroke-linecap:square;stroke-linejoin:miter;stroke-width:0.8;\"/>\r\n   </g>\r\n   <g id=\"text_20\">\r\n    <!-- Total Energy -->\r\n    <defs>\r\n     <path d=\"M -0.296875 72.90625 \r\nL 61.375 72.90625 \r\nL 61.375 64.59375 \r\nL 35.5 64.59375 \r\nL 35.5 0 \r\nL 25.59375 0 \r\nL 25.59375 64.59375 \r\nL -0.296875 64.59375 \r\nz\r\n\" id=\"DejaVuSans-54\"/>\r\n     <path d=\"M 30.609375 48.390625 \r\nQ 23.390625 48.390625 19.1875 42.75 \r\nQ 14.984375 37.109375 14.984375 27.296875 \r\nQ 14.984375 17.484375 19.15625 11.84375 \r\nQ 23.34375 6.203125 30.609375 6.203125 \r\nQ 37.796875 6.203125 41.984375 11.859375 \r\nQ 46.1875 17.53125 46.1875 27.296875 \r\nQ 46.1875 37.015625 41.984375 42.703125 \r\nQ 37.796875 48.390625 30.609375 48.390625 \r\nz\r\nM 30.609375 56 \r\nQ 42.328125 56 49.015625 48.375 \r\nQ 55.71875 40.765625 55.71875 27.296875 \r\nQ 55.71875 13.875 49.015625 6.21875 \r\nQ 42.328125 -1.421875 30.609375 -1.421875 \r\nQ 18.84375 -1.421875 12.171875 6.21875 \r\nQ 5.515625 13.875 5.515625 27.296875 \r\nQ 5.515625 40.765625 12.171875 48.375 \r\nQ 18.84375 56 30.609375 56 \r\nz\r\n\" id=\"DejaVuSans-6f\"/>\r\n     <path d=\"M 18.3125 70.21875 \r\nL 18.3125 54.6875 \r\nL 36.8125 54.6875 \r\nL 36.8125 47.703125 \r\nL 18.3125 47.703125 \r\nL 18.3125 18.015625 \r\nQ 18.3125 11.328125 20.140625 9.421875 \r\nQ 21.96875 7.515625 27.59375 7.515625 \r\nL 36.8125 7.515625 \r\nL 36.8125 0 \r\nL 27.59375 0 \r\nQ 17.1875 0 13.234375 3.875 \r\nQ 9.28125 7.765625 9.28125 18.015625 \r\nL 9.28125 47.703125 \r\nL 2.6875 47.703125 \r\nL 2.6875 54.6875 \r\nL 9.28125 54.6875 \r\nL 9.28125 70.21875 \r\nz\r\n\" id=\"DejaVuSans-74\"/>\r\n     <path d=\"M 34.28125 27.484375 \r\nQ 23.390625 27.484375 19.1875 25 \r\nQ 14.984375 22.515625 14.984375 16.5 \r\nQ 14.984375 11.71875 18.140625 8.90625 \r\nQ 21.296875 6.109375 26.703125 6.109375 \r\nQ 34.1875 6.109375 38.703125 11.40625 \r\nQ 43.21875 16.703125 43.21875 25.484375 \r\nL 43.21875 27.484375 \r\nz\r\nM 52.203125 31.203125 \r\nL 52.203125 0 \r\nL 43.21875 0 \r\nL 43.21875 8.296875 \r\nQ 40.140625 3.328125 35.546875 0.953125 \r\nQ 30.953125 -1.421875 24.3125 -1.421875 \r\nQ 15.921875 -1.421875 10.953125 3.296875 \r\nQ 6 8.015625 6 15.921875 \r\nQ 6 25.140625 12.171875 29.828125 \r\nQ 18.359375 34.515625 30.609375 34.515625 \r\nL 43.21875 34.515625 \r\nL 43.21875 35.40625 \r\nQ 43.21875 41.609375 39.140625 45 \r\nQ 35.0625 48.390625 27.6875 48.390625 \r\nQ 23 48.390625 18.546875 47.265625 \r\nQ 14.109375 46.140625 10.015625 43.890625 \r\nL 10.015625 52.203125 \r\nQ 14.9375 54.109375 19.578125 55.046875 \r\nQ 24.21875 56 28.609375 56 \r\nQ 40.484375 56 46.34375 49.84375 \r\nQ 52.203125 43.703125 52.203125 31.203125 \r\nz\r\n\" id=\"DejaVuSans-61\"/>\r\n     <path d=\"M 9.421875 75.984375 \r\nL 18.40625 75.984375 \r\nL 18.40625 0 \r\nL 9.421875 0 \r\nz\r\n\" id=\"DejaVuSans-6c\"/>\r\n     <path id=\"DejaVuSans-20\"/>\r\n     <path d=\"M 9.8125 72.90625 \r\nL 55.90625 72.90625 \r\nL 55.90625 64.59375 \r\nL 19.671875 64.59375 \r\nL 19.671875 43.015625 \r\nL 54.390625 43.015625 \r\nL 54.390625 34.71875 \r\nL 19.671875 34.71875 \r\nL 19.671875 8.296875 \r\nL 56.78125 8.296875 \r\nL 56.78125 0 \r\nL 9.8125 0 \r\nz\r\n\" id=\"DejaVuSans-45\"/>\r\n     <path d=\"M 54.890625 33.015625 \r\nL 54.890625 0 \r\nL 45.90625 0 \r\nL 45.90625 32.71875 \r\nQ 45.90625 40.484375 42.875 44.328125 \r\nQ 39.84375 48.1875 33.796875 48.1875 \r\nQ 26.515625 48.1875 22.3125 43.546875 \r\nQ 18.109375 38.921875 18.109375 30.90625 \r\nL 18.109375 0 \r\nL 9.078125 0 \r\nL 9.078125 54.6875 \r\nL 18.109375 54.6875 \r\nL 18.109375 46.1875 \r\nQ 21.34375 51.125 25.703125 53.5625 \r\nQ 30.078125 56 35.796875 56 \r\nQ 45.21875 56 50.046875 50.171875 \r\nQ 54.890625 44.34375 54.890625 33.015625 \r\nz\r\n\" id=\"DejaVuSans-6e\"/>\r\n     <path d=\"M 41.109375 46.296875 \r\nQ 39.59375 47.171875 37.8125 47.578125 \r\nQ 36.03125 48 33.890625 48 \r\nQ 26.265625 48 22.1875 43.046875 \r\nQ 18.109375 38.09375 18.109375 28.8125 \r\nL 18.109375 0 \r\nL 9.078125 0 \r\nL 9.078125 54.6875 \r\nL 18.109375 54.6875 \r\nL 18.109375 46.1875 \r\nQ 20.953125 51.171875 25.484375 53.578125 \r\nQ 30.03125 56 36.53125 56 \r\nQ 37.453125 56 38.578125 55.875 \r\nQ 39.703125 55.765625 41.0625 55.515625 \r\nz\r\n\" id=\"DejaVuSans-72\"/>\r\n     <path d=\"M 45.40625 27.984375 \r\nQ 45.40625 37.75 41.375 43.109375 \r\nQ 37.359375 48.484375 30.078125 48.484375 \r\nQ 22.859375 48.484375 18.828125 43.109375 \r\nQ 14.796875 37.75 14.796875 27.984375 \r\nQ 14.796875 18.265625 18.828125 12.890625 \r\nQ 22.859375 7.515625 30.078125 7.515625 \r\nQ 37.359375 7.515625 41.375 12.890625 \r\nQ 45.40625 18.265625 45.40625 27.984375 \r\nz\r\nM 54.390625 6.78125 \r\nQ 54.390625 -7.171875 48.1875 -13.984375 \r\nQ 42 -20.796875 29.203125 -20.796875 \r\nQ 24.46875 -20.796875 20.265625 -20.09375 \r\nQ 16.0625 -19.390625 12.109375 -17.921875 \r\nL 12.109375 -9.1875 \r\nQ 16.0625 -11.328125 19.921875 -12.34375 \r\nQ 23.78125 -13.375 27.78125 -13.375 \r\nQ 36.625 -13.375 41.015625 -8.765625 \r\nQ 45.40625 -4.15625 45.40625 5.171875 \r\nL 45.40625 9.625 \r\nQ 42.625 4.78125 38.28125 2.390625 \r\nQ 33.9375 0 27.875 0 \r\nQ 17.828125 0 11.671875 7.65625 \r\nQ 5.515625 15.328125 5.515625 27.984375 \r\nQ 5.515625 40.671875 11.671875 48.328125 \r\nQ 17.828125 56 27.875 56 \r\nQ 33.9375 56 38.28125 53.609375 \r\nQ 42.625 51.21875 45.40625 46.390625 \r\nL 45.40625 54.6875 \r\nL 54.390625 54.6875 \r\nz\r\n\" id=\"DejaVuSans-67\"/>\r\n     <path d=\"M 32.171875 -5.078125 \r\nQ 28.375 -14.84375 24.75 -17.8125 \r\nQ 21.140625 -20.796875 15.09375 -20.796875 \r\nL 7.90625 -20.796875 \r\nL 7.90625 -13.28125 \r\nL 13.1875 -13.28125 \r\nQ 16.890625 -13.28125 18.9375 -11.515625 \r\nQ 21 -9.765625 23.484375 -3.21875 \r\nL 25.09375 0.875 \r\nL 2.984375 54.6875 \r\nL 12.5 54.6875 \r\nL 29.59375 11.921875 \r\nL 46.6875 54.6875 \r\nL 56.203125 54.6875 \r\nz\r\n\" id=\"DejaVuSans-79\"/>\r\n    </defs>\r\n    <g transform=\"translate(159.46875 16.318125)scale(0.12 -0.12)\">\r\n     <use xlink:href=\"#DejaVuSans-54\"/>\r\n     <use x=\"60.818359\" xlink:href=\"#DejaVuSans-6f\"/>\r\n     <use x=\"122\" xlink:href=\"#DejaVuSans-74\"/>\r\n     <use x=\"161.208984\" xlink:href=\"#DejaVuSans-61\"/>\r\n     <use x=\"222.488281\" xlink:href=\"#DejaVuSans-6c\"/>\r\n     <use x=\"250.271484\" xlink:href=\"#DejaVuSans-20\"/>\r\n     <use x=\"282.058594\" xlink:href=\"#DejaVuSans-45\"/>\r\n     <use x=\"345.242188\" xlink:href=\"#DejaVuSans-6e\"/>\r\n     <use x=\"408.621094\" xlink:href=\"#DejaVuSans-65\"/>\r\n     <use x=\"470.144531\" xlink:href=\"#DejaVuSans-72\"/>\r\n     <use x=\"511.242188\" xlink:href=\"#DejaVuSans-67\"/>\r\n     <use x=\"574.71875\" xlink:href=\"#DejaVuSans-79\"/>\r\n    </g>\r\n   </g>\r\n  </g>\r\n </g>\r\n <defs>\r\n  <clipPath id=\"p5e58ce69f8\">\r\n   <rect height=\"217.44\" width=\"334.8\" x=\"30.103125\" y=\"22.318125\"/>\r\n  </clipPath>\r\n </defs>\r\n</svg>\r\n",
      "image/png": "[encoded data removed]"
     },
     "metadata": {
      "needs_background": "light"
     }
    }
   ],
   "source": [
    "plt.plot(t_list,E_list)\n",
    "plt.title(\"Total Energy\")\n",
    "plt.axis([0,max(t_list),0,max(E_list)*1.1])\n",
    "#plt.savefig(\"totE.png\")"
   ]
  }
 ]
}