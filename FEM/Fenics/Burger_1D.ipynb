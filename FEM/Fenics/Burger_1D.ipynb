{
 "cells": [
  {
   "cell_type": "markdown",
   "metadata": {},
   "source": [
    "## Burger 1 D"
   ]
  },
  {
   "cell_type": "code",
   "execution_count": 87,
   "metadata": {},
   "outputs": [],
   "source": [
    "import dolfin as df \n",
    "import numpy as np\n",
    "import multiprocessing as mp\n",
    "import matplotlib.pyplot as plt\n",
    "import matplotlib\n",
    "import time\n",
    "import scipy.io\n",
    "import json\n",
    "import sys\n",
    "sys.path.append('..')\n",
    "import os\n",
    "import math"
   ]
  },
  {
   "cell_type": "code",
   "execution_count": 88,
   "metadata": {},
   "outputs": [],
   "source": [
    "def mkdirs(directory):\n",
    "    if not os.path.exists(directory):\n",
    "        os.makedirs(directory)"
   ]
  },
  {
   "cell_type": "code",
   "execution_count": 103,
   "metadata": {},
   "outputs": [],
   "source": [
    "def boundary(x, on_boundary):\n",
    "    return on_boundary"
   ]
  },
  {
   "cell_type": "code",
   "execution_count": 89,
   "metadata": {},
   "outputs": [],
   "source": [
    "class PeriodicBoundary1D(df.SubDomain):\n",
    "    # https://fenicsproject.org/docs/dolfin/1.4.0/python/demo/documented/periodic/python/documentation.html\n",
    "    # Left boundary is \"target domain\" G\n",
    "    def inside(self, x, on_boundary):\n",
    "        return bool(df.near(x[0], 0) and on_boundary)\n",
    "\n",
    "    # Map right boundary (H) to left boundary (G)\n",
    "    def map(self, x, y):\n",
    "        y[0] = x[0] - 1.0"
   ]
  },
  {
   "cell_type": "code",
   "execution_count": null,
   "metadata": {},
   "outputs": [],
   "source": []
  },
  {
   "cell_type": "markdown",
   "metadata": {},
   "source": [
    "#### Burgers1D"
   ]
  },
  {
   "cell_type": "code",
   "execution_count": 108,
   "metadata": {},
   "outputs": [],
   "source": [
    "def burgers1d(run,nu, ng, dt, T, ng_out, save_dir, save_every=1, order=3, plot=False):\n",
    "    \"\"\"simulate 1D Burgers' equation\n",
    "    https://www.firedrakeproject.org/demos/burgers.py.html\n",
    "    Args:\n",
    "        run (int): # run\n",
    "        nu (float): viscosity\n",
    "        ng (int): # grid (vertices)\n",
    "        dt (float): time step for simulation\n",
    "        T (float): simulation time from 0 to T\n",
    "        ng_out (int): output # grid\n",
    "        save_dir (str): runs folder\n",
    "        order (int): order for sampling initial U\n",
    "        save_every (int): save frequency in terms of # dt\n",
    "        save_pvd (bool): save the field as vtk file for paraview\n",
    "        save_vector (bool): save fenics field vector for later operation\n",
    "        plot (bool): plot fields\n",
    "    \"\"\"\n",
    "    df.set_log_level(30)\n",
    "\n",
    "    x_left = -1.0\n",
    "    x_right = +1.0\n",
    "\n",
    "    mesh = df.IntervalMesh(ng,x_left,x_right)\n",
    "    mesh_out = df.IntervalMesh(ng_out,x_left,x_right)\n",
    "    \n",
    "    \n",
    "    V = df.FunctionSpace(mesh, 'CG', 2)\n",
    "    Vout = df.FunctionSpace(mesh_out, 'CG', 1)\n",
    "\n",
    "    bc = df.DirichletBC(V, df.Constant(0), boundary)\n",
    "    \n",
    "    \n",
    "    # initial vector field\n",
    "    u0 = df.Expression('-sin(pi*x[0])',degree=2)\n",
    "\n",
    "    u = df.Function(V)\n",
    "    u_old = df.Function(V)\n",
    "    v = df.TestFunction(V)\n",
    "\n",
    "    u = df.project(u0, V)\n",
    "    u_old.assign(u)\n",
    "\n",
    "    # backward Euler    \n",
    "    F = (df.inner((u - u_old)/dt, v) \\\n",
    "        + df.inner(u*u.dx(0), v) \\\n",
    "        + nu*df.inner(df.grad(u), df.grad(v)))*df.dx\n",
    "\n",
    "    t = 0\n",
    "    k = 0\n",
    "\n",
    "    u_save = []\n",
    "    u_out = df.project(u, Vout)\n",
    "    u_out_vertex = u_out.compute_vertex_values(mesh_out)\n",
    "    u_save.append(u_out_vertex)\n",
    "\n",
    "    tic = time.time()\n",
    "    while t <= T:\n",
    "\n",
    "        t += dt\n",
    "        k += 1\n",
    "        df.solve(F == 0, u,bc)\n",
    "        u_old.assign(u)\n",
    "        \n",
    "        if k % save_every == 0:\n",
    "            u_out = df.project(u, Vout)\n",
    "            u_out_vertex = u_out.compute_vertex_values(mesh_out)\n",
    "            u_save.append(u_out_vertex)\n",
    "\n",
    "    time_taken = time.time() - tic\n",
    "    print(f'Run {run}: solved {k} steps with total {time_taken:.3f} seconds')\n",
    "    u_save = np.stack(u_save, 0)\n",
    "    np.save(save_dir + f'/u{run}.npy', u_save)\n",
    "    if plot:\n",
    "        fig, ax = plt.subplots()\n",
    "        cax = ax.imshow(u_save.T, origin='lower', cmap='inferno')\n",
    "        ax.set_xlabel('x')\n",
    "        ax.set_ylabel('t')\n",
    "        plt.colorbar(cax, ax=ax, fraction=0.046, pad=0.04)\n",
    "        plt.savefig(save_dir + f'/u{run}.png', dpi=300)\n",
    "        plt.close()\n",
    "\n",
    "    return run, time_taken"
   ]
  },
  {
   "cell_type": "code",
   "execution_count": 109,
   "metadata": {},
   "outputs": [],
   "source": [
    "ng = 199\n",
    "ng_out = 199\n",
    "nu = 0.01/math.pi\n",
    "dt = 0.005\n",
    "T = 1.0\n",
    "save_every = 1\n",
    "order = 1\n",
    "plot = False\n",
    "save_dir = f'./fenics_data_dt{dt}_T{T}'"
   ]
  },
  {
   "cell_type": "code",
   "execution_count": 110,
   "metadata": {},
   "outputs": [
    {
     "name": "stdout",
     "output_type": "stream",
     "text": [
      "200.0\n"
     ]
    }
   ],
   "source": [
    "print(T/dt)"
   ]
  },
  {
   "cell_type": "code",
   "execution_count": 111,
   "metadata": {},
   "outputs": [
    {
     "name": "stdout",
     "output_type": "stream",
     "text": [
      "Run 1: solved 200 steps with total 2.256 seconds\n"
     ]
    }
   ],
   "source": [
    "mkdirs(save_dir)\n",
    "run, time_taken= burgers1d(1, nu, ng, dt, T, ng_out, save_dir, save_every=1, order=3, plot=True)"
   ]
  },
  {
   "cell_type": "code",
   "execution_count": 112,
   "metadata": {},
   "outputs": [],
   "source": [
    "data = np.load('fenics_data_dt0.005_T1.0/u1.npy')"
   ]
  },
  {
   "cell_type": "code",
   "execution_count": 113,
   "metadata": {},
   "outputs": [
    {
     "data": {
      "image/png": "[encoded data removed]",
      "text/plain": [
       "<Figure size 216x288 with 1 Axes>"
      ]
     },
     "metadata": {
      "needs_background": "light"
     },
     "output_type": "display_data"
    }
   ],
   "source": [
    "fig, ax = plt.subplots(figsize=(3, 4))\n",
    "ax.imshow(data, origin='lower', cmap='seismic')\n",
    "ax.set_xlabel('x')\n",
    "ax.set_ylabel('t')\n",
    "fig.show()"
   ]
  },
  {
   "cell_type": "code",
   "execution_count": null,
   "metadata": {},
   "outputs": [],
   "source": []
  }
 ],
 "metadata": {
  "kernelspec": {
   "display_name": "Python 3",
   "language": "python",
   "name": "python3"
  },
  "language_info": {
   "codemirror_mode": {
    "name": "ipython",
    "version": 3
   },
   "file_extension": ".py",
   "mimetype": "text/x-python",
   "name": "python",
   "nbconvert_exporter": "python",
   "pygments_lexer": "ipython3",
   "version": "3.6.9"
  }
 },
 "nbformat": 4,
 "nbformat_minor": 4
}
