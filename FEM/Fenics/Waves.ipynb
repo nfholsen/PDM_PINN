{
 "cells": [
  {
   "cell_type": "code",
   "execution_count": 1,
   "metadata": {},
   "outputs": [],
   "source": [
    "from dolfin import *\n",
    "import numpy as np"
   ]
  },
  {
   "cell_type": "code",
   "execution_count": 22,
   "metadata": {},
   "outputs": [],
   "source": [
    "c=5000\n",
    "\n",
    "nx = ny = 30\n",
    "mesh = RectangleMesh(Point(-2, -2), Point(2, 2), nx, ny)\n",
    "V = FunctionSpace(mesh, 'P', 1)"
   ]
  },
  {
   "cell_type": "code",
   "execution_count": 23,
   "metadata": {},
   "outputs": [],
   "source": [
    "# Define boundary condition\n",
    "def boundary(x, on_boundary):\n",
    "    return on_boundary"
   ]
  },
  {
   "cell_type": "code",
   "execution_count": 36,
   "metadata": {},
   "outputs": [],
   "source": [
    "T = 0.2            # final time\n",
    "num_steps = 50     # number of time steps\n",
    "dt = T / num_steps # time step size"
   ]
  },
  {
   "cell_type": "code",
   "execution_count": 37,
   "metadata": {},
   "outputs": [],
   "source": [
    "# Define initial value\n",
    "u_0 = Expression('0',\n",
    "                degree=1)\n",
    "u0 = interpolate(u_0, V)\n",
    "u1 = interpolate(u_0, V)\n",
    "\n",
    "# Define variational problem\n",
    "u = TrialFunction(V)\n",
    "v = TestFunction(V)"
   ]
  },
  {
   "cell_type": "code",
   "execution_count": 38,
   "metadata": {},
   "outputs": [
    {
     "name": "stdout",
     "output_type": "stream",
     "text": [
      "Calling FFC just-in-time (JIT) compiler, this may take some time.\n"
     ]
    },
    {
     "name": "stderr",
     "output_type": "stream",
     "text": [
      "/usr/local/lib/python3.6/dist-packages/dolfin/common/plotting.py:152: UserWarning: The following kwargs were not used by contour: 'interactive'\n",
      "  return ax.tricontourf(mesh2triang(mesh), C, levels, **kwargs)\n"
     ]
    },
    {
     "data": {
      "text/plain": [
       "<matplotlib.tri.tricontour.TriContourSet at 0x7f40e1d81550>"
      ]
     },
     "execution_count": 38,
     "metadata": {},
     "output_type": "execute_result"
    },
    {
     "data": {
      "image/png": "[encoded data removed]",
      "text/plain": [
       "<Figure size 432x288 with 1 Axes>"
      ]
     },
     "metadata": {
      "needs_background": "light"
     },
     "output_type": "display_data"
    }
   ],
   "source": [
    "# Variational problem at each time\n",
    "\n",
    "a = u*v*dx + dt*dt*c*c*inner(grad(u), grad(v))*dx\n",
    "L = 2*u1*v*dx-u0*v*dx\n",
    "\n",
    "bc = DirichletBC(V, Constant(0), boundary)\n",
    "\n",
    "A, b = assemble_system(a, L, bc)\n",
    "\n",
    "# Create VTK file for saving solution\n",
    "vtkfile = File(\"wave.pvd\")\n",
    "u=Function(V)\n",
    "\n",
    "for step in range(num_steps):\n",
    "    t += dt\n",
    "    \n",
    "    delta = PointSource(V, Point(0, 0), sin( c* 10 * t))\n",
    "    delta.apply(b)\n",
    "    \n",
    "    solve(A, u.vector(), b)\n",
    "    u0.assign(u1)\n",
    "    u1.assign(u)\n",
    "    \n",
    "    vtkfile << (u, t)\n",
    "    \n",
    "plot(u, interactive=False)"
   ]
  },
  {
   "cell_type": "code",
   "execution_count": null,
   "metadata": {},
   "outputs": [],
   "source": []
  },
  {
   "cell_type": "code",
   "execution_count": null,
   "metadata": {},
   "outputs": [],
   "source": []
  }
 ],
 "metadata": {
  "kernelspec": {
   "display_name": "Python 3",
   "language": "python",
   "name": "python3"
  },
  "language_info": {
   "codemirror_mode": {
    "name": "ipython",
    "version": 3
   },
   "file_extension": ".py",
   "mimetype": "text/x-python",
   "name": "python",
   "nbconvert_exporter": "python",
   "pygments_lexer": "ipython3",
   "version": "3.6.9"
  }
 },
 "nbformat": 4,
 "nbformat_minor": 4
}
