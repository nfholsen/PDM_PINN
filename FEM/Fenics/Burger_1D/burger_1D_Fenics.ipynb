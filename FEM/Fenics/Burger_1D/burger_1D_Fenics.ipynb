{
 "cells": [
  {
   "cell_type": "code",
   "execution_count": 23,
   "metadata": {},
   "outputs": [
    {
     "data": {
      "text/plain": [
       "\"\\nFinite element solver for the 1D viscous Burgers' equation using Fenics\\n\""
      ]
     },
     "execution_count": 23,
     "metadata": {},
     "output_type": "execute_result"
    }
   ],
   "source": [
    "\"\"\"\n",
    "Finite element solver for the 1D viscous Burgers' equation using Fenics\n",
    "\"\"\""
   ]
  },
  {
   "cell_type": "code",
   "execution_count": 24,
   "metadata": {},
   "outputs": [],
   "source": [
    "import dolfin as df \n",
    "import numpy as np\n",
    "import multiprocessing as mp\n",
    "import matplotlib.pyplot as plt\n",
    "import matplotlib\n",
    "import time\n",
    "import scipy.io\n",
    "import json\n",
    "import sys\n",
    "sys.path.append('..')\n",
    "import os\n",
    "#matplotlib.use('agg')"
   ]
  },
  {
   "cell_type": "code",
   "execution_count": 25,
   "metadata": {},
   "outputs": [],
   "source": [
    "def mkdirs(directory):\n",
    "    if not os.path.exists(directory):\n",
    "        os.makedirs(directory)"
   ]
  },
  {
   "cell_type": "code",
   "execution_count": 26,
   "metadata": {},
   "outputs": [],
   "source": [
    "class PeriodicBoundary1D(df.SubDomain):\n",
    "    # https://fenicsproject.org/docs/dolfin/1.4.0/python/demo/documented/periodic/python/documentation.html\n",
    "    # Left boundary is \"target domain\" G\n",
    "    def inside(self, x, on_boundary):\n",
    "        return bool(df.near(x[0], 0) and on_boundary)\n",
    "\n",
    "    # Map right boundary (H) to left boundary (G)\n",
    "    def map(self, x, y):\n",
    "        y[0] = x[0] - 1.0"
   ]
  },
  {
   "cell_type": "code",
   "execution_count": 27,
   "metadata": {},
   "outputs": [],
   "source": [
    "def init_field_fenics(mesh, V, order=3, seed=None):\n",
    "    # https://fenicsproject.org/qa/3975/interpolating-vector-function-from-python-code-to-fenics/\n",
    "\n",
    "    u0 = df.Function(V)\n",
    "    # Extract x and y coordinates of mesh and\n",
    "    # align with dof structure\n",
    "    dim = V.dim()\n",
    "    N = mesh.geometry().dim()\n",
    "    coor = V.tabulate_dof_coordinates().reshape(dim, N)\n",
    "    dofs_V = V.dofmap().dofs()\n",
    "    x = coor[:, 0]\n",
    "    x_f = x[dofs_V]\n",
    "\n",
    "    np.random.seed(seed)\n",
    "    lam = np.random.randn(2, 2*order+1)\n",
    "    c = np.random.rand() - 0.5\n",
    "    k = np.arange(-order, order+1)\n",
    "    kx = np.outer(k, x_f)*2*np.pi\n",
    "\n",
    "    # vector field\n",
    "    f = np.dot(lam[[0]], np.cos(kx)) + np.dot(lam[[1]], np.sin(kx))\n",
    "    f = 2 * f / np.amax(np.abs(f)) + 2.0*c\n",
    "\n",
    "    # Insert values of f into the function u0\n",
    "    u0.vector()[dofs_V] = f[0]\n",
    "\n",
    "    return u0, lam, c"
   ]
  },
  {
   "cell_type": "code",
   "execution_count": 28,
   "metadata": {},
   "outputs": [],
   "source": [
    "def burgers1d(run, nu, ng, dt, T, ng_out, save_dir, save_every=1, order=3, plot=False):\n",
    "    \"\"\"simulate 1D Burgers' equation\n",
    "    https://www.firedrakeproject.org/demos/burgers.py.html\n",
    "    Args:\n",
    "        run (int): # run\n",
    "        nu (float): viscosity\n",
    "        ng (int): # grid (vertices)\n",
    "        dt (float): time step for simulation\n",
    "        T (float): simulation time from 0 to T\n",
    "        ng_out (int): output # grid\n",
    "        save_dir (str): runs folder\n",
    "        order (int): order for sampling initial U\n",
    "        save_every (int): save frequency in terms of # dt\n",
    "        save_pvd (bool): save the field as vtk file for paraview\n",
    "        save_vector (bool): save fenics field vector for later operation\n",
    "        plot (bool): plot fields\n",
    "    \"\"\"\n",
    "    df.set_log_level(30)\n",
    "    print('set_log_level',df)\n",
    "\n",
    "    mesh = df.UnitIntervalMesh(ng)\n",
    "    mesh_out = df.UnitIntervalMesh(ng_out)\n",
    "    V = df.FunctionSpace(mesh, 'CG', 2, constrained_domain=PeriodicBoundary1D())\n",
    "    Vout = df.FunctionSpace(mesh_out, 'CG', 1, constrained_domain=PeriodicBoundary1D())\n",
    "\n",
    "    # initial vector field\n",
    "    u0, lam, c = init_field_fenics(mesh, V, order=order, seed=run)\n",
    "    np.savez(save_dir + f'/init_lam_c_{run}.npz', lam=lam, c=c)\n",
    "\n",
    "    u = df.Function(V)\n",
    "    u_old = df.Function(V)\n",
    "    v = df.TestFunction(V)\n",
    "\n",
    "    u = df.project(u0, V)\n",
    "    u_old.assign(u)\n",
    "\n",
    "    # backward Euler    \n",
    "    F = (df.inner((u - u_old)/dt, v) \\\n",
    "        + df.inner(u*u.dx(0), v) \\\n",
    "        + nu*df.inner(df.grad(u), df.grad(v)))*df.dx\n",
    "\n",
    "    t = 0\n",
    "    k = 0\n",
    "\n",
    "    u_save = []\n",
    "    u_out = df.project(u, Vout)\n",
    "    u_out_vertex = u_out.compute_vertex_values(mesh_out)\n",
    "    u_save.append(u_out_vertex)\n",
    "\n",
    "    tic = time.time()\n",
    "    while t < T:\n",
    "\n",
    "        t += dt\n",
    "        k += 1\n",
    "        df.solve(F == 0, u)\n",
    "        u_old.assign(u)\n",
    "        \n",
    "        if k % save_every == 0:\n",
    "            u_out = df.project(u, Vout)\n",
    "            u_out_vertex = u_out.compute_vertex_values(mesh_out)\n",
    "            u_save.append(u_out_vertex)\n",
    "        # if k < 200 and k % 10 == 0:\n",
    "        #     plt.plot(u_out_vertex)\n",
    "        #     plt.savefig(save_dir + f'/run{run}_step{k}.pdf')\n",
    "        #     plt.close()\n",
    "\n",
    "    time_taken = time.time() - tic\n",
    "    print(f'Run {run}: solved {k} steps with total {time_taken:.3f} seconds')\n",
    "    u_save = np.stack(u_save, 0)\n",
    "    print(u_save.shape)\n",
    "    np.save(save_dir + f'/u{run}.npy', u_save)\n",
    "    if plot:\n",
    "        fig, ax = plt.subplots()\n",
    "        cax = ax.imshow(u_save.T, origin='lower', cmap='inferno')\n",
    "        ax.set_xlabel('x')\n",
    "        ax.set_ylabel('t')\n",
    "        plt.colorbar(cax, ax=ax, fraction=0.046, pad=0.04)\n",
    "        plt.savefig(save_dir + f'/u{run}.png', dpi=300)\n",
    "        plt.close()\n",
    "\n",
    "    return run, time_taken"
   ]
  },
  {
   "cell_type": "markdown",
   "metadata": {},
   "source": [
    "if __name__ == '__main__':\n",
    "\n",
    "    import argparse\n",
    "    parser = argparse.ArgumentParser(description='Sim 1D Burgers equation')\n",
    "    parser.add_argument('--istart', type=int, default=0, help='start index (default: 0)')\n",
    "    parser.add_argument('--iend', type=int, default=200, help='start index (default: 200)')\n",
    "    parser.add_argument('--processes', type=int, default=4, help='# processes (default: 4)')\n",
    "    args = parser.parse_args()\n",
    "\n",
    "    args.ng = 512\n",
    "    args.ng_out = 512\n",
    "    args.nu = 0.0025\n",
    "    args.dt = 0.001\n",
    "    args.T = 2.0\n",
    "    args.save_every = 1\n",
    "    args.order = 4\n",
    "    args.plot = False\n",
    "    args.hardware = cpuinfo.cpu.info[0]['model name']\n",
    "    args.save_dir = f'./fenics_data_dt{args.dt}_T{args.T}'\n",
    "\n",
    "    mkdirs(args.save_dir)\n",
    "    with open(args.save_dir + \"/args.txt\", 'w') as args_file:\n",
    "        json.dump(vars(args), args_file, indent=4)\n",
    "\n",
    "    pool = mp.Pool(processes=args.processes)\n",
    "    print(f'Initialized pool with {args.processes} processes')\n",
    "    results = [pool.apply_async(burgers1d, args=(run, args.nu, args.ng, args.dt, args.T, args.ng_out, \n",
    "        args.save_dir, args.save_every, args.order, args.plot)) for run in range(args.istart, args.iend)]\n",
    "    time_taken = np.array([p.get() for p in results])\n",
    "\n",
    "    np.save(args.save_dir+f'/ufenicsTimes_dt{args.dt}_T{args.T}.npy', time_taken)\n",
    "    print(time_taken)"
   ]
  },
  {
   "cell_type": "code",
   "execution_count": 29,
   "metadata": {},
   "outputs": [],
   "source": [
    "ng = 512\n",
    "ng_out = 512\n",
    "nu = 0.0025\n",
    "dt = 0.001\n",
    "T = 2.0\n",
    "save_every = 1\n",
    "order = 4\n",
    "plot = False\n",
    "save_dir = f'./fenics_data_dt{dt}_T{T}'"
   ]
  },
  {
   "cell_type": "code",
   "execution_count": 30,
   "metadata": {},
   "outputs": [
    {
     "name": "stdout",
     "output_type": "stream",
     "text": [
      "set_log_level <module 'dolfin' from '/usr/local/lib/python3.6/dist-packages/dolfin/__init__.py'>\n",
      "Run 1: solved 2001 steps with total 33.945 seconds\n",
      "(2002, 513)\n"
     ]
    },
    {
     "data": {
      "text/plain": [
       "(1, 33.94478750228882)"
      ]
     },
     "execution_count": 30,
     "metadata": {},
     "output_type": "execute_result"
    }
   ],
   "source": [
    "mkdirs(save_dir)\n",
    "burgers1d(1, nu, ng, dt, T, ng_out, save_dir, save_every=1, order=3, plot=True)"
   ]
  },
  {
   "cell_type": "code",
   "execution_count": 31,
   "metadata": {},
   "outputs": [],
   "source": [
    "data = np.load('fenics_data_dt0.001_T2.0/u1.npy')"
   ]
  },
  {
   "cell_type": "code",
   "execution_count": 32,
   "metadata": {},
   "outputs": [],
   "source": [
    "import matplotlib.pyplot as plt"
   ]
  },
  {
   "cell_type": "code",
   "execution_count": 34,
   "metadata": {},
   "outputs": [
    {
     "data": {
      "image/png": "[encoded data removed]",
      "text/plain": [
       "<Figure size 432x288 with 1 Axes>"
      ]
     },
     "metadata": {
      "needs_background": "light"
     },
     "output_type": "display_data"
    }
   ],
   "source": [
    "fig, ax = plt.subplots()\n",
    "ax.imshow(data, origin='lower', cmap='seismic')\n",
    "ax.set_xlabel('x')\n",
    "ax.set_ylabel('t')\n",
    "fig.show()"
   ]
  },
  {
   "cell_type": "code",
   "execution_count": null,
   "metadata": {},
   "outputs": [],
   "source": []
  },
  {
   "cell_type": "code",
   "execution_count": null,
   "metadata": {},
   "outputs": [],
   "source": []
  },
  {
   "cell_type": "code",
   "execution_count": null,
   "metadata": {},
   "outputs": [],
   "source": []
  }
 ],
 "metadata": {
  "kernelspec": {
   "display_name": "Python 3",
   "language": "python",
   "name": "python3"
  },
  "language_info": {
   "codemirror_mode": {
    "name": "ipython",
    "version": 3
   },
   "file_extension": ".py",
   "mimetype": "text/x-python",
   "name": "python",
   "nbconvert_exporter": "python",
   "pygments_lexer": "ipython3",
   "version": "3.7.3"
  }
 },
 "nbformat": 4,
 "nbformat_minor": 4
}
