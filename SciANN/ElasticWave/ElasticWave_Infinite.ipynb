{
 "metadata": {
  "language_info": {
   "codemirror_mode": {
    "name": "ipython",
    "version": 3
   },
   "file_extension": ".py",
   "mimetype": "text/x-python",
   "name": "python",
   "nbconvert_exporter": "python",
   "pygments_lexer": "ipython3",
   "version": "3.7.9"
  },
  "orig_nbformat": 2,
  "kernelspec": {
   "name": "python379jvsc74a57bd0ea5fcc537b42057e1045078f3b5ae813812a965be54a0d8ba11b8eb29275012a",
   "display_name": "Python 3.7.9 64-bit ('TORCH': conda)"
  }
 },
 "nbformat": 4,
 "nbformat_minor": 2,
 "cells": [
  {
   "source": [
    "Source for the model : https://github.com/Raocp/PINN-elastodynamics/blob/master/ElasticWaveInfinite/ElasticWave.py"
   ],
   "cell_type": "markdown",
   "metadata": {}
  },
  {
   "cell_type": "code",
   "execution_count": 1,
   "metadata": {},
   "outputs": [],
   "source": [
    "import numpy as np\n",
    "import time\n",
    "from pyDOE import lhs\n",
    "import matplotlib\n",
    "import matplotlib.pyplot as plt\n",
    "from mpl_toolkits.mplot3d import Axes3D\n",
    "import pandas as pd\n",
    "import shutil\n",
    "import pickle\n",
    "import math\n",
    "import scipy.io"
   ]
  },
  {
   "cell_type": "code",
   "execution_count": 3,
   "metadata": {},
   "outputs": [],
   "source": [
    "# Need pretraining!! (i.e. train for 10s -> 15s -> 25s)\n",
    "PI = math.pi\n",
    "MAX_T = 20.0"
   ]
  },
  {
   "cell_type": "code",
   "execution_count": 4,
   "metadata": {},
   "outputs": [],
   "source": [
    "# Domain bounds\n",
    "lb = np.array([0.0, 0.0, 0.0])\n",
    "ub = np.array([30, 30, MAX_T])"
   ]
  },
  {
   "cell_type": "code",
   "execution_count": 5,
   "metadata": {},
   "outputs": [],
   "source": [
    "# Network configuration\n",
    "uv_layers = [3] + 8*[80] + [7]\n",
    "\n",
    "# Properties of source\n",
    "xc_src = 15.0\n",
    "yc_src = 15.0\n",
    "r_src = 2.0\n",
    "\n",
    "# Num of lower/upper BC points\n",
    "N_lwb = 101\n",
    "N_upb = 101\n",
    "\n",
    "# Num of left/right BC points\n",
    "N_lfb = 101\n",
    "N_rtb = 101\n",
    "\n",
    "# Num of collocation point in x, y, t\n",
    "N_f = 120000\n",
    "\n",
    "N_t = int(MAX_T*4+1)  # 4 frames per second"
   ]
  },
  {
   "cell_type": "code",
   "execution_count": null,
   "metadata": {},
   "outputs": [],
   "source": [
    "    # Initial condition point for u, v\n",
    "    x_IC, y_IC, t_IC = CartGrid(xmin=0, xmax=30, ymin=0, ymax=30, tmin=0, tmax=0, num=101, num_t=1)\n",
    "    IC = np.concatenate((x_IC, y_IC, t_IC), 1)\n",
    "    # IC = DelSrcPT(IC, xc=xc_src, yc=yc_src, r=r_src)\n",
    "\n",
    "    # Upper boundary point\n",
    "    x_up = np.linspace(0, 30, 150)\n",
    "    t_up = np.linspace(0, MAX_T, 201)\n",
    "    x_up, t_up = np.meshgrid(x_up, t_up)\n",
    "    x_up = x_up.flatten()[:, None]\n",
    "    t_up = t_up.flatten()[:, None]\n",
    "    y_up = np.zeros((x_up.size, 1))\n",
    "    y_up.fill(30.0)\n",
    "    UP = np.concatenate((x_up, y_up, t_up), 1)\n",
    "\n",
    "    # Collocation point\n",
    "    XYT_c = lb + (ub - lb) * lhs(3, N_f)\n",
    "    XYT_c_ext = np.array([xc_src - r_src -1, yc_src - r_src -1, 0.0]) + np.array([2*(r_src+1), 2*(r_src+1), MAX_T]) * lhs(3, 10000)   # Refinement around source\n",
    "    # XYT_c_ext = np.array([0, yc_src - r_src - 1, 0.0]) + np.array([30, r_src + 1, MAX_T]) * lhs(3, 20000)\n",
    "    XYT_c = np.concatenate((XYT_c, XYT_c_ext),axis=0)\n",
    "    XYT_c = DelSrcPT(XYT_c, xc=xc_src, yc=yc_src, r=r_src)\n",
    "\n",
    "    # plt.scatter(XYT_c[:, 0], XYT_c[:, 1], marker='o', alpha=0.2 )\n",
    "    # plt.show()\n",
    "\n",
    "    # Wave source point in the middle, x=15.0, y=30.0\n",
    "    tsh = 3.0\n",
    "    ts = 3.0\n",
    "    Amp = 1.0\n",
    "    xx, yy, theta = GenCirclePT(xc=xc_src, yc=yc_src, r=r_src, N_PT=200)   # N_PT=500\n",
    "    tt = np.linspace(0, MAX_T, 353)\n",
    "    tt = tt[1:]\n",
    "    x_SRC, t_SRC = np.meshgrid(xx, tt)\n",
    "    y_SRC, _     = np.meshgrid(yy, tt)\n",
    "    x_SRC = x_SRC.flatten()[:, None]\n",
    "    y_SRC = y_SRC.flatten()[:, None]\n",
    "    t_SRC = t_SRC.flatten()[:, None]\n",
    "    amplitude = Amp*(2*PI**2*(t_SRC-ts)**2/tsh**2-1)*np.exp(-PI**2*(t_SRC-ts)**2/tsh**2)\n",
    "    u_SRC = amplitude*(x_SRC-xc_src)/r_src\n",
    "    v_SRC = amplitude*(y_SRC-yc_src)/r_src\n",
    "    SRC = np.concatenate((x_SRC, y_SRC, t_SRC, u_SRC, v_SRC), 1)\n",
    "\n",
    "\n",
    "    # plt.scatter(t_SRC,amplitude, marker='o', alpha=0.2 )\n",
    "    # plt.show()\n",
    "\n",
    "    # plt.scatter(x_SRC,y_SRC, marker='o', alpha=0.2 )\n",
    "    # plt.show()\n",
    "\n",
    "    # plt.scatter(XYT_c[:,0:1], XYT_c[:,1:2], marker='o', alpha=0.2 )\n",
    "    # plt.scatter(SRC[:, 0:1], SRC[:, 1:2], marker='o', alpha=0.2, color='red')\n",
    "    # plt.scatter(UP[:, 0:1], UP[:, 1:2], marker='o', alpha=0.2)\n",
    "    # plt.show()\n",
    "\n",
    "    # Visualize ALL the training points\n",
    "    fig = plt.figure()\n",
    "    ax = fig.add_subplot(111, projection='3d')\n",
    "    ax.scatter(XYT_c[:,0:1], XYT_c[:,1:2], XYT_c[:,2:3], marker='o', alpha=0.1, s=2, color='blue')\n",
    "    # ax.scatter(SRC[:, 0:1], SRC[:, 1:2], SRC[:, 2:3], marker='o', alpha=0.3, s=2,color='red')\n",
    "    # ax.scatter(UP[:, 0:1], UP[:, 1:2], UP[:, 2:3], marker='o', alpha=0.2)\n",
    "    # ax.scatter(IC[:, 0:1], IC[:, 1:2], IC[:, 2:3], marker='o', alpha=0.2)\n",
    "    ax.set_xlabel('X axis')\n",
    "    ax.set_ylabel('Y axis')\n",
    "    ax.set_zlabel('T axis')\n",
    "    plt.show()"
   ]
  }
 ]
}