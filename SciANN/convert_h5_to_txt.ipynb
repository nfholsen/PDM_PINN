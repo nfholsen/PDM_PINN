{
 "metadata": {
  "language_info": {
   "codemirror_mode": {
    "name": "ipython",
    "version": 3
   },
   "file_extension": ".py",
   "mimetype": "text/x-python",
   "name": "python",
   "nbconvert_exporter": "python",
   "pygments_lexer": "ipython3",
   "version": "3.8.5"
  },
  "orig_nbformat": 2,
  "kernelspec": {
   "name": "python3",
   "display_name": "Python 3",
   "language": "python"
  }
 },
 "nbformat": 4,
 "nbformat_minor": 2,
 "cells": [
  {
   "cell_type": "code",
   "execution_count": 2,
   "metadata": {},
   "outputs": [],
   "source": [
    "import numpy as np\n",
    "import pandas as pd\n",
    "import h5py"
   ]
  },
  {
   "cell_type": "code",
   "execution_count": 3,
   "metadata": {},
   "outputs": [],
   "source": [
    "path = \"NoCracK/Simple_Homogeneous/Event0000/output.h5\"\n",
    "\n",
    "hf = h5py.File(path, 'r')"
   ]
  },
  {
   "cell_type": "code",
   "execution_count": 12,
   "metadata": {},
   "outputs": [
    {
     "output_type": "execute_result",
     "data": {
      "text/plain": [
       "['NoCracK', 'Simple_Homogeneous', 'Event0000', 'output.h5']"
      ]
     },
     "metadata": {},
     "execution_count": 12
    }
   ],
   "source": [
    "path.split('/')"
   ]
  },
  {
   "cell_type": "code",
   "execution_count": 8,
   "metadata": {},
   "outputs": [],
   "source": [
    "loc = hf['coordinates_ACOUSTIC'][:].reshape(hf['coordinates_ACOUSTIC'][:].shape[0]*hf['coordinates_ACOUSTIC'][:].shape[1],2)\n",
    "\n",
    "df_tot = pd.DataFrame()\n",
    "\n",
    "for i in range(101):\n",
    "    df = pd.DataFrame(columns={'X','Y'})\n",
    "    df['X'] = loc[:,0]\n",
    "    df['Y'] = loc[:,1]\n",
    "    df['X'] = np.round(df['X'],5)\n",
    "    df['Y'] = np.round(df['Y'],5)\n",
    "    df['T'] = i\n",
    "    df['p'] = hf['volume']['phi'][i,:,:,:25].reshape(2500*25)\n",
    "    df_tot = pd.concat((df_tot,df),axis=0)"
   ]
  },
  {
   "cell_type": "code",
   "execution_count": 11,
   "metadata": {},
   "outputs": [],
   "source": [
    "df_tot = df_tot.reset_index(drop=True)"
   ]
  },
  {
   "cell_type": "code",
   "execution_count": 17,
   "metadata": {},
   "outputs": [],
   "source": [
    "df_tot.to_csv(path.split('/')[1]+'_'+path.split('/')[2]+'.csv')"
   ]
  },
  {
   "cell_type": "code",
   "execution_count": null,
   "metadata": {},
   "outputs": [],
   "source": []
  }
 ]
}