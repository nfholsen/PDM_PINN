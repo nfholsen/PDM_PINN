{
 "metadata": {
  "language_info": {
   "codemirror_mode": {
    "name": "ipython",
    "version": 3
   },
   "file_extension": ".py",
   "mimetype": "text/x-python",
   "name": "python",
   "nbconvert_exporter": "python",
   "pygments_lexer": "ipython3",
   "version": "3.7.9"
  },
  "orig_nbformat": 2,
  "kernelspec": {
   "name": "python379jvsc74a57bd0ea5fcc537b42057e1045078f3b5ae813812a965be54a0d8ba11b8eb29275012a",
   "display_name": "Python 3.7.9 64-bit (conda)"
  }
 },
 "nbformat": 4,
 "nbformat_minor": 2,
 "cells": [
  {
   "cell_type": "code",
   "execution_count": 8,
   "metadata": {},
   "outputs": [],
   "source": [
    "import pandas as pd\n",
    "import numpy as np"
   ]
  },
  {
   "cell_type": "code",
   "execution_count": 9,
   "metadata": {},
   "outputs": [],
   "source": [
    "train_set = pd.read_csv('model_comparison/CSV_Tables/mse.csv',index_col=0)\n",
    "space_set = pd.read_csv('Interpolation/Homogeneous/Space/models_output/CSV_Tables/mse.csv',index_col=0)\n",
    "time_set = pd.read_csv('Interpolation/Homogeneous/Time/models_output/CSV_Tables/mse.csv',index_col=0)"
   ]
  },
  {
   "cell_type": "code",
   "execution_count": 29,
   "metadata": {},
   "outputs": [
    {
     "output_type": "execute_result",
     "data": {
      "text/plain": [
       "                   unet     encoder    multiscale\n",
       "AR_PINN_MSE  324.000000  391.666667  3.810000e+02\n",
       "L2           222.000000  130.133333  1.313333e+10\n",
       "L2_GDL       220.366667  123.166667  5.880000e+01\n",
       "L2_GDL_MAE   323.666667  128.886667  1.192000e+02\n",
       "PINN_MSE     323.000000  162.466667  2.920000e+10\n",
       "PINN_RES     132.043333  202.666667  2.210039e+06"
      ],
      "text/html": "<div>\n<style scoped>\n    .dataframe tbody tr th:only-of-type {\n        vertical-align: middle;\n    }\n\n    .dataframe tbody tr th {\n        vertical-align: top;\n    }\n\n    .dataframe thead th {\n        text-align: right;\n    }\n</style>\n<table border=\"1\" class=\"dataframe\">\n  <thead>\n    <tr style=\"text-align: right;\">\n      <th></th>\n      <th>unet</th>\n      <th>encoder</th>\n      <th>multiscale</th>\n    </tr>\n  </thead>\n  <tbody>\n    <tr>\n      <th>AR_PINN_MSE</th>\n      <td>324.000000</td>\n      <td>391.666667</td>\n      <td>3.810000e+02</td>\n    </tr>\n    <tr>\n      <th>L2</th>\n      <td>222.000000</td>\n      <td>130.133333</td>\n      <td>1.313333e+10</td>\n    </tr>\n    <tr>\n      <th>L2_GDL</th>\n      <td>220.366667</td>\n      <td>123.166667</td>\n      <td>5.880000e+01</td>\n    </tr>\n    <tr>\n      <th>L2_GDL_MAE</th>\n      <td>323.666667</td>\n      <td>128.886667</td>\n      <td>1.192000e+02</td>\n    </tr>\n    <tr>\n      <th>PINN_MSE</th>\n      <td>323.000000</td>\n      <td>162.466667</td>\n      <td>2.920000e+10</td>\n    </tr>\n    <tr>\n      <th>PINN_RES</th>\n      <td>132.043333</td>\n      <td>202.666667</td>\n      <td>2.210039e+06</td>\n    </tr>\n  </tbody>\n</table>\n</div>"
     },
     "metadata": {},
     "execution_count": 29
    }
   ],
   "source": [
    "((train_set + space_set + time_set)/3)"
   ]
  },
  {
   "cell_type": "code",
   "execution_count": 20,
   "metadata": {},
   "outputs": [
    {
     "output_type": "execute_result",
     "data": {
      "text/plain": [
       "(6,)"
      ]
     },
     "metadata": {},
     "execution_count": 20
    }
   ],
   "source": [
    "((train_set + space_set + time_set)/3).values[:,0].shape"
   ]
  },
  {
   "cell_type": "code",
   "execution_count": null,
   "metadata": {},
   "outputs": [],
   "source": []
  }
 ]
}