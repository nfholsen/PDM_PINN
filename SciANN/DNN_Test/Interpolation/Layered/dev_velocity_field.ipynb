{
 "metadata": {
  "orig_nbformat": 2,
  "kernelspec": {
   "name": "python379jvsc74a57bd0ea5fcc537b42057e1045078f3b5ae813812a965be54a0d8ba11b8eb29275012a",
   "display_name": "Python 3.7.9 64-bit ('TORCH': conda)"
  }
 },
 "nbformat": 4,
 "nbformat_minor": 2,
 "cells": [
  {
   "cell_type": "code",
   "execution_count": 1,
   "metadata": {},
   "outputs": [],
   "source": [
    "import sys\n",
    "\n",
    "sys.path.append('C:/Users/nilso/Documents/EPFL/PDM/PDM_PINN/SciANN/DNN_TEST/sys/')\n",
    "\n",
    "from loss import *\n",
    "from unet import UNet\n",
    "from dataloader import *\n",
    "from BaseModel import BaseModel\n",
    "\n",
    "import torch.optim as optim\n",
    "import logging\n",
    "\n",
    "if torch.cuda.is_available():\n",
    "    device = 'cuda:0'\n",
    "else:\n",
    "    device = 'cpu'\n",
    "\n",
    "##################\n",
    "# # # Config # # # \n",
    "##################\n",
    "\n",
    "epochs = 500\n",
    "batch_size = 2\n",
    "\n",
    "# Data\n",
    "data_dir = '../Moseley_EARTH/'\n",
    "data_csv = '../Moseley_Earth_Event0000_Continuous.csv'\n",
    "event = 'Event0000'\n",
    "velocity_field = '../Velocity_Field_1.npy'"
   ]
  },
  {
   "cell_type": "code",
   "execution_count": 2,
   "metadata": {},
   "outputs": [],
   "source": [
    "training_data = dataset(data_dir,data_csv,event,velocity_field=velocity_field)"
   ]
  },
  {
   "cell_type": "code",
   "execution_count": 3,
   "metadata": {},
   "outputs": [],
   "source": [
    "inputs = training_data.__getitem__(150)['wave_input'].transpose(1,0).detach().cpu()"
   ]
  },
  {
   "cell_type": "code",
   "execution_count": 5,
   "metadata": {},
   "outputs": [
    {
     "output_type": "stream",
     "name": "stdout",
     "text": [
      "No Checkpoint found. Training from beginning.\n",
      "Epoch 0001/0500 | Time 0:00:50.336703 | Loss 60.96793 | Loss MSE 52.31500 | Loss GDL 6.42697 | Loss MAE 2.22596 | \n"
     ]
    }
   ],
   "source": [
    "# Paths\n",
    "save_dir = '../results/'\n",
    "save_pt_best = f'Best_L2_GDL_MAE_E{epochs}.pt'\n",
    "save_pt = f'L2_GDL_MAE_E{epochs}.pt'\n",
    "save_txt = f'L2_GDL_MAE_E{epochs}.yml'\n",
    "\n",
    "checkpoint_path= f'checkpoint_L2_GDL_MAE_E{epochs}.pt'\n",
    "\n",
    "# # # Data\n",
    "training_data = dataset(data_dir,data_csv,event,velocity_field=velocity_field)\n",
    "train_loader = DataLoader(training_data, batch_size=batch_size, shuffle=True)\n",
    "\n",
    "net = UNet(in_channels=5,out_channels=1)\n",
    "\n",
    "# Optimizer & Scheduler\n",
    "optimizer = optim.Adam(net.parameters(), lr=0.0001, weight_decay=1e-6)\n",
    "\n",
    "# Logger\n",
    "logging.basicConfig(level=logging.INFO)\n",
    "logger = logging.getLogger()\n",
    "try:\n",
    "    logger.handlers[1].stream.close()\n",
    "    logger.removeHandler(logger.handlers[1])\n",
    "except IndexError:\n",
    "    pass\n",
    "logger.setLevel(logging.INFO)\n",
    "file_handler = logging.FileHandler(\"log.txt\")\n",
    "file_handler.setLevel(logging.INFO)\n",
    "file_handler.setFormatter(logging.Formatter('%(asctime)s | %(levelname)s | %(message)s'))\n",
    "logger.addHandler(file_handler)\n",
    "\n",
    "class UNetModel(BaseModel):\n",
    "    def __init__(self, net, opt=None, sched=None, logger=None, print_progress=True, device='cuda:0'):\n",
    "        \"\"\"\n",
    "\n",
    "        \"\"\"\n",
    "        super().__init__(net, opt, sched, logger, print_progress, device)\n",
    "\n",
    "        self.loss_fn = MSLoss(*[nn.MSELoss(),GDLLoss(),nn.L1Loss()]) \n",
    "\n",
    "    def forward_loss(self, data):\n",
    "        \"\"\"\n",
    "\n",
    "        \"\"\"\n",
    "        input, label = data['wave_input'].transpose(2, 1) , data['wave_output'].transpose(2, 1)\n",
    "        input = input.to(self.device)\n",
    "        label = label.to(self.device)\n",
    "\n",
    "        output = self.net(input)\n",
    "\n",
    "        loss = self.loss_fn(output, label)\n",
    "\n",
    "        return loss[0], {'Loss':loss[0], 'Loss MSE':loss[1], 'Loss GDL':loss[2], 'Loss MAE':loss[3]} # Elements in the dict : only for printing\n",
    "\n",
    "# Create the model\n",
    "model = UNetModel(net, opt=optimizer, sched=None, logger=None, print_progress=True, device=device)\n",
    "\n",
    "# Train the model\n",
    "model.train(epochs, train_loader, checkpoint_path=checkpoint_path, checkpoint_freq=5, save_best='Loss')\n",
    "\n",
    "# Save\n",
    "model.save_best(export_path=save_dir + save_pt_best)\n",
    "model.save(export_path=save_dir + save_pt)\n",
    "model.save_outputs(export_path=save_dir + save_txt)"
   ]
  },
  {
   "cell_type": "code",
   "execution_count": null,
   "metadata": {},
   "outputs": [],
   "source": []
  }
 ]
}