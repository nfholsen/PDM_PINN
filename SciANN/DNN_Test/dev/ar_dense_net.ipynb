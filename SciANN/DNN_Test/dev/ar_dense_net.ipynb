{
 "metadata": {
  "language_info": {
   "codemirror_mode": {
    "name": "ipython",
    "version": 3
   },
   "file_extension": ".py",
   "mimetype": "text/x-python",
   "name": "python",
   "nbconvert_exporter": "python",
   "pygments_lexer": "ipython3",
   "version": "3.7.9"
  },
  "orig_nbformat": 2,
  "kernelspec": {
   "name": "python379jvsc74a57bd0ea5fcc537b42057e1045078f3b5ae813812a965be54a0d8ba11b8eb29275012a",
   "display_name": "Python 3.7.9 64-bit ('TORCH': conda)"
  }
 },
 "nbformat": 4,
 "nbformat_minor": 2,
 "cells": [
  {
   "cell_type": "code",
   "execution_count": 2,
   "metadata": {},
   "outputs": [],
   "source": [
    "sys.path.append('C:/Users/nilso/Documents/EPFL/PDM/PDM_PINN/SciANN/DNN_TEST/sys/')\n",
    "\n",
    "from loss import *\n",
    "from unet import UNet\n",
    "from dataloader import *\n",
    "\n",
    "import torch.optim as optim\n",
    "\n",
    "from BaseModel import BaseModel"
   ]
  },
  {
   "cell_type": "code",
   "execution_count": 3,
   "metadata": {},
   "outputs": [],
   "source": [
    "if torch.cuda.is_available():\n",
    "    device = 'cuda:0'\n",
    "else:\n",
    "    device = 'cpu'"
   ]
  },
  {
   "cell_type": "code",
   "execution_count": 10,
   "metadata": {},
   "outputs": [],
   "source": [
    "training_data = dataset('../Training_Data/Moseley_Homogeneous/','../Training_Data/Moseley_Homogeneous_Event0000_Continuous.csv',event='Event0000')\n",
    "\n",
    "#training_data = dataset('Moseley_Homogeneous_Big/','Simple_Homogeneous_Moseley_Event0000_Continuous.csv')"
   ]
  },
  {
   "cell_type": "code",
   "execution_count": 11,
   "metadata": {},
   "outputs": [],
   "source": [
    "# # # Training\n",
    "train_loader = DataLoader(training_data, batch_size=2, shuffle=True)\n",
    "\n",
    "net = UNet(in_channels=4,out_channels=1)\n",
    "\n",
    "optimizer = optim.Adam(net.parameters(), lr=0.0001, weight_decay=1e-6)\n",
    "\n",
    "loss_fn = PINNLoss_MSE(device = 'cpu')\n",
    "\n",
    "N = 3 # Number of time-steps to unroll"
   ]
  },
  {
   "cell_type": "code",
   "execution_count": 16,
   "metadata": {},
   "outputs": [],
   "source": [
    "input = training_data.__getitem__(0)['wave_input'].transpose(1,0)[None]"
   ]
  },
  {
   "cell_type": "code",
   "execution_count": 18,
   "metadata": {},
   "outputs": [
    {
     "output_type": "execute_result",
     "data": {
      "text/plain": [
       "torch.Size([1, 4, 300, 300])"
      ]
     },
     "metadata": {},
     "execution_count": 18
    }
   ],
   "source": [
    "input"
   ]
  },
  {
   "cell_type": "code",
   "execution_count": 13,
   "metadata": {},
   "outputs": [
    {
     "output_type": "execute_result",
     "data": {
      "text/plain": [
       "torch.float32"
      ]
     },
     "metadata": {},
     "execution_count": 13
    }
   ],
   "source": [
    "input.dtype"
   ]
  },
  {
   "cell_type": "code",
   "execution_count": 14,
   "metadata": {},
   "outputs": [
    {
     "output_type": "stream",
     "name": "stdout",
     "text": [
      "0\n",
      "tensor(28.1282, grad_fn=<AddBackward0>)\n",
      "torch.float32\n",
      "0\n",
      "tensor(55.2364, grad_fn=<AddBackward0>)\n",
      "torch.float32\n",
      "1\n",
      "tensor(55.8814, grad_fn=<AddBackward0>)\n",
      "torch.float32\n",
      "2\n",
      "1\n",
      "tensor(0.5829, grad_fn=<AddBackward0>)\n",
      "torch.float32\n",
      "0\n",
      "tensor(1.1763, grad_fn=<AddBackward0>)\n",
      "torch.float32\n",
      "1\n",
      "tensor(2.2612, grad_fn=<AddBackward0>)\n",
      "torch.float32\n",
      "2\n",
      "2\n",
      "tensor(0.9365, grad_fn=<AddBackward0>)\n",
      "torch.float32\n",
      "0\n",
      "tensor(1.8349, grad_fn=<AddBackward0>)\n",
      "torch.float32\n",
      "1\n",
      "tensor(2.8345, grad_fn=<AddBackward0>)\n",
      "torch.float32\n",
      "2\n"
     ]
    }
   ],
   "source": [
    "# for epoch ... \n",
    "\n",
    "for i in range(0,3):\n",
    "\n",
    "    print(i)\n",
    "    loss_ar = 0\n",
    "    optimizer.zero_grad()\n",
    "\n",
    "    for j in range(0,N):\n",
    "        \n",
    "        output = net(input) # 1 x 4 x 300 x 300  --> 1 x 1 x 300 x 300\n",
    "\n",
    "        pinn = torch.cat((input,output),axis=1) # 1 x 5 x 300 x 300 \n",
    "\n",
    "        loss_ar = loss_ar + loss_fn(pinn)\n",
    "        print(loss_ar)\n",
    "        print(input.dtype)\n",
    "        # update input data \n",
    "        input = pinn[:,1:,:,:] # 1 x 4 x 300 x 300 \n",
    "\n",
    "        print(j)\n",
    "    \n",
    "    loss_ar.backward()\n",
    "    optimizer.step()\n",
    "    input = input.detach()\n"
   ]
  },
  {
   "cell_type": "code",
   "execution_count": 30,
   "metadata": {},
   "outputs": [],
   "source": []
  }
 ]
}